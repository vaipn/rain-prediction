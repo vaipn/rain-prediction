{
 "cells": [
  {
   "cell_type": "code",
   "execution_count": 2,
   "metadata": {},
   "outputs": [],
   "source": [
    "import pandas as pd\n",
    "import numpy as np\n",
    "#from geopy.distance import geodesic\n",
    "#from geopy.geocoders import Nominatim\n",
    "from datetime import datetime, timedelta\n",
    "from sklearn.preprocessing import LabelEncoder\n",
    "import seaborn as sns\n",
    "import matplotlib.pyplot as plt\n",
    "from sklearn.model_selection import train_test_split\n",
    "from sklearn.ensemble import RandomForestClassifier, RandomForestRegressor\n",
    "from sklearn.metrics import accuracy_score, f1_score, mean_absolute_error, mean_squared_error\n",
    "from matplotlib import rcParams"
   ]
  },
  {
   "cell_type": "code",
   "execution_count": 2,
   "metadata": {},
   "outputs": [],
   "source": [
    "dfFilled = pd.read_csv(\"dfFilled.csv\", parse_dates=['Date'])"
   ]
  },
  {
   "cell_type": "code",
   "execution_count": 3,
   "metadata": {},
   "outputs": [
    {
     "data": {
      "text/plain": [
       "Unnamed: 0       145460\n",
       "Date             145460\n",
       "Location         145460\n",
       "MinTemp          145460\n",
       "MaxTemp          145460\n",
       "Rainfall         145460\n",
       "Evaporation      145460\n",
       "Sunshine         145460\n",
       "WindGustDir      145460\n",
       "WindGustSpeed    145460\n",
       "WindDir9am       145460\n",
       "WindDir3pm       145460\n",
       "WindSpeed9am     145460\n",
       "WindSpeed3pm     145460\n",
       "Humidity9am      145460\n",
       "Humidity3pm      145460\n",
       "Pressure9am      145460\n",
       "Pressure3pm      145460\n",
       "Cloud9am         145460\n",
       "Cloud3pm         145460\n",
       "Temp9am          145460\n",
       "Temp3pm          145460\n",
       "RainToday        145460\n",
       "RainTomorrow     145460\n",
       "Month            145460\n",
       "dtype: int64"
      ]
     },
     "execution_count": 3,
     "metadata": {},
     "output_type": "execute_result"
    }
   ],
   "source": [
    "dfFilled.notnull().sum()"
   ]
  },
  {
   "cell_type": "code",
   "execution_count": 4,
   "metadata": {},
   "outputs": [],
   "source": [
    "dfFilled = dfFilled.drop('Unnamed: 0', axis = 1)"
   ]
  },
  {
   "cell_type": "code",
   "execution_count": 5,
   "metadata": {},
   "outputs": [
    {
     "data": {
      "text/plain": [
       "Date             145460\n",
       "Location         145460\n",
       "MinTemp          145460\n",
       "MaxTemp          145460\n",
       "Rainfall         145460\n",
       "Evaporation      145460\n",
       "Sunshine         145460\n",
       "WindGustDir      145460\n",
       "WindGustSpeed    145460\n",
       "WindDir9am       145460\n",
       "WindDir3pm       145460\n",
       "WindSpeed9am     145460\n",
       "WindSpeed3pm     145460\n",
       "Humidity9am      145460\n",
       "Humidity3pm      145460\n",
       "Pressure9am      145460\n",
       "Pressure3pm      145460\n",
       "Cloud9am         145460\n",
       "Cloud3pm         145460\n",
       "Temp9am          145460\n",
       "Temp3pm          145460\n",
       "RainToday        145460\n",
       "RainTomorrow     145460\n",
       "Month            145460\n",
       "dtype: int64"
      ]
     },
     "execution_count": 5,
     "metadata": {},
     "output_type": "execute_result"
    }
   ],
   "source": [
    "dfFilled.notnull().sum()"
   ]
  },
  {
   "cell_type": "code",
   "execution_count": 6,
   "metadata": {},
   "outputs": [
    {
     "data": {
      "text/plain": [
       "3491040"
      ]
     },
     "execution_count": 6,
     "metadata": {},
     "output_type": "execute_result"
    }
   ],
   "source": [
    "dfFilled.notnull().sum().sum()"
   ]
  },
  {
   "cell_type": "code",
   "execution_count": 4,
   "metadata": {},
   "outputs": [
    {
     "data": {
      "text/html": [
       "<div>\n",
       "<style scoped>\n",
       "    .dataframe tbody tr th:only-of-type {\n",
       "        vertical-align: middle;\n",
       "    }\n",
       "\n",
       "    .dataframe tbody tr th {\n",
       "        vertical-align: top;\n",
       "    }\n",
       "\n",
       "    .dataframe thead th {\n",
       "        text-align: right;\n",
       "    }\n",
       "</style>\n",
       "<table border=\"1\" class=\"dataframe\">\n",
       "  <thead>\n",
       "    <tr style=\"text-align: right;\">\n",
       "      <th></th>\n",
       "      <th>Date</th>\n",
       "      <th>Location</th>\n",
       "      <th>MinTemp</th>\n",
       "      <th>MaxTemp</th>\n",
       "      <th>Rainfall</th>\n",
       "      <th>Evaporation</th>\n",
       "      <th>Sunshine</th>\n",
       "      <th>WindGustDir</th>\n",
       "      <th>WindGustSpeed</th>\n",
       "      <th>WindDir9am</th>\n",
       "      <th>...</th>\n",
       "      <th>Humidity3pm</th>\n",
       "      <th>Pressure9am</th>\n",
       "      <th>Pressure3pm</th>\n",
       "      <th>Cloud9am</th>\n",
       "      <th>Cloud3pm</th>\n",
       "      <th>Temp9am</th>\n",
       "      <th>Temp3pm</th>\n",
       "      <th>RainToday</th>\n",
       "      <th>RainTomorrow</th>\n",
       "      <th>Month</th>\n",
       "    </tr>\n",
       "  </thead>\n",
       "  <tbody>\n",
       "    <tr>\n",
       "      <th>0</th>\n",
       "      <td>2008-12-01</td>\n",
       "      <td>Albury</td>\n",
       "      <td>13.400000</td>\n",
       "      <td>22.900000</td>\n",
       "      <td>0.600000</td>\n",
       "      <td>6.828235</td>\n",
       "      <td>8.666250</td>\n",
       "      <td>W</td>\n",
       "      <td>44.000000</td>\n",
       "      <td>W</td>\n",
       "      <td>...</td>\n",
       "      <td>22.000000</td>\n",
       "      <td>1007.700000</td>\n",
       "      <td>1007.100000</td>\n",
       "      <td>8.000000</td>\n",
       "      <td>4.789474</td>\n",
       "      <td>16.900000</td>\n",
       "      <td>21.800000</td>\n",
       "      <td>No</td>\n",
       "      <td>No</td>\n",
       "      <td>December</td>\n",
       "    </tr>\n",
       "    <tr>\n",
       "      <th>1</th>\n",
       "      <td>2008-12-02</td>\n",
       "      <td>Albury</td>\n",
       "      <td>7.400000</td>\n",
       "      <td>32.600000</td>\n",
       "      <td>0.000000</td>\n",
       "      <td>7.408609</td>\n",
       "      <td>9.269949</td>\n",
       "      <td>WNW</td>\n",
       "      <td>59.000000</td>\n",
       "      <td>NNW</td>\n",
       "      <td>...</td>\n",
       "      <td>25.000000</td>\n",
       "      <td>1012.908756</td>\n",
       "      <td>1010.214747</td>\n",
       "      <td>3.771091</td>\n",
       "      <td>3.776114</td>\n",
       "      <td>17.200000</td>\n",
       "      <td>24.300000</td>\n",
       "      <td>No</td>\n",
       "      <td>No</td>\n",
       "      <td>December</td>\n",
       "    </tr>\n",
       "    <tr>\n",
       "      <th>2</th>\n",
       "      <td>2008-12-03</td>\n",
       "      <td>Albury</td>\n",
       "      <td>12.900000</td>\n",
       "      <td>25.700000</td>\n",
       "      <td>0.000000</td>\n",
       "      <td>7.408609</td>\n",
       "      <td>9.269949</td>\n",
       "      <td>WSW</td>\n",
       "      <td>46.000000</td>\n",
       "      <td>W</td>\n",
       "      <td>...</td>\n",
       "      <td>30.000000</td>\n",
       "      <td>1012.908756</td>\n",
       "      <td>1010.214747</td>\n",
       "      <td>3.000000</td>\n",
       "      <td>4.000000</td>\n",
       "      <td>21.000000</td>\n",
       "      <td>23.200000</td>\n",
       "      <td>No</td>\n",
       "      <td>No</td>\n",
       "      <td>December</td>\n",
       "    </tr>\n",
       "    <tr>\n",
       "      <th>3</th>\n",
       "      <td>2008-12-04</td>\n",
       "      <td>Albury</td>\n",
       "      <td>9.200000</td>\n",
       "      <td>28.000000</td>\n",
       "      <td>0.000000</td>\n",
       "      <td>7.408609</td>\n",
       "      <td>9.269949</td>\n",
       "      <td>NE</td>\n",
       "      <td>43.628141</td>\n",
       "      <td>SE</td>\n",
       "      <td>...</td>\n",
       "      <td>16.000000</td>\n",
       "      <td>1017.600000</td>\n",
       "      <td>1012.800000</td>\n",
       "      <td>3.771091</td>\n",
       "      <td>3.776114</td>\n",
       "      <td>18.100000</td>\n",
       "      <td>26.500000</td>\n",
       "      <td>No</td>\n",
       "      <td>No</td>\n",
       "      <td>December</td>\n",
       "    </tr>\n",
       "    <tr>\n",
       "      <th>4</th>\n",
       "      <td>2008-12-05</td>\n",
       "      <td>Albury</td>\n",
       "      <td>15.154894</td>\n",
       "      <td>25.785654</td>\n",
       "      <td>1.936709</td>\n",
       "      <td>6.828235</td>\n",
       "      <td>8.666250</td>\n",
       "      <td>W</td>\n",
       "      <td>43.726775</td>\n",
       "      <td>ENE</td>\n",
       "      <td>...</td>\n",
       "      <td>47.689362</td>\n",
       "      <td>1010.800000</td>\n",
       "      <td>1006.000000</td>\n",
       "      <td>4.920000</td>\n",
       "      <td>4.801102</td>\n",
       "      <td>20.180519</td>\n",
       "      <td>24.071064</td>\n",
       "      <td>No</td>\n",
       "      <td>No</td>\n",
       "      <td>December</td>\n",
       "    </tr>\n",
       "  </tbody>\n",
       "</table>\n",
       "<p>5 rows × 24 columns</p>\n",
       "</div>"
      ],
      "text/plain": [
       "        Date Location    MinTemp    MaxTemp  Rainfall  Evaporation  Sunshine  \\\n",
       "0 2008-12-01   Albury  13.400000  22.900000  0.600000     6.828235  8.666250   \n",
       "1 2008-12-02   Albury   7.400000  32.600000  0.000000     7.408609  9.269949   \n",
       "2 2008-12-03   Albury  12.900000  25.700000  0.000000     7.408609  9.269949   \n",
       "3 2008-12-04   Albury   9.200000  28.000000  0.000000     7.408609  9.269949   \n",
       "4 2008-12-05   Albury  15.154894  25.785654  1.936709     6.828235  8.666250   \n",
       "\n",
       "  WindGustDir  WindGustSpeed WindDir9am  ... Humidity3pm  Pressure9am  \\\n",
       "0           W      44.000000          W  ...   22.000000  1007.700000   \n",
       "1         WNW      59.000000        NNW  ...   25.000000  1012.908756   \n",
       "2         WSW      46.000000          W  ...   30.000000  1012.908756   \n",
       "3          NE      43.628141         SE  ...   16.000000  1017.600000   \n",
       "4           W      43.726775        ENE  ...   47.689362  1010.800000   \n",
       "\n",
       "   Pressure3pm  Cloud9am  Cloud3pm    Temp9am    Temp3pm  RainToday  \\\n",
       "0  1007.100000  8.000000  4.789474  16.900000  21.800000         No   \n",
       "1  1010.214747  3.771091  3.776114  17.200000  24.300000         No   \n",
       "2  1010.214747  3.000000  4.000000  21.000000  23.200000         No   \n",
       "3  1012.800000  3.771091  3.776114  18.100000  26.500000         No   \n",
       "4  1006.000000  4.920000  4.801102  20.180519  24.071064         No   \n",
       "\n",
       "   RainTomorrow     Month  \n",
       "0            No  December  \n",
       "1            No  December  \n",
       "2            No  December  \n",
       "3            No  December  \n",
       "4            No  December  \n",
       "\n",
       "[5 rows x 24 columns]"
      ]
     },
     "execution_count": 4,
     "metadata": {},
     "output_type": "execute_result"
    }
   ],
   "source": [
    "dfFilled.head()"
   ]
  },
  {
   "cell_type": "code",
   "execution_count": 214,
   "metadata": {},
   "outputs": [],
   "source": [
    "#shift forwards for predicting former rain\n",
    "dfFilled['Rainfall_forward_10_days'] = dfFilled['Rainfall'].shift(-10)"
   ]
  },
  {
   "cell_type": "code",
   "execution_count": 215,
   "metadata": {},
   "outputs": [
    {
     "data": {
      "text/html": [
       "<div>\n",
       "<style scoped>\n",
       "    .dataframe tbody tr th:only-of-type {\n",
       "        vertical-align: middle;\n",
       "    }\n",
       "\n",
       "    .dataframe tbody tr th {\n",
       "        vertical-align: top;\n",
       "    }\n",
       "\n",
       "    .dataframe thead th {\n",
       "        text-align: right;\n",
       "    }\n",
       "</style>\n",
       "<table border=\"1\" class=\"dataframe\">\n",
       "  <thead>\n",
       "    <tr style=\"text-align: right;\">\n",
       "      <th></th>\n",
       "      <th>Date</th>\n",
       "      <th>Rainfall</th>\n",
       "      <th>Rainfall_forward_10_days</th>\n",
       "    </tr>\n",
       "  </thead>\n",
       "  <tbody>\n",
       "    <tr>\n",
       "      <th>0</th>\n",
       "      <td>2008-12-01</td>\n",
       "      <td>0.600000</td>\n",
       "      <td>0.000000</td>\n",
       "    </tr>\n",
       "    <tr>\n",
       "      <th>1</th>\n",
       "      <td>2008-12-02</td>\n",
       "      <td>0.000000</td>\n",
       "      <td>2.200000</td>\n",
       "    </tr>\n",
       "    <tr>\n",
       "      <th>2</th>\n",
       "      <td>2008-12-03</td>\n",
       "      <td>0.000000</td>\n",
       "      <td>15.600000</td>\n",
       "    </tr>\n",
       "    <tr>\n",
       "      <th>3</th>\n",
       "      <td>2008-12-04</td>\n",
       "      <td>0.000000</td>\n",
       "      <td>3.600000</td>\n",
       "    </tr>\n",
       "    <tr>\n",
       "      <th>4</th>\n",
       "      <td>2008-12-05</td>\n",
       "      <td>1.936709</td>\n",
       "      <td>0.000000</td>\n",
       "    </tr>\n",
       "    <tr>\n",
       "      <th>5</th>\n",
       "      <td>2008-12-06</td>\n",
       "      <td>0.200000</td>\n",
       "      <td>1.133761</td>\n",
       "    </tr>\n",
       "    <tr>\n",
       "      <th>6</th>\n",
       "      <td>2008-12-07</td>\n",
       "      <td>0.000000</td>\n",
       "      <td>0.000000</td>\n",
       "    </tr>\n",
       "    <tr>\n",
       "      <th>7</th>\n",
       "      <td>2008-12-08</td>\n",
       "      <td>0.000000</td>\n",
       "      <td>1.881495</td>\n",
       "    </tr>\n",
       "    <tr>\n",
       "      <th>8</th>\n",
       "      <td>2008-12-09</td>\n",
       "      <td>0.000000</td>\n",
       "      <td>10.600000</td>\n",
       "    </tr>\n",
       "    <tr>\n",
       "      <th>9</th>\n",
       "      <td>2008-12-10</td>\n",
       "      <td>1.400000</td>\n",
       "      <td>0.000000</td>\n",
       "    </tr>\n",
       "    <tr>\n",
       "      <th>10</th>\n",
       "      <td>2008-12-11</td>\n",
       "      <td>0.000000</td>\n",
       "      <td>0.000000</td>\n",
       "    </tr>\n",
       "    <tr>\n",
       "      <th>11</th>\n",
       "      <td>2008-12-12</td>\n",
       "      <td>2.200000</td>\n",
       "      <td>0.000000</td>\n",
       "    </tr>\n",
       "    <tr>\n",
       "      <th>12</th>\n",
       "      <td>2008-12-13</td>\n",
       "      <td>15.600000</td>\n",
       "      <td>0.000000</td>\n",
       "    </tr>\n",
       "    <tr>\n",
       "      <th>13</th>\n",
       "      <td>2008-12-14</td>\n",
       "      <td>3.600000</td>\n",
       "      <td>0.000000</td>\n",
       "    </tr>\n",
       "    <tr>\n",
       "      <th>14</th>\n",
       "      <td>2008-12-15</td>\n",
       "      <td>0.000000</td>\n",
       "      <td>0.000000</td>\n",
       "    </tr>\n",
       "    <tr>\n",
       "      <th>15</th>\n",
       "      <td>2008-12-16</td>\n",
       "      <td>1.133761</td>\n",
       "      <td>0.000000</td>\n",
       "    </tr>\n",
       "    <tr>\n",
       "      <th>16</th>\n",
       "      <td>2008-12-17</td>\n",
       "      <td>0.000000</td>\n",
       "      <td>0.000000</td>\n",
       "    </tr>\n",
       "    <tr>\n",
       "      <th>17</th>\n",
       "      <td>2008-12-18</td>\n",
       "      <td>1.881495</td>\n",
       "      <td>0.000000</td>\n",
       "    </tr>\n",
       "    <tr>\n",
       "      <th>18</th>\n",
       "      <td>2008-12-19</td>\n",
       "      <td>10.600000</td>\n",
       "      <td>0.000000</td>\n",
       "    </tr>\n",
       "    <tr>\n",
       "      <th>19</th>\n",
       "      <td>2008-12-20</td>\n",
       "      <td>0.000000</td>\n",
       "      <td>1.200000</td>\n",
       "    </tr>\n",
       "    <tr>\n",
       "      <th>20</th>\n",
       "      <td>2008-12-21</td>\n",
       "      <td>0.000000</td>\n",
       "      <td>2.020815</td>\n",
       "    </tr>\n",
       "    <tr>\n",
       "      <th>21</th>\n",
       "      <td>2008-12-22</td>\n",
       "      <td>0.000000</td>\n",
       "      <td>0.000000</td>\n",
       "    </tr>\n",
       "    <tr>\n",
       "      <th>22</th>\n",
       "      <td>2008-12-23</td>\n",
       "      <td>0.000000</td>\n",
       "      <td>0.000000</td>\n",
       "    </tr>\n",
       "    <tr>\n",
       "      <th>23</th>\n",
       "      <td>2008-12-24</td>\n",
       "      <td>0.000000</td>\n",
       "      <td>0.000000</td>\n",
       "    </tr>\n",
       "    <tr>\n",
       "      <th>24</th>\n",
       "      <td>2008-12-25</td>\n",
       "      <td>0.000000</td>\n",
       "      <td>0.000000</td>\n",
       "    </tr>\n",
       "    <tr>\n",
       "      <th>25</th>\n",
       "      <td>2008-12-26</td>\n",
       "      <td>0.000000</td>\n",
       "      <td>0.000000</td>\n",
       "    </tr>\n",
       "    <tr>\n",
       "      <th>26</th>\n",
       "      <td>2008-12-27</td>\n",
       "      <td>0.000000</td>\n",
       "      <td>0.000000</td>\n",
       "    </tr>\n",
       "    <tr>\n",
       "      <th>27</th>\n",
       "      <td>2008-12-28</td>\n",
       "      <td>0.000000</td>\n",
       "      <td>0.000000</td>\n",
       "    </tr>\n",
       "    <tr>\n",
       "      <th>28</th>\n",
       "      <td>2008-12-29</td>\n",
       "      <td>0.000000</td>\n",
       "      <td>0.000000</td>\n",
       "    </tr>\n",
       "    <tr>\n",
       "      <th>29</th>\n",
       "      <td>2008-12-30</td>\n",
       "      <td>1.200000</td>\n",
       "      <td>0.000000</td>\n",
       "    </tr>\n",
       "    <tr>\n",
       "      <th>30</th>\n",
       "      <td>2008-12-31</td>\n",
       "      <td>2.020815</td>\n",
       "      <td>0.000000</td>\n",
       "    </tr>\n",
       "  </tbody>\n",
       "</table>\n",
       "</div>"
      ],
      "text/plain": [
       "         Date   Rainfall  Rainfall_forward_10_days\n",
       "0  2008-12-01   0.600000                  0.000000\n",
       "1  2008-12-02   0.000000                  2.200000\n",
       "2  2008-12-03   0.000000                 15.600000\n",
       "3  2008-12-04   0.000000                  3.600000\n",
       "4  2008-12-05   1.936709                  0.000000\n",
       "5  2008-12-06   0.200000                  1.133761\n",
       "6  2008-12-07   0.000000                  0.000000\n",
       "7  2008-12-08   0.000000                  1.881495\n",
       "8  2008-12-09   0.000000                 10.600000\n",
       "9  2008-12-10   1.400000                  0.000000\n",
       "10 2008-12-11   0.000000                  0.000000\n",
       "11 2008-12-12   2.200000                  0.000000\n",
       "12 2008-12-13  15.600000                  0.000000\n",
       "13 2008-12-14   3.600000                  0.000000\n",
       "14 2008-12-15   0.000000                  0.000000\n",
       "15 2008-12-16   1.133761                  0.000000\n",
       "16 2008-12-17   0.000000                  0.000000\n",
       "17 2008-12-18   1.881495                  0.000000\n",
       "18 2008-12-19  10.600000                  0.000000\n",
       "19 2008-12-20   0.000000                  1.200000\n",
       "20 2008-12-21   0.000000                  2.020815\n",
       "21 2008-12-22   0.000000                  0.000000\n",
       "22 2008-12-23   0.000000                  0.000000\n",
       "23 2008-12-24   0.000000                  0.000000\n",
       "24 2008-12-25   0.000000                  0.000000\n",
       "25 2008-12-26   0.000000                  0.000000\n",
       "26 2008-12-27   0.000000                  0.000000\n",
       "27 2008-12-28   0.000000                  0.000000\n",
       "28 2008-12-29   0.000000                  0.000000\n",
       "29 2008-12-30   1.200000                  0.000000\n",
       "30 2008-12-31   2.020815                  0.000000"
      ]
     },
     "execution_count": 215,
     "metadata": {},
     "output_type": "execute_result"
    }
   ],
   "source": [
    "#slice of new dataframe\n",
    "dfFilledNew = dfFilled[['Date', 'Rainfall', 'Rainfall_forward_10_days']]\n",
    "dfFilledNew.iloc[0:31, :]"
   ]
  },
  {
   "cell_type": "code",
   "execution_count": 216,
   "metadata": {},
   "outputs": [],
   "source": [
    "#dropped rain tomorrow. Because in reality, this would'nt be known\n",
    "dfFilled.drop('RainTomorrow', inplace = True, axis=1)"
   ]
  },
  {
   "cell_type": "code",
   "execution_count": 164,
   "metadata": {
    "scrolled": true
   },
   "outputs": [
    {
     "data": {
      "text/html": [
       "<div>\n",
       "<style scoped>\n",
       "    .dataframe tbody tr th:only-of-type {\n",
       "        vertical-align: middle;\n",
       "    }\n",
       "\n",
       "    .dataframe tbody tr th {\n",
       "        vertical-align: top;\n",
       "    }\n",
       "\n",
       "    .dataframe thead th {\n",
       "        text-align: right;\n",
       "    }\n",
       "</style>\n",
       "<table border=\"1\" class=\"dataframe\">\n",
       "  <thead>\n",
       "    <tr style=\"text-align: right;\">\n",
       "      <th></th>\n",
       "      <th>Date</th>\n",
       "      <th>Location</th>\n",
       "      <th>MinTemp</th>\n",
       "      <th>MaxTemp</th>\n",
       "      <th>Rainfall</th>\n",
       "      <th>Evaporation</th>\n",
       "      <th>Sunshine</th>\n",
       "      <th>WindGustDir</th>\n",
       "      <th>WindGustSpeed</th>\n",
       "      <th>WindDir9am</th>\n",
       "      <th>...</th>\n",
       "      <th>Humidity3pm</th>\n",
       "      <th>Pressure9am</th>\n",
       "      <th>Pressure3pm</th>\n",
       "      <th>Cloud9am</th>\n",
       "      <th>Cloud3pm</th>\n",
       "      <th>Temp9am</th>\n",
       "      <th>Temp3pm</th>\n",
       "      <th>RainToday</th>\n",
       "      <th>Month</th>\n",
       "      <th>Rainfall_forward_25_days</th>\n",
       "    </tr>\n",
       "  </thead>\n",
       "  <tbody>\n",
       "    <tr>\n",
       "      <th>145429</th>\n",
       "      <td>2017-05-26</td>\n",
       "      <td>Uluru</td>\n",
       "      <td>14.3</td>\n",
       "      <td>27.600000</td>\n",
       "      <td>0.4</td>\n",
       "      <td>5.620078</td>\n",
       "      <td>7.86478</td>\n",
       "      <td>WNW</td>\n",
       "      <td>39.000000</td>\n",
       "      <td>N</td>\n",
       "      <td>...</td>\n",
       "      <td>27.0</td>\n",
       "      <td>1020.5</td>\n",
       "      <td>1016.1</td>\n",
       "      <td>4.000000</td>\n",
       "      <td>7.000</td>\n",
       "      <td>16.1</td>\n",
       "      <td>27.2</td>\n",
       "      <td>No</td>\n",
       "      <td>May</td>\n",
       "      <td>0.0</td>\n",
       "    </tr>\n",
       "    <tr>\n",
       "      <th>145430</th>\n",
       "      <td>2017-05-27</td>\n",
       "      <td>Uluru</td>\n",
       "      <td>9.3</td>\n",
       "      <td>28.000000</td>\n",
       "      <td>0.0</td>\n",
       "      <td>5.620078</td>\n",
       "      <td>7.86478</td>\n",
       "      <td>W</td>\n",
       "      <td>28.000000</td>\n",
       "      <td>SSW</td>\n",
       "      <td>...</td>\n",
       "      <td>16.0</td>\n",
       "      <td>1019.9</td>\n",
       "      <td>1016.9</td>\n",
       "      <td>5.800000</td>\n",
       "      <td>5.225</td>\n",
       "      <td>16.6</td>\n",
       "      <td>27.3</td>\n",
       "      <td>No</td>\n",
       "      <td>May</td>\n",
       "      <td>0.0</td>\n",
       "    </tr>\n",
       "    <tr>\n",
       "      <th>145431</th>\n",
       "      <td>2017-05-28</td>\n",
       "      <td>Uluru</td>\n",
       "      <td>8.0</td>\n",
       "      <td>24.600000</td>\n",
       "      <td>0.0</td>\n",
       "      <td>5.620078</td>\n",
       "      <td>7.86478</td>\n",
       "      <td>E</td>\n",
       "      <td>33.000000</td>\n",
       "      <td>SE</td>\n",
       "      <td>...</td>\n",
       "      <td>25.0</td>\n",
       "      <td>1021.7</td>\n",
       "      <td>1018.8</td>\n",
       "      <td>4.000000</td>\n",
       "      <td>5.225</td>\n",
       "      <td>13.8</td>\n",
       "      <td>23.5</td>\n",
       "      <td>No</td>\n",
       "      <td>May</td>\n",
       "      <td>0.0</td>\n",
       "    </tr>\n",
       "    <tr>\n",
       "      <th>145432</th>\n",
       "      <td>2017-05-29</td>\n",
       "      <td>Uluru</td>\n",
       "      <td>12.7</td>\n",
       "      <td>22.200000</td>\n",
       "      <td>0.0</td>\n",
       "      <td>5.620078</td>\n",
       "      <td>7.86478</td>\n",
       "      <td>E</td>\n",
       "      <td>37.000000</td>\n",
       "      <td>E</td>\n",
       "      <td>...</td>\n",
       "      <td>34.0</td>\n",
       "      <td>1024.3</td>\n",
       "      <td>1021.7</td>\n",
       "      <td>8.000000</td>\n",
       "      <td>8.000</td>\n",
       "      <td>13.9</td>\n",
       "      <td>21.0</td>\n",
       "      <td>No</td>\n",
       "      <td>May</td>\n",
       "      <td>0.0</td>\n",
       "    </tr>\n",
       "    <tr>\n",
       "      <th>145433</th>\n",
       "      <td>2017-05-30</td>\n",
       "      <td>Uluru</td>\n",
       "      <td>9.4</td>\n",
       "      <td>22.700000</td>\n",
       "      <td>0.0</td>\n",
       "      <td>5.620078</td>\n",
       "      <td>7.86478</td>\n",
       "      <td>E</td>\n",
       "      <td>35.000000</td>\n",
       "      <td>SE</td>\n",
       "      <td>...</td>\n",
       "      <td>32.0</td>\n",
       "      <td>1026.6</td>\n",
       "      <td>1023.6</td>\n",
       "      <td>8.000000</td>\n",
       "      <td>4.000</td>\n",
       "      <td>11.8</td>\n",
       "      <td>22.3</td>\n",
       "      <td>No</td>\n",
       "      <td>May</td>\n",
       "      <td>0.0</td>\n",
       "    </tr>\n",
       "    <tr>\n",
       "      <th>145434</th>\n",
       "      <td>2017-05-31</td>\n",
       "      <td>Uluru</td>\n",
       "      <td>5.4</td>\n",
       "      <td>20.500000</td>\n",
       "      <td>0.0</td>\n",
       "      <td>5.620078</td>\n",
       "      <td>7.86478</td>\n",
       "      <td>E</td>\n",
       "      <td>46.000000</td>\n",
       "      <td>E</td>\n",
       "      <td>...</td>\n",
       "      <td>32.0</td>\n",
       "      <td>1029.2</td>\n",
       "      <td>1025.3</td>\n",
       "      <td>5.800000</td>\n",
       "      <td>5.225</td>\n",
       "      <td>11.1</td>\n",
       "      <td>20.2</td>\n",
       "      <td>No</td>\n",
       "      <td>May</td>\n",
       "      <td>0.0</td>\n",
       "    </tr>\n",
       "    <tr>\n",
       "      <th>145435</th>\n",
       "      <td>2017-06-01</td>\n",
       "      <td>Uluru</td>\n",
       "      <td>5.6</td>\n",
       "      <td>19.400000</td>\n",
       "      <td>0.0</td>\n",
       "      <td>5.620078</td>\n",
       "      <td>7.86478</td>\n",
       "      <td>E</td>\n",
       "      <td>43.000000</td>\n",
       "      <td>E</td>\n",
       "      <td>...</td>\n",
       "      <td>22.0</td>\n",
       "      <td>1029.6</td>\n",
       "      <td>1027.1</td>\n",
       "      <td>5.714286</td>\n",
       "      <td>4.500</td>\n",
       "      <td>9.7</td>\n",
       "      <td>18.3</td>\n",
       "      <td>No</td>\n",
       "      <td>June</td>\n",
       "      <td>NaN</td>\n",
       "    </tr>\n",
       "    <tr>\n",
       "      <th>145436</th>\n",
       "      <td>2017-06-02</td>\n",
       "      <td>Uluru</td>\n",
       "      <td>1.5</td>\n",
       "      <td>19.200000</td>\n",
       "      <td>0.0</td>\n",
       "      <td>5.620078</td>\n",
       "      <td>7.86478</td>\n",
       "      <td>E</td>\n",
       "      <td>37.000000</td>\n",
       "      <td>ESE</td>\n",
       "      <td>...</td>\n",
       "      <td>18.0</td>\n",
       "      <td>1030.7</td>\n",
       "      <td>1026.7</td>\n",
       "      <td>5.714286</td>\n",
       "      <td>4.500</td>\n",
       "      <td>6.8</td>\n",
       "      <td>17.6</td>\n",
       "      <td>No</td>\n",
       "      <td>June</td>\n",
       "      <td>NaN</td>\n",
       "    </tr>\n",
       "    <tr>\n",
       "      <th>145437</th>\n",
       "      <td>2017-06-03</td>\n",
       "      <td>Uluru</td>\n",
       "      <td>3.8</td>\n",
       "      <td>19.800000</td>\n",
       "      <td>0.0</td>\n",
       "      <td>5.620078</td>\n",
       "      <td>7.86478</td>\n",
       "      <td>ENE</td>\n",
       "      <td>39.000000</td>\n",
       "      <td>ESE</td>\n",
       "      <td>...</td>\n",
       "      <td>22.0</td>\n",
       "      <td>1028.7</td>\n",
       "      <td>1024.1</td>\n",
       "      <td>5.714286</td>\n",
       "      <td>4.500</td>\n",
       "      <td>8.6</td>\n",
       "      <td>18.9</td>\n",
       "      <td>No</td>\n",
       "      <td>June</td>\n",
       "      <td>NaN</td>\n",
       "    </tr>\n",
       "    <tr>\n",
       "      <th>145438</th>\n",
       "      <td>2017-06-04</td>\n",
       "      <td>Uluru</td>\n",
       "      <td>4.5</td>\n",
       "      <td>18.800000</td>\n",
       "      <td>0.0</td>\n",
       "      <td>5.620078</td>\n",
       "      <td>7.86478</td>\n",
       "      <td>E</td>\n",
       "      <td>31.000000</td>\n",
       "      <td>ESE</td>\n",
       "      <td>...</td>\n",
       "      <td>26.0</td>\n",
       "      <td>1026.9</td>\n",
       "      <td>1022.4</td>\n",
       "      <td>5.714286</td>\n",
       "      <td>4.500</td>\n",
       "      <td>9.5</td>\n",
       "      <td>18.6</td>\n",
       "      <td>No</td>\n",
       "      <td>June</td>\n",
       "      <td>NaN</td>\n",
       "    </tr>\n",
       "    <tr>\n",
       "      <th>145439</th>\n",
       "      <td>2017-06-05</td>\n",
       "      <td>Uluru</td>\n",
       "      <td>4.9</td>\n",
       "      <td>20.700000</td>\n",
       "      <td>0.0</td>\n",
       "      <td>5.620078</td>\n",
       "      <td>7.86478</td>\n",
       "      <td>E</td>\n",
       "      <td>37.000000</td>\n",
       "      <td>ESE</td>\n",
       "      <td>...</td>\n",
       "      <td>11.0</td>\n",
       "      <td>1027.1</td>\n",
       "      <td>1023.9</td>\n",
       "      <td>5.714286</td>\n",
       "      <td>4.500</td>\n",
       "      <td>10.3</td>\n",
       "      <td>19.8</td>\n",
       "      <td>No</td>\n",
       "      <td>June</td>\n",
       "      <td>NaN</td>\n",
       "    </tr>\n",
       "    <tr>\n",
       "      <th>145440</th>\n",
       "      <td>2017-06-06</td>\n",
       "      <td>Uluru</td>\n",
       "      <td>1.2</td>\n",
       "      <td>20.800000</td>\n",
       "      <td>0.0</td>\n",
       "      <td>5.620078</td>\n",
       "      <td>7.86478</td>\n",
       "      <td>E</td>\n",
       "      <td>43.000000</td>\n",
       "      <td>ESE</td>\n",
       "      <td>...</td>\n",
       "      <td>6.0</td>\n",
       "      <td>1029.8</td>\n",
       "      <td>1025.9</td>\n",
       "      <td>5.714286</td>\n",
       "      <td>4.500</td>\n",
       "      <td>7.9</td>\n",
       "      <td>19.9</td>\n",
       "      <td>No</td>\n",
       "      <td>June</td>\n",
       "      <td>NaN</td>\n",
       "    </tr>\n",
       "    <tr>\n",
       "      <th>145441</th>\n",
       "      <td>2017-06-07</td>\n",
       "      <td>Uluru</td>\n",
       "      <td>0.5</td>\n",
       "      <td>21.700000</td>\n",
       "      <td>0.0</td>\n",
       "      <td>5.620078</td>\n",
       "      <td>7.86478</td>\n",
       "      <td>E</td>\n",
       "      <td>43.000000</td>\n",
       "      <td>ESE</td>\n",
       "      <td>...</td>\n",
       "      <td>19.0</td>\n",
       "      <td>1029.0</td>\n",
       "      <td>1025.0</td>\n",
       "      <td>5.714286</td>\n",
       "      <td>4.500</td>\n",
       "      <td>9.5</td>\n",
       "      <td>20.5</td>\n",
       "      <td>No</td>\n",
       "      <td>June</td>\n",
       "      <td>NaN</td>\n",
       "    </tr>\n",
       "    <tr>\n",
       "      <th>145442</th>\n",
       "      <td>2017-06-08</td>\n",
       "      <td>Uluru</td>\n",
       "      <td>4.0</td>\n",
       "      <td>20.000000</td>\n",
       "      <td>0.0</td>\n",
       "      <td>5.620078</td>\n",
       "      <td>7.86478</td>\n",
       "      <td>SE</td>\n",
       "      <td>39.000000</td>\n",
       "      <td>ESE</td>\n",
       "      <td>...</td>\n",
       "      <td>26.0</td>\n",
       "      <td>1030.2</td>\n",
       "      <td>1026.7</td>\n",
       "      <td>5.714286</td>\n",
       "      <td>4.500</td>\n",
       "      <td>9.1</td>\n",
       "      <td>19.0</td>\n",
       "      <td>No</td>\n",
       "      <td>June</td>\n",
       "      <td>NaN</td>\n",
       "    </tr>\n",
       "    <tr>\n",
       "      <th>145443</th>\n",
       "      <td>2017-06-09</td>\n",
       "      <td>Uluru</td>\n",
       "      <td>3.4</td>\n",
       "      <td>19.800000</td>\n",
       "      <td>0.0</td>\n",
       "      <td>5.620078</td>\n",
       "      <td>7.86478</td>\n",
       "      <td>E</td>\n",
       "      <td>43.000000</td>\n",
       "      <td>ESE</td>\n",
       "      <td>...</td>\n",
       "      <td>23.0</td>\n",
       "      <td>1031.8</td>\n",
       "      <td>1027.7</td>\n",
       "      <td>5.714286</td>\n",
       "      <td>4.500</td>\n",
       "      <td>8.7</td>\n",
       "      <td>18.9</td>\n",
       "      <td>No</td>\n",
       "      <td>June</td>\n",
       "      <td>NaN</td>\n",
       "    </tr>\n",
       "    <tr>\n",
       "      <th>145444</th>\n",
       "      <td>2017-06-10</td>\n",
       "      <td>Uluru</td>\n",
       "      <td>3.2</td>\n",
       "      <td>18.600000</td>\n",
       "      <td>0.0</td>\n",
       "      <td>5.620078</td>\n",
       "      <td>7.86478</td>\n",
       "      <td>E</td>\n",
       "      <td>46.000000</td>\n",
       "      <td>ESE</td>\n",
       "      <td>...</td>\n",
       "      <td>29.0</td>\n",
       "      <td>1031.0</td>\n",
       "      <td>1027.2</td>\n",
       "      <td>5.714286</td>\n",
       "      <td>4.500</td>\n",
       "      <td>8.2</td>\n",
       "      <td>17.4</td>\n",
       "      <td>No</td>\n",
       "      <td>June</td>\n",
       "      <td>NaN</td>\n",
       "    </tr>\n",
       "    <tr>\n",
       "      <th>145445</th>\n",
       "      <td>2017-06-11</td>\n",
       "      <td>Uluru</td>\n",
       "      <td>2.4</td>\n",
       "      <td>19.100000</td>\n",
       "      <td>0.0</td>\n",
       "      <td>5.620078</td>\n",
       "      <td>7.86478</td>\n",
       "      <td>E</td>\n",
       "      <td>33.000000</td>\n",
       "      <td>SE</td>\n",
       "      <td>...</td>\n",
       "      <td>24.0</td>\n",
       "      <td>1030.0</td>\n",
       "      <td>1026.2</td>\n",
       "      <td>5.714286</td>\n",
       "      <td>4.500</td>\n",
       "      <td>8.0</td>\n",
       "      <td>18.8</td>\n",
       "      <td>No</td>\n",
       "      <td>June</td>\n",
       "      <td>NaN</td>\n",
       "    </tr>\n",
       "    <tr>\n",
       "      <th>145446</th>\n",
       "      <td>2017-06-12</td>\n",
       "      <td>Uluru</td>\n",
       "      <td>5.1</td>\n",
       "      <td>19.700000</td>\n",
       "      <td>0.0</td>\n",
       "      <td>5.620078</td>\n",
       "      <td>7.86478</td>\n",
       "      <td>E</td>\n",
       "      <td>46.000000</td>\n",
       "      <td>ESE</td>\n",
       "      <td>...</td>\n",
       "      <td>29.0</td>\n",
       "      <td>1028.5</td>\n",
       "      <td>1025.8</td>\n",
       "      <td>5.714286</td>\n",
       "      <td>4.500</td>\n",
       "      <td>8.5</td>\n",
       "      <td>19.2</td>\n",
       "      <td>No</td>\n",
       "      <td>June</td>\n",
       "      <td>NaN</td>\n",
       "    </tr>\n",
       "    <tr>\n",
       "      <th>145447</th>\n",
       "      <td>2017-06-13</td>\n",
       "      <td>Uluru</td>\n",
       "      <td>2.5</td>\n",
       "      <td>21.200000</td>\n",
       "      <td>0.0</td>\n",
       "      <td>5.620078</td>\n",
       "      <td>7.86478</td>\n",
       "      <td>ENE</td>\n",
       "      <td>35.000000</td>\n",
       "      <td>ESE</td>\n",
       "      <td>...</td>\n",
       "      <td>32.0</td>\n",
       "      <td>1027.2</td>\n",
       "      <td>1023.0</td>\n",
       "      <td>5.714286</td>\n",
       "      <td>4.500</td>\n",
       "      <td>10.3</td>\n",
       "      <td>20.3</td>\n",
       "      <td>No</td>\n",
       "      <td>June</td>\n",
       "      <td>NaN</td>\n",
       "    </tr>\n",
       "    <tr>\n",
       "      <th>145448</th>\n",
       "      <td>2017-06-14</td>\n",
       "      <td>Uluru</td>\n",
       "      <td>2.3</td>\n",
       "      <td>21.400000</td>\n",
       "      <td>0.0</td>\n",
       "      <td>5.620078</td>\n",
       "      <td>7.86478</td>\n",
       "      <td>SE</td>\n",
       "      <td>22.000000</td>\n",
       "      <td>SE</td>\n",
       "      <td>...</td>\n",
       "      <td>28.0</td>\n",
       "      <td>1026.9</td>\n",
       "      <td>1022.8</td>\n",
       "      <td>5.714286</td>\n",
       "      <td>4.500</td>\n",
       "      <td>8.9</td>\n",
       "      <td>20.3</td>\n",
       "      <td>No</td>\n",
       "      <td>June</td>\n",
       "      <td>NaN</td>\n",
       "    </tr>\n",
       "    <tr>\n",
       "      <th>145449</th>\n",
       "      <td>2017-06-15</td>\n",
       "      <td>Uluru</td>\n",
       "      <td>2.6</td>\n",
       "      <td>22.500000</td>\n",
       "      <td>0.0</td>\n",
       "      <td>5.620078</td>\n",
       "      <td>7.86478</td>\n",
       "      <td>S</td>\n",
       "      <td>19.000000</td>\n",
       "      <td>S</td>\n",
       "      <td>...</td>\n",
       "      <td>24.0</td>\n",
       "      <td>1025.0</td>\n",
       "      <td>1021.4</td>\n",
       "      <td>5.714286</td>\n",
       "      <td>4.500</td>\n",
       "      <td>8.8</td>\n",
       "      <td>22.1</td>\n",
       "      <td>No</td>\n",
       "      <td>June</td>\n",
       "      <td>NaN</td>\n",
       "    </tr>\n",
       "    <tr>\n",
       "      <th>145450</th>\n",
       "      <td>2017-06-16</td>\n",
       "      <td>Uluru</td>\n",
       "      <td>5.2</td>\n",
       "      <td>24.300000</td>\n",
       "      <td>0.0</td>\n",
       "      <td>5.620078</td>\n",
       "      <td>7.86478</td>\n",
       "      <td>E</td>\n",
       "      <td>24.000000</td>\n",
       "      <td>SE</td>\n",
       "      <td>...</td>\n",
       "      <td>24.0</td>\n",
       "      <td>1023.8</td>\n",
       "      <td>1020.0</td>\n",
       "      <td>5.714286</td>\n",
       "      <td>4.500</td>\n",
       "      <td>12.3</td>\n",
       "      <td>23.3</td>\n",
       "      <td>No</td>\n",
       "      <td>June</td>\n",
       "      <td>NaN</td>\n",
       "    </tr>\n",
       "    <tr>\n",
       "      <th>145451</th>\n",
       "      <td>2017-06-17</td>\n",
       "      <td>Uluru</td>\n",
       "      <td>6.4</td>\n",
       "      <td>23.400000</td>\n",
       "      <td>0.0</td>\n",
       "      <td>5.620078</td>\n",
       "      <td>7.86478</td>\n",
       "      <td>ESE</td>\n",
       "      <td>31.000000</td>\n",
       "      <td>S</td>\n",
       "      <td>...</td>\n",
       "      <td>25.0</td>\n",
       "      <td>1025.8</td>\n",
       "      <td>1023.0</td>\n",
       "      <td>5.714286</td>\n",
       "      <td>4.500</td>\n",
       "      <td>11.2</td>\n",
       "      <td>23.1</td>\n",
       "      <td>No</td>\n",
       "      <td>June</td>\n",
       "      <td>NaN</td>\n",
       "    </tr>\n",
       "    <tr>\n",
       "      <th>145452</th>\n",
       "      <td>2017-06-18</td>\n",
       "      <td>Uluru</td>\n",
       "      <td>8.0</td>\n",
       "      <td>20.700000</td>\n",
       "      <td>0.0</td>\n",
       "      <td>5.620078</td>\n",
       "      <td>7.86478</td>\n",
       "      <td>ESE</td>\n",
       "      <td>41.000000</td>\n",
       "      <td>SE</td>\n",
       "      <td>...</td>\n",
       "      <td>32.0</td>\n",
       "      <td>1028.1</td>\n",
       "      <td>1024.3</td>\n",
       "      <td>5.714286</td>\n",
       "      <td>7.000</td>\n",
       "      <td>11.6</td>\n",
       "      <td>20.0</td>\n",
       "      <td>No</td>\n",
       "      <td>June</td>\n",
       "      <td>NaN</td>\n",
       "    </tr>\n",
       "    <tr>\n",
       "      <th>145453</th>\n",
       "      <td>2017-06-19</td>\n",
       "      <td>Uluru</td>\n",
       "      <td>7.4</td>\n",
       "      <td>20.600000</td>\n",
       "      <td>0.0</td>\n",
       "      <td>5.620078</td>\n",
       "      <td>7.86478</td>\n",
       "      <td>E</td>\n",
       "      <td>35.000000</td>\n",
       "      <td>ESE</td>\n",
       "      <td>...</td>\n",
       "      <td>33.0</td>\n",
       "      <td>1027.2</td>\n",
       "      <td>1023.3</td>\n",
       "      <td>5.714286</td>\n",
       "      <td>4.500</td>\n",
       "      <td>11.0</td>\n",
       "      <td>20.3</td>\n",
       "      <td>No</td>\n",
       "      <td>June</td>\n",
       "      <td>NaN</td>\n",
       "    </tr>\n",
       "    <tr>\n",
       "      <th>145454</th>\n",
       "      <td>2017-06-20</td>\n",
       "      <td>Uluru</td>\n",
       "      <td>3.5</td>\n",
       "      <td>21.800000</td>\n",
       "      <td>0.0</td>\n",
       "      <td>5.620078</td>\n",
       "      <td>7.86478</td>\n",
       "      <td>E</td>\n",
       "      <td>31.000000</td>\n",
       "      <td>ESE</td>\n",
       "      <td>...</td>\n",
       "      <td>27.0</td>\n",
       "      <td>1024.7</td>\n",
       "      <td>1021.2</td>\n",
       "      <td>5.714286</td>\n",
       "      <td>4.500</td>\n",
       "      <td>9.4</td>\n",
       "      <td>20.9</td>\n",
       "      <td>No</td>\n",
       "      <td>June</td>\n",
       "      <td>NaN</td>\n",
       "    </tr>\n",
       "    <tr>\n",
       "      <th>145455</th>\n",
       "      <td>2017-06-21</td>\n",
       "      <td>Uluru</td>\n",
       "      <td>2.8</td>\n",
       "      <td>23.400000</td>\n",
       "      <td>0.0</td>\n",
       "      <td>5.620078</td>\n",
       "      <td>7.86478</td>\n",
       "      <td>E</td>\n",
       "      <td>31.000000</td>\n",
       "      <td>SE</td>\n",
       "      <td>...</td>\n",
       "      <td>24.0</td>\n",
       "      <td>1024.6</td>\n",
       "      <td>1020.3</td>\n",
       "      <td>5.714286</td>\n",
       "      <td>4.500</td>\n",
       "      <td>10.1</td>\n",
       "      <td>22.4</td>\n",
       "      <td>No</td>\n",
       "      <td>June</td>\n",
       "      <td>NaN</td>\n",
       "    </tr>\n",
       "    <tr>\n",
       "      <th>145456</th>\n",
       "      <td>2017-06-22</td>\n",
       "      <td>Uluru</td>\n",
       "      <td>3.6</td>\n",
       "      <td>25.300000</td>\n",
       "      <td>0.0</td>\n",
       "      <td>5.620078</td>\n",
       "      <td>7.86478</td>\n",
       "      <td>NNW</td>\n",
       "      <td>22.000000</td>\n",
       "      <td>SE</td>\n",
       "      <td>...</td>\n",
       "      <td>21.0</td>\n",
       "      <td>1023.5</td>\n",
       "      <td>1019.1</td>\n",
       "      <td>5.714286</td>\n",
       "      <td>4.500</td>\n",
       "      <td>10.9</td>\n",
       "      <td>24.5</td>\n",
       "      <td>No</td>\n",
       "      <td>June</td>\n",
       "      <td>NaN</td>\n",
       "    </tr>\n",
       "    <tr>\n",
       "      <th>145457</th>\n",
       "      <td>2017-06-23</td>\n",
       "      <td>Uluru</td>\n",
       "      <td>5.4</td>\n",
       "      <td>26.900000</td>\n",
       "      <td>0.0</td>\n",
       "      <td>5.620078</td>\n",
       "      <td>7.86478</td>\n",
       "      <td>N</td>\n",
       "      <td>37.000000</td>\n",
       "      <td>SE</td>\n",
       "      <td>...</td>\n",
       "      <td>24.0</td>\n",
       "      <td>1021.0</td>\n",
       "      <td>1016.8</td>\n",
       "      <td>5.714286</td>\n",
       "      <td>4.500</td>\n",
       "      <td>12.5</td>\n",
       "      <td>26.1</td>\n",
       "      <td>No</td>\n",
       "      <td>June</td>\n",
       "      <td>NaN</td>\n",
       "    </tr>\n",
       "    <tr>\n",
       "      <th>145458</th>\n",
       "      <td>2017-06-24</td>\n",
       "      <td>Uluru</td>\n",
       "      <td>7.8</td>\n",
       "      <td>27.000000</td>\n",
       "      <td>0.0</td>\n",
       "      <td>5.620078</td>\n",
       "      <td>7.86478</td>\n",
       "      <td>SE</td>\n",
       "      <td>28.000000</td>\n",
       "      <td>SSE</td>\n",
       "      <td>...</td>\n",
       "      <td>24.0</td>\n",
       "      <td>1019.4</td>\n",
       "      <td>1016.5</td>\n",
       "      <td>3.000000</td>\n",
       "      <td>2.000</td>\n",
       "      <td>15.1</td>\n",
       "      <td>26.0</td>\n",
       "      <td>No</td>\n",
       "      <td>June</td>\n",
       "      <td>NaN</td>\n",
       "    </tr>\n",
       "    <tr>\n",
       "      <th>145459</th>\n",
       "      <td>2017-06-25</td>\n",
       "      <td>Uluru</td>\n",
       "      <td>14.9</td>\n",
       "      <td>20.225694</td>\n",
       "      <td>0.0</td>\n",
       "      <td>5.620078</td>\n",
       "      <td>7.86478</td>\n",
       "      <td>W</td>\n",
       "      <td>33.923077</td>\n",
       "      <td>ESE</td>\n",
       "      <td>...</td>\n",
       "      <td>36.0</td>\n",
       "      <td>1020.2</td>\n",
       "      <td>1017.9</td>\n",
       "      <td>8.000000</td>\n",
       "      <td>8.000</td>\n",
       "      <td>15.0</td>\n",
       "      <td>20.9</td>\n",
       "      <td>No</td>\n",
       "      <td>June</td>\n",
       "      <td>NaN</td>\n",
       "    </tr>\n",
       "  </tbody>\n",
       "</table>\n",
       "<p>31 rows × 24 columns</p>\n",
       "</div>"
      ],
      "text/plain": [
       "             Date Location  MinTemp    MaxTemp  Rainfall  Evaporation  \\\n",
       "145429 2017-05-26    Uluru     14.3  27.600000       0.4     5.620078   \n",
       "145430 2017-05-27    Uluru      9.3  28.000000       0.0     5.620078   \n",
       "145431 2017-05-28    Uluru      8.0  24.600000       0.0     5.620078   \n",
       "145432 2017-05-29    Uluru     12.7  22.200000       0.0     5.620078   \n",
       "145433 2017-05-30    Uluru      9.4  22.700000       0.0     5.620078   \n",
       "145434 2017-05-31    Uluru      5.4  20.500000       0.0     5.620078   \n",
       "145435 2017-06-01    Uluru      5.6  19.400000       0.0     5.620078   \n",
       "145436 2017-06-02    Uluru      1.5  19.200000       0.0     5.620078   \n",
       "145437 2017-06-03    Uluru      3.8  19.800000       0.0     5.620078   \n",
       "145438 2017-06-04    Uluru      4.5  18.800000       0.0     5.620078   \n",
       "145439 2017-06-05    Uluru      4.9  20.700000       0.0     5.620078   \n",
       "145440 2017-06-06    Uluru      1.2  20.800000       0.0     5.620078   \n",
       "145441 2017-06-07    Uluru      0.5  21.700000       0.0     5.620078   \n",
       "145442 2017-06-08    Uluru      4.0  20.000000       0.0     5.620078   \n",
       "145443 2017-06-09    Uluru      3.4  19.800000       0.0     5.620078   \n",
       "145444 2017-06-10    Uluru      3.2  18.600000       0.0     5.620078   \n",
       "145445 2017-06-11    Uluru      2.4  19.100000       0.0     5.620078   \n",
       "145446 2017-06-12    Uluru      5.1  19.700000       0.0     5.620078   \n",
       "145447 2017-06-13    Uluru      2.5  21.200000       0.0     5.620078   \n",
       "145448 2017-06-14    Uluru      2.3  21.400000       0.0     5.620078   \n",
       "145449 2017-06-15    Uluru      2.6  22.500000       0.0     5.620078   \n",
       "145450 2017-06-16    Uluru      5.2  24.300000       0.0     5.620078   \n",
       "145451 2017-06-17    Uluru      6.4  23.400000       0.0     5.620078   \n",
       "145452 2017-06-18    Uluru      8.0  20.700000       0.0     5.620078   \n",
       "145453 2017-06-19    Uluru      7.4  20.600000       0.0     5.620078   \n",
       "145454 2017-06-20    Uluru      3.5  21.800000       0.0     5.620078   \n",
       "145455 2017-06-21    Uluru      2.8  23.400000       0.0     5.620078   \n",
       "145456 2017-06-22    Uluru      3.6  25.300000       0.0     5.620078   \n",
       "145457 2017-06-23    Uluru      5.4  26.900000       0.0     5.620078   \n",
       "145458 2017-06-24    Uluru      7.8  27.000000       0.0     5.620078   \n",
       "145459 2017-06-25    Uluru     14.9  20.225694       0.0     5.620078   \n",
       "\n",
       "        Sunshine WindGustDir  WindGustSpeed WindDir9am  ... Humidity3pm  \\\n",
       "145429   7.86478         WNW      39.000000          N  ...        27.0   \n",
       "145430   7.86478           W      28.000000        SSW  ...        16.0   \n",
       "145431   7.86478           E      33.000000         SE  ...        25.0   \n",
       "145432   7.86478           E      37.000000          E  ...        34.0   \n",
       "145433   7.86478           E      35.000000         SE  ...        32.0   \n",
       "145434   7.86478           E      46.000000          E  ...        32.0   \n",
       "145435   7.86478           E      43.000000          E  ...        22.0   \n",
       "145436   7.86478           E      37.000000        ESE  ...        18.0   \n",
       "145437   7.86478         ENE      39.000000        ESE  ...        22.0   \n",
       "145438   7.86478           E      31.000000        ESE  ...        26.0   \n",
       "145439   7.86478           E      37.000000        ESE  ...        11.0   \n",
       "145440   7.86478           E      43.000000        ESE  ...         6.0   \n",
       "145441   7.86478           E      43.000000        ESE  ...        19.0   \n",
       "145442   7.86478          SE      39.000000        ESE  ...        26.0   \n",
       "145443   7.86478           E      43.000000        ESE  ...        23.0   \n",
       "145444   7.86478           E      46.000000        ESE  ...        29.0   \n",
       "145445   7.86478           E      33.000000         SE  ...        24.0   \n",
       "145446   7.86478           E      46.000000        ESE  ...        29.0   \n",
       "145447   7.86478         ENE      35.000000        ESE  ...        32.0   \n",
       "145448   7.86478          SE      22.000000         SE  ...        28.0   \n",
       "145449   7.86478           S      19.000000          S  ...        24.0   \n",
       "145450   7.86478           E      24.000000         SE  ...        24.0   \n",
       "145451   7.86478         ESE      31.000000          S  ...        25.0   \n",
       "145452   7.86478         ESE      41.000000         SE  ...        32.0   \n",
       "145453   7.86478           E      35.000000        ESE  ...        33.0   \n",
       "145454   7.86478           E      31.000000        ESE  ...        27.0   \n",
       "145455   7.86478           E      31.000000         SE  ...        24.0   \n",
       "145456   7.86478         NNW      22.000000         SE  ...        21.0   \n",
       "145457   7.86478           N      37.000000         SE  ...        24.0   \n",
       "145458   7.86478          SE      28.000000        SSE  ...        24.0   \n",
       "145459   7.86478           W      33.923077        ESE  ...        36.0   \n",
       "\n",
       "        Pressure9am  Pressure3pm  Cloud9am  Cloud3pm  Temp9am  Temp3pm  \\\n",
       "145429       1020.5       1016.1  4.000000     7.000     16.1     27.2   \n",
       "145430       1019.9       1016.9  5.800000     5.225     16.6     27.3   \n",
       "145431       1021.7       1018.8  4.000000     5.225     13.8     23.5   \n",
       "145432       1024.3       1021.7  8.000000     8.000     13.9     21.0   \n",
       "145433       1026.6       1023.6  8.000000     4.000     11.8     22.3   \n",
       "145434       1029.2       1025.3  5.800000     5.225     11.1     20.2   \n",
       "145435       1029.6       1027.1  5.714286     4.500      9.7     18.3   \n",
       "145436       1030.7       1026.7  5.714286     4.500      6.8     17.6   \n",
       "145437       1028.7       1024.1  5.714286     4.500      8.6     18.9   \n",
       "145438       1026.9       1022.4  5.714286     4.500      9.5     18.6   \n",
       "145439       1027.1       1023.9  5.714286     4.500     10.3     19.8   \n",
       "145440       1029.8       1025.9  5.714286     4.500      7.9     19.9   \n",
       "145441       1029.0       1025.0  5.714286     4.500      9.5     20.5   \n",
       "145442       1030.2       1026.7  5.714286     4.500      9.1     19.0   \n",
       "145443       1031.8       1027.7  5.714286     4.500      8.7     18.9   \n",
       "145444       1031.0       1027.2  5.714286     4.500      8.2     17.4   \n",
       "145445       1030.0       1026.2  5.714286     4.500      8.0     18.8   \n",
       "145446       1028.5       1025.8  5.714286     4.500      8.5     19.2   \n",
       "145447       1027.2       1023.0  5.714286     4.500     10.3     20.3   \n",
       "145448       1026.9       1022.8  5.714286     4.500      8.9     20.3   \n",
       "145449       1025.0       1021.4  5.714286     4.500      8.8     22.1   \n",
       "145450       1023.8       1020.0  5.714286     4.500     12.3     23.3   \n",
       "145451       1025.8       1023.0  5.714286     4.500     11.2     23.1   \n",
       "145452       1028.1       1024.3  5.714286     7.000     11.6     20.0   \n",
       "145453       1027.2       1023.3  5.714286     4.500     11.0     20.3   \n",
       "145454       1024.7       1021.2  5.714286     4.500      9.4     20.9   \n",
       "145455       1024.6       1020.3  5.714286     4.500     10.1     22.4   \n",
       "145456       1023.5       1019.1  5.714286     4.500     10.9     24.5   \n",
       "145457       1021.0       1016.8  5.714286     4.500     12.5     26.1   \n",
       "145458       1019.4       1016.5  3.000000     2.000     15.1     26.0   \n",
       "145459       1020.2       1017.9  8.000000     8.000     15.0     20.9   \n",
       "\n",
       "        RainToday  Month  Rainfall_forward_25_days  \n",
       "145429         No    May                       0.0  \n",
       "145430         No    May                       0.0  \n",
       "145431         No    May                       0.0  \n",
       "145432         No    May                       0.0  \n",
       "145433         No    May                       0.0  \n",
       "145434         No    May                       0.0  \n",
       "145435         No   June                       NaN  \n",
       "145436         No   June                       NaN  \n",
       "145437         No   June                       NaN  \n",
       "145438         No   June                       NaN  \n",
       "145439         No   June                       NaN  \n",
       "145440         No   June                       NaN  \n",
       "145441         No   June                       NaN  \n",
       "145442         No   June                       NaN  \n",
       "145443         No   June                       NaN  \n",
       "145444         No   June                       NaN  \n",
       "145445         No   June                       NaN  \n",
       "145446         No   June                       NaN  \n",
       "145447         No   June                       NaN  \n",
       "145448         No   June                       NaN  \n",
       "145449         No   June                       NaN  \n",
       "145450         No   June                       NaN  \n",
       "145451         No   June                       NaN  \n",
       "145452         No   June                       NaN  \n",
       "145453         No   June                       NaN  \n",
       "145454         No   June                       NaN  \n",
       "145455         No   June                       NaN  \n",
       "145456         No   June                       NaN  \n",
       "145457         No   June                       NaN  \n",
       "145458         No   June                       NaN  \n",
       "145459         No   June                       NaN  \n",
       "\n",
       "[31 rows x 24 columns]"
      ]
     },
     "execution_count": 164,
     "metadata": {},
     "output_type": "execute_result"
    }
   ],
   "source": [
    "dfFilled.tail(31)"
   ]
  },
  {
   "cell_type": "code",
   "execution_count": 217,
   "metadata": {},
   "outputs": [],
   "source": [
    "#delete last four rows (no forward day rain)\n",
    "dfFilled = dfFilled[:-10]"
   ]
  },
  {
   "cell_type": "code",
   "execution_count": 166,
   "metadata": {},
   "outputs": [
    {
     "data": {
      "text/html": [
       "<div>\n",
       "<style scoped>\n",
       "    .dataframe tbody tr th:only-of-type {\n",
       "        vertical-align: middle;\n",
       "    }\n",
       "\n",
       "    .dataframe tbody tr th {\n",
       "        vertical-align: top;\n",
       "    }\n",
       "\n",
       "    .dataframe thead th {\n",
       "        text-align: right;\n",
       "    }\n",
       "</style>\n",
       "<table border=\"1\" class=\"dataframe\">\n",
       "  <thead>\n",
       "    <tr style=\"text-align: right;\">\n",
       "      <th></th>\n",
       "      <th>Date</th>\n",
       "      <th>Location</th>\n",
       "      <th>MinTemp</th>\n",
       "      <th>MaxTemp</th>\n",
       "      <th>Rainfall</th>\n",
       "      <th>Evaporation</th>\n",
       "      <th>Sunshine</th>\n",
       "      <th>WindGustDir</th>\n",
       "      <th>WindGustSpeed</th>\n",
       "      <th>WindDir9am</th>\n",
       "      <th>...</th>\n",
       "      <th>Humidity3pm</th>\n",
       "      <th>Pressure9am</th>\n",
       "      <th>Pressure3pm</th>\n",
       "      <th>Cloud9am</th>\n",
       "      <th>Cloud3pm</th>\n",
       "      <th>Temp9am</th>\n",
       "      <th>Temp3pm</th>\n",
       "      <th>RainToday</th>\n",
       "      <th>Month</th>\n",
       "      <th>Rainfall_forward_25_days</th>\n",
       "    </tr>\n",
       "  </thead>\n",
       "  <tbody>\n",
       "    <tr>\n",
       "      <th>145430</th>\n",
       "      <td>2017-05-27</td>\n",
       "      <td>Uluru</td>\n",
       "      <td>9.3</td>\n",
       "      <td>28.0</td>\n",
       "      <td>0.0</td>\n",
       "      <td>5.620078</td>\n",
       "      <td>7.86478</td>\n",
       "      <td>W</td>\n",
       "      <td>28.0</td>\n",
       "      <td>SSW</td>\n",
       "      <td>...</td>\n",
       "      <td>16.0</td>\n",
       "      <td>1019.9</td>\n",
       "      <td>1016.9</td>\n",
       "      <td>5.8</td>\n",
       "      <td>5.225</td>\n",
       "      <td>16.6</td>\n",
       "      <td>27.3</td>\n",
       "      <td>No</td>\n",
       "      <td>May</td>\n",
       "      <td>0.0</td>\n",
       "    </tr>\n",
       "    <tr>\n",
       "      <th>145431</th>\n",
       "      <td>2017-05-28</td>\n",
       "      <td>Uluru</td>\n",
       "      <td>8.0</td>\n",
       "      <td>24.6</td>\n",
       "      <td>0.0</td>\n",
       "      <td>5.620078</td>\n",
       "      <td>7.86478</td>\n",
       "      <td>E</td>\n",
       "      <td>33.0</td>\n",
       "      <td>SE</td>\n",
       "      <td>...</td>\n",
       "      <td>25.0</td>\n",
       "      <td>1021.7</td>\n",
       "      <td>1018.8</td>\n",
       "      <td>4.0</td>\n",
       "      <td>5.225</td>\n",
       "      <td>13.8</td>\n",
       "      <td>23.5</td>\n",
       "      <td>No</td>\n",
       "      <td>May</td>\n",
       "      <td>0.0</td>\n",
       "    </tr>\n",
       "    <tr>\n",
       "      <th>145432</th>\n",
       "      <td>2017-05-29</td>\n",
       "      <td>Uluru</td>\n",
       "      <td>12.7</td>\n",
       "      <td>22.2</td>\n",
       "      <td>0.0</td>\n",
       "      <td>5.620078</td>\n",
       "      <td>7.86478</td>\n",
       "      <td>E</td>\n",
       "      <td>37.0</td>\n",
       "      <td>E</td>\n",
       "      <td>...</td>\n",
       "      <td>34.0</td>\n",
       "      <td>1024.3</td>\n",
       "      <td>1021.7</td>\n",
       "      <td>8.0</td>\n",
       "      <td>8.000</td>\n",
       "      <td>13.9</td>\n",
       "      <td>21.0</td>\n",
       "      <td>No</td>\n",
       "      <td>May</td>\n",
       "      <td>0.0</td>\n",
       "    </tr>\n",
       "    <tr>\n",
       "      <th>145433</th>\n",
       "      <td>2017-05-30</td>\n",
       "      <td>Uluru</td>\n",
       "      <td>9.4</td>\n",
       "      <td>22.7</td>\n",
       "      <td>0.0</td>\n",
       "      <td>5.620078</td>\n",
       "      <td>7.86478</td>\n",
       "      <td>E</td>\n",
       "      <td>35.0</td>\n",
       "      <td>SE</td>\n",
       "      <td>...</td>\n",
       "      <td>32.0</td>\n",
       "      <td>1026.6</td>\n",
       "      <td>1023.6</td>\n",
       "      <td>8.0</td>\n",
       "      <td>4.000</td>\n",
       "      <td>11.8</td>\n",
       "      <td>22.3</td>\n",
       "      <td>No</td>\n",
       "      <td>May</td>\n",
       "      <td>0.0</td>\n",
       "    </tr>\n",
       "    <tr>\n",
       "      <th>145434</th>\n",
       "      <td>2017-05-31</td>\n",
       "      <td>Uluru</td>\n",
       "      <td>5.4</td>\n",
       "      <td>20.5</td>\n",
       "      <td>0.0</td>\n",
       "      <td>5.620078</td>\n",
       "      <td>7.86478</td>\n",
       "      <td>E</td>\n",
       "      <td>46.0</td>\n",
       "      <td>E</td>\n",
       "      <td>...</td>\n",
       "      <td>32.0</td>\n",
       "      <td>1029.2</td>\n",
       "      <td>1025.3</td>\n",
       "      <td>5.8</td>\n",
       "      <td>5.225</td>\n",
       "      <td>11.1</td>\n",
       "      <td>20.2</td>\n",
       "      <td>No</td>\n",
       "      <td>May</td>\n",
       "      <td>0.0</td>\n",
       "    </tr>\n",
       "  </tbody>\n",
       "</table>\n",
       "<p>5 rows × 24 columns</p>\n",
       "</div>"
      ],
      "text/plain": [
       "             Date Location  MinTemp  MaxTemp  Rainfall  Evaporation  Sunshine  \\\n",
       "145430 2017-05-27    Uluru      9.3     28.0       0.0     5.620078   7.86478   \n",
       "145431 2017-05-28    Uluru      8.0     24.6       0.0     5.620078   7.86478   \n",
       "145432 2017-05-29    Uluru     12.7     22.2       0.0     5.620078   7.86478   \n",
       "145433 2017-05-30    Uluru      9.4     22.7       0.0     5.620078   7.86478   \n",
       "145434 2017-05-31    Uluru      5.4     20.5       0.0     5.620078   7.86478   \n",
       "\n",
       "       WindGustDir  WindGustSpeed WindDir9am  ... Humidity3pm  Pressure9am  \\\n",
       "145430           W           28.0        SSW  ...        16.0       1019.9   \n",
       "145431           E           33.0         SE  ...        25.0       1021.7   \n",
       "145432           E           37.0          E  ...        34.0       1024.3   \n",
       "145433           E           35.0         SE  ...        32.0       1026.6   \n",
       "145434           E           46.0          E  ...        32.0       1029.2   \n",
       "\n",
       "        Pressure3pm  Cloud9am  Cloud3pm  Temp9am  Temp3pm  RainToday  Month  \\\n",
       "145430       1016.9       5.8     5.225     16.6     27.3         No    May   \n",
       "145431       1018.8       4.0     5.225     13.8     23.5         No    May   \n",
       "145432       1021.7       8.0     8.000     13.9     21.0         No    May   \n",
       "145433       1023.6       8.0     4.000     11.8     22.3         No    May   \n",
       "145434       1025.3       5.8     5.225     11.1     20.2         No    May   \n",
       "\n",
       "        Rainfall_forward_25_days  \n",
       "145430                       0.0  \n",
       "145431                       0.0  \n",
       "145432                       0.0  \n",
       "145433                       0.0  \n",
       "145434                       0.0  \n",
       "\n",
       "[5 rows x 24 columns]"
      ]
     },
     "execution_count": 166,
     "metadata": {},
     "output_type": "execute_result"
    }
   ],
   "source": [
    "dfFilled.tail()"
   ]
  },
  {
   "cell_type": "code",
   "execution_count": 218,
   "metadata": {},
   "outputs": [],
   "source": [
    "# text columns\n",
    "l = ['Location', 'WindGustDir', 'WindDir9am', 'WindDir3pm', 'RainToday']"
   ]
  },
  {
   "cell_type": "code",
   "execution_count": 219,
   "metadata": {},
   "outputs": [],
   "source": [
    "labelEncode = LabelEncoder()"
   ]
  },
  {
   "cell_type": "code",
   "execution_count": 220,
   "metadata": {},
   "outputs": [
    {
     "name": "stdout",
     "output_type": "stream",
     "text": [
      "Location\n",
      "WindGustDir\n",
      "WindDir9am\n",
      "WindDir3pm\n",
      "RainToday\n"
     ]
    }
   ],
   "source": [
    "for i in l:\n",
    "    print(i)\n",
    "    dfFilled[i] = labelEncode.fit_transform(dfFilled[i])"
   ]
  },
  {
   "cell_type": "code",
   "execution_count": 221,
   "metadata": {},
   "outputs": [],
   "source": [
    "#identifying related and unrelated column\n",
    "cor = dfFilled.corr()\n",
    "#plt.figure(figsize = (20,12))\n",
    "#sns.heatmap(cor, annot=True)"
   ]
  },
  {
   "cell_type": "code",
   "execution_count": 222,
   "metadata": {},
   "outputs": [],
   "source": [
    "related = cor['Rainfall_forward_10_days'].sort_values(ascending = False)\n",
    "#related"
   ]
  },
  {
   "cell_type": "code",
   "execution_count": 223,
   "metadata": {},
   "outputs": [
    {
     "data": {
      "text/plain": [
       "['Rainfall_forward_10_days',\n",
       " 'Humidity3pm',\n",
       " 'MinTemp',\n",
       " 'Rainfall',\n",
       " 'Humidity9am',\n",
       " 'RainToday',\n",
       " 'Temp9am',\n",
       " 'Cloud3pm',\n",
       " 'Cloud9am',\n",
       " 'WindDir9am',\n",
       " 'MaxTemp',\n",
       " 'Temp3pm',\n",
       " 'WindGustSpeed']"
      ]
     },
     "execution_count": 223,
     "metadata": {},
     "output_type": "execute_result"
    }
   ],
   "source": [
    "x = []\n",
    "for i in range (len(related)):\n",
    "    if related[i]>0:\n",
    "        x.append(related.index[i])\n",
    "        \n",
    "x"
   ]
  },
  {
   "cell_type": "code",
   "execution_count": 18,
   "metadata": {},
   "outputs": [
    {
     "ename": "AttributeError",
     "evalue": "'list' object has no attribute 'head'",
     "output_type": "error",
     "traceback": [
      "\u001b[1;31m---------------------------------------------------------------------------\u001b[0m",
      "\u001b[1;31mAttributeError\u001b[0m                            Traceback (most recent call last)",
      "\u001b[1;32m<ipython-input-18-830ed5e65d76>\u001b[0m in \u001b[0;36m<module>\u001b[1;34m\u001b[0m\n\u001b[1;32m----> 1\u001b[1;33m \u001b[0mx\u001b[0m\u001b[1;33m.\u001b[0m\u001b[0mhead\u001b[0m\u001b[1;33m(\u001b[0m\u001b[1;33m)\u001b[0m\u001b[1;33m\u001b[0m\u001b[1;33m\u001b[0m\u001b[0m\n\u001b[0m",
      "\u001b[1;31mAttributeError\u001b[0m: 'list' object has no attribute 'head'"
     ]
    }
   ],
   "source": [
    "x.head()"
   ]
  },
  {
   "cell_type": "code",
   "execution_count": 224,
   "metadata": {},
   "outputs": [],
   "source": [
    "x = dfFilled[x]"
   ]
  },
  {
   "cell_type": "code",
   "execution_count": 225,
   "metadata": {
    "scrolled": true
   },
   "outputs": [
    {
     "name": "stderr",
     "output_type": "stream",
     "text": [
      "C:\\ProgramData\\Anaconda3\\lib\\site-packages\\pandas\\core\\frame.py:4163: SettingWithCopyWarning: \n",
      "A value is trying to be set on a copy of a slice from a DataFrame\n",
      "\n",
      "See the caveats in the documentation: https://pandas.pydata.org/pandas-docs/stable/user_guide/indexing.html#returning-a-view-versus-a-copy\n",
      "  return super().drop(\n"
     ]
    },
    {
     "data": {
      "text/html": [
       "<div>\n",
       "<style scoped>\n",
       "    .dataframe tbody tr th:only-of-type {\n",
       "        vertical-align: middle;\n",
       "    }\n",
       "\n",
       "    .dataframe tbody tr th {\n",
       "        vertical-align: top;\n",
       "    }\n",
       "\n",
       "    .dataframe thead th {\n",
       "        text-align: right;\n",
       "    }\n",
       "</style>\n",
       "<table border=\"1\" class=\"dataframe\">\n",
       "  <thead>\n",
       "    <tr style=\"text-align: right;\">\n",
       "      <th></th>\n",
       "      <th>Humidity3pm</th>\n",
       "      <th>MinTemp</th>\n",
       "      <th>Rainfall</th>\n",
       "      <th>Humidity9am</th>\n",
       "      <th>RainToday</th>\n",
       "      <th>Temp9am</th>\n",
       "      <th>Cloud3pm</th>\n",
       "      <th>Cloud9am</th>\n",
       "      <th>WindDir9am</th>\n",
       "      <th>MaxTemp</th>\n",
       "      <th>Temp3pm</th>\n",
       "      <th>WindGustSpeed</th>\n",
       "    </tr>\n",
       "  </thead>\n",
       "  <tbody>\n",
       "    <tr>\n",
       "      <th>0</th>\n",
       "      <td>22.000000</td>\n",
       "      <td>13.400000</td>\n",
       "      <td>0.600000</td>\n",
       "      <td>71.000000</td>\n",
       "      <td>0</td>\n",
       "      <td>16.900000</td>\n",
       "      <td>4.789474</td>\n",
       "      <td>8.000000</td>\n",
       "      <td>13</td>\n",
       "      <td>22.900000</td>\n",
       "      <td>21.800000</td>\n",
       "      <td>44.000000</td>\n",
       "    </tr>\n",
       "    <tr>\n",
       "      <th>1</th>\n",
       "      <td>25.000000</td>\n",
       "      <td>7.400000</td>\n",
       "      <td>0.000000</td>\n",
       "      <td>44.000000</td>\n",
       "      <td>0</td>\n",
       "      <td>17.200000</td>\n",
       "      <td>3.776114</td>\n",
       "      <td>3.771091</td>\n",
       "      <td>6</td>\n",
       "      <td>32.600000</td>\n",
       "      <td>24.300000</td>\n",
       "      <td>59.000000</td>\n",
       "    </tr>\n",
       "    <tr>\n",
       "      <th>2</th>\n",
       "      <td>30.000000</td>\n",
       "      <td>12.900000</td>\n",
       "      <td>0.000000</td>\n",
       "      <td>38.000000</td>\n",
       "      <td>0</td>\n",
       "      <td>21.000000</td>\n",
       "      <td>4.000000</td>\n",
       "      <td>3.000000</td>\n",
       "      <td>13</td>\n",
       "      <td>25.700000</td>\n",
       "      <td>23.200000</td>\n",
       "      <td>46.000000</td>\n",
       "    </tr>\n",
       "    <tr>\n",
       "      <th>3</th>\n",
       "      <td>16.000000</td>\n",
       "      <td>9.200000</td>\n",
       "      <td>0.000000</td>\n",
       "      <td>45.000000</td>\n",
       "      <td>0</td>\n",
       "      <td>18.100000</td>\n",
       "      <td>3.776114</td>\n",
       "      <td>3.771091</td>\n",
       "      <td>9</td>\n",
       "      <td>28.000000</td>\n",
       "      <td>26.500000</td>\n",
       "      <td>43.628141</td>\n",
       "    </tr>\n",
       "    <tr>\n",
       "      <th>4</th>\n",
       "      <td>47.689362</td>\n",
       "      <td>15.154894</td>\n",
       "      <td>1.936709</td>\n",
       "      <td>61.722944</td>\n",
       "      <td>0</td>\n",
       "      <td>20.180519</td>\n",
       "      <td>4.801102</td>\n",
       "      <td>4.920000</td>\n",
       "      <td>1</td>\n",
       "      <td>25.785654</td>\n",
       "      <td>24.071064</td>\n",
       "      <td>43.726775</td>\n",
       "    </tr>\n",
       "    <tr>\n",
       "      <th>...</th>\n",
       "      <td>...</td>\n",
       "      <td>...</td>\n",
       "      <td>...</td>\n",
       "      <td>...</td>\n",
       "      <td>...</td>\n",
       "      <td>...</td>\n",
       "      <td>...</td>\n",
       "      <td>...</td>\n",
       "      <td>...</td>\n",
       "      <td>...</td>\n",
       "      <td>...</td>\n",
       "      <td>...</td>\n",
       "    </tr>\n",
       "    <tr>\n",
       "      <th>145445</th>\n",
       "      <td>24.000000</td>\n",
       "      <td>2.400000</td>\n",
       "      <td>0.000000</td>\n",
       "      <td>59.000000</td>\n",
       "      <td>0</td>\n",
       "      <td>8.000000</td>\n",
       "      <td>4.500000</td>\n",
       "      <td>5.714286</td>\n",
       "      <td>9</td>\n",
       "      <td>19.100000</td>\n",
       "      <td>18.800000</td>\n",
       "      <td>33.000000</td>\n",
       "    </tr>\n",
       "    <tr>\n",
       "      <th>145446</th>\n",
       "      <td>29.000000</td>\n",
       "      <td>5.100000</td>\n",
       "      <td>0.000000</td>\n",
       "      <td>56.000000</td>\n",
       "      <td>0</td>\n",
       "      <td>8.500000</td>\n",
       "      <td>4.500000</td>\n",
       "      <td>5.714286</td>\n",
       "      <td>2</td>\n",
       "      <td>19.700000</td>\n",
       "      <td>19.200000</td>\n",
       "      <td>46.000000</td>\n",
       "    </tr>\n",
       "    <tr>\n",
       "      <th>145447</th>\n",
       "      <td>32.000000</td>\n",
       "      <td>2.500000</td>\n",
       "      <td>0.000000</td>\n",
       "      <td>57.000000</td>\n",
       "      <td>0</td>\n",
       "      <td>10.300000</td>\n",
       "      <td>4.500000</td>\n",
       "      <td>5.714286</td>\n",
       "      <td>2</td>\n",
       "      <td>21.200000</td>\n",
       "      <td>20.300000</td>\n",
       "      <td>35.000000</td>\n",
       "    </tr>\n",
       "    <tr>\n",
       "      <th>145448</th>\n",
       "      <td>28.000000</td>\n",
       "      <td>2.300000</td>\n",
       "      <td>0.000000</td>\n",
       "      <td>60.000000</td>\n",
       "      <td>0</td>\n",
       "      <td>8.900000</td>\n",
       "      <td>4.500000</td>\n",
       "      <td>5.714286</td>\n",
       "      <td>9</td>\n",
       "      <td>21.400000</td>\n",
       "      <td>20.300000</td>\n",
       "      <td>22.000000</td>\n",
       "    </tr>\n",
       "    <tr>\n",
       "      <th>145449</th>\n",
       "      <td>24.000000</td>\n",
       "      <td>2.600000</td>\n",
       "      <td>0.000000</td>\n",
       "      <td>59.000000</td>\n",
       "      <td>0</td>\n",
       "      <td>8.800000</td>\n",
       "      <td>4.500000</td>\n",
       "      <td>5.714286</td>\n",
       "      <td>8</td>\n",
       "      <td>22.500000</td>\n",
       "      <td>22.100000</td>\n",
       "      <td>19.000000</td>\n",
       "    </tr>\n",
       "  </tbody>\n",
       "</table>\n",
       "<p>145450 rows × 12 columns</p>\n",
       "</div>"
      ],
      "text/plain": [
       "        Humidity3pm    MinTemp  Rainfall  Humidity9am  RainToday    Temp9am  \\\n",
       "0         22.000000  13.400000  0.600000    71.000000          0  16.900000   \n",
       "1         25.000000   7.400000  0.000000    44.000000          0  17.200000   \n",
       "2         30.000000  12.900000  0.000000    38.000000          0  21.000000   \n",
       "3         16.000000   9.200000  0.000000    45.000000          0  18.100000   \n",
       "4         47.689362  15.154894  1.936709    61.722944          0  20.180519   \n",
       "...             ...        ...       ...          ...        ...        ...   \n",
       "145445    24.000000   2.400000  0.000000    59.000000          0   8.000000   \n",
       "145446    29.000000   5.100000  0.000000    56.000000          0   8.500000   \n",
       "145447    32.000000   2.500000  0.000000    57.000000          0  10.300000   \n",
       "145448    28.000000   2.300000  0.000000    60.000000          0   8.900000   \n",
       "145449    24.000000   2.600000  0.000000    59.000000          0   8.800000   \n",
       "\n",
       "        Cloud3pm  Cloud9am  WindDir9am    MaxTemp    Temp3pm  WindGustSpeed  \n",
       "0       4.789474  8.000000          13  22.900000  21.800000      44.000000  \n",
       "1       3.776114  3.771091           6  32.600000  24.300000      59.000000  \n",
       "2       4.000000  3.000000          13  25.700000  23.200000      46.000000  \n",
       "3       3.776114  3.771091           9  28.000000  26.500000      43.628141  \n",
       "4       4.801102  4.920000           1  25.785654  24.071064      43.726775  \n",
       "...          ...       ...         ...        ...        ...            ...  \n",
       "145445  4.500000  5.714286           9  19.100000  18.800000      33.000000  \n",
       "145446  4.500000  5.714286           2  19.700000  19.200000      46.000000  \n",
       "145447  4.500000  5.714286           2  21.200000  20.300000      35.000000  \n",
       "145448  4.500000  5.714286           9  21.400000  20.300000      22.000000  \n",
       "145449  4.500000  5.714286           8  22.500000  22.100000      19.000000  \n",
       "\n",
       "[145450 rows x 12 columns]"
      ]
     },
     "execution_count": 225,
     "metadata": {},
     "output_type": "execute_result"
    }
   ],
   "source": [
    "x.drop('Rainfall_forward_10_days', inplace = True, axis=1)\n",
    "x"
   ]
  },
  {
   "cell_type": "code",
   "execution_count": 226,
   "metadata": {},
   "outputs": [],
   "source": [
    "x.to_csv(\"x variables 10 days forward.csv\")"
   ]
  },
  {
   "cell_type": "code",
   "execution_count": 227,
   "metadata": {},
   "outputs": [],
   "source": [
    "y = dfFilled['Rainfall_forward_10_days']"
   ]
  },
  {
   "cell_type": "code",
   "execution_count": null,
   "metadata": {},
   "outputs": [],
   "source": [
    "y.to_csv(\"y variables 10 days forward.csv\")"
   ]
  },
  {
   "cell_type": "code",
   "execution_count": 2,
   "metadata": {},
   "outputs": [],
   "source": [
    "x = pd.read_csv(\"x variables 30 days forward.csv\")"
   ]
  },
  {
   "cell_type": "code",
   "execution_count": 13,
   "metadata": {},
   "outputs": [
    {
     "data": {
      "text/html": [
       "<div>\n",
       "<style scoped>\n",
       "    .dataframe tbody tr th:only-of-type {\n",
       "        vertical-align: middle;\n",
       "    }\n",
       "\n",
       "    .dataframe tbody tr th {\n",
       "        vertical-align: top;\n",
       "    }\n",
       "\n",
       "    .dataframe thead th {\n",
       "        text-align: right;\n",
       "    }\n",
       "</style>\n",
       "<table border=\"1\" class=\"dataframe\">\n",
       "  <thead>\n",
       "    <tr style=\"text-align: right;\">\n",
       "      <th></th>\n",
       "      <th>Humidity3pm</th>\n",
       "      <th>MinTemp</th>\n",
       "      <th>Humidity9am</th>\n",
       "      <th>RainToday</th>\n",
       "      <th>Rainfall</th>\n",
       "      <th>Temp9am</th>\n",
       "      <th>Cloud3pm</th>\n",
       "      <th>Cloud9am</th>\n",
       "      <th>WindDir9am</th>\n",
       "      <th>WindSpeed3pm</th>\n",
       "      <th>MaxTemp</th>\n",
       "      <th>WindGustSpeed</th>\n",
       "      <th>Temp3pm</th>\n",
       "      <th>WindSpeed9am</th>\n",
       "    </tr>\n",
       "  </thead>\n",
       "  <tbody>\n",
       "    <tr>\n",
       "      <th>0</th>\n",
       "      <td>28.0</td>\n",
       "      <td>15.149072</td>\n",
       "      <td>62.418165</td>\n",
       "      <td>0</td>\n",
       "      <td>2.020815</td>\n",
       "      <td>20.281079</td>\n",
       "      <td>4.896176</td>\n",
       "      <td>4.916208</td>\n",
       "      <td>14</td>\n",
       "      <td>17.0</td>\n",
       "      <td>24.4</td>\n",
       "      <td>39.0</td>\n",
       "      <td>22.7</td>\n",
       "      <td>14.521212</td>\n",
       "    </tr>\n",
       "    <tr>\n",
       "      <th>1</th>\n",
       "      <td>26.0</td>\n",
       "      <td>11.300000</td>\n",
       "      <td>46.000000</td>\n",
       "      <td>0</td>\n",
       "      <td>0.000000</td>\n",
       "      <td>19.700000</td>\n",
       "      <td>6.000000</td>\n",
       "      <td>2.000000</td>\n",
       "      <td>13</td>\n",
       "      <td>31.0</td>\n",
       "      <td>26.5</td>\n",
       "      <td>56.0</td>\n",
       "      <td>25.7</td>\n",
       "      <td>19.000000</td>\n",
       "    </tr>\n",
       "    <tr>\n",
       "      <th>2</th>\n",
       "      <td>22.0</td>\n",
       "      <td>9.600000</td>\n",
       "      <td>44.000000</td>\n",
       "      <td>0</td>\n",
       "      <td>0.000000</td>\n",
       "      <td>14.900000</td>\n",
       "      <td>3.980864</td>\n",
       "      <td>4.524817</td>\n",
       "      <td>15</td>\n",
       "      <td>11.0</td>\n",
       "      <td>23.9</td>\n",
       "      <td>50.0</td>\n",
       "      <td>22.1</td>\n",
       "      <td>19.000000</td>\n",
       "    </tr>\n",
       "    <tr>\n",
       "      <th>3</th>\n",
       "      <td>22.0</td>\n",
       "      <td>10.500000</td>\n",
       "      <td>43.000000</td>\n",
       "      <td>0</td>\n",
       "      <td>0.000000</td>\n",
       "      <td>17.100000</td>\n",
       "      <td>3.980864</td>\n",
       "      <td>4.524817</td>\n",
       "      <td>10</td>\n",
       "      <td>7.0</td>\n",
       "      <td>28.8</td>\n",
       "      <td>26.0</td>\n",
       "      <td>26.5</td>\n",
       "      <td>11.000000</td>\n",
       "    </tr>\n",
       "    <tr>\n",
       "      <th>4</th>\n",
       "      <td>12.0</td>\n",
       "      <td>12.300000</td>\n",
       "      <td>41.000000</td>\n",
       "      <td>0</td>\n",
       "      <td>0.000000</td>\n",
       "      <td>20.700000</td>\n",
       "      <td>3.980864</td>\n",
       "      <td>4.524817</td>\n",
       "      <td>10</td>\n",
       "      <td>17.0</td>\n",
       "      <td>34.6</td>\n",
       "      <td>37.0</td>\n",
       "      <td>33.9</td>\n",
       "      <td>6.000000</td>\n",
       "    </tr>\n",
       "  </tbody>\n",
       "</table>\n",
       "</div>"
      ],
      "text/plain": [
       "   Humidity3pm    MinTemp  Humidity9am  RainToday  Rainfall    Temp9am  \\\n",
       "0         28.0  15.149072    62.418165          0  2.020815  20.281079   \n",
       "1         26.0  11.300000    46.000000          0  0.000000  19.700000   \n",
       "2         22.0   9.600000    44.000000          0  0.000000  14.900000   \n",
       "3         22.0  10.500000    43.000000          0  0.000000  17.100000   \n",
       "4         12.0  12.300000    41.000000          0  0.000000  20.700000   \n",
       "\n",
       "   Cloud3pm  Cloud9am  WindDir9am  WindSpeed3pm  MaxTemp  WindGustSpeed  \\\n",
       "0  4.896176  4.916208          14          17.0     24.4           39.0   \n",
       "1  6.000000  2.000000          13          31.0     26.5           56.0   \n",
       "2  3.980864  4.524817          15          11.0     23.9           50.0   \n",
       "3  3.980864  4.524817          10           7.0     28.8           26.0   \n",
       "4  3.980864  4.524817          10          17.0     34.6           37.0   \n",
       "\n",
       "   Temp3pm  WindSpeed9am  \n",
       "0     22.7     14.521212  \n",
       "1     25.7     19.000000  \n",
       "2     22.1     19.000000  \n",
       "3     26.5     11.000000  \n",
       "4     33.9      6.000000  "
      ]
     },
     "execution_count": 13,
     "metadata": {},
     "output_type": "execute_result"
    }
   ],
   "source": [
    "x.head()"
   ]
  },
  {
   "cell_type": "code",
   "execution_count": 3,
   "metadata": {},
   "outputs": [],
   "source": [
    "x = x.drop('Unnamed: 0', axis = 1)"
   ]
  },
  {
   "cell_type": "code",
   "execution_count": 4,
   "metadata": {},
   "outputs": [],
   "source": [
    "y = pd.read_csv(\"y variables 30 days forward.csv\")"
   ]
  },
  {
   "cell_type": "code",
   "execution_count": 5,
   "metadata": {},
   "outputs": [],
   "source": [
    "y = y.drop('Unnamed: 0', axis = 1)"
   ]
  },
  {
   "cell_type": "code",
   "execution_count": 12,
   "metadata": {},
   "outputs": [
    {
     "data": {
      "text/html": [
       "<div>\n",
       "<style scoped>\n",
       "    .dataframe tbody tr th:only-of-type {\n",
       "        vertical-align: middle;\n",
       "    }\n",
       "\n",
       "    .dataframe tbody tr th {\n",
       "        vertical-align: top;\n",
       "    }\n",
       "\n",
       "    .dataframe thead th {\n",
       "        text-align: right;\n",
       "    }\n",
       "</style>\n",
       "<table border=\"1\" class=\"dataframe\">\n",
       "  <thead>\n",
       "    <tr style=\"text-align: right;\">\n",
       "      <th></th>\n",
       "      <th>Rainfall_backward_30_days</th>\n",
       "    </tr>\n",
       "  </thead>\n",
       "  <tbody>\n",
       "    <tr>\n",
       "      <th>0</th>\n",
       "      <td>0.600000</td>\n",
       "    </tr>\n",
       "    <tr>\n",
       "      <th>1</th>\n",
       "      <td>0.000000</td>\n",
       "    </tr>\n",
       "    <tr>\n",
       "      <th>2</th>\n",
       "      <td>0.000000</td>\n",
       "    </tr>\n",
       "    <tr>\n",
       "      <th>3</th>\n",
       "      <td>0.000000</td>\n",
       "    </tr>\n",
       "    <tr>\n",
       "      <th>4</th>\n",
       "      <td>1.936709</td>\n",
       "    </tr>\n",
       "  </tbody>\n",
       "</table>\n",
       "</div>"
      ],
      "text/plain": [
       "   Rainfall_backward_30_days\n",
       "0                   0.600000\n",
       "1                   0.000000\n",
       "2                   0.000000\n",
       "3                   0.000000\n",
       "4                   1.936709"
      ]
     },
     "execution_count": 12,
     "metadata": {},
     "output_type": "execute_result"
    }
   ],
   "source": [
    "y.head()"
   ]
  },
  {
   "cell_type": "code",
   "execution_count": 6,
   "metadata": {},
   "outputs": [],
   "source": [
    "X_train, X_test, y_train, y_test = train_test_split(x,y, test_size=0.2, shuffle=False)"
   ]
  },
  {
   "cell_type": "code",
   "execution_count": 7,
   "metadata": {},
   "outputs": [
    {
     "name": "stderr",
     "output_type": "stream",
     "text": [
      "<ipython-input-7-cdbb0ae54546>:3: DataConversionWarning: A column-vector y was passed when a 1d array was expected. Please change the shape of y to (n_samples,), for example using ravel().\n",
      "  rf.fit(X_train, y_train)\n"
     ]
    },
    {
     "data": {
      "text/plain": [
       "RandomForestRegressor(n_estimators=200)"
      ]
     },
     "execution_count": 7,
     "metadata": {},
     "output_type": "execute_result"
    }
   ],
   "source": [
    "#fitting the model\n",
    "rf = RandomForestRegressor(n_estimators=200)\n",
    "rf.fit(X_train, y_train)"
   ]
  },
  {
   "cell_type": "code",
   "execution_count": 8,
   "metadata": {},
   "outputs": [],
   "source": [
    "predicted = rf.predict(X_test)"
   ]
  },
  {
   "cell_type": "code",
   "execution_count": 9,
   "metadata": {},
   "outputs": [
    {
     "name": "stdout",
     "output_type": "stream",
     "text": [
      "Mean absolute error:  4.154886893327077\n"
     ]
    }
   ],
   "source": [
    "print(\"Mean absolute error: \", mean_absolute_error(y_test, predicted))"
   ]
  },
  {
   "cell_type": "code",
   "execution_count": 13,
   "metadata": {},
   "outputs": [
    {
     "ename": "ValueError",
     "evalue": "Unable to coerce to Series, length must be 1: given 29092",
     "output_type": "error",
     "traceback": [
      "\u001b[1;31m---------------------------------------------------------------------------\u001b[0m",
      "\u001b[1;31mValueError\u001b[0m                                Traceback (most recent call last)",
      "\u001b[1;32m<ipython-input-13-a28383e3b866>\u001b[0m in \u001b[0;36m<module>\u001b[1;34m\u001b[0m\n\u001b[1;32m----> 1\u001b[1;33m \u001b[0mg\u001b[0m\u001b[1;33m=\u001b[0m\u001b[0mplt\u001b[0m\u001b[1;33m.\u001b[0m\u001b[0mplot\u001b[0m\u001b[1;33m(\u001b[0m\u001b[0my_test\u001b[0m \u001b[1;33m-\u001b[0m \u001b[0mpredicted\u001b[0m\u001b[1;33m,\u001b[0m \u001b[0mmarker\u001b[0m\u001b[1;33m=\u001b[0m\u001b[1;34m'o'\u001b[0m\u001b[1;33m,\u001b[0m \u001b[0mlinestyle\u001b[0m\u001b[1;33m=\u001b[0m\u001b[1;34m''\u001b[0m\u001b[1;33m)\u001b[0m\u001b[1;33m\u001b[0m\u001b[1;33m\u001b[0m\u001b[0m\n\u001b[0m",
      "\u001b[1;32mC:\\ProgramData\\Anaconda3\\lib\\site-packages\\pandas\\core\\ops\\__init__.py\u001b[0m in \u001b[0;36mf\u001b[1;34m(self, other, axis, level, fill_value)\u001b[0m\n\u001b[0;32m    645\u001b[0m         \u001b[1;31m# TODO: why are we passing flex=True instead of flex=not special?\u001b[0m\u001b[1;33m\u001b[0m\u001b[1;33m\u001b[0m\u001b[1;33m\u001b[0m\u001b[0m\n\u001b[0;32m    646\u001b[0m         \u001b[1;31m#  15 tests fail if we pass flex=not special instead\u001b[0m\u001b[1;33m\u001b[0m\u001b[1;33m\u001b[0m\u001b[1;33m\u001b[0m\u001b[0m\n\u001b[1;32m--> 647\u001b[1;33m         \u001b[0mself\u001b[0m\u001b[1;33m,\u001b[0m \u001b[0mother\u001b[0m \u001b[1;33m=\u001b[0m \u001b[0m_align_method_FRAME\u001b[0m\u001b[1;33m(\u001b[0m\u001b[0mself\u001b[0m\u001b[1;33m,\u001b[0m \u001b[0mother\u001b[0m\u001b[1;33m,\u001b[0m \u001b[0maxis\u001b[0m\u001b[1;33m,\u001b[0m \u001b[0mflex\u001b[0m\u001b[1;33m=\u001b[0m\u001b[1;32mTrue\u001b[0m\u001b[1;33m,\u001b[0m \u001b[0mlevel\u001b[0m\u001b[1;33m=\u001b[0m\u001b[0mlevel\u001b[0m\u001b[1;33m)\u001b[0m\u001b[1;33m\u001b[0m\u001b[1;33m\u001b[0m\u001b[0m\n\u001b[0m\u001b[0;32m    648\u001b[0m \u001b[1;33m\u001b[0m\u001b[0m\n\u001b[0;32m    649\u001b[0m         \u001b[1;32mif\u001b[0m \u001b[0misinstance\u001b[0m\u001b[1;33m(\u001b[0m\u001b[0mother\u001b[0m\u001b[1;33m,\u001b[0m \u001b[0mABCDataFrame\u001b[0m\u001b[1;33m)\u001b[0m\u001b[1;33m:\u001b[0m\u001b[1;33m\u001b[0m\u001b[1;33m\u001b[0m\u001b[0m\n",
      "\u001b[1;32mC:\\ProgramData\\Anaconda3\\lib\\site-packages\\pandas\\core\\ops\\__init__.py\u001b[0m in \u001b[0;36m_align_method_FRAME\u001b[1;34m(left, right, axis, flex, level)\u001b[0m\n\u001b[0;32m    472\u001b[0m \u001b[1;33m\u001b[0m\u001b[0m\n\u001b[0;32m    473\u001b[0m         \u001b[1;32mif\u001b[0m \u001b[0mright\u001b[0m\u001b[1;33m.\u001b[0m\u001b[0mndim\u001b[0m \u001b[1;33m==\u001b[0m \u001b[1;36m1\u001b[0m\u001b[1;33m:\u001b[0m\u001b[1;33m\u001b[0m\u001b[1;33m\u001b[0m\u001b[0m\n\u001b[1;32m--> 474\u001b[1;33m             \u001b[0mright\u001b[0m \u001b[1;33m=\u001b[0m \u001b[0mto_series\u001b[0m\u001b[1;33m(\u001b[0m\u001b[0mright\u001b[0m\u001b[1;33m)\u001b[0m\u001b[1;33m\u001b[0m\u001b[1;33m\u001b[0m\u001b[0m\n\u001b[0m\u001b[0;32m    475\u001b[0m \u001b[1;33m\u001b[0m\u001b[0m\n\u001b[0;32m    476\u001b[0m         \u001b[1;32melif\u001b[0m \u001b[0mright\u001b[0m\u001b[1;33m.\u001b[0m\u001b[0mndim\u001b[0m \u001b[1;33m==\u001b[0m \u001b[1;36m2\u001b[0m\u001b[1;33m:\u001b[0m\u001b[1;33m\u001b[0m\u001b[1;33m\u001b[0m\u001b[0m\n",
      "\u001b[1;32mC:\\ProgramData\\Anaconda3\\lib\\site-packages\\pandas\\core\\ops\\__init__.py\u001b[0m in \u001b[0;36mto_series\u001b[1;34m(right)\u001b[0m\n\u001b[0;32m    463\u001b[0m         \u001b[1;32melse\u001b[0m\u001b[1;33m:\u001b[0m\u001b[1;33m\u001b[0m\u001b[1;33m\u001b[0m\u001b[0m\n\u001b[0;32m    464\u001b[0m             \u001b[1;32mif\u001b[0m \u001b[0mlen\u001b[0m\u001b[1;33m(\u001b[0m\u001b[0mleft\u001b[0m\u001b[1;33m.\u001b[0m\u001b[0mcolumns\u001b[0m\u001b[1;33m)\u001b[0m \u001b[1;33m!=\u001b[0m \u001b[0mlen\u001b[0m\u001b[1;33m(\u001b[0m\u001b[0mright\u001b[0m\u001b[1;33m)\u001b[0m\u001b[1;33m:\u001b[0m\u001b[1;33m\u001b[0m\u001b[1;33m\u001b[0m\u001b[0m\n\u001b[1;32m--> 465\u001b[1;33m                 raise ValueError(\n\u001b[0m\u001b[0;32m    466\u001b[0m                     \u001b[0mmsg\u001b[0m\u001b[1;33m.\u001b[0m\u001b[0mformat\u001b[0m\u001b[1;33m(\u001b[0m\u001b[0mreq_len\u001b[0m\u001b[1;33m=\u001b[0m\u001b[0mlen\u001b[0m\u001b[1;33m(\u001b[0m\u001b[0mleft\u001b[0m\u001b[1;33m.\u001b[0m\u001b[0mcolumns\u001b[0m\u001b[1;33m)\u001b[0m\u001b[1;33m,\u001b[0m \u001b[0mgiven_len\u001b[0m\u001b[1;33m=\u001b[0m\u001b[0mlen\u001b[0m\u001b[1;33m(\u001b[0m\u001b[0mright\u001b[0m\u001b[1;33m)\u001b[0m\u001b[1;33m)\u001b[0m\u001b[1;33m\u001b[0m\u001b[1;33m\u001b[0m\u001b[0m\n\u001b[0;32m    467\u001b[0m                 )\n",
      "\u001b[1;31mValueError\u001b[0m: Unable to coerce to Series, length must be 1: given 29092"
     ]
    }
   ],
   "source": [
    "g=plt.plot(y_test - predicted, marker='o', linestyle='')"
   ]
  },
  {
   "cell_type": "code",
   "execution_count": 10,
   "metadata": {},
   "outputs": [
    {
     "name": "stdout",
     "output_type": "stream",
     "text": [
      "Mean squared error:  67.8205946215762\n"
     ]
    }
   ],
   "source": [
    "print(\"Mean squared error: \", mean_squared_error(y_test, predicted))"
   ]
  },
  {
   "cell_type": "code",
   "execution_count": 11,
   "metadata": {},
   "outputs": [
    {
     "name": "stdout",
     "output_type": "stream",
     "text": [
      "Root mean squared error:  8.235326017928871\n"
     ]
    }
   ],
   "source": [
    "print(\"Root mean squared error: \", np.sqrt(mean_squared_error(y_test, predicted)))"
   ]
  },
  {
   "cell_type": "code",
   "execution_count": null,
   "metadata": {},
   "outputs": [],
   "source": [
    "##############################################################################################################\n",
    "##############################################################################################################\n",
    "###########------ Correlation Matrices for the different time periods  -------------##########################"
   ]
  },
  {
   "cell_type": "code",
   "execution_count": 4,
   "metadata": {},
   "outputs": [],
   "source": [
    "df = pd.read_csv(\"dfFilled3.csv\", parse_dates=['Date'])"
   ]
  },
  {
   "cell_type": "code",
   "execution_count": 5,
   "metadata": {},
   "outputs": [
    {
     "data": {
      "text/html": [
       "<div>\n",
       "<style scoped>\n",
       "    .dataframe tbody tr th:only-of-type {\n",
       "        vertical-align: middle;\n",
       "    }\n",
       "\n",
       "    .dataframe tbody tr th {\n",
       "        vertical-align: top;\n",
       "    }\n",
       "\n",
       "    .dataframe thead th {\n",
       "        text-align: right;\n",
       "    }\n",
       "</style>\n",
       "<table border=\"1\" class=\"dataframe\">\n",
       "  <thead>\n",
       "    <tr style=\"text-align: right;\">\n",
       "      <th></th>\n",
       "      <th>Unnamed: 0</th>\n",
       "      <th>Date</th>\n",
       "      <th>Location</th>\n",
       "      <th>MinTemp</th>\n",
       "      <th>MaxTemp</th>\n",
       "      <th>Rainfall</th>\n",
       "      <th>Evaporation</th>\n",
       "      <th>Sunshine</th>\n",
       "      <th>WindGustDir</th>\n",
       "      <th>WindGustSpeed</th>\n",
       "      <th>...</th>\n",
       "      <th>Pressure9am</th>\n",
       "      <th>Pressure3pm</th>\n",
       "      <th>Cloud9am</th>\n",
       "      <th>Cloud3pm</th>\n",
       "      <th>Temp9am</th>\n",
       "      <th>Temp3pm</th>\n",
       "      <th>RainToday</th>\n",
       "      <th>RainTomorrow</th>\n",
       "      <th>Month</th>\n",
       "      <th>Mon_Year</th>\n",
       "    </tr>\n",
       "  </thead>\n",
       "  <tbody>\n",
       "  </tbody>\n",
       "</table>\n",
       "<p>0 rows × 26 columns</p>\n",
       "</div>"
      ],
      "text/plain": [
       "Empty DataFrame\n",
       "Columns: [Unnamed: 0, Date, Location, MinTemp, MaxTemp, Rainfall, Evaporation, Sunshine, WindGustDir, WindGustSpeed, WindDir9am, WindDir3pm, WindSpeed9am, WindSpeed3pm, Humidity9am, Humidity3pm, Pressure9am, Pressure3pm, Cloud9am, Cloud3pm, Temp9am, Temp3pm, RainToday, RainTomorrow, Month, Mon_Year]\n",
       "Index: []\n",
       "\n",
       "[0 rows x 26 columns]"
      ]
     },
     "execution_count": 5,
     "metadata": {},
     "output_type": "execute_result"
    }
   ],
   "source": [
    "df.head(0)"
   ]
  },
  {
   "cell_type": "code",
   "execution_count": 6,
   "metadata": {},
   "outputs": [],
   "source": [
    "df = df.drop('Unnamed: 0', axis = 1)"
   ]
  },
  {
   "cell_type": "code",
   "execution_count": 7,
   "metadata": {},
   "outputs": [],
   "source": [
    "df = df.drop('Date', axis = 1)"
   ]
  },
  {
   "cell_type": "code",
   "execution_count": 8,
   "metadata": {},
   "outputs": [],
   "source": [
    "df = df.drop('Mon_Year', axis = 1)"
   ]
  },
  {
   "cell_type": "code",
   "execution_count": null,
   "metadata": {},
   "outputs": [],
   "source": []
  },
  {
   "cell_type": "code",
   "execution_count": 9,
   "metadata": {},
   "outputs": [],
   "source": [
    "#shift rainfall data from previous day to next day (for predicting former rain)\n",
    "df['Rain_1day_before'] = df['Rainfall'].shift(periods=1)"
   ]
  },
  {
   "cell_type": "code",
   "execution_count": 13,
   "metadata": {},
   "outputs": [],
   "source": [
    "df['Rain_2day_before'] = df['Rainfall'].shift(periods=2)"
   ]
  },
  {
   "cell_type": "code",
   "execution_count": 15,
   "metadata": {},
   "outputs": [],
   "source": [
    "df['Rain_3day_before'] = df['Rainfall'].shift(periods=3)\n",
    "df['Rain_4day_before'] = df['Rainfall'].shift(periods=4)\n",
    "df['Rain_5day_before'] = df['Rainfall'].shift(periods=5)\n",
    "df['Rain_10day_before'] = df['Rainfall'].shift(periods=10)\n",
    "df['Rain_15day_before'] = df['Rainfall'].shift(periods=15)\n",
    "df['Rain_20day_before'] = df['Rainfall'].shift(periods=20)\n",
    "df['Rain_25day_before'] = df['Rainfall'].shift(periods=25)\n",
    "df['Rain_30day_before'] = df['Rainfall'].shift(periods=30)"
   ]
  },
  {
   "cell_type": "code",
   "execution_count": 16,
   "metadata": {},
   "outputs": [],
   "source": [
    "df['Rain_1day_after'] = df['Rainfall'].shift(periods=-1)\n",
    "df['Rain_2day_after'] = df['Rainfall'].shift(periods=-2)\n",
    "df['Rain_3day_after'] = df['Rainfall'].shift(periods=-3)\n",
    "df['Rain_4day_after'] = df['Rainfall'].shift(periods=-4)\n",
    "df['Rain_5day_after'] = df['Rainfall'].shift(periods=-5)\n",
    "df['Rain_10day_after'] = df['Rainfall'].shift(periods=-10)\n",
    "df['Rain_15day_after'] = df['Rainfall'].shift(periods=-15)\n",
    "df['Rain_20day_after'] = df['Rainfall'].shift(periods=-20)\n",
    "df['Rain_25day_after'] = df['Rainfall'].shift(periods=-25)\n",
    "df['Rain_30day_after'] = df['Rainfall'].shift(periods=-30)"
   ]
  },
  {
   "cell_type": "code",
   "execution_count": 17,
   "metadata": {},
   "outputs": [
    {
     "data": {
      "text/html": [
       "<div>\n",
       "<style scoped>\n",
       "    .dataframe tbody tr th:only-of-type {\n",
       "        vertical-align: middle;\n",
       "    }\n",
       "\n",
       "    .dataframe tbody tr th {\n",
       "        vertical-align: top;\n",
       "    }\n",
       "\n",
       "    .dataframe thead th {\n",
       "        text-align: right;\n",
       "    }\n",
       "</style>\n",
       "<table border=\"1\" class=\"dataframe\">\n",
       "  <thead>\n",
       "    <tr style=\"text-align: right;\">\n",
       "      <th></th>\n",
       "      <th>Location</th>\n",
       "      <th>MinTemp</th>\n",
       "      <th>MaxTemp</th>\n",
       "      <th>Rainfall</th>\n",
       "      <th>Evaporation</th>\n",
       "      <th>Sunshine</th>\n",
       "      <th>WindGustDir</th>\n",
       "      <th>WindGustSpeed</th>\n",
       "      <th>WindDir9am</th>\n",
       "      <th>WindDir3pm</th>\n",
       "      <th>...</th>\n",
       "      <th>Rain_1day_after</th>\n",
       "      <th>Rain_2day_after</th>\n",
       "      <th>Rain_3day_after</th>\n",
       "      <th>Rain_4day_after</th>\n",
       "      <th>Rain_5day_after</th>\n",
       "      <th>Rain_10day_after</th>\n",
       "      <th>Rain_15day_after</th>\n",
       "      <th>Rain_20day_after</th>\n",
       "      <th>Rain_25day_after</th>\n",
       "      <th>Rain_30day_after</th>\n",
       "    </tr>\n",
       "  </thead>\n",
       "  <tbody>\n",
       "  </tbody>\n",
       "</table>\n",
       "<p>0 rows × 43 columns</p>\n",
       "</div>"
      ],
      "text/plain": [
       "Empty DataFrame\n",
       "Columns: [Location, MinTemp, MaxTemp, Rainfall, Evaporation, Sunshine, WindGustDir, WindGustSpeed, WindDir9am, WindDir3pm, WindSpeed9am, WindSpeed3pm, Humidity9am, Humidity3pm, Pressure9am, Pressure3pm, Cloud9am, Cloud3pm, Temp9am, Temp3pm, RainToday, RainTomorrow, Month, Rain_1day_before, Rain_2day_before, Rain_3day_before, Rain_4day_before, Rain_5day_before, Rain_10day_before, Rain_15day_before, Rain_20day_before, Rain_25day_before, Rain_30day_before, Rain_1day_after, Rain_2day_after, Rain_3day_after, Rain_4day_after, Rain_5day_after, Rain_10day_after, Rain_15day_after, Rain_20day_after, Rain_25day_after, Rain_30day_after]\n",
       "Index: []\n",
       "\n",
       "[0 rows x 43 columns]"
      ]
     },
     "execution_count": 17,
     "metadata": {},
     "output_type": "execute_result"
    }
   ],
   "source": [
    "df.head(0)"
   ]
  },
  {
   "cell_type": "code",
   "execution_count": 24,
   "metadata": {},
   "outputs": [
    {
     "data": {
      "text/html": [
       "<div>\n",
       "<style scoped>\n",
       "    .dataframe tbody tr th:only-of-type {\n",
       "        vertical-align: middle;\n",
       "    }\n",
       "\n",
       "    .dataframe tbody tr th {\n",
       "        vertical-align: top;\n",
       "    }\n",
       "\n",
       "    .dataframe thead th {\n",
       "        text-align: right;\n",
       "    }\n",
       "</style>\n",
       "<table border=\"1\" class=\"dataframe\">\n",
       "  <thead>\n",
       "    <tr style=\"text-align: right;\">\n",
       "      <th></th>\n",
       "      <th>Rain_1day_before</th>\n",
       "      <th>Rain_2day_before</th>\n",
       "      <th>Rain_3day_before</th>\n",
       "      <th>Rain_4day_before</th>\n",
       "      <th>Rain_5day_before</th>\n",
       "      <th>Rain_10day_before</th>\n",
       "      <th>Rain_15day_before</th>\n",
       "      <th>Rain_20day_before</th>\n",
       "      <th>Rain_25day_before</th>\n",
       "      <th>Rain_30day_before</th>\n",
       "    </tr>\n",
       "  </thead>\n",
       "  <tbody>\n",
       "    <tr>\n",
       "      <th>0</th>\n",
       "      <td>NaN</td>\n",
       "      <td>NaN</td>\n",
       "      <td>NaN</td>\n",
       "      <td>NaN</td>\n",
       "      <td>NaN</td>\n",
       "      <td>NaN</td>\n",
       "      <td>NaN</td>\n",
       "      <td>NaN</td>\n",
       "      <td>NaN</td>\n",
       "      <td>NaN</td>\n",
       "    </tr>\n",
       "    <tr>\n",
       "      <th>1</th>\n",
       "      <td>0.6</td>\n",
       "      <td>NaN</td>\n",
       "      <td>NaN</td>\n",
       "      <td>NaN</td>\n",
       "      <td>NaN</td>\n",
       "      <td>NaN</td>\n",
       "      <td>NaN</td>\n",
       "      <td>NaN</td>\n",
       "      <td>NaN</td>\n",
       "      <td>NaN</td>\n",
       "    </tr>\n",
       "    <tr>\n",
       "      <th>2</th>\n",
       "      <td>0.0</td>\n",
       "      <td>0.6</td>\n",
       "      <td>NaN</td>\n",
       "      <td>NaN</td>\n",
       "      <td>NaN</td>\n",
       "      <td>NaN</td>\n",
       "      <td>NaN</td>\n",
       "      <td>NaN</td>\n",
       "      <td>NaN</td>\n",
       "      <td>NaN</td>\n",
       "    </tr>\n",
       "    <tr>\n",
       "      <th>3</th>\n",
       "      <td>0.0</td>\n",
       "      <td>0.0</td>\n",
       "      <td>0.6</td>\n",
       "      <td>NaN</td>\n",
       "      <td>NaN</td>\n",
       "      <td>NaN</td>\n",
       "      <td>NaN</td>\n",
       "      <td>NaN</td>\n",
       "      <td>NaN</td>\n",
       "      <td>NaN</td>\n",
       "    </tr>\n",
       "    <tr>\n",
       "      <th>4</th>\n",
       "      <td>0.0</td>\n",
       "      <td>0.0</td>\n",
       "      <td>0.0</td>\n",
       "      <td>0.6</td>\n",
       "      <td>NaN</td>\n",
       "      <td>NaN</td>\n",
       "      <td>NaN</td>\n",
       "      <td>NaN</td>\n",
       "      <td>NaN</td>\n",
       "      <td>NaN</td>\n",
       "    </tr>\n",
       "    <tr>\n",
       "      <th>...</th>\n",
       "      <td>...</td>\n",
       "      <td>...</td>\n",
       "      <td>...</td>\n",
       "      <td>...</td>\n",
       "      <td>...</td>\n",
       "      <td>...</td>\n",
       "      <td>...</td>\n",
       "      <td>...</td>\n",
       "      <td>...</td>\n",
       "      <td>...</td>\n",
       "    </tr>\n",
       "    <tr>\n",
       "      <th>145455</th>\n",
       "      <td>0.0</td>\n",
       "      <td>0.0</td>\n",
       "      <td>0.0</td>\n",
       "      <td>0.0</td>\n",
       "      <td>0.0</td>\n",
       "      <td>0.0</td>\n",
       "      <td>0.0</td>\n",
       "      <td>0.0</td>\n",
       "      <td>0.0</td>\n",
       "      <td>0.0</td>\n",
       "    </tr>\n",
       "    <tr>\n",
       "      <th>145456</th>\n",
       "      <td>0.0</td>\n",
       "      <td>0.0</td>\n",
       "      <td>0.0</td>\n",
       "      <td>0.0</td>\n",
       "      <td>0.0</td>\n",
       "      <td>0.0</td>\n",
       "      <td>0.0</td>\n",
       "      <td>0.0</td>\n",
       "      <td>0.0</td>\n",
       "      <td>0.0</td>\n",
       "    </tr>\n",
       "    <tr>\n",
       "      <th>145457</th>\n",
       "      <td>0.0</td>\n",
       "      <td>0.0</td>\n",
       "      <td>0.0</td>\n",
       "      <td>0.0</td>\n",
       "      <td>0.0</td>\n",
       "      <td>0.0</td>\n",
       "      <td>0.0</td>\n",
       "      <td>0.0</td>\n",
       "      <td>0.0</td>\n",
       "      <td>0.0</td>\n",
       "    </tr>\n",
       "    <tr>\n",
       "      <th>145458</th>\n",
       "      <td>0.0</td>\n",
       "      <td>0.0</td>\n",
       "      <td>0.0</td>\n",
       "      <td>0.0</td>\n",
       "      <td>0.0</td>\n",
       "      <td>0.0</td>\n",
       "      <td>0.0</td>\n",
       "      <td>0.0</td>\n",
       "      <td>0.0</td>\n",
       "      <td>0.0</td>\n",
       "    </tr>\n",
       "    <tr>\n",
       "      <th>145459</th>\n",
       "      <td>0.0</td>\n",
       "      <td>0.0</td>\n",
       "      <td>0.0</td>\n",
       "      <td>0.0</td>\n",
       "      <td>0.0</td>\n",
       "      <td>0.0</td>\n",
       "      <td>0.0</td>\n",
       "      <td>0.0</td>\n",
       "      <td>0.0</td>\n",
       "      <td>0.4</td>\n",
       "    </tr>\n",
       "  </tbody>\n",
       "</table>\n",
       "<p>145460 rows × 10 columns</p>\n",
       "</div>"
      ],
      "text/plain": [
       "        Rain_1day_before  Rain_2day_before  Rain_3day_before  \\\n",
       "0                    NaN               NaN               NaN   \n",
       "1                    0.6               NaN               NaN   \n",
       "2                    0.0               0.6               NaN   \n",
       "3                    0.0               0.0               0.6   \n",
       "4                    0.0               0.0               0.0   \n",
       "...                  ...               ...               ...   \n",
       "145455               0.0               0.0               0.0   \n",
       "145456               0.0               0.0               0.0   \n",
       "145457               0.0               0.0               0.0   \n",
       "145458               0.0               0.0               0.0   \n",
       "145459               0.0               0.0               0.0   \n",
       "\n",
       "        Rain_4day_before  Rain_5day_before  Rain_10day_before  \\\n",
       "0                    NaN               NaN                NaN   \n",
       "1                    NaN               NaN                NaN   \n",
       "2                    NaN               NaN                NaN   \n",
       "3                    NaN               NaN                NaN   \n",
       "4                    0.6               NaN                NaN   \n",
       "...                  ...               ...                ...   \n",
       "145455               0.0               0.0                0.0   \n",
       "145456               0.0               0.0                0.0   \n",
       "145457               0.0               0.0                0.0   \n",
       "145458               0.0               0.0                0.0   \n",
       "145459               0.0               0.0                0.0   \n",
       "\n",
       "        Rain_15day_before  Rain_20day_before  Rain_25day_before  \\\n",
       "0                     NaN                NaN                NaN   \n",
       "1                     NaN                NaN                NaN   \n",
       "2                     NaN                NaN                NaN   \n",
       "3                     NaN                NaN                NaN   \n",
       "4                     NaN                NaN                NaN   \n",
       "...                   ...                ...                ...   \n",
       "145455                0.0                0.0                0.0   \n",
       "145456                0.0                0.0                0.0   \n",
       "145457                0.0                0.0                0.0   \n",
       "145458                0.0                0.0                0.0   \n",
       "145459                0.0                0.0                0.0   \n",
       "\n",
       "        Rain_30day_before  \n",
       "0                     NaN  \n",
       "1                     NaN  \n",
       "2                     NaN  \n",
       "3                     NaN  \n",
       "4                     NaN  \n",
       "...                   ...  \n",
       "145455                0.0  \n",
       "145456                0.0  \n",
       "145457                0.0  \n",
       "145458                0.0  \n",
       "145459                0.4  \n",
       "\n",
       "[145460 rows x 10 columns]"
      ]
     },
     "execution_count": 24,
     "metadata": {},
     "output_type": "execute_result"
    }
   ],
   "source": [
    "df.iloc[:, -20:-10]"
   ]
  },
  {
   "cell_type": "code",
   "execution_count": 25,
   "metadata": {},
   "outputs": [],
   "source": [
    "rainfall = df.iloc[:, 3]\n",
    "rainfall_after = df.iloc[:, -10:]\n",
    "rainfall_before = df.iloc[:, -20:-10]\n",
    "\n",
    "rain_rainAfter = pd.concat([rainfall, rainfall_after], axis=1)\n",
    "rain_rainBefore = pd.concat([rainfall, rainfall_before], axis=1)"
   ]
  },
  {
   "cell_type": "code",
   "execution_count": 26,
   "metadata": {},
   "outputs": [
    {
     "data": {
      "text/html": [
       "<div>\n",
       "<style scoped>\n",
       "    .dataframe tbody tr th:only-of-type {\n",
       "        vertical-align: middle;\n",
       "    }\n",
       "\n",
       "    .dataframe tbody tr th {\n",
       "        vertical-align: top;\n",
       "    }\n",
       "\n",
       "    .dataframe thead th {\n",
       "        text-align: right;\n",
       "    }\n",
       "</style>\n",
       "<table border=\"1\" class=\"dataframe\">\n",
       "  <thead>\n",
       "    <tr style=\"text-align: right;\">\n",
       "      <th></th>\n",
       "      <th>Rainfall</th>\n",
       "      <th>Rain_1day_after</th>\n",
       "      <th>Rain_2day_after</th>\n",
       "      <th>Rain_3day_after</th>\n",
       "      <th>Rain_4day_after</th>\n",
       "      <th>Rain_5day_after</th>\n",
       "      <th>Rain_10day_after</th>\n",
       "      <th>Rain_15day_after</th>\n",
       "      <th>Rain_20day_after</th>\n",
       "      <th>Rain_25day_after</th>\n",
       "      <th>Rain_30day_after</th>\n",
       "    </tr>\n",
       "  </thead>\n",
       "  <tbody>\n",
       "    <tr>\n",
       "      <th>0</th>\n",
       "      <td>0.600000</td>\n",
       "      <td>0.000000</td>\n",
       "      <td>0.000000</td>\n",
       "      <td>0.000000</td>\n",
       "      <td>1.936709</td>\n",
       "      <td>0.200000</td>\n",
       "      <td>0.000000</td>\n",
       "      <td>1.374634</td>\n",
       "      <td>0.000000</td>\n",
       "      <td>0.000000</td>\n",
       "      <td>2.020815</td>\n",
       "    </tr>\n",
       "    <tr>\n",
       "      <th>1</th>\n",
       "      <td>0.000000</td>\n",
       "      <td>0.000000</td>\n",
       "      <td>0.000000</td>\n",
       "      <td>1.936709</td>\n",
       "      <td>0.200000</td>\n",
       "      <td>0.000000</td>\n",
       "      <td>2.200000</td>\n",
       "      <td>0.000000</td>\n",
       "      <td>0.000000</td>\n",
       "      <td>0.000000</td>\n",
       "      <td>0.000000</td>\n",
       "    </tr>\n",
       "    <tr>\n",
       "      <th>2</th>\n",
       "      <td>0.000000</td>\n",
       "      <td>0.000000</td>\n",
       "      <td>1.936709</td>\n",
       "      <td>0.200000</td>\n",
       "      <td>0.000000</td>\n",
       "      <td>0.000000</td>\n",
       "      <td>15.600000</td>\n",
       "      <td>1.881495</td>\n",
       "      <td>0.000000</td>\n",
       "      <td>0.000000</td>\n",
       "      <td>0.000000</td>\n",
       "    </tr>\n",
       "    <tr>\n",
       "      <th>3</th>\n",
       "      <td>0.000000</td>\n",
       "      <td>1.936709</td>\n",
       "      <td>0.200000</td>\n",
       "      <td>0.000000</td>\n",
       "      <td>0.000000</td>\n",
       "      <td>0.000000</td>\n",
       "      <td>3.600000</td>\n",
       "      <td>10.600000</td>\n",
       "      <td>0.000000</td>\n",
       "      <td>0.000000</td>\n",
       "      <td>0.000000</td>\n",
       "    </tr>\n",
       "    <tr>\n",
       "      <th>4</th>\n",
       "      <td>1.936709</td>\n",
       "      <td>0.200000</td>\n",
       "      <td>0.000000</td>\n",
       "      <td>0.000000</td>\n",
       "      <td>0.000000</td>\n",
       "      <td>1.400000</td>\n",
       "      <td>0.000000</td>\n",
       "      <td>0.000000</td>\n",
       "      <td>0.000000</td>\n",
       "      <td>1.200000</td>\n",
       "      <td>0.000000</td>\n",
       "    </tr>\n",
       "    <tr>\n",
       "      <th>5</th>\n",
       "      <td>0.200000</td>\n",
       "      <td>0.000000</td>\n",
       "      <td>0.000000</td>\n",
       "      <td>0.000000</td>\n",
       "      <td>1.400000</td>\n",
       "      <td>0.000000</td>\n",
       "      <td>1.374634</td>\n",
       "      <td>0.000000</td>\n",
       "      <td>0.000000</td>\n",
       "      <td>2.020815</td>\n",
       "      <td>0.000000</td>\n",
       "    </tr>\n",
       "    <tr>\n",
       "      <th>6</th>\n",
       "      <td>0.000000</td>\n",
       "      <td>0.000000</td>\n",
       "      <td>0.000000</td>\n",
       "      <td>1.400000</td>\n",
       "      <td>0.000000</td>\n",
       "      <td>2.200000</td>\n",
       "      <td>0.000000</td>\n",
       "      <td>0.000000</td>\n",
       "      <td>0.000000</td>\n",
       "      <td>0.000000</td>\n",
       "      <td>0.000000</td>\n",
       "    </tr>\n",
       "    <tr>\n",
       "      <th>7</th>\n",
       "      <td>0.000000</td>\n",
       "      <td>0.000000</td>\n",
       "      <td>1.400000</td>\n",
       "      <td>0.000000</td>\n",
       "      <td>2.200000</td>\n",
       "      <td>15.600000</td>\n",
       "      <td>1.881495</td>\n",
       "      <td>0.000000</td>\n",
       "      <td>0.000000</td>\n",
       "      <td>0.000000</td>\n",
       "      <td>0.000000</td>\n",
       "    </tr>\n",
       "    <tr>\n",
       "      <th>8</th>\n",
       "      <td>0.000000</td>\n",
       "      <td>1.400000</td>\n",
       "      <td>0.000000</td>\n",
       "      <td>2.200000</td>\n",
       "      <td>15.600000</td>\n",
       "      <td>3.600000</td>\n",
       "      <td>10.600000</td>\n",
       "      <td>0.000000</td>\n",
       "      <td>0.000000</td>\n",
       "      <td>0.000000</td>\n",
       "      <td>0.000000</td>\n",
       "    </tr>\n",
       "    <tr>\n",
       "      <th>9</th>\n",
       "      <td>1.400000</td>\n",
       "      <td>0.000000</td>\n",
       "      <td>2.200000</td>\n",
       "      <td>15.600000</td>\n",
       "      <td>3.600000</td>\n",
       "      <td>0.000000</td>\n",
       "      <td>0.000000</td>\n",
       "      <td>0.000000</td>\n",
       "      <td>1.200000</td>\n",
       "      <td>0.000000</td>\n",
       "      <td>0.000000</td>\n",
       "    </tr>\n",
       "    <tr>\n",
       "      <th>10</th>\n",
       "      <td>0.000000</td>\n",
       "      <td>2.200000</td>\n",
       "      <td>15.600000</td>\n",
       "      <td>3.600000</td>\n",
       "      <td>0.000000</td>\n",
       "      <td>1.374634</td>\n",
       "      <td>0.000000</td>\n",
       "      <td>0.000000</td>\n",
       "      <td>2.020815</td>\n",
       "      <td>0.000000</td>\n",
       "      <td>0.000000</td>\n",
       "    </tr>\n",
       "    <tr>\n",
       "      <th>11</th>\n",
       "      <td>2.200000</td>\n",
       "      <td>15.600000</td>\n",
       "      <td>3.600000</td>\n",
       "      <td>0.000000</td>\n",
       "      <td>1.374634</td>\n",
       "      <td>0.000000</td>\n",
       "      <td>0.000000</td>\n",
       "      <td>0.000000</td>\n",
       "      <td>0.000000</td>\n",
       "      <td>0.000000</td>\n",
       "      <td>0.000000</td>\n",
       "    </tr>\n",
       "    <tr>\n",
       "      <th>12</th>\n",
       "      <td>15.600000</td>\n",
       "      <td>3.600000</td>\n",
       "      <td>0.000000</td>\n",
       "      <td>1.374634</td>\n",
       "      <td>0.000000</td>\n",
       "      <td>1.881495</td>\n",
       "      <td>0.000000</td>\n",
       "      <td>0.000000</td>\n",
       "      <td>0.000000</td>\n",
       "      <td>0.000000</td>\n",
       "      <td>0.000000</td>\n",
       "    </tr>\n",
       "    <tr>\n",
       "      <th>13</th>\n",
       "      <td>3.600000</td>\n",
       "      <td>0.000000</td>\n",
       "      <td>1.374634</td>\n",
       "      <td>0.000000</td>\n",
       "      <td>1.881495</td>\n",
       "      <td>10.600000</td>\n",
       "      <td>0.000000</td>\n",
       "      <td>0.000000</td>\n",
       "      <td>0.000000</td>\n",
       "      <td>0.000000</td>\n",
       "      <td>0.000000</td>\n",
       "    </tr>\n",
       "    <tr>\n",
       "      <th>14</th>\n",
       "      <td>0.000000</td>\n",
       "      <td>1.374634</td>\n",
       "      <td>0.000000</td>\n",
       "      <td>1.881495</td>\n",
       "      <td>10.600000</td>\n",
       "      <td>0.000000</td>\n",
       "      <td>0.000000</td>\n",
       "      <td>1.200000</td>\n",
       "      <td>0.000000</td>\n",
       "      <td>0.000000</td>\n",
       "      <td>0.000000</td>\n",
       "    </tr>\n",
       "    <tr>\n",
       "      <th>15</th>\n",
       "      <td>1.374634</td>\n",
       "      <td>0.000000</td>\n",
       "      <td>1.881495</td>\n",
       "      <td>10.600000</td>\n",
       "      <td>0.000000</td>\n",
       "      <td>0.000000</td>\n",
       "      <td>0.000000</td>\n",
       "      <td>2.020815</td>\n",
       "      <td>0.000000</td>\n",
       "      <td>0.000000</td>\n",
       "      <td>0.000000</td>\n",
       "    </tr>\n",
       "    <tr>\n",
       "      <th>16</th>\n",
       "      <td>0.000000</td>\n",
       "      <td>1.881495</td>\n",
       "      <td>10.600000</td>\n",
       "      <td>0.000000</td>\n",
       "      <td>0.000000</td>\n",
       "      <td>0.000000</td>\n",
       "      <td>0.000000</td>\n",
       "      <td>0.000000</td>\n",
       "      <td>0.000000</td>\n",
       "      <td>0.000000</td>\n",
       "      <td>0.000000</td>\n",
       "    </tr>\n",
       "    <tr>\n",
       "      <th>17</th>\n",
       "      <td>1.881495</td>\n",
       "      <td>10.600000</td>\n",
       "      <td>0.000000</td>\n",
       "      <td>0.000000</td>\n",
       "      <td>0.000000</td>\n",
       "      <td>0.000000</td>\n",
       "      <td>0.000000</td>\n",
       "      <td>0.000000</td>\n",
       "      <td>0.000000</td>\n",
       "      <td>0.000000</td>\n",
       "      <td>0.000000</td>\n",
       "    </tr>\n",
       "    <tr>\n",
       "      <th>18</th>\n",
       "      <td>10.600000</td>\n",
       "      <td>0.000000</td>\n",
       "      <td>0.000000</td>\n",
       "      <td>0.000000</td>\n",
       "      <td>0.000000</td>\n",
       "      <td>0.000000</td>\n",
       "      <td>0.000000</td>\n",
       "      <td>0.000000</td>\n",
       "      <td>0.000000</td>\n",
       "      <td>0.000000</td>\n",
       "      <td>0.000000</td>\n",
       "    </tr>\n",
       "    <tr>\n",
       "      <th>19</th>\n",
       "      <td>0.000000</td>\n",
       "      <td>0.000000</td>\n",
       "      <td>0.000000</td>\n",
       "      <td>0.000000</td>\n",
       "      <td>0.000000</td>\n",
       "      <td>0.000000</td>\n",
       "      <td>1.200000</td>\n",
       "      <td>0.000000</td>\n",
       "      <td>0.000000</td>\n",
       "      <td>0.000000</td>\n",
       "      <td>0.000000</td>\n",
       "    </tr>\n",
       "  </tbody>\n",
       "</table>\n",
       "</div>"
      ],
      "text/plain": [
       "     Rainfall  Rain_1day_after  Rain_2day_after  Rain_3day_after  \\\n",
       "0    0.600000         0.000000         0.000000         0.000000   \n",
       "1    0.000000         0.000000         0.000000         1.936709   \n",
       "2    0.000000         0.000000         1.936709         0.200000   \n",
       "3    0.000000         1.936709         0.200000         0.000000   \n",
       "4    1.936709         0.200000         0.000000         0.000000   \n",
       "5    0.200000         0.000000         0.000000         0.000000   \n",
       "6    0.000000         0.000000         0.000000         1.400000   \n",
       "7    0.000000         0.000000         1.400000         0.000000   \n",
       "8    0.000000         1.400000         0.000000         2.200000   \n",
       "9    1.400000         0.000000         2.200000        15.600000   \n",
       "10   0.000000         2.200000        15.600000         3.600000   \n",
       "11   2.200000        15.600000         3.600000         0.000000   \n",
       "12  15.600000         3.600000         0.000000         1.374634   \n",
       "13   3.600000         0.000000         1.374634         0.000000   \n",
       "14   0.000000         1.374634         0.000000         1.881495   \n",
       "15   1.374634         0.000000         1.881495        10.600000   \n",
       "16   0.000000         1.881495        10.600000         0.000000   \n",
       "17   1.881495        10.600000         0.000000         0.000000   \n",
       "18  10.600000         0.000000         0.000000         0.000000   \n",
       "19   0.000000         0.000000         0.000000         0.000000   \n",
       "\n",
       "    Rain_4day_after  Rain_5day_after  Rain_10day_after  Rain_15day_after  \\\n",
       "0          1.936709         0.200000          0.000000          1.374634   \n",
       "1          0.200000         0.000000          2.200000          0.000000   \n",
       "2          0.000000         0.000000         15.600000          1.881495   \n",
       "3          0.000000         0.000000          3.600000         10.600000   \n",
       "4          0.000000         1.400000          0.000000          0.000000   \n",
       "5          1.400000         0.000000          1.374634          0.000000   \n",
       "6          0.000000         2.200000          0.000000          0.000000   \n",
       "7          2.200000        15.600000          1.881495          0.000000   \n",
       "8         15.600000         3.600000         10.600000          0.000000   \n",
       "9          3.600000         0.000000          0.000000          0.000000   \n",
       "10         0.000000         1.374634          0.000000          0.000000   \n",
       "11         1.374634         0.000000          0.000000          0.000000   \n",
       "12         0.000000         1.881495          0.000000          0.000000   \n",
       "13         1.881495        10.600000          0.000000          0.000000   \n",
       "14        10.600000         0.000000          0.000000          1.200000   \n",
       "15         0.000000         0.000000          0.000000          2.020815   \n",
       "16         0.000000         0.000000          0.000000          0.000000   \n",
       "17         0.000000         0.000000          0.000000          0.000000   \n",
       "18         0.000000         0.000000          0.000000          0.000000   \n",
       "19         0.000000         0.000000          1.200000          0.000000   \n",
       "\n",
       "    Rain_20day_after  Rain_25day_after  Rain_30day_after  \n",
       "0           0.000000          0.000000          2.020815  \n",
       "1           0.000000          0.000000          0.000000  \n",
       "2           0.000000          0.000000          0.000000  \n",
       "3           0.000000          0.000000          0.000000  \n",
       "4           0.000000          1.200000          0.000000  \n",
       "5           0.000000          2.020815          0.000000  \n",
       "6           0.000000          0.000000          0.000000  \n",
       "7           0.000000          0.000000          0.000000  \n",
       "8           0.000000          0.000000          0.000000  \n",
       "9           1.200000          0.000000          0.000000  \n",
       "10          2.020815          0.000000          0.000000  \n",
       "11          0.000000          0.000000          0.000000  \n",
       "12          0.000000          0.000000          0.000000  \n",
       "13          0.000000          0.000000          0.000000  \n",
       "14          0.000000          0.000000          0.000000  \n",
       "15          0.000000          0.000000          0.000000  \n",
       "16          0.000000          0.000000          0.000000  \n",
       "17          0.000000          0.000000          0.000000  \n",
       "18          0.000000          0.000000          0.000000  \n",
       "19          0.000000          0.000000          0.000000  "
      ]
     },
     "execution_count": 26,
     "metadata": {},
     "output_type": "execute_result"
    }
   ],
   "source": [
    "rain_rainAfter.head(20)"
   ]
  },
  {
   "cell_type": "code",
   "execution_count": 28,
   "metadata": {},
   "outputs": [
    {
     "data": {
      "text/html": [
       "<div>\n",
       "<style scoped>\n",
       "    .dataframe tbody tr th:only-of-type {\n",
       "        vertical-align: middle;\n",
       "    }\n",
       "\n",
       "    .dataframe tbody tr th {\n",
       "        vertical-align: top;\n",
       "    }\n",
       "\n",
       "    .dataframe thead th {\n",
       "        text-align: right;\n",
       "    }\n",
       "</style>\n",
       "<table border=\"1\" class=\"dataframe\">\n",
       "  <thead>\n",
       "    <tr style=\"text-align: right;\">\n",
       "      <th></th>\n",
       "      <th>Rainfall</th>\n",
       "      <th>Rain_1day_before</th>\n",
       "      <th>Rain_2day_before</th>\n",
       "      <th>Rain_3day_before</th>\n",
       "      <th>Rain_4day_before</th>\n",
       "      <th>Rain_5day_before</th>\n",
       "      <th>Rain_10day_before</th>\n",
       "      <th>Rain_15day_before</th>\n",
       "      <th>Rain_20day_before</th>\n",
       "      <th>Rain_25day_before</th>\n",
       "      <th>Rain_30day_before</th>\n",
       "    </tr>\n",
       "  </thead>\n",
       "  <tbody>\n",
       "    <tr>\n",
       "      <th>0</th>\n",
       "      <td>0.600000</td>\n",
       "      <td>NaN</td>\n",
       "      <td>NaN</td>\n",
       "      <td>NaN</td>\n",
       "      <td>NaN</td>\n",
       "      <td>NaN</td>\n",
       "      <td>NaN</td>\n",
       "      <td>NaN</td>\n",
       "      <td>NaN</td>\n",
       "      <td>NaN</td>\n",
       "      <td>NaN</td>\n",
       "    </tr>\n",
       "    <tr>\n",
       "      <th>1</th>\n",
       "      <td>0.000000</td>\n",
       "      <td>0.600000</td>\n",
       "      <td>NaN</td>\n",
       "      <td>NaN</td>\n",
       "      <td>NaN</td>\n",
       "      <td>NaN</td>\n",
       "      <td>NaN</td>\n",
       "      <td>NaN</td>\n",
       "      <td>NaN</td>\n",
       "      <td>NaN</td>\n",
       "      <td>NaN</td>\n",
       "    </tr>\n",
       "    <tr>\n",
       "      <th>2</th>\n",
       "      <td>0.000000</td>\n",
       "      <td>0.000000</td>\n",
       "      <td>0.600000</td>\n",
       "      <td>NaN</td>\n",
       "      <td>NaN</td>\n",
       "      <td>NaN</td>\n",
       "      <td>NaN</td>\n",
       "      <td>NaN</td>\n",
       "      <td>NaN</td>\n",
       "      <td>NaN</td>\n",
       "      <td>NaN</td>\n",
       "    </tr>\n",
       "    <tr>\n",
       "      <th>3</th>\n",
       "      <td>0.000000</td>\n",
       "      <td>0.000000</td>\n",
       "      <td>0.000000</td>\n",
       "      <td>0.600000</td>\n",
       "      <td>NaN</td>\n",
       "      <td>NaN</td>\n",
       "      <td>NaN</td>\n",
       "      <td>NaN</td>\n",
       "      <td>NaN</td>\n",
       "      <td>NaN</td>\n",
       "      <td>NaN</td>\n",
       "    </tr>\n",
       "    <tr>\n",
       "      <th>4</th>\n",
       "      <td>1.936709</td>\n",
       "      <td>0.000000</td>\n",
       "      <td>0.000000</td>\n",
       "      <td>0.000000</td>\n",
       "      <td>0.600000</td>\n",
       "      <td>NaN</td>\n",
       "      <td>NaN</td>\n",
       "      <td>NaN</td>\n",
       "      <td>NaN</td>\n",
       "      <td>NaN</td>\n",
       "      <td>NaN</td>\n",
       "    </tr>\n",
       "    <tr>\n",
       "      <th>5</th>\n",
       "      <td>0.200000</td>\n",
       "      <td>1.936709</td>\n",
       "      <td>0.000000</td>\n",
       "      <td>0.000000</td>\n",
       "      <td>0.000000</td>\n",
       "      <td>0.600000</td>\n",
       "      <td>NaN</td>\n",
       "      <td>NaN</td>\n",
       "      <td>NaN</td>\n",
       "      <td>NaN</td>\n",
       "      <td>NaN</td>\n",
       "    </tr>\n",
       "    <tr>\n",
       "      <th>6</th>\n",
       "      <td>0.000000</td>\n",
       "      <td>0.200000</td>\n",
       "      <td>1.936709</td>\n",
       "      <td>0.000000</td>\n",
       "      <td>0.000000</td>\n",
       "      <td>0.000000</td>\n",
       "      <td>NaN</td>\n",
       "      <td>NaN</td>\n",
       "      <td>NaN</td>\n",
       "      <td>NaN</td>\n",
       "      <td>NaN</td>\n",
       "    </tr>\n",
       "    <tr>\n",
       "      <th>7</th>\n",
       "      <td>0.000000</td>\n",
       "      <td>0.000000</td>\n",
       "      <td>0.200000</td>\n",
       "      <td>1.936709</td>\n",
       "      <td>0.000000</td>\n",
       "      <td>0.000000</td>\n",
       "      <td>NaN</td>\n",
       "      <td>NaN</td>\n",
       "      <td>NaN</td>\n",
       "      <td>NaN</td>\n",
       "      <td>NaN</td>\n",
       "    </tr>\n",
       "    <tr>\n",
       "      <th>8</th>\n",
       "      <td>0.000000</td>\n",
       "      <td>0.000000</td>\n",
       "      <td>0.000000</td>\n",
       "      <td>0.200000</td>\n",
       "      <td>1.936709</td>\n",
       "      <td>0.000000</td>\n",
       "      <td>NaN</td>\n",
       "      <td>NaN</td>\n",
       "      <td>NaN</td>\n",
       "      <td>NaN</td>\n",
       "      <td>NaN</td>\n",
       "    </tr>\n",
       "    <tr>\n",
       "      <th>9</th>\n",
       "      <td>1.400000</td>\n",
       "      <td>0.000000</td>\n",
       "      <td>0.000000</td>\n",
       "      <td>0.000000</td>\n",
       "      <td>0.200000</td>\n",
       "      <td>1.936709</td>\n",
       "      <td>NaN</td>\n",
       "      <td>NaN</td>\n",
       "      <td>NaN</td>\n",
       "      <td>NaN</td>\n",
       "      <td>NaN</td>\n",
       "    </tr>\n",
       "  </tbody>\n",
       "</table>\n",
       "</div>"
      ],
      "text/plain": [
       "   Rainfall  Rain_1day_before  Rain_2day_before  Rain_3day_before  \\\n",
       "0  0.600000               NaN               NaN               NaN   \n",
       "1  0.000000          0.600000               NaN               NaN   \n",
       "2  0.000000          0.000000          0.600000               NaN   \n",
       "3  0.000000          0.000000          0.000000          0.600000   \n",
       "4  1.936709          0.000000          0.000000          0.000000   \n",
       "5  0.200000          1.936709          0.000000          0.000000   \n",
       "6  0.000000          0.200000          1.936709          0.000000   \n",
       "7  0.000000          0.000000          0.200000          1.936709   \n",
       "8  0.000000          0.000000          0.000000          0.200000   \n",
       "9  1.400000          0.000000          0.000000          0.000000   \n",
       "\n",
       "   Rain_4day_before  Rain_5day_before  Rain_10day_before  Rain_15day_before  \\\n",
       "0               NaN               NaN                NaN                NaN   \n",
       "1               NaN               NaN                NaN                NaN   \n",
       "2               NaN               NaN                NaN                NaN   \n",
       "3               NaN               NaN                NaN                NaN   \n",
       "4          0.600000               NaN                NaN                NaN   \n",
       "5          0.000000          0.600000                NaN                NaN   \n",
       "6          0.000000          0.000000                NaN                NaN   \n",
       "7          0.000000          0.000000                NaN                NaN   \n",
       "8          1.936709          0.000000                NaN                NaN   \n",
       "9          0.200000          1.936709                NaN                NaN   \n",
       "\n",
       "   Rain_20day_before  Rain_25day_before  Rain_30day_before  \n",
       "0                NaN                NaN                NaN  \n",
       "1                NaN                NaN                NaN  \n",
       "2                NaN                NaN                NaN  \n",
       "3                NaN                NaN                NaN  \n",
       "4                NaN                NaN                NaN  \n",
       "5                NaN                NaN                NaN  \n",
       "6                NaN                NaN                NaN  \n",
       "7                NaN                NaN                NaN  \n",
       "8                NaN                NaN                NaN  \n",
       "9                NaN                NaN                NaN  "
      ]
     },
     "execution_count": 28,
     "metadata": {},
     "output_type": "execute_result"
    }
   ],
   "source": [
    "rain_rainBefore.head(10)"
   ]
  },
  {
   "cell_type": "code",
   "execution_count": 29,
   "metadata": {},
   "outputs": [],
   "source": [
    "cor = df.corr()"
   ]
  },
  {
   "cell_type": "code",
   "execution_count": 30,
   "metadata": {},
   "outputs": [],
   "source": [
    "related_1day_after = cor['Rain_1day_after'].sort_values(ascending = False)\n",
    "related_1day_before = cor['Rain_1day_before'].sort_values(ascending = False)\n",
    "related_2day_after = cor['Rain_2day_after'].sort_values(ascending = False)\n",
    "related_2day_before = cor['Rain_2day_before'].sort_values(ascending = False)\n",
    "related_3day_after = cor['Rain_3day_after'].sort_values(ascending = False)\n",
    "related_3day_before = cor['Rain_3day_before'].sort_values(ascending = False)\n",
    "related_4day_after = cor['Rain_4day_after'].sort_values(ascending = False)\n",
    "related_4day_before = cor['Rain_4day_before'].sort_values(ascending = False)\n",
    "related_5day_after = cor['Rain_5day_after'].sort_values(ascending = False)\n",
    "related_5day_before = cor['Rain_5day_before'].sort_values(ascending = False)\n",
    "related_10day_after = cor['Rain_10day_after'].sort_values(ascending = False)\n",
    "related_10day_before = cor['Rain_10day_before'].sort_values(ascending = False)\n",
    "related_15day_after = cor['Rain_15day_after'].sort_values(ascending = False)\n",
    "related_15day_before = cor['Rain_15day_before'].sort_values(ascending = False)\n",
    "related_20day_after = cor['Rain_20day_after'].sort_values(ascending = False)\n",
    "related_20day_before = cor['Rain_20day_before'].sort_values(ascending = False)\n",
    "related_25day_after = cor['Rain_25day_after'].sort_values(ascending = False)\n",
    "related_25day_before = cor['Rain_25day_before'].sort_values(ascending = False)\n",
    "related_30day_after = cor['Rain_30day_after'].sort_values(ascending = False)\n",
    "related_30day_before = cor['Rain_30day_before'].sort_values(ascending = False)"
   ]
  },
  {
   "cell_type": "code",
   "execution_count": 32,
   "metadata": {},
   "outputs": [
    {
     "data": {
      "text/plain": [
       "Rain_1day_after      1.000000\n",
       "Rainfall             0.293239\n",
       "Rain_2day_after      0.293239\n",
       "Humidity3pm          0.292491\n",
       "Humidity9am          0.165140\n",
       "WindGustSpeed        0.138404\n",
       "Rain_1day_before     0.133603\n",
       "Rain_3day_after      0.133603\n",
       "MinTemp              0.119052\n",
       "Cloud3pm             0.103992\n",
       "Cloud9am             0.094797\n",
       "Rain_2day_before     0.091696\n",
       "Rain_4day_after      0.091696\n",
       "Rain_3day_before     0.071134\n",
       "Rain_5day_after      0.071134\n",
       "Rain_4day_before     0.063709\n",
       "WindSpeed9am         0.063553\n",
       "Rain_30day_before    0.055141\n",
       "Rain_5day_before     0.055137\n",
       "Rain_10day_after     0.054885\n",
       "Rain_10day_before    0.053808\n",
       "Rain_20day_before    0.047751\n",
       "Temp9am              0.046848\n",
       "Rain_15day_before    0.045650\n",
       "Rain_15day_after     0.045474\n",
       "WindSpeed3pm         0.043877\n",
       "Rain_25day_after     0.042313\n",
       "Rain_20day_after     0.041690\n",
       "Rain_25day_before    0.040476\n",
       "Rain_30day_after     0.036377\n",
       "Evaporation         -0.023875\n",
       "MaxTemp             -0.043856\n",
       "Temp3pm             -0.065704\n",
       "Sunshine            -0.106370\n",
       "Pressure9am         -0.135850\n",
       "Pressure3pm         -0.136959\n",
       "Name: Rain_1day_after, dtype: float64"
      ]
     },
     "execution_count": 32,
     "metadata": {},
     "output_type": "execute_result"
    }
   ],
   "source": [
    "related_1day_after"
   ]
  },
  {
   "cell_type": "code",
   "execution_count": 33,
   "metadata": {},
   "outputs": [
    {
     "data": {
      "text/plain": [
       "Rain_2day_after      1.000000\n",
       "Rain_1day_after      0.293239\n",
       "Rain_3day_after      0.293239\n",
       "Humidity3pm          0.150447\n",
       "Rainfall             0.133603\n",
       "Rain_4day_after      0.133602\n",
       "MinTemp              0.097989\n",
       "Humidity9am          0.097434\n",
       "Rain_1day_before     0.091696\n",
       "Rain_5day_after      0.091696\n",
       "Rain_2day_before     0.071134\n",
       "Rain_3day_before     0.063709\n",
       "Cloud3pm             0.061744\n",
       "Rain_5day_before     0.061013\n",
       "Cloud9am             0.058484\n",
       "Temp9am              0.056802\n",
       "Rain_4day_before     0.055137\n",
       "Rain_10day_after     0.054621\n",
       "Rain_10day_before    0.050282\n",
       "Rain_30day_before    0.048645\n",
       "Rain_15day_before    0.047357\n",
       "Rain_20day_before    0.045607\n",
       "Rain_25day_after     0.045159\n",
       "Rain_25day_before    0.042976\n",
       "Rain_15day_after     0.042943\n",
       "Rain_30day_after     0.042284\n",
       "Rain_20day_after     0.041667\n",
       "WindGustSpeed        0.039310\n",
       "WindSpeed3pm         0.014451\n",
       "WindSpeed9am         0.010905\n",
       "MaxTemp              0.005922\n",
       "Temp3pm             -0.001297\n",
       "Evaporation         -0.019956\n",
       "Sunshine            -0.059842\n",
       "Pressure9am         -0.077712\n",
       "Pressure3pm         -0.084526\n",
       "Name: Rain_2day_after, dtype: float64"
      ]
     },
     "execution_count": 33,
     "metadata": {},
     "output_type": "execute_result"
    }
   ],
   "source": [
    "related_2day_after"
   ]
  },
  {
   "cell_type": "code",
   "execution_count": 34,
   "metadata": {},
   "outputs": [
    {
     "data": {
      "text/plain": [
       "Rain_3day_after      1.000000\n",
       "Rain_2day_after      0.293239\n",
       "Rain_4day_after      0.293238\n",
       "Rain_1day_after      0.133603\n",
       "Rain_5day_after      0.133602\n",
       "Humidity3pm          0.111407\n",
       "Rainfall             0.091696\n",
       "MinTemp              0.081408\n",
       "Humidity9am          0.074685\n",
       "Rain_1day_before     0.071134\n",
       "Rain_2day_before     0.063709\n",
       "Rain_4day_before     0.061013\n",
       "Rain_10day_after     0.061012\n",
       "Rain_3day_before     0.055137\n",
       "Temp9am              0.054874\n",
       "Rain_5day_before     0.054621\n",
       "Rain_15day_after     0.050284\n",
       "Rain_20day_after     0.047359\n",
       "Cloud3pm             0.046780\n",
       "Rain_30day_before    0.045757\n",
       "Rain_25day_after     0.045606\n",
       "Rain_20day_before    0.045160\n",
       "Cloud9am             0.043173\n",
       "Rain_30day_after     0.042975\n",
       "Rain_10day_before    0.042943\n",
       "Rain_25day_before    0.042285\n",
       "Rain_15day_before    0.041666\n",
       "MaxTemp              0.015527\n",
       "Temp3pm              0.010218\n",
       "WindGustSpeed       -0.000412\n",
       "WindSpeed3pm        -0.005737\n",
       "WindSpeed9am        -0.008600\n",
       "Evaporation         -0.017043\n",
       "Sunshine            -0.037268\n",
       "Pressure9am         -0.044848\n",
       "Pressure3pm         -0.048855\n",
       "Name: Rain_3day_after, dtype: float64"
      ]
     },
     "execution_count": 34,
     "metadata": {},
     "output_type": "execute_result"
    }
   ],
   "source": [
    "related_3day_after"
   ]
  },
  {
   "cell_type": "code",
   "execution_count": 35,
   "metadata": {},
   "outputs": [
    {
     "data": {
      "text/plain": [
       "Rain_4day_after      1.000000\n",
       "Rain_3day_after      0.293238\n",
       "Rain_5day_after      0.293238\n",
       "Rain_2day_after      0.133602\n",
       "Humidity3pm          0.094926\n",
       "Rain_1day_after      0.091696\n",
       "MinTemp              0.072033\n",
       "Rainfall             0.071134\n",
       "Humidity9am          0.063761\n",
       "Rain_1day_before     0.063709\n",
       "Rain_3day_before     0.061013\n",
       "Rain_2day_before     0.055137\n",
       "Rain_10day_after     0.055136\n",
       "Rain_5day_before     0.054885\n",
       "Rain_4day_before     0.054621\n",
       "Rain_15day_after     0.053812\n",
       "Temp9am              0.047869\n",
       "Rain_25day_after     0.047749\n",
       "Rain_20day_after     0.045651\n",
       "Rain_10day_before    0.045475\n",
       "Rain_30day_before    0.043616\n",
       "Rain_20day_before    0.042313\n",
       "Rain_15day_before    0.041691\n",
       "Rain_30day_after     0.040474\n",
       "Cloud3pm             0.036437\n",
       "Rain_25day_before    0.036377\n",
       "Cloud9am             0.035699\n",
       "MaxTemp              0.012211\n",
       "Temp3pm              0.008682\n",
       "WindSpeed3pm        -0.011940\n",
       "WindSpeed9am        -0.013161\n",
       "WindGustSpeed       -0.013520\n",
       "Evaporation         -0.022366\n",
       "Pressure9am         -0.026448\n",
       "Pressure3pm         -0.028090\n",
       "Sunshine            -0.032025\n",
       "Name: Rain_4day_after, dtype: float64"
      ]
     },
     "execution_count": 35,
     "metadata": {},
     "output_type": "execute_result"
    }
   ],
   "source": [
    "related_4day_after"
   ]
  },
  {
   "cell_type": "code",
   "execution_count": 36,
   "metadata": {},
   "outputs": [
    {
     "data": {
      "text/plain": [
       "Rain_5day_after      1.000000\n",
       "Rain_4day_after      0.293238\n",
       "Rain_3day_after      0.133602\n",
       "Rain_2day_after      0.091696\n",
       "Humidity3pm          0.089579\n",
       "Rain_1day_after      0.071134\n",
       "MinTemp              0.065373\n",
       "Rainfall             0.063709\n",
       "Rain_10day_after     0.063707\n",
       "Rain_2day_before     0.061013\n",
       "Rain_15day_after     0.060262\n",
       "Rain_5day_before     0.060259\n",
       "Humidity9am          0.058098\n",
       "Rain_1day_before     0.055137\n",
       "Rain_4day_before     0.054885\n",
       "Rain_3day_before     0.054621\n",
       "Rain_20day_after     0.050564\n",
       "Rain_10day_before    0.050563\n",
       "Rain_25day_before    0.045311\n",
       "Rain_30day_before    0.043974\n",
       "Temp9am              0.043888\n",
       "Rain_15day_before    0.041635\n",
       "Rain_25day_after     0.041633\n",
       "Rain_20day_before    0.041210\n",
       "Rain_30day_after     0.041208\n",
       "Cloud3pm             0.036531\n",
       "Cloud9am             0.035514\n",
       "MaxTemp              0.007428\n",
       "Temp3pm              0.005466\n",
       "WindSpeed3pm        -0.012697\n",
       "WindSpeed9am        -0.014537\n",
       "WindGustSpeed       -0.014599\n",
       "Pressure9am         -0.015256\n",
       "Pressure3pm         -0.016424\n",
       "Evaporation         -0.019179\n",
       "Sunshine            -0.031185\n",
       "Name: Rain_5day_after, dtype: float64"
      ]
     },
     "execution_count": 36,
     "metadata": {},
     "output_type": "execute_result"
    }
   ],
   "source": [
    "related_5day_after"
   ]
  },
  {
   "cell_type": "code",
   "execution_count": 37,
   "metadata": {},
   "outputs": [
    {
     "data": {
      "text/plain": [
       "Rain_10day_after     1.000000\n",
       "Humidity3pm          0.078687\n",
       "MinTemp              0.070232\n",
       "Rain_15day_after     0.063710\n",
       "Rain_5day_after      0.063707\n",
       "Rain_3day_after      0.061012\n",
       "Rain_20day_after     0.060263\n",
       "Rainfall             0.060259\n",
       "Rain_4day_after      0.055136\n",
       "Rain_1day_after      0.054885\n",
       "Rain_2day_after      0.054621\n",
       "Rain_1day_before     0.053808\n",
       "Rain_5day_before     0.050563\n",
       "Rain_25day_after     0.050562\n",
       "Rain_2day_before     0.050282\n",
       "Humidity9am          0.048564\n",
       "Rain_30day_before    0.048178\n",
       "Temp9am              0.046240\n",
       "Rain_4day_before     0.045475\n",
       "Rain_20day_before    0.045311\n",
       "Rain_25day_before    0.043974\n",
       "Rain_3day_before     0.042943\n",
       "Rain_10day_before    0.041635\n",
       "Rain_30day_after     0.041631\n",
       "Rain_15day_before    0.041210\n",
       "Cloud3pm             0.025011\n",
       "Cloud9am             0.023414\n",
       "MaxTemp              0.010824\n",
       "Temp3pm              0.007364\n",
       "WindGustSpeed        0.001689\n",
       "WindSpeed3pm        -0.000519\n",
       "WindSpeed9am        -0.005848\n",
       "Evaporation         -0.014303\n",
       "Sunshine            -0.023002\n",
       "Pressure3pm         -0.031608\n",
       "Pressure9am         -0.032531\n",
       "Name: Rain_10day_after, dtype: float64"
      ]
     },
     "execution_count": 37,
     "metadata": {},
     "output_type": "execute_result"
    }
   ],
   "source": [
    "related_10day_after"
   ]
  },
  {
   "cell_type": "code",
   "execution_count": 38,
   "metadata": {},
   "outputs": [
    {
     "data": {
      "text/plain": [
       "Rain_15day_after     1.000000\n",
       "Humidity3pm          0.071816\n",
       "MinTemp              0.069397\n",
       "Rain_10day_after     0.063710\n",
       "Rain_20day_after     0.063710\n",
       "Rain_25day_after     0.060266\n",
       "Rain_5day_after      0.060262\n",
       "Rain_4day_after      0.053812\n",
       "Temp9am              0.052083\n",
       "Rain_30day_after     0.050565\n",
       "Rainfall             0.050563\n",
       "Rain_3day_after      0.050284\n",
       "Rain_25day_before    0.048178\n",
       "Rain_2day_before     0.047357\n",
       "Rain_1day_before     0.045650\n",
       "Rain_1day_after      0.045474\n",
       "Rain_15day_before    0.045311\n",
       "Humidity9am          0.044347\n",
       "Rain_20day_before    0.043974\n",
       "Rain_2day_after      0.042943\n",
       "Rain_4day_before     0.041691\n",
       "Rain_3day_before     0.041666\n",
       "Rain_5day_before     0.041635\n",
       "Rain_10day_before    0.041210\n",
       "Rain_30day_before    0.039010\n",
       "Cloud9am             0.020534\n",
       "Cloud3pm             0.018313\n",
       "MaxTemp              0.017765\n",
       "Temp3pm              0.014621\n",
       "WindSpeed3pm         0.001471\n",
       "WindGustSpeed       -0.005637\n",
       "WindSpeed9am        -0.011191\n",
       "Evaporation         -0.014645\n",
       "Sunshine            -0.019560\n",
       "Pressure3pm         -0.027846\n",
       "Pressure9am         -0.028741\n",
       "Name: Rain_15day_after, dtype: float64"
      ]
     },
     "execution_count": 38,
     "metadata": {},
     "output_type": "execute_result"
    }
   ],
   "source": [
    "related_15day_after"
   ]
  },
  {
   "cell_type": "code",
   "execution_count": 39,
   "metadata": {},
   "outputs": [
    {
     "data": {
      "text/plain": [
       "Rain_20day_after     1.000000\n",
       "Humidity3pm          0.076904\n",
       "MinTemp              0.069162\n",
       "Rain_25day_after     0.063711\n",
       "Rain_15day_after     0.063710\n",
       "Rain_30day_after     0.060267\n",
       "Rain_10day_after     0.060263\n",
       "Temp9am              0.050828\n",
       "Rain_5day_after      0.050564\n",
       "Rain_20day_before    0.048178\n",
       "Humidity9am          0.047827\n",
       "Rain_1day_before     0.047751\n",
       "Rain_3day_after      0.047359\n",
       "Rain_4day_after      0.045651\n",
       "Rain_2day_before     0.045607\n",
       "Rain_10day_before    0.045311\n",
       "Rain_3day_before     0.045160\n",
       "Rain_15day_before    0.043974\n",
       "Rain_4day_before     0.042313\n",
       "Rain_1day_after      0.041690\n",
       "Rain_2day_after      0.041667\n",
       "Rainfall             0.041635\n",
       "Rain_5day_before     0.041210\n",
       "Rain_25day_before    0.039010\n",
       "Rain_30day_before    0.037918\n",
       "Cloud3pm             0.024493\n",
       "Cloud9am             0.021653\n",
       "MaxTemp              0.017290\n",
       "Temp3pm              0.012015\n",
       "WindSpeed3pm         0.003778\n",
       "WindGustSpeed       -0.000507\n",
       "WindSpeed9am        -0.011388\n",
       "Evaporation         -0.012020\n",
       "Sunshine            -0.019652\n",
       "Pressure3pm         -0.023914\n",
       "Pressure9am         -0.025104\n",
       "Name: Rain_20day_after, dtype: float64"
      ]
     },
     "execution_count": 39,
     "metadata": {},
     "output_type": "execute_result"
    }
   ],
   "source": [
    "related_20day_after"
   ]
  },
  {
   "cell_type": "code",
   "execution_count": 40,
   "metadata": {},
   "outputs": [
    {
     "data": {
      "text/plain": [
       "Rain_25day_after     1.000000\n",
       "Humidity3pm          0.071247\n",
       "MinTemp              0.068881\n",
       "Rain_20day_after     0.063711\n",
       "Rain_30day_after     0.063708\n",
       "Rain_15day_after     0.060266\n",
       "Rain_10day_after     0.050562\n",
       "Temp9am              0.050333\n",
       "Rain_15day_before    0.048178\n",
       "Rain_4day_after      0.047749\n",
       "Rain_3day_after      0.045606\n",
       "Rain_5day_before     0.045311\n",
       "Rain_2day_after      0.045159\n",
       "Rain_10day_before    0.043974\n",
       "Humidity9am          0.043450\n",
       "Rain_2day_before     0.042976\n",
       "Rain_1day_after      0.042313\n",
       "Rain_3day_before     0.042285\n",
       "Rain_5day_after      0.041633\n",
       "Rainfall             0.041210\n",
       "Rain_1day_before     0.040476\n",
       "Rain_20day_before    0.039010\n",
       "Rain_25day_before    0.037918\n",
       "Rain_4day_before     0.036377\n",
       "Rain_30day_before    0.028811\n",
       "Cloud3pm             0.026815\n",
       "Cloud9am             0.024672\n",
       "MaxTemp              0.015921\n",
       "Temp3pm              0.012001\n",
       "WindSpeed3pm         0.003057\n",
       "WindGustSpeed       -0.001925\n",
       "WindSpeed9am        -0.009172\n",
       "Evaporation         -0.011273\n",
       "Sunshine            -0.023227\n",
       "Pressure3pm         -0.027806\n",
       "Pressure9am         -0.028360\n",
       "Name: Rain_25day_after, dtype: float64"
      ]
     },
     "execution_count": 40,
     "metadata": {},
     "output_type": "execute_result"
    }
   ],
   "source": [
    "related_25day_after"
   ]
  },
  {
   "cell_type": "code",
   "execution_count": 41,
   "metadata": {},
   "outputs": [
    {
     "data": {
      "text/plain": [
       "Rain_30day_after     1.000000\n",
       "MinTemp              0.070597\n",
       "Humidity3pm          0.070523\n",
       "Rain_25day_after     0.063708\n",
       "Rain_20day_after     0.060267\n",
       "Rain_1day_before     0.055141\n",
       "Temp9am              0.052772\n",
       "Rain_15day_after     0.050565\n",
       "Rain_2day_before     0.048645\n",
       "Rain_10day_before    0.048178\n",
       "Rain_3day_before     0.045757\n",
       "Rainfall             0.045311\n",
       "Rain_5day_before     0.043974\n",
       "Rain_4day_before     0.043616\n",
       "Rain_3day_after      0.042975\n",
       "Rain_2day_after      0.042284\n",
       "Rain_10day_after     0.041631\n",
       "Rain_5day_after      0.041208\n",
       "Rain_4day_after      0.040474\n",
       "Humidity9am          0.039399\n",
       "Rain_15day_before    0.039010\n",
       "Rain_20day_before    0.037918\n",
       "Rain_1day_after      0.036377\n",
       "Rain_25day_before    0.028811\n",
       "Rain_30day_before    0.026164\n",
       "Cloud9am             0.020185\n",
       "Cloud3pm             0.018889\n",
       "MaxTemp              0.016308\n",
       "Temp3pm              0.013600\n",
       "WindSpeed3pm         0.008375\n",
       "WindGustSpeed        0.000267\n",
       "WindSpeed9am        -0.001141\n",
       "Evaporation         -0.008627\n",
       "Sunshine            -0.016041\n",
       "Pressure3pm         -0.032929\n",
       "Pressure9am         -0.033414\n",
       "Name: Rain_30day_after, dtype: float64"
      ]
     },
     "execution_count": 41,
     "metadata": {},
     "output_type": "execute_result"
    }
   ],
   "source": [
    "related_30day_after"
   ]
  },
  {
   "cell_type": "code",
   "execution_count": 42,
   "metadata": {},
   "outputs": [
    {
     "data": {
      "text/plain": [
       "Rain_1day_before     1.000000\n",
       "Rainfall             0.293239\n",
       "Rain_2day_before     0.293239\n",
       "Humidity3pm          0.165083\n",
       "Rain_1day_after      0.133603\n",
       "Rain_3day_before     0.133602\n",
       "Humidity9am          0.132872\n",
       "Rain_2day_after      0.091696\n",
       "Rain_4day_before     0.091695\n",
       "Rain_3day_after      0.071134\n",
       "Rain_5day_before     0.071133\n",
       "MinTemp              0.068435\n",
       "Rain_4day_after      0.063709\n",
       "Cloud9am             0.063447\n",
       "Cloud3pm             0.061158\n",
       "Rain_30day_after     0.055141\n",
       "Rain_5day_after      0.055137\n",
       "Rain_10day_before    0.054885\n",
       "Rain_10day_after     0.053808\n",
       "Rain_20day_after     0.047751\n",
       "Rain_15day_after     0.045650\n",
       "Rain_15day_before    0.045474\n",
       "Rain_25day_before    0.042313\n",
       "Rain_20day_before    0.041690\n",
       "Rain_25day_after     0.040476\n",
       "Rain_30day_before    0.036376\n",
       "WindGustSpeed        0.032433\n",
       "WindSpeed9am         0.031953\n",
       "WindSpeed3pm         0.020122\n",
       "Temp9am              0.013746\n",
       "Evaporation         -0.048547\n",
       "Temp3pm             -0.049197\n",
       "MaxTemp             -0.049242\n",
       "Pressure3pm         -0.054524\n",
       "Sunshine            -0.056100\n",
       "Pressure9am         -0.074050\n",
       "Name: Rain_1day_before, dtype: float64"
      ]
     },
     "execution_count": 42,
     "metadata": {},
     "output_type": "execute_result"
    }
   ],
   "source": [
    "related_1day_before"
   ]
  },
  {
   "cell_type": "code",
   "execution_count": 43,
   "metadata": {},
   "outputs": [
    {
     "data": {
      "text/plain": [
       "Rain_2day_before     1.000000\n",
       "Rain_1day_before     0.293239\n",
       "Rain_3day_before     0.293239\n",
       "Rainfall             0.133603\n",
       "Rain_4day_before     0.133602\n",
       "Humidity3pm          0.133113\n",
       "Humidity9am          0.104958\n",
       "Rain_1day_after      0.091696\n",
       "Rain_5day_before     0.091695\n",
       "Rain_2day_after      0.071134\n",
       "Rain_3day_after      0.063709\n",
       "MinTemp              0.061109\n",
       "Rain_5day_after      0.061013\n",
       "Rain_4day_after      0.055137\n",
       "Rain_10day_before    0.054620\n",
       "Rain_10day_after     0.050282\n",
       "Rain_30day_after     0.048645\n",
       "Rain_15day_after     0.047357\n",
       "Cloud3pm             0.046078\n",
       "Cloud9am             0.045877\n",
       "Rain_20day_after     0.045607\n",
       "Rain_25day_before    0.045159\n",
       "Rain_25day_after     0.042976\n",
       "Rain_15day_before    0.042942\n",
       "Rain_30day_before    0.042284\n",
       "Rain_20day_before    0.041665\n",
       "Temp9am              0.021208\n",
       "WindSpeed3pm         0.004507\n",
       "WindSpeed9am         0.001691\n",
       "WindGustSpeed        0.001088\n",
       "Temp3pm             -0.029091\n",
       "MaxTemp             -0.029741\n",
       "Pressure3pm         -0.033741\n",
       "Sunshine            -0.040518\n",
       "Pressure9am         -0.042215\n",
       "Evaporation         -0.043432\n",
       "Name: Rain_2day_before, dtype: float64"
      ]
     },
     "execution_count": 43,
     "metadata": {},
     "output_type": "execute_result"
    }
   ],
   "source": [
    "related_2day_before"
   ]
  },
  {
   "cell_type": "code",
   "execution_count": 44,
   "metadata": {},
   "outputs": [
    {
     "data": {
      "text/plain": [
       "Rain_3day_before     1.000000\n",
       "Rain_2day_before     0.293239\n",
       "Rain_4day_before     0.293238\n",
       "Rain_1day_before     0.133602\n",
       "Rain_5day_before     0.133601\n",
       "Humidity3pm          0.115042\n",
       "Rainfall             0.091696\n",
       "Humidity9am          0.088243\n",
       "Rain_1day_after      0.071134\n",
       "Rain_2day_after      0.063709\n",
       "Rain_4day_after      0.061013\n",
       "Rain_10day_before    0.061012\n",
       "MinTemp              0.058992\n",
       "Rain_3day_after      0.055137\n",
       "Rain_5day_after      0.054621\n",
       "Rain_15day_before    0.050280\n",
       "Rain_20day_before    0.047356\n",
       "Rain_30day_after     0.045757\n",
       "Rain_25day_before    0.045605\n",
       "Rain_20day_after     0.045160\n",
       "Cloud3pm             0.044137\n",
       "Rain_30day_before    0.042975\n",
       "Rain_10day_after     0.042943\n",
       "Rain_25day_after     0.042285\n",
       "Rain_15day_after     0.041666\n",
       "Cloud9am             0.039765\n",
       "Temp9am              0.027659\n",
       "WindSpeed3pm        -0.003293\n",
       "WindSpeed9am        -0.004060\n",
       "WindGustSpeed       -0.004130\n",
       "MaxTemp             -0.018110\n",
       "Temp3pm             -0.018403\n",
       "Sunshine            -0.030488\n",
       "Pressure3pm         -0.031941\n",
       "Evaporation         -0.035229\n",
       "Pressure9am         -0.036157\n",
       "Name: Rain_3day_before, dtype: float64"
      ]
     },
     "execution_count": 44,
     "metadata": {},
     "output_type": "execute_result"
    }
   ],
   "source": [
    "related_3day_before"
   ]
  },
  {
   "cell_type": "code",
   "execution_count": 45,
   "metadata": {},
   "outputs": [
    {
     "data": {
      "text/plain": [
       "Rain_4day_before     1.000000\n",
       "Rain_3day_before     0.293238\n",
       "Rain_5day_before     0.293238\n",
       "Rain_2day_before     0.133602\n",
       "Humidity3pm          0.105704\n",
       "Rain_1day_before     0.091695\n",
       "Humidity9am          0.079989\n",
       "Rainfall             0.071134\n",
       "Rain_1day_after      0.063709\n",
       "MinTemp              0.061192\n",
       "Rain_3day_after      0.061013\n",
       "Rain_2day_after      0.055137\n",
       "Rain_10day_before    0.055135\n",
       "Rain_5day_after      0.054885\n",
       "Rain_4day_after      0.054621\n",
       "Rain_15day_before    0.053806\n",
       "Rain_25day_before    0.047749\n",
       "Rain_20day_before    0.045648\n",
       "Rain_10day_after     0.045475\n",
       "Rain_30day_after     0.043616\n",
       "Rain_20day_after     0.042313\n",
       "Rain_15day_after     0.041691\n",
       "Rain_30day_before    0.040474\n",
       "Cloud3pm             0.038443\n",
       "Rain_25day_after     0.036377\n",
       "Cloud9am             0.034610\n",
       "Temp9am              0.031067\n",
       "WindSpeed3pm        -0.002692\n",
       "WindGustSpeed       -0.004700\n",
       "WindSpeed9am        -0.006473\n",
       "MaxTemp             -0.011854\n",
       "Temp3pm             -0.012981\n",
       "Sunshine            -0.025270\n",
       "Pressure3pm         -0.031266\n",
       "Evaporation         -0.031645\n",
       "Pressure9am         -0.035475\n",
       "Name: Rain_4day_before, dtype: float64"
      ]
     },
     "execution_count": 45,
     "metadata": {},
     "output_type": "execute_result"
    }
   ],
   "source": [
    "related_4day_before"
   ]
  },
  {
   "cell_type": "code",
   "execution_count": 46,
   "metadata": {},
   "outputs": [
    {
     "data": {
      "text/plain": [
       "Rain_5day_before     1.000000\n",
       "Rain_4day_before     0.293238\n",
       "Rain_3day_before     0.133601\n",
       "Humidity3pm          0.097852\n",
       "Rain_2day_before     0.091695\n",
       "Rain_1day_before     0.071133\n",
       "Humidity9am          0.070077\n",
       "Rainfall             0.063709\n",
       "Rain_10day_before    0.063706\n",
       "Rain_2day_after      0.061013\n",
       "Rain_5day_after      0.060259\n",
       "Rain_15day_before    0.060256\n",
       "MinTemp              0.059393\n",
       "Rain_1day_after      0.055137\n",
       "Rain_4day_after      0.054885\n",
       "Rain_3day_after      0.054621\n",
       "Rain_10day_after     0.050563\n",
       "Rain_20day_before    0.050560\n",
       "Rain_25day_after     0.045311\n",
       "Rain_30day_after     0.043974\n",
       "Rain_15day_after     0.041635\n",
       "Rain_25day_before    0.041633\n",
       "Rain_20day_after     0.041210\n",
       "Rain_30day_before    0.041208\n",
       "Temp9am              0.031616\n",
       "Cloud3pm             0.030669\n",
       "Cloud9am             0.027883\n",
       "WindSpeed3pm        -0.001367\n",
       "WindSpeed9am        -0.004009\n",
       "WindGustSpeed       -0.004567\n",
       "MaxTemp             -0.009509\n",
       "Temp3pm             -0.011066\n",
       "Sunshine            -0.021738\n",
       "Evaporation         -0.028095\n",
       "Pressure3pm         -0.028499\n",
       "Pressure9am         -0.031712\n",
       "Name: Rain_5day_before, dtype: float64"
      ]
     },
     "execution_count": 46,
     "metadata": {},
     "output_type": "execute_result"
    }
   ],
   "source": [
    "related_5day_before"
   ]
  },
  {
   "cell_type": "code",
   "execution_count": 47,
   "metadata": {},
   "outputs": [
    {
     "data": {
      "text/plain": [
       "Rain_10day_before    1.000000\n",
       "Humidity3pm          0.096104\n",
       "Humidity9am          0.064707\n",
       "Rain_5day_before     0.063706\n",
       "Rain_15day_before    0.063704\n",
       "Rain_3day_before     0.061012\n",
       "Rainfall             0.060259\n",
       "Rain_20day_before    0.060254\n",
       "MinTemp              0.059578\n",
       "Rain_4day_before     0.055135\n",
       "Rain_1day_before     0.054885\n",
       "Rain_2day_before     0.054620\n",
       "Rain_1day_after      0.053808\n",
       "Rain_5day_after      0.050563\n",
       "Rain_25day_before    0.050558\n",
       "Rain_2day_after      0.050282\n",
       "Rain_30day_after     0.048178\n",
       "Rain_4day_after      0.045475\n",
       "Rain_20day_after     0.045311\n",
       "Rain_25day_after     0.043974\n",
       "Rain_3day_after      0.042943\n",
       "Rain_10day_after     0.041635\n",
       "Rain_30day_before    0.041630\n",
       "Rain_15day_after     0.041210\n",
       "Temp9am              0.034648\n",
       "Cloud3pm             0.031362\n",
       "Cloud9am             0.028065\n",
       "WindSpeed3pm        -0.003984\n",
       "MaxTemp             -0.007932\n",
       "WindGustSpeed       -0.008281\n",
       "Temp3pm             -0.009902\n",
       "WindSpeed9am        -0.010658\n",
       "Sunshine            -0.021448\n",
       "Evaporation         -0.027248\n",
       "Pressure3pm         -0.029271\n",
       "Pressure9am         -0.032844\n",
       "Name: Rain_10day_before, dtype: float64"
      ]
     },
     "execution_count": 47,
     "metadata": {},
     "output_type": "execute_result"
    }
   ],
   "source": [
    "related_10day_before"
   ]
  },
  {
   "cell_type": "code",
   "execution_count": 48,
   "metadata": {},
   "outputs": [
    {
     "data": {
      "text/plain": [
       "Rain_15day_before    1.000000\n",
       "Humidity3pm          0.079834\n",
       "Rain_10day_before    0.063704\n",
       "Rain_20day_before    0.063701\n",
       "Rain_5day_before     0.060256\n",
       "Rain_25day_before    0.060251\n",
       "MinTemp              0.056624\n",
       "Humidity9am          0.054676\n",
       "Rain_4day_before     0.053806\n",
       "Rainfall             0.050563\n",
       "Rain_30day_before    0.050555\n",
       "Rain_3day_before     0.050280\n",
       "Rain_25day_after     0.048178\n",
       "Rain_2day_after      0.047357\n",
       "Rain_1day_after      0.045650\n",
       "Rain_1day_before     0.045474\n",
       "Rain_15day_after     0.045311\n",
       "Rain_20day_after     0.043974\n",
       "Rain_2day_before     0.042942\n",
       "Rain_4day_after      0.041691\n",
       "Rain_3day_after      0.041666\n",
       "Rain_5day_after      0.041635\n",
       "Rain_10day_after     0.041210\n",
       "Rain_30day_after     0.039010\n",
       "Temp9am              0.034176\n",
       "Cloud3pm             0.024024\n",
       "Cloud9am             0.020365\n",
       "WindSpeed3pm         0.003035\n",
       "MaxTemp             -0.001681\n",
       "Temp3pm             -0.002992\n",
       "WindGustSpeed       -0.003386\n",
       "WindSpeed9am        -0.010364\n",
       "Sunshine            -0.018472\n",
       "Evaporation         -0.024821\n",
       "Pressure3pm         -0.028842\n",
       "Pressure9am         -0.030996\n",
       "Name: Rain_15day_before, dtype: float64"
      ]
     },
     "execution_count": 48,
     "metadata": {},
     "output_type": "execute_result"
    }
   ],
   "source": [
    "related_15day_before"
   ]
  },
  {
   "cell_type": "code",
   "execution_count": 49,
   "metadata": {},
   "outputs": [
    {
     "data": {
      "text/plain": [
       "Rain_20day_before    1.000000\n",
       "Humidity3pm          0.077905\n",
       "Rain_15day_before    0.063701\n",
       "Rain_25day_before    0.063699\n",
       "Rain_10day_before    0.060254\n",
       "Rain_30day_before    0.060248\n",
       "MinTemp              0.051012\n",
       "Rain_5day_before     0.050560\n",
       "Humidity9am          0.049266\n",
       "Rain_20day_after     0.048178\n",
       "Rain_1day_after      0.047751\n",
       "Rain_3day_before     0.047356\n",
       "Rain_4day_before     0.045648\n",
       "Rain_2day_after      0.045607\n",
       "Rain_10day_after     0.045311\n",
       "Rain_3day_after      0.045160\n",
       "Rain_15day_after     0.043974\n",
       "Rain_4day_after      0.042313\n",
       "Rain_1day_before     0.041690\n",
       "Rain_2day_before     0.041665\n",
       "Rainfall             0.041635\n",
       "Rain_5day_after      0.041210\n",
       "Rain_25day_after     0.039010\n",
       "Rain_30day_after     0.037918\n",
       "Temp9am              0.032594\n",
       "Cloud3pm             0.019707\n",
       "Cloud9am             0.017757\n",
       "WindSpeed3pm         0.004952\n",
       "WindGustSpeed        0.000389\n",
       "WindSpeed9am        -0.002138\n",
       "MaxTemp             -0.004294\n",
       "Temp3pm             -0.006448\n",
       "Sunshine            -0.013653\n",
       "Evaporation         -0.019461\n",
       "Pressure3pm         -0.026425\n",
       "Pressure9am         -0.028040\n",
       "Name: Rain_20day_before, dtype: float64"
      ]
     },
     "execution_count": 49,
     "metadata": {},
     "output_type": "execute_result"
    }
   ],
   "source": [
    "related_20day_before"
   ]
  },
  {
   "cell_type": "code",
   "execution_count": 50,
   "metadata": {},
   "outputs": [
    {
     "data": {
      "text/plain": [
       "Rain_25day_before    1.000000\n",
       "Humidity3pm          0.077511\n",
       "Rain_20day_before    0.063699\n",
       "Rain_30day_before    0.063696\n",
       "Rain_15day_before    0.060251\n",
       "Rain_10day_before    0.050558\n",
       "MinTemp              0.049123\n",
       "Rain_15day_after     0.048178\n",
       "Rain_4day_before     0.047749\n",
       "Humidity9am          0.047702\n",
       "Rain_3day_before     0.045605\n",
       "Rain_5day_after      0.045311\n",
       "Rain_2day_before     0.045159\n",
       "Rain_10day_after     0.043974\n",
       "Rain_2day_after      0.042976\n",
       "Rain_1day_before     0.042313\n",
       "Rain_3day_after      0.042285\n",
       "Rain_5day_before     0.041633\n",
       "Rainfall             0.041210\n",
       "Rain_1day_after      0.040476\n",
       "Rain_20day_after     0.039010\n",
       "Rain_25day_after     0.037918\n",
       "Rain_4day_after      0.036377\n",
       "Temp9am              0.030769\n",
       "Rain_30day_after     0.028811\n",
       "Cloud3pm             0.020061\n",
       "Cloud9am             0.012456\n",
       "WindSpeed3pm         0.001616\n",
       "MaxTemp             -0.005210\n",
       "WindGustSpeed       -0.005670\n",
       "WindSpeed9am        -0.006829\n",
       "Temp3pm             -0.007475\n",
       "Sunshine            -0.012803\n",
       "Pressure3pm         -0.017410\n",
       "Pressure9am         -0.019403\n",
       "Evaporation         -0.020390\n",
       "Name: Rain_25day_before, dtype: float64"
      ]
     },
     "execution_count": 50,
     "metadata": {},
     "output_type": "execute_result"
    }
   ],
   "source": [
    "related_25day_before"
   ]
  },
  {
   "cell_type": "code",
   "execution_count": 51,
   "metadata": {},
   "outputs": [
    {
     "data": {
      "text/plain": [
       "Rain_30day_before    1.000000\n",
       "Humidity3pm          0.082124\n",
       "Rain_25day_before    0.063696\n",
       "Rain_20day_before    0.060248\n",
       "MinTemp              0.060243\n",
       "Humidity9am          0.056017\n",
       "Rain_1day_after      0.055141\n",
       "Rain_15day_before    0.050555\n",
       "Rain_2day_after      0.048645\n",
       "Rain_10day_after     0.048178\n",
       "Rain_3day_after      0.045757\n",
       "Rainfall             0.045311\n",
       "Rain_5day_after      0.043974\n",
       "Rain_4day_after      0.043616\n",
       "Rain_3day_before     0.042975\n",
       "Rain_2day_before     0.042284\n",
       "Rain_10day_before    0.041630\n",
       "Rain_5day_before     0.041208\n",
       "Rain_4day_before     0.040474\n",
       "Rain_15day_after     0.039010\n",
       "Rain_20day_after     0.037918\n",
       "Temp9am              0.037901\n",
       "Rain_1day_before     0.036376\n",
       "Rain_25day_after     0.028811\n",
       "Cloud3pm             0.026979\n",
       "Rain_30day_after     0.026164\n",
       "Cloud9am             0.025208\n",
       "WindSpeed3pm         0.007501\n",
       "MaxTemp              0.003873\n",
       "WindGustSpeed        0.001499\n",
       "Temp3pm              0.000772\n",
       "WindSpeed9am         0.000393\n",
       "Sunshine            -0.020355\n",
       "Evaporation         -0.020912\n",
       "Pressure3pm         -0.022162\n",
       "Pressure9am         -0.022467\n",
       "Name: Rain_30day_before, dtype: float64"
      ]
     },
     "execution_count": 51,
     "metadata": {},
     "output_type": "execute_result"
    }
   ],
   "source": [
    "related_30day_before"
   ]
  },
  {
   "cell_type": "code",
   "execution_count": null,
   "metadata": {},
   "outputs": [],
   "source": []
  },
  {
   "cell_type": "code",
   "execution_count": 31,
   "metadata": {},
   "outputs": [
    {
     "data": {
      "text/plain": [
       "['Rain_1day_after',\n",
       " 'Rainfall',\n",
       " 'Rain_2day_after',\n",
       " 'Humidity3pm',\n",
       " 'Humidity9am',\n",
       " 'WindGustSpeed',\n",
       " 'Rain_1day_before',\n",
       " 'Rain_3day_after',\n",
       " 'MinTemp',\n",
       " 'Cloud3pm',\n",
       " 'Cloud9am',\n",
       " 'Rain_2day_before',\n",
       " 'Rain_4day_after',\n",
       " 'Rain_3day_before',\n",
       " 'Rain_5day_after',\n",
       " 'Rain_4day_before',\n",
       " 'WindSpeed9am',\n",
       " 'Rain_30day_before',\n",
       " 'Rain_5day_before',\n",
       " 'Rain_10day_after',\n",
       " 'Rain_10day_before',\n",
       " 'Rain_20day_before',\n",
       " 'Temp9am',\n",
       " 'Rain_15day_before',\n",
       " 'Rain_15day_after',\n",
       " 'WindSpeed3pm',\n",
       " 'Rain_25day_after',\n",
       " 'Rain_20day_after',\n",
       " 'Rain_25day_before',\n",
       " 'Rain_30day_after']"
      ]
     },
     "execution_count": 31,
     "metadata": {},
     "output_type": "execute_result"
    }
   ],
   "source": [
    "x = []\n",
    "for i in range (len(related_1day_after)):\n",
    "    if related_1day_after[i]>0:\n",
    "        x.append(related_1day_after.index[i])\n",
    "        \n",
    "x"
   ]
  },
  {
   "cell_type": "code",
   "execution_count": 52,
   "metadata": {},
   "outputs": [],
   "source": [
    "x = ['Rainfall', 'Humidity3pm', 'Humidity9am', 'WindGustSpeed', 'MinTemp', 'Cloud3pm', 'Cloud9am', 'WindSpeed9am', 'Temp9am',\n",
    "    'WindSpeed3pm']"
   ]
  },
  {
   "cell_type": "code",
   "execution_count": 54,
   "metadata": {},
   "outputs": [],
   "source": [
    "df = df[:-1]"
   ]
  },
  {
   "cell_type": "code",
   "execution_count": 56,
   "metadata": {},
   "outputs": [],
   "source": [
    "x = df[x]"
   ]
  },
  {
   "cell_type": "code",
   "execution_count": 57,
   "metadata": {},
   "outputs": [
    {
     "data": {
      "text/html": [
       "<div>\n",
       "<style scoped>\n",
       "    .dataframe tbody tr th:only-of-type {\n",
       "        vertical-align: middle;\n",
       "    }\n",
       "\n",
       "    .dataframe tbody tr th {\n",
       "        vertical-align: top;\n",
       "    }\n",
       "\n",
       "    .dataframe thead th {\n",
       "        text-align: right;\n",
       "    }\n",
       "</style>\n",
       "<table border=\"1\" class=\"dataframe\">\n",
       "  <thead>\n",
       "    <tr style=\"text-align: right;\">\n",
       "      <th></th>\n",
       "      <th>Rainfall</th>\n",
       "      <th>Humidity3pm</th>\n",
       "      <th>Humidity9am</th>\n",
       "      <th>WindGustSpeed</th>\n",
       "      <th>MinTemp</th>\n",
       "      <th>Cloud3pm</th>\n",
       "      <th>Cloud9am</th>\n",
       "      <th>WindSpeed9am</th>\n",
       "      <th>Temp9am</th>\n",
       "      <th>WindSpeed3pm</th>\n",
       "    </tr>\n",
       "  </thead>\n",
       "  <tbody>\n",
       "    <tr>\n",
       "      <th>0</th>\n",
       "      <td>0.600000</td>\n",
       "      <td>22.000000</td>\n",
       "      <td>71.000000</td>\n",
       "      <td>44.000000</td>\n",
       "      <td>13.400000</td>\n",
       "      <td>4.789474</td>\n",
       "      <td>8.000000</td>\n",
       "      <td>20.000000</td>\n",
       "      <td>16.900000</td>\n",
       "      <td>24.000000</td>\n",
       "    </tr>\n",
       "    <tr>\n",
       "      <th>1</th>\n",
       "      <td>0.000000</td>\n",
       "      <td>25.000000</td>\n",
       "      <td>44.000000</td>\n",
       "      <td>59.000000</td>\n",
       "      <td>7.400000</td>\n",
       "      <td>4.290128</td>\n",
       "      <td>4.757475</td>\n",
       "      <td>4.000000</td>\n",
       "      <td>17.200000</td>\n",
       "      <td>22.000000</td>\n",
       "    </tr>\n",
       "    <tr>\n",
       "      <th>2</th>\n",
       "      <td>0.000000</td>\n",
       "      <td>30.000000</td>\n",
       "      <td>38.000000</td>\n",
       "      <td>46.000000</td>\n",
       "      <td>12.900000</td>\n",
       "      <td>4.000000</td>\n",
       "      <td>3.000000</td>\n",
       "      <td>19.000000</td>\n",
       "      <td>21.000000</td>\n",
       "      <td>26.000000</td>\n",
       "    </tr>\n",
       "    <tr>\n",
       "      <th>3</th>\n",
       "      <td>0.000000</td>\n",
       "      <td>16.000000</td>\n",
       "      <td>45.000000</td>\n",
       "      <td>43.628141</td>\n",
       "      <td>9.200000</td>\n",
       "      <td>4.290128</td>\n",
       "      <td>4.757475</td>\n",
       "      <td>11.000000</td>\n",
       "      <td>18.100000</td>\n",
       "      <td>9.000000</td>\n",
       "    </tr>\n",
       "    <tr>\n",
       "      <th>4</th>\n",
       "      <td>1.936709</td>\n",
       "      <td>47.689362</td>\n",
       "      <td>61.722944</td>\n",
       "      <td>43.726775</td>\n",
       "      <td>15.154894</td>\n",
       "      <td>4.801102</td>\n",
       "      <td>4.920000</td>\n",
       "      <td>14.515152</td>\n",
       "      <td>20.180519</td>\n",
       "      <td>21.195745</td>\n",
       "    </tr>\n",
       "    <tr>\n",
       "      <th>...</th>\n",
       "      <td>...</td>\n",
       "      <td>...</td>\n",
       "      <td>...</td>\n",
       "      <td>...</td>\n",
       "      <td>...</td>\n",
       "      <td>...</td>\n",
       "      <td>...</td>\n",
       "      <td>...</td>\n",
       "      <td>...</td>\n",
       "      <td>...</td>\n",
       "    </tr>\n",
       "    <tr>\n",
       "      <th>145454</th>\n",
       "      <td>0.000000</td>\n",
       "      <td>27.000000</td>\n",
       "      <td>59.000000</td>\n",
       "      <td>31.000000</td>\n",
       "      <td>3.500000</td>\n",
       "      <td>5.666667</td>\n",
       "      <td>5.500000</td>\n",
       "      <td>15.000000</td>\n",
       "      <td>9.400000</td>\n",
       "      <td>13.000000</td>\n",
       "    </tr>\n",
       "    <tr>\n",
       "      <th>145455</th>\n",
       "      <td>0.000000</td>\n",
       "      <td>24.000000</td>\n",
       "      <td>51.000000</td>\n",
       "      <td>31.000000</td>\n",
       "      <td>2.800000</td>\n",
       "      <td>5.666667</td>\n",
       "      <td>5.500000</td>\n",
       "      <td>13.000000</td>\n",
       "      <td>10.100000</td>\n",
       "      <td>11.000000</td>\n",
       "    </tr>\n",
       "    <tr>\n",
       "      <th>145456</th>\n",
       "      <td>0.000000</td>\n",
       "      <td>21.000000</td>\n",
       "      <td>56.000000</td>\n",
       "      <td>22.000000</td>\n",
       "      <td>3.600000</td>\n",
       "      <td>5.666667</td>\n",
       "      <td>5.500000</td>\n",
       "      <td>13.000000</td>\n",
       "      <td>10.900000</td>\n",
       "      <td>9.000000</td>\n",
       "    </tr>\n",
       "    <tr>\n",
       "      <th>145457</th>\n",
       "      <td>0.000000</td>\n",
       "      <td>24.000000</td>\n",
       "      <td>53.000000</td>\n",
       "      <td>37.000000</td>\n",
       "      <td>5.400000</td>\n",
       "      <td>5.666667</td>\n",
       "      <td>5.500000</td>\n",
       "      <td>9.000000</td>\n",
       "      <td>12.500000</td>\n",
       "      <td>9.000000</td>\n",
       "    </tr>\n",
       "    <tr>\n",
       "      <th>145458</th>\n",
       "      <td>0.000000</td>\n",
       "      <td>24.000000</td>\n",
       "      <td>51.000000</td>\n",
       "      <td>28.000000</td>\n",
       "      <td>7.800000</td>\n",
       "      <td>2.000000</td>\n",
       "      <td>3.000000</td>\n",
       "      <td>13.000000</td>\n",
       "      <td>15.100000</td>\n",
       "      <td>7.000000</td>\n",
       "    </tr>\n",
       "  </tbody>\n",
       "</table>\n",
       "<p>145459 rows × 10 columns</p>\n",
       "</div>"
      ],
      "text/plain": [
       "        Rainfall  Humidity3pm  Humidity9am  WindGustSpeed    MinTemp  \\\n",
       "0       0.600000    22.000000    71.000000      44.000000  13.400000   \n",
       "1       0.000000    25.000000    44.000000      59.000000   7.400000   \n",
       "2       0.000000    30.000000    38.000000      46.000000  12.900000   \n",
       "3       0.000000    16.000000    45.000000      43.628141   9.200000   \n",
       "4       1.936709    47.689362    61.722944      43.726775  15.154894   \n",
       "...          ...          ...          ...            ...        ...   \n",
       "145454  0.000000    27.000000    59.000000      31.000000   3.500000   \n",
       "145455  0.000000    24.000000    51.000000      31.000000   2.800000   \n",
       "145456  0.000000    21.000000    56.000000      22.000000   3.600000   \n",
       "145457  0.000000    24.000000    53.000000      37.000000   5.400000   \n",
       "145458  0.000000    24.000000    51.000000      28.000000   7.800000   \n",
       "\n",
       "        Cloud3pm  Cloud9am  WindSpeed9am    Temp9am  WindSpeed3pm  \n",
       "0       4.789474  8.000000     20.000000  16.900000     24.000000  \n",
       "1       4.290128  4.757475      4.000000  17.200000     22.000000  \n",
       "2       4.000000  3.000000     19.000000  21.000000     26.000000  \n",
       "3       4.290128  4.757475     11.000000  18.100000      9.000000  \n",
       "4       4.801102  4.920000     14.515152  20.180519     21.195745  \n",
       "...          ...       ...           ...        ...           ...  \n",
       "145454  5.666667  5.500000     15.000000   9.400000     13.000000  \n",
       "145455  5.666667  5.500000     13.000000  10.100000     11.000000  \n",
       "145456  5.666667  5.500000     13.000000  10.900000      9.000000  \n",
       "145457  5.666667  5.500000      9.000000  12.500000      9.000000  \n",
       "145458  2.000000  3.000000     13.000000  15.100000      7.000000  \n",
       "\n",
       "[145459 rows x 10 columns]"
      ]
     },
     "execution_count": 57,
     "metadata": {},
     "output_type": "execute_result"
    }
   ],
   "source": [
    "x"
   ]
  },
  {
   "cell_type": "code",
   "execution_count": 58,
   "metadata": {},
   "outputs": [
    {
     "data": {
      "text/plain": [
       "0         0.000000\n",
       "1         0.000000\n",
       "2         0.000000\n",
       "3         1.936709\n",
       "4         0.200000\n",
       "            ...   \n",
       "145454    0.000000\n",
       "145455    0.000000\n",
       "145456    0.000000\n",
       "145457    0.000000\n",
       "145458    0.000000\n",
       "Name: Rain_1day_after, Length: 145459, dtype: float64"
      ]
     },
     "execution_count": 58,
     "metadata": {},
     "output_type": "execute_result"
    }
   ],
   "source": [
    "y = df['Rain_1day_after']\n",
    "y"
   ]
  },
  {
   "cell_type": "code",
   "execution_count": 59,
   "metadata": {},
   "outputs": [],
   "source": [
    "X_train, X_test, y_train, y_test = train_test_split(x,y, test_size=0.2, shuffle=False)"
   ]
  },
  {
   "cell_type": "code",
   "execution_count": 60,
   "metadata": {},
   "outputs": [
    {
     "data": {
      "text/plain": [
       "RandomForestRegressor(n_estimators=200)"
      ]
     },
     "execution_count": 60,
     "metadata": {},
     "output_type": "execute_result"
    }
   ],
   "source": [
    "#fitting the model\n",
    "rf = RandomForestRegressor(n_estimators=200)\n",
    "rf.fit(X_train, y_train)"
   ]
  },
  {
   "cell_type": "code",
   "execution_count": 61,
   "metadata": {},
   "outputs": [],
   "source": [
    "predicted = rf.predict(X_test)"
   ]
  },
  {
   "cell_type": "code",
   "execution_count": 62,
   "metadata": {},
   "outputs": [
    {
     "name": "stdout",
     "output_type": "stream",
     "text": [
      "Mean absolute error:  2.767241159308755\n"
     ]
    }
   ],
   "source": [
    "print(\"Mean absolute error: \", mean_absolute_error(y_test, predicted))"
   ]
  },
  {
   "cell_type": "code",
   "execution_count": 63,
   "metadata": {},
   "outputs": [
    {
     "name": "stdout",
     "output_type": "stream",
     "text": [
      "Mean squared error:  46.35887935629665\n"
     ]
    }
   ],
   "source": [
    "print(\"Mean squared error: \", mean_squared_error(y_test, predicted))"
   ]
  },
  {
   "cell_type": "code",
   "execution_count": 64,
   "metadata": {},
   "outputs": [
    {
     "name": "stdout",
     "output_type": "stream",
     "text": [
      "Root mean squared error:  6.808735518163167\n"
     ]
    }
   ],
   "source": [
    "print(\"Root mean squared error: \", np.sqrt(mean_squared_error(y_test, predicted)))"
   ]
  },
  {
   "cell_type": "code",
   "execution_count": 67,
   "metadata": {
    "scrolled": true
   },
   "outputs": [
    {
     "data": {
      "text/plain": [
       "Text(0.5, 1.0, 'Actual rainfall amount - Predicted rainfall amount')"
      ]
     },
     "execution_count": 67,
     "metadata": {},
     "output_type": "execute_result"
    },
    {
     "data": {
      "image/png": "[encoded data removed]",
      "text/plain": [
       "<Figure size 432x288 with 1 Axes>"
      ]
     },
     "metadata": {
      "needs_background": "light"
     },
     "output_type": "display_data"
    }
   ],
   "source": [
    "g=plt.plot(y_test - predicted, marker='o', linestyle='')\n",
    "plt.xlabel(\"Index of dataset\")\n",
    "plt.ylabel(\"Rainfall Amount\")\n",
    "plt.title(\"Actual rainfall amount - Predicted rainfall amount\")"
   ]
  },
  {
   "cell_type": "code",
   "execution_count": 68,
   "metadata": {},
   "outputs": [
    {
     "data": {
      "text/plain": [
       "['Rain_2day_after',\n",
       " 'Rain_1day_after',\n",
       " 'Rain_3day_after',\n",
       " 'Humidity3pm',\n",
       " 'Rainfall',\n",
       " 'Rain_4day_after',\n",
       " 'MinTemp',\n",
       " 'Humidity9am',\n",
       " 'Rain_1day_before',\n",
       " 'Rain_5day_after',\n",
       " 'Rain_2day_before',\n",
       " 'Rain_3day_before',\n",
       " 'Cloud3pm',\n",
       " 'Rain_5day_before',\n",
       " 'Cloud9am',\n",
       " 'Temp9am',\n",
       " 'Rain_4day_before',\n",
       " 'Rain_10day_after',\n",
       " 'Rain_10day_before',\n",
       " 'Rain_30day_before',\n",
       " 'Rain_15day_before',\n",
       " 'Rain_20day_before',\n",
       " 'Rain_25day_after',\n",
       " 'Rain_25day_before',\n",
       " 'Rain_15day_after',\n",
       " 'Rain_30day_after',\n",
       " 'Rain_20day_after',\n",
       " 'WindGustSpeed',\n",
       " 'WindSpeed3pm',\n",
       " 'WindSpeed9am',\n",
       " 'MaxTemp']"
      ]
     },
     "execution_count": 68,
     "metadata": {},
     "output_type": "execute_result"
    }
   ],
   "source": [
    "x = []\n",
    "for i in range (len(related_2day_after)):\n",
    "    if related_2day_after[i]>0:\n",
    "        x.append(related_2day_after.index[i])\n",
    "        \n",
    "x"
   ]
  },
  {
   "cell_type": "code",
   "execution_count": 69,
   "metadata": {},
   "outputs": [],
   "source": [
    "x = ['Rainfall', 'Humidity3pm', 'Humidity9am', 'WindGustSpeed', 'MinTemp', 'Cloud3pm', 'Cloud9am', 'WindSpeed9am', 'Temp9am',\n",
    "    'WindSpeed3pm', 'MaxTemp']"
   ]
  },
  {
   "cell_type": "code",
   "execution_count": 70,
   "metadata": {},
   "outputs": [],
   "source": [
    "df = df[:-2]"
   ]
  },
  {
   "cell_type": "code",
   "execution_count": 71,
   "metadata": {},
   "outputs": [],
   "source": [
    "x = df[x]"
   ]
  },
  {
   "cell_type": "code",
   "execution_count": 72,
   "metadata": {},
   "outputs": [
    {
     "data": {
      "text/html": [
       "<div>\n",
       "<style scoped>\n",
       "    .dataframe tbody tr th:only-of-type {\n",
       "        vertical-align: middle;\n",
       "    }\n",
       "\n",
       "    .dataframe tbody tr th {\n",
       "        vertical-align: top;\n",
       "    }\n",
       "\n",
       "    .dataframe thead th {\n",
       "        text-align: right;\n",
       "    }\n",
       "</style>\n",
       "<table border=\"1\" class=\"dataframe\">\n",
       "  <thead>\n",
       "    <tr style=\"text-align: right;\">\n",
       "      <th></th>\n",
       "      <th>Rainfall</th>\n",
       "      <th>Humidity3pm</th>\n",
       "      <th>Humidity9am</th>\n",
       "      <th>WindGustSpeed</th>\n",
       "      <th>MinTemp</th>\n",
       "      <th>Cloud3pm</th>\n",
       "      <th>Cloud9am</th>\n",
       "      <th>WindSpeed9am</th>\n",
       "      <th>Temp9am</th>\n",
       "      <th>WindSpeed3pm</th>\n",
       "      <th>MaxTemp</th>\n",
       "    </tr>\n",
       "  </thead>\n",
       "  <tbody>\n",
       "    <tr>\n",
       "      <th>0</th>\n",
       "      <td>0.600000</td>\n",
       "      <td>22.000000</td>\n",
       "      <td>71.000000</td>\n",
       "      <td>44.000000</td>\n",
       "      <td>13.400000</td>\n",
       "      <td>4.789474</td>\n",
       "      <td>8.000000</td>\n",
       "      <td>20.000000</td>\n",
       "      <td>16.900000</td>\n",
       "      <td>24.000000</td>\n",
       "      <td>22.900000</td>\n",
       "    </tr>\n",
       "    <tr>\n",
       "      <th>1</th>\n",
       "      <td>0.000000</td>\n",
       "      <td>25.000000</td>\n",
       "      <td>44.000000</td>\n",
       "      <td>59.000000</td>\n",
       "      <td>7.400000</td>\n",
       "      <td>4.290128</td>\n",
       "      <td>4.757475</td>\n",
       "      <td>4.000000</td>\n",
       "      <td>17.200000</td>\n",
       "      <td>22.000000</td>\n",
       "      <td>32.600000</td>\n",
       "    </tr>\n",
       "    <tr>\n",
       "      <th>2</th>\n",
       "      <td>0.000000</td>\n",
       "      <td>30.000000</td>\n",
       "      <td>38.000000</td>\n",
       "      <td>46.000000</td>\n",
       "      <td>12.900000</td>\n",
       "      <td>4.000000</td>\n",
       "      <td>3.000000</td>\n",
       "      <td>19.000000</td>\n",
       "      <td>21.000000</td>\n",
       "      <td>26.000000</td>\n",
       "      <td>25.700000</td>\n",
       "    </tr>\n",
       "    <tr>\n",
       "      <th>3</th>\n",
       "      <td>0.000000</td>\n",
       "      <td>16.000000</td>\n",
       "      <td>45.000000</td>\n",
       "      <td>43.628141</td>\n",
       "      <td>9.200000</td>\n",
       "      <td>4.290128</td>\n",
       "      <td>4.757475</td>\n",
       "      <td>11.000000</td>\n",
       "      <td>18.100000</td>\n",
       "      <td>9.000000</td>\n",
       "      <td>28.000000</td>\n",
       "    </tr>\n",
       "    <tr>\n",
       "      <th>4</th>\n",
       "      <td>1.936709</td>\n",
       "      <td>47.689362</td>\n",
       "      <td>61.722944</td>\n",
       "      <td>43.726775</td>\n",
       "      <td>15.154894</td>\n",
       "      <td>4.801102</td>\n",
       "      <td>4.920000</td>\n",
       "      <td>14.515152</td>\n",
       "      <td>20.180519</td>\n",
       "      <td>21.195745</td>\n",
       "      <td>25.785654</td>\n",
       "    </tr>\n",
       "    <tr>\n",
       "      <th>...</th>\n",
       "      <td>...</td>\n",
       "      <td>...</td>\n",
       "      <td>...</td>\n",
       "      <td>...</td>\n",
       "      <td>...</td>\n",
       "      <td>...</td>\n",
       "      <td>...</td>\n",
       "      <td>...</td>\n",
       "      <td>...</td>\n",
       "      <td>...</td>\n",
       "      <td>...</td>\n",
       "    </tr>\n",
       "    <tr>\n",
       "      <th>145452</th>\n",
       "      <td>0.000000</td>\n",
       "      <td>32.000000</td>\n",
       "      <td>56.000000</td>\n",
       "      <td>41.000000</td>\n",
       "      <td>8.000000</td>\n",
       "      <td>7.000000</td>\n",
       "      <td>5.500000</td>\n",
       "      <td>19.000000</td>\n",
       "      <td>11.600000</td>\n",
       "      <td>26.000000</td>\n",
       "      <td>20.700000</td>\n",
       "    </tr>\n",
       "    <tr>\n",
       "      <th>145453</th>\n",
       "      <td>0.000000</td>\n",
       "      <td>33.000000</td>\n",
       "      <td>63.000000</td>\n",
       "      <td>35.000000</td>\n",
       "      <td>7.400000</td>\n",
       "      <td>5.666667</td>\n",
       "      <td>5.500000</td>\n",
       "      <td>15.000000</td>\n",
       "      <td>11.000000</td>\n",
       "      <td>17.000000</td>\n",
       "      <td>20.600000</td>\n",
       "    </tr>\n",
       "    <tr>\n",
       "      <th>145454</th>\n",
       "      <td>0.000000</td>\n",
       "      <td>27.000000</td>\n",
       "      <td>59.000000</td>\n",
       "      <td>31.000000</td>\n",
       "      <td>3.500000</td>\n",
       "      <td>5.666667</td>\n",
       "      <td>5.500000</td>\n",
       "      <td>15.000000</td>\n",
       "      <td>9.400000</td>\n",
       "      <td>13.000000</td>\n",
       "      <td>21.800000</td>\n",
       "    </tr>\n",
       "    <tr>\n",
       "      <th>145455</th>\n",
       "      <td>0.000000</td>\n",
       "      <td>24.000000</td>\n",
       "      <td>51.000000</td>\n",
       "      <td>31.000000</td>\n",
       "      <td>2.800000</td>\n",
       "      <td>5.666667</td>\n",
       "      <td>5.500000</td>\n",
       "      <td>13.000000</td>\n",
       "      <td>10.100000</td>\n",
       "      <td>11.000000</td>\n",
       "      <td>23.400000</td>\n",
       "    </tr>\n",
       "    <tr>\n",
       "      <th>145456</th>\n",
       "      <td>0.000000</td>\n",
       "      <td>21.000000</td>\n",
       "      <td>56.000000</td>\n",
       "      <td>22.000000</td>\n",
       "      <td>3.600000</td>\n",
       "      <td>5.666667</td>\n",
       "      <td>5.500000</td>\n",
       "      <td>13.000000</td>\n",
       "      <td>10.900000</td>\n",
       "      <td>9.000000</td>\n",
       "      <td>25.300000</td>\n",
       "    </tr>\n",
       "  </tbody>\n",
       "</table>\n",
       "<p>145457 rows × 11 columns</p>\n",
       "</div>"
      ],
      "text/plain": [
       "        Rainfall  Humidity3pm  Humidity9am  WindGustSpeed    MinTemp  \\\n",
       "0       0.600000    22.000000    71.000000      44.000000  13.400000   \n",
       "1       0.000000    25.000000    44.000000      59.000000   7.400000   \n",
       "2       0.000000    30.000000    38.000000      46.000000  12.900000   \n",
       "3       0.000000    16.000000    45.000000      43.628141   9.200000   \n",
       "4       1.936709    47.689362    61.722944      43.726775  15.154894   \n",
       "...          ...          ...          ...            ...        ...   \n",
       "145452  0.000000    32.000000    56.000000      41.000000   8.000000   \n",
       "145453  0.000000    33.000000    63.000000      35.000000   7.400000   \n",
       "145454  0.000000    27.000000    59.000000      31.000000   3.500000   \n",
       "145455  0.000000    24.000000    51.000000      31.000000   2.800000   \n",
       "145456  0.000000    21.000000    56.000000      22.000000   3.600000   \n",
       "\n",
       "        Cloud3pm  Cloud9am  WindSpeed9am    Temp9am  WindSpeed3pm    MaxTemp  \n",
       "0       4.789474  8.000000     20.000000  16.900000     24.000000  22.900000  \n",
       "1       4.290128  4.757475      4.000000  17.200000     22.000000  32.600000  \n",
       "2       4.000000  3.000000     19.000000  21.000000     26.000000  25.700000  \n",
       "3       4.290128  4.757475     11.000000  18.100000      9.000000  28.000000  \n",
       "4       4.801102  4.920000     14.515152  20.180519     21.195745  25.785654  \n",
       "...          ...       ...           ...        ...           ...        ...  \n",
       "145452  7.000000  5.500000     19.000000  11.600000     26.000000  20.700000  \n",
       "145453  5.666667  5.500000     15.000000  11.000000     17.000000  20.600000  \n",
       "145454  5.666667  5.500000     15.000000   9.400000     13.000000  21.800000  \n",
       "145455  5.666667  5.500000     13.000000  10.100000     11.000000  23.400000  \n",
       "145456  5.666667  5.500000     13.000000  10.900000      9.000000  25.300000  \n",
       "\n",
       "[145457 rows x 11 columns]"
      ]
     },
     "execution_count": 72,
     "metadata": {},
     "output_type": "execute_result"
    }
   ],
   "source": [
    "x"
   ]
  },
  {
   "cell_type": "code",
   "execution_count": 73,
   "metadata": {},
   "outputs": [
    {
     "data": {
      "text/plain": [
       "0         0.000000\n",
       "1         0.000000\n",
       "2         1.936709\n",
       "3         0.200000\n",
       "4         0.000000\n",
       "            ...   \n",
       "145452    0.000000\n",
       "145453    0.000000\n",
       "145454    0.000000\n",
       "145455    0.000000\n",
       "145456    0.000000\n",
       "Name: Rain_2day_after, Length: 145457, dtype: float64"
      ]
     },
     "execution_count": 73,
     "metadata": {},
     "output_type": "execute_result"
    }
   ],
   "source": [
    "y = df['Rain_2day_after']\n",
    "y"
   ]
  },
  {
   "cell_type": "code",
   "execution_count": 74,
   "metadata": {},
   "outputs": [],
   "source": [
    "X_train, X_test, y_train, y_test = train_test_split(x,y, test_size=0.2, shuffle=False)"
   ]
  },
  {
   "cell_type": "code",
   "execution_count": 75,
   "metadata": {},
   "outputs": [
    {
     "data": {
      "text/plain": [
       "RandomForestRegressor(n_estimators=200)"
      ]
     },
     "execution_count": 75,
     "metadata": {},
     "output_type": "execute_result"
    }
   ],
   "source": [
    "#fitting the model\n",
    "rf = RandomForestRegressor(n_estimators=200)\n",
    "rf.fit(X_train, y_train)"
   ]
  },
  {
   "cell_type": "code",
   "execution_count": 76,
   "metadata": {},
   "outputs": [],
   "source": [
    "predicted = rf.predict(X_test)"
   ]
  },
  {
   "cell_type": "code",
   "execution_count": 77,
   "metadata": {},
   "outputs": [
    {
     "name": "stdout",
     "output_type": "stream",
     "text": [
      "Mean absolute error:  3.8281624144518607\n"
     ]
    }
   ],
   "source": [
    "print(\"Mean absolute error: \", mean_absolute_error(y_test, predicted))"
   ]
  },
  {
   "cell_type": "code",
   "execution_count": 78,
   "metadata": {},
   "outputs": [
    {
     "name": "stdout",
     "output_type": "stream",
     "text": [
      "Mean squared error:  62.41509096678313\n"
     ]
    }
   ],
   "source": [
    "print(\"Mean squared error: \", mean_squared_error(y_test, predicted))"
   ]
  },
  {
   "cell_type": "code",
   "execution_count": 79,
   "metadata": {},
   "outputs": [
    {
     "name": "stdout",
     "output_type": "stream",
     "text": [
      "Root mean squared error:  7.900322206516841\n"
     ]
    }
   ],
   "source": [
    "print(\"Root mean squared error: \", np.sqrt(mean_squared_error(y_test, predicted)))"
   ]
  },
  {
   "cell_type": "code",
   "execution_count": 80,
   "metadata": {
    "scrolled": true
   },
   "outputs": [
    {
     "data": {
      "text/plain": [
       "Text(0.5, 1.0, 'Actual rainfall amount - Predicted rainfall amount')"
      ]
     },
     "execution_count": 80,
     "metadata": {},
     "output_type": "execute_result"
    },
    {
     "data": {
      "image/png": "[encoded data removed]",
      "text/plain": [
       "<Figure size 432x288 with 1 Axes>"
      ]
     },
     "metadata": {
      "needs_background": "light"
     },
     "output_type": "display_data"
    }
   ],
   "source": [
    "g=plt.plot(y_test - predicted, marker='o', linestyle='')\n",
    "plt.xlabel(\"Index of dataset\")\n",
    "plt.ylabel(\"Rainfall Amount\")\n",
    "plt.title(\"Actual rainfall amount - Predicted rainfall amount\")"
   ]
  },
  {
   "cell_type": "code",
   "execution_count": 81,
   "metadata": {},
   "outputs": [
    {
     "data": {
      "text/plain": [
       "['Rain_3day_after',\n",
       " 'Rain_2day_after',\n",
       " 'Rain_4day_after',\n",
       " 'Rain_1day_after',\n",
       " 'Rain_5day_after',\n",
       " 'Humidity3pm',\n",
       " 'Rainfall',\n",
       " 'MinTemp',\n",
       " 'Humidity9am',\n",
       " 'Rain_1day_before',\n",
       " 'Rain_2day_before',\n",
       " 'Rain_4day_before',\n",
       " 'Rain_10day_after',\n",
       " 'Rain_3day_before',\n",
       " 'Temp9am',\n",
       " 'Rain_5day_before',\n",
       " 'Rain_15day_after',\n",
       " 'Rain_20day_after',\n",
       " 'Cloud3pm',\n",
       " 'Rain_30day_before',\n",
       " 'Rain_25day_after',\n",
       " 'Rain_20day_before',\n",
       " 'Cloud9am',\n",
       " 'Rain_30day_after',\n",
       " 'Rain_10day_before',\n",
       " 'Rain_25day_before',\n",
       " 'Rain_15day_before',\n",
       " 'MaxTemp',\n",
       " 'Temp3pm']"
      ]
     },
     "execution_count": 81,
     "metadata": {},
     "output_type": "execute_result"
    }
   ],
   "source": [
    "x = []\n",
    "for i in range (len(related_3day_after)):\n",
    "    if related_3day_after[i]>0:\n",
    "        x.append(related_3day_after.index[i])\n",
    "        \n",
    "x"
   ]
  },
  {
   "cell_type": "code",
   "execution_count": 82,
   "metadata": {},
   "outputs": [],
   "source": [
    "x = ['Rainfall', 'Humidity3pm', 'Humidity9am', 'MinTemp', 'Cloud3pm', 'Cloud9am', 'Temp9am', 'MaxTemp', 'Temp3pm']"
   ]
  },
  {
   "cell_type": "code",
   "execution_count": 54,
   "metadata": {},
   "outputs": [],
   "source": [
    "df = df[:-1]"
   ]
  },
  {
   "cell_type": "code",
   "execution_count": 83,
   "metadata": {},
   "outputs": [],
   "source": [
    "x = df[x]"
   ]
  },
  {
   "cell_type": "code",
   "execution_count": 57,
   "metadata": {},
   "outputs": [
    {
     "data": {
      "text/html": [
       "<div>\n",
       "<style scoped>\n",
       "    .dataframe tbody tr th:only-of-type {\n",
       "        vertical-align: middle;\n",
       "    }\n",
       "\n",
       "    .dataframe tbody tr th {\n",
       "        vertical-align: top;\n",
       "    }\n",
       "\n",
       "    .dataframe thead th {\n",
       "        text-align: right;\n",
       "    }\n",
       "</style>\n",
       "<table border=\"1\" class=\"dataframe\">\n",
       "  <thead>\n",
       "    <tr style=\"text-align: right;\">\n",
       "      <th></th>\n",
       "      <th>Rainfall</th>\n",
       "      <th>Humidity3pm</th>\n",
       "      <th>Humidity9am</th>\n",
       "      <th>WindGustSpeed</th>\n",
       "      <th>MinTemp</th>\n",
       "      <th>Cloud3pm</th>\n",
       "      <th>Cloud9am</th>\n",
       "      <th>WindSpeed9am</th>\n",
       "      <th>Temp9am</th>\n",
       "      <th>WindSpeed3pm</th>\n",
       "    </tr>\n",
       "  </thead>\n",
       "  <tbody>\n",
       "    <tr>\n",
       "      <th>0</th>\n",
       "      <td>0.600000</td>\n",
       "      <td>22.000000</td>\n",
       "      <td>71.000000</td>\n",
       "      <td>44.000000</td>\n",
       "      <td>13.400000</td>\n",
       "      <td>4.789474</td>\n",
       "      <td>8.000000</td>\n",
       "      <td>20.000000</td>\n",
       "      <td>16.900000</td>\n",
       "      <td>24.000000</td>\n",
       "    </tr>\n",
       "    <tr>\n",
       "      <th>1</th>\n",
       "      <td>0.000000</td>\n",
       "      <td>25.000000</td>\n",
       "      <td>44.000000</td>\n",
       "      <td>59.000000</td>\n",
       "      <td>7.400000</td>\n",
       "      <td>4.290128</td>\n",
       "      <td>4.757475</td>\n",
       "      <td>4.000000</td>\n",
       "      <td>17.200000</td>\n",
       "      <td>22.000000</td>\n",
       "    </tr>\n",
       "    <tr>\n",
       "      <th>2</th>\n",
       "      <td>0.000000</td>\n",
       "      <td>30.000000</td>\n",
       "      <td>38.000000</td>\n",
       "      <td>46.000000</td>\n",
       "      <td>12.900000</td>\n",
       "      <td>4.000000</td>\n",
       "      <td>3.000000</td>\n",
       "      <td>19.000000</td>\n",
       "      <td>21.000000</td>\n",
       "      <td>26.000000</td>\n",
       "    </tr>\n",
       "    <tr>\n",
       "      <th>3</th>\n",
       "      <td>0.000000</td>\n",
       "      <td>16.000000</td>\n",
       "      <td>45.000000</td>\n",
       "      <td>43.628141</td>\n",
       "      <td>9.200000</td>\n",
       "      <td>4.290128</td>\n",
       "      <td>4.757475</td>\n",
       "      <td>11.000000</td>\n",
       "      <td>18.100000</td>\n",
       "      <td>9.000000</td>\n",
       "    </tr>\n",
       "    <tr>\n",
       "      <th>4</th>\n",
       "      <td>1.936709</td>\n",
       "      <td>47.689362</td>\n",
       "      <td>61.722944</td>\n",
       "      <td>43.726775</td>\n",
       "      <td>15.154894</td>\n",
       "      <td>4.801102</td>\n",
       "      <td>4.920000</td>\n",
       "      <td>14.515152</td>\n",
       "      <td>20.180519</td>\n",
       "      <td>21.195745</td>\n",
       "    </tr>\n",
       "    <tr>\n",
       "      <th>...</th>\n",
       "      <td>...</td>\n",
       "      <td>...</td>\n",
       "      <td>...</td>\n",
       "      <td>...</td>\n",
       "      <td>...</td>\n",
       "      <td>...</td>\n",
       "      <td>...</td>\n",
       "      <td>...</td>\n",
       "      <td>...</td>\n",
       "      <td>...</td>\n",
       "    </tr>\n",
       "    <tr>\n",
       "      <th>145454</th>\n",
       "      <td>0.000000</td>\n",
       "      <td>27.000000</td>\n",
       "      <td>59.000000</td>\n",
       "      <td>31.000000</td>\n",
       "      <td>3.500000</td>\n",
       "      <td>5.666667</td>\n",
       "      <td>5.500000</td>\n",
       "      <td>15.000000</td>\n",
       "      <td>9.400000</td>\n",
       "      <td>13.000000</td>\n",
       "    </tr>\n",
       "    <tr>\n",
       "      <th>145455</th>\n",
       "      <td>0.000000</td>\n",
       "      <td>24.000000</td>\n",
       "      <td>51.000000</td>\n",
       "      <td>31.000000</td>\n",
       "      <td>2.800000</td>\n",
       "      <td>5.666667</td>\n",
       "      <td>5.500000</td>\n",
       "      <td>13.000000</td>\n",
       "      <td>10.100000</td>\n",
       "      <td>11.000000</td>\n",
       "    </tr>\n",
       "    <tr>\n",
       "      <th>145456</th>\n",
       "      <td>0.000000</td>\n",
       "      <td>21.000000</td>\n",
       "      <td>56.000000</td>\n",
       "      <td>22.000000</td>\n",
       "      <td>3.600000</td>\n",
       "      <td>5.666667</td>\n",
       "      <td>5.500000</td>\n",
       "      <td>13.000000</td>\n",
       "      <td>10.900000</td>\n",
       "      <td>9.000000</td>\n",
       "    </tr>\n",
       "    <tr>\n",
       "      <th>145457</th>\n",
       "      <td>0.000000</td>\n",
       "      <td>24.000000</td>\n",
       "      <td>53.000000</td>\n",
       "      <td>37.000000</td>\n",
       "      <td>5.400000</td>\n",
       "      <td>5.666667</td>\n",
       "      <td>5.500000</td>\n",
       "      <td>9.000000</td>\n",
       "      <td>12.500000</td>\n",
       "      <td>9.000000</td>\n",
       "    </tr>\n",
       "    <tr>\n",
       "      <th>145458</th>\n",
       "      <td>0.000000</td>\n",
       "      <td>24.000000</td>\n",
       "      <td>51.000000</td>\n",
       "      <td>28.000000</td>\n",
       "      <td>7.800000</td>\n",
       "      <td>2.000000</td>\n",
       "      <td>3.000000</td>\n",
       "      <td>13.000000</td>\n",
       "      <td>15.100000</td>\n",
       "      <td>7.000000</td>\n",
       "    </tr>\n",
       "  </tbody>\n",
       "</table>\n",
       "<p>145459 rows × 10 columns</p>\n",
       "</div>"
      ],
      "text/plain": [
       "        Rainfall  Humidity3pm  Humidity9am  WindGustSpeed    MinTemp  \\\n",
       "0       0.600000    22.000000    71.000000      44.000000  13.400000   \n",
       "1       0.000000    25.000000    44.000000      59.000000   7.400000   \n",
       "2       0.000000    30.000000    38.000000      46.000000  12.900000   \n",
       "3       0.000000    16.000000    45.000000      43.628141   9.200000   \n",
       "4       1.936709    47.689362    61.722944      43.726775  15.154894   \n",
       "...          ...          ...          ...            ...        ...   \n",
       "145454  0.000000    27.000000    59.000000      31.000000   3.500000   \n",
       "145455  0.000000    24.000000    51.000000      31.000000   2.800000   \n",
       "145456  0.000000    21.000000    56.000000      22.000000   3.600000   \n",
       "145457  0.000000    24.000000    53.000000      37.000000   5.400000   \n",
       "145458  0.000000    24.000000    51.000000      28.000000   7.800000   \n",
       "\n",
       "        Cloud3pm  Cloud9am  WindSpeed9am    Temp9am  WindSpeed3pm  \n",
       "0       4.789474  8.000000     20.000000  16.900000     24.000000  \n",
       "1       4.290128  4.757475      4.000000  17.200000     22.000000  \n",
       "2       4.000000  3.000000     19.000000  21.000000     26.000000  \n",
       "3       4.290128  4.757475     11.000000  18.100000      9.000000  \n",
       "4       4.801102  4.920000     14.515152  20.180519     21.195745  \n",
       "...          ...       ...           ...        ...           ...  \n",
       "145454  5.666667  5.500000     15.000000   9.400000     13.000000  \n",
       "145455  5.666667  5.500000     13.000000  10.100000     11.000000  \n",
       "145456  5.666667  5.500000     13.000000  10.900000      9.000000  \n",
       "145457  5.666667  5.500000      9.000000  12.500000      9.000000  \n",
       "145458  2.000000  3.000000     13.000000  15.100000      7.000000  \n",
       "\n",
       "[145459 rows x 10 columns]"
      ]
     },
     "execution_count": 57,
     "metadata": {},
     "output_type": "execute_result"
    }
   ],
   "source": [
    "x"
   ]
  },
  {
   "cell_type": "code",
   "execution_count": 84,
   "metadata": {},
   "outputs": [
    {
     "data": {
      "text/plain": [
       "0         0.000000\n",
       "1         1.936709\n",
       "2         0.200000\n",
       "3         0.000000\n",
       "4         0.000000\n",
       "            ...   \n",
       "145452    0.000000\n",
       "145453    0.000000\n",
       "145454    0.000000\n",
       "145455    0.000000\n",
       "145456    0.000000\n",
       "Name: Rain_3day_after, Length: 145457, dtype: float64"
      ]
     },
     "execution_count": 84,
     "metadata": {},
     "output_type": "execute_result"
    }
   ],
   "source": [
    "y = df['Rain_3day_after']\n",
    "y"
   ]
  },
  {
   "cell_type": "code",
   "execution_count": 85,
   "metadata": {},
   "outputs": [],
   "source": [
    "X_train, X_test, y_train, y_test = train_test_split(x,y, test_size=0.2, shuffle=False)"
   ]
  },
  {
   "cell_type": "code",
   "execution_count": 86,
   "metadata": {},
   "outputs": [
    {
     "data": {
      "text/plain": [
       "RandomForestRegressor(n_estimators=200)"
      ]
     },
     "execution_count": 86,
     "metadata": {},
     "output_type": "execute_result"
    }
   ],
   "source": [
    "#fitting the model\n",
    "rf = RandomForestRegressor(n_estimators=200)\n",
    "rf.fit(X_train, y_train)"
   ]
  },
  {
   "cell_type": "code",
   "execution_count": 87,
   "metadata": {},
   "outputs": [],
   "source": [
    "predicted = rf.predict(X_test)"
   ]
  },
  {
   "cell_type": "code",
   "execution_count": 88,
   "metadata": {},
   "outputs": [
    {
     "name": "stdout",
     "output_type": "stream",
     "text": [
      "Mean absolute error:  4.12647025479115\n"
     ]
    }
   ],
   "source": [
    "print(\"Mean absolute error: \", mean_absolute_error(y_test, predicted))"
   ]
  },
  {
   "cell_type": "code",
   "execution_count": 89,
   "metadata": {},
   "outputs": [
    {
     "name": "stdout",
     "output_type": "stream",
     "text": [
      "Mean squared error:  67.15836622105085\n"
     ]
    }
   ],
   "source": [
    "print(\"Mean squared error: \", mean_squared_error(y_test, predicted))"
   ]
  },
  {
   "cell_type": "code",
   "execution_count": 90,
   "metadata": {},
   "outputs": [
    {
     "name": "stdout",
     "output_type": "stream",
     "text": [
      "Root mean squared error:  8.195020818829617\n"
     ]
    }
   ],
   "source": [
    "print(\"Root mean squared error: \", np.sqrt(mean_squared_error(y_test, predicted)))"
   ]
  },
  {
   "cell_type": "code",
   "execution_count": 91,
   "metadata": {
    "scrolled": true
   },
   "outputs": [
    {
     "data": {
      "text/plain": [
       "Text(0.5, 1.0, 'Actual rainfall amount - Predicted rainfall amount')"
      ]
     },
     "execution_count": 91,
     "metadata": {},
     "output_type": "execute_result"
    },
    {
     "data": {
      "image/png": "[encoded data removed]",
      "text/plain": [
       "<Figure size 432x288 with 1 Axes>"
      ]
     },
     "metadata": {
      "needs_background": "light"
     },
     "output_type": "display_data"
    }
   ],
   "source": [
    "g=plt.plot(y_test - predicted, marker='o', linestyle='')\n",
    "plt.xlabel(\"Index of dataset\")\n",
    "plt.ylabel(\"Rainfall Amount\")\n",
    "plt.title(\"Actual rainfall amount - Predicted rainfall amount\")"
   ]
  },
  {
   "cell_type": "code",
   "execution_count": 92,
   "metadata": {},
   "outputs": [
    {
     "data": {
      "text/plain": [
       "['Rain_4day_after',\n",
       " 'Rain_3day_after',\n",
       " 'Rain_5day_after',\n",
       " 'Rain_2day_after',\n",
       " 'Humidity3pm',\n",
       " 'Rain_1day_after',\n",
       " 'MinTemp',\n",
       " 'Rainfall',\n",
       " 'Humidity9am',\n",
       " 'Rain_1day_before',\n",
       " 'Rain_3day_before',\n",
       " 'Rain_2day_before',\n",
       " 'Rain_10day_after',\n",
       " 'Rain_5day_before',\n",
       " 'Rain_4day_before',\n",
       " 'Rain_15day_after',\n",
       " 'Temp9am',\n",
       " 'Rain_25day_after',\n",
       " 'Rain_20day_after',\n",
       " 'Rain_10day_before',\n",
       " 'Rain_30day_before',\n",
       " 'Rain_20day_before',\n",
       " 'Rain_15day_before',\n",
       " 'Rain_30day_after',\n",
       " 'Cloud3pm',\n",
       " 'Rain_25day_before',\n",
       " 'Cloud9am',\n",
       " 'MaxTemp',\n",
       " 'Temp3pm']"
      ]
     },
     "execution_count": 92,
     "metadata": {},
     "output_type": "execute_result"
    }
   ],
   "source": [
    "x = []\n",
    "for i in range (len(related_4day_after)):\n",
    "    if related_4day_after[i]>0:\n",
    "        x.append(related_4day_after.index[i])\n",
    "        \n",
    "x"
   ]
  },
  {
   "cell_type": "code",
   "execution_count": 93,
   "metadata": {},
   "outputs": [],
   "source": [
    "x = ['Rainfall', 'Humidity3pm', 'Humidity9am', 'MinTemp', 'Cloud3pm', 'Cloud9am', 'Temp9am', 'MaxTemp', 'Temp3pm']"
   ]
  },
  {
   "cell_type": "code",
   "execution_count": 95,
   "metadata": {},
   "outputs": [],
   "source": [
    "df = df[:-1]"
   ]
  },
  {
   "cell_type": "code",
   "execution_count": 96,
   "metadata": {},
   "outputs": [],
   "source": [
    "x = df[x]"
   ]
  },
  {
   "cell_type": "code",
   "execution_count": 97,
   "metadata": {},
   "outputs": [
    {
     "data": {
      "text/html": [
       "<div>\n",
       "<style scoped>\n",
       "    .dataframe tbody tr th:only-of-type {\n",
       "        vertical-align: middle;\n",
       "    }\n",
       "\n",
       "    .dataframe tbody tr th {\n",
       "        vertical-align: top;\n",
       "    }\n",
       "\n",
       "    .dataframe thead th {\n",
       "        text-align: right;\n",
       "    }\n",
       "</style>\n",
       "<table border=\"1\" class=\"dataframe\">\n",
       "  <thead>\n",
       "    <tr style=\"text-align: right;\">\n",
       "      <th></th>\n",
       "      <th>Rainfall</th>\n",
       "      <th>Humidity3pm</th>\n",
       "      <th>Humidity9am</th>\n",
       "      <th>MinTemp</th>\n",
       "      <th>Cloud3pm</th>\n",
       "      <th>Cloud9am</th>\n",
       "      <th>Temp9am</th>\n",
       "      <th>MaxTemp</th>\n",
       "      <th>Temp3pm</th>\n",
       "    </tr>\n",
       "  </thead>\n",
       "  <tbody>\n",
       "    <tr>\n",
       "      <th>0</th>\n",
       "      <td>0.600000</td>\n",
       "      <td>22.000000</td>\n",
       "      <td>71.000000</td>\n",
       "      <td>13.400000</td>\n",
       "      <td>4.789474</td>\n",
       "      <td>8.000000</td>\n",
       "      <td>16.900000</td>\n",
       "      <td>22.900000</td>\n",
       "      <td>21.800000</td>\n",
       "    </tr>\n",
       "    <tr>\n",
       "      <th>1</th>\n",
       "      <td>0.000000</td>\n",
       "      <td>25.000000</td>\n",
       "      <td>44.000000</td>\n",
       "      <td>7.400000</td>\n",
       "      <td>4.290128</td>\n",
       "      <td>4.757475</td>\n",
       "      <td>17.200000</td>\n",
       "      <td>32.600000</td>\n",
       "      <td>24.300000</td>\n",
       "    </tr>\n",
       "    <tr>\n",
       "      <th>2</th>\n",
       "      <td>0.000000</td>\n",
       "      <td>30.000000</td>\n",
       "      <td>38.000000</td>\n",
       "      <td>12.900000</td>\n",
       "      <td>4.000000</td>\n",
       "      <td>3.000000</td>\n",
       "      <td>21.000000</td>\n",
       "      <td>25.700000</td>\n",
       "      <td>23.200000</td>\n",
       "    </tr>\n",
       "    <tr>\n",
       "      <th>3</th>\n",
       "      <td>0.000000</td>\n",
       "      <td>16.000000</td>\n",
       "      <td>45.000000</td>\n",
       "      <td>9.200000</td>\n",
       "      <td>4.290128</td>\n",
       "      <td>4.757475</td>\n",
       "      <td>18.100000</td>\n",
       "      <td>28.000000</td>\n",
       "      <td>26.500000</td>\n",
       "    </tr>\n",
       "    <tr>\n",
       "      <th>4</th>\n",
       "      <td>1.936709</td>\n",
       "      <td>47.689362</td>\n",
       "      <td>61.722944</td>\n",
       "      <td>15.154894</td>\n",
       "      <td>4.801102</td>\n",
       "      <td>4.920000</td>\n",
       "      <td>20.180519</td>\n",
       "      <td>25.785654</td>\n",
       "      <td>24.071064</td>\n",
       "    </tr>\n",
       "    <tr>\n",
       "      <th>...</th>\n",
       "      <td>...</td>\n",
       "      <td>...</td>\n",
       "      <td>...</td>\n",
       "      <td>...</td>\n",
       "      <td>...</td>\n",
       "      <td>...</td>\n",
       "      <td>...</td>\n",
       "      <td>...</td>\n",
       "      <td>...</td>\n",
       "    </tr>\n",
       "    <tr>\n",
       "      <th>145451</th>\n",
       "      <td>0.000000</td>\n",
       "      <td>25.000000</td>\n",
       "      <td>53.000000</td>\n",
       "      <td>6.400000</td>\n",
       "      <td>5.666667</td>\n",
       "      <td>5.500000</td>\n",
       "      <td>11.200000</td>\n",
       "      <td>23.400000</td>\n",
       "      <td>23.100000</td>\n",
       "    </tr>\n",
       "    <tr>\n",
       "      <th>145452</th>\n",
       "      <td>0.000000</td>\n",
       "      <td>32.000000</td>\n",
       "      <td>56.000000</td>\n",
       "      <td>8.000000</td>\n",
       "      <td>7.000000</td>\n",
       "      <td>5.500000</td>\n",
       "      <td>11.600000</td>\n",
       "      <td>20.700000</td>\n",
       "      <td>20.000000</td>\n",
       "    </tr>\n",
       "    <tr>\n",
       "      <th>145453</th>\n",
       "      <td>0.000000</td>\n",
       "      <td>33.000000</td>\n",
       "      <td>63.000000</td>\n",
       "      <td>7.400000</td>\n",
       "      <td>5.666667</td>\n",
       "      <td>5.500000</td>\n",
       "      <td>11.000000</td>\n",
       "      <td>20.600000</td>\n",
       "      <td>20.300000</td>\n",
       "    </tr>\n",
       "    <tr>\n",
       "      <th>145454</th>\n",
       "      <td>0.000000</td>\n",
       "      <td>27.000000</td>\n",
       "      <td>59.000000</td>\n",
       "      <td>3.500000</td>\n",
       "      <td>5.666667</td>\n",
       "      <td>5.500000</td>\n",
       "      <td>9.400000</td>\n",
       "      <td>21.800000</td>\n",
       "      <td>20.900000</td>\n",
       "    </tr>\n",
       "    <tr>\n",
       "      <th>145455</th>\n",
       "      <td>0.000000</td>\n",
       "      <td>24.000000</td>\n",
       "      <td>51.000000</td>\n",
       "      <td>2.800000</td>\n",
       "      <td>5.666667</td>\n",
       "      <td>5.500000</td>\n",
       "      <td>10.100000</td>\n",
       "      <td>23.400000</td>\n",
       "      <td>22.400000</td>\n",
       "    </tr>\n",
       "  </tbody>\n",
       "</table>\n",
       "<p>145456 rows × 9 columns</p>\n",
       "</div>"
      ],
      "text/plain": [
       "        Rainfall  Humidity3pm  Humidity9am    MinTemp  Cloud3pm  Cloud9am  \\\n",
       "0       0.600000    22.000000    71.000000  13.400000  4.789474  8.000000   \n",
       "1       0.000000    25.000000    44.000000   7.400000  4.290128  4.757475   \n",
       "2       0.000000    30.000000    38.000000  12.900000  4.000000  3.000000   \n",
       "3       0.000000    16.000000    45.000000   9.200000  4.290128  4.757475   \n",
       "4       1.936709    47.689362    61.722944  15.154894  4.801102  4.920000   \n",
       "...          ...          ...          ...        ...       ...       ...   \n",
       "145451  0.000000    25.000000    53.000000   6.400000  5.666667  5.500000   \n",
       "145452  0.000000    32.000000    56.000000   8.000000  7.000000  5.500000   \n",
       "145453  0.000000    33.000000    63.000000   7.400000  5.666667  5.500000   \n",
       "145454  0.000000    27.000000    59.000000   3.500000  5.666667  5.500000   \n",
       "145455  0.000000    24.000000    51.000000   2.800000  5.666667  5.500000   \n",
       "\n",
       "          Temp9am    MaxTemp    Temp3pm  \n",
       "0       16.900000  22.900000  21.800000  \n",
       "1       17.200000  32.600000  24.300000  \n",
       "2       21.000000  25.700000  23.200000  \n",
       "3       18.100000  28.000000  26.500000  \n",
       "4       20.180519  25.785654  24.071064  \n",
       "...           ...        ...        ...  \n",
       "145451  11.200000  23.400000  23.100000  \n",
       "145452  11.600000  20.700000  20.000000  \n",
       "145453  11.000000  20.600000  20.300000  \n",
       "145454   9.400000  21.800000  20.900000  \n",
       "145455  10.100000  23.400000  22.400000  \n",
       "\n",
       "[145456 rows x 9 columns]"
      ]
     },
     "execution_count": 97,
     "metadata": {},
     "output_type": "execute_result"
    }
   ],
   "source": [
    "x"
   ]
  },
  {
   "cell_type": "code",
   "execution_count": 98,
   "metadata": {},
   "outputs": [
    {
     "data": {
      "text/plain": [
       "0         1.936709\n",
       "1         0.200000\n",
       "2         0.000000\n",
       "3         0.000000\n",
       "4         0.000000\n",
       "            ...   \n",
       "145451    0.000000\n",
       "145452    0.000000\n",
       "145453    0.000000\n",
       "145454    0.000000\n",
       "145455    0.000000\n",
       "Name: Rain_4day_after, Length: 145456, dtype: float64"
      ]
     },
     "execution_count": 98,
     "metadata": {},
     "output_type": "execute_result"
    }
   ],
   "source": [
    "y = df['Rain_4day_after']\n",
    "y"
   ]
  },
  {
   "cell_type": "code",
   "execution_count": 99,
   "metadata": {},
   "outputs": [],
   "source": [
    "X_train, X_test, y_train, y_test = train_test_split(x,y, test_size=0.2, shuffle=False)"
   ]
  },
  {
   "cell_type": "code",
   "execution_count": 100,
   "metadata": {},
   "outputs": [
    {
     "data": {
      "text/plain": [
       "RandomForestRegressor(n_estimators=200)"
      ]
     },
     "execution_count": 100,
     "metadata": {},
     "output_type": "execute_result"
    }
   ],
   "source": [
    "#fitting the model\n",
    "rf = RandomForestRegressor(n_estimators=200)\n",
    "rf.fit(X_train, y_train)"
   ]
  },
  {
   "cell_type": "code",
   "execution_count": 101,
   "metadata": {},
   "outputs": [],
   "source": [
    "predicted = rf.predict(X_test)"
   ]
  },
  {
   "cell_type": "code",
   "execution_count": 102,
   "metadata": {},
   "outputs": [
    {
     "name": "stdout",
     "output_type": "stream",
     "text": [
      "Mean absolute error:  4.039088169373172\n"
     ]
    }
   ],
   "source": [
    "print(\"Mean absolute error: \", mean_absolute_error(y_test, predicted))"
   ]
  },
  {
   "cell_type": "code",
   "execution_count": 103,
   "metadata": {},
   "outputs": [
    {
     "name": "stdout",
     "output_type": "stream",
     "text": [
      "Mean squared error:  63.00159988384665\n"
     ]
    }
   ],
   "source": [
    "print(\"Mean squared error: \", mean_squared_error(y_test, predicted))"
   ]
  },
  {
   "cell_type": "code",
   "execution_count": 104,
   "metadata": {},
   "outputs": [
    {
     "name": "stdout",
     "output_type": "stream",
     "text": [
      "Root mean squared error:  7.937354715763096\n"
     ]
    }
   ],
   "source": [
    "print(\"Root mean squared error: \", np.sqrt(mean_squared_error(y_test, predicted)))"
   ]
  },
  {
   "cell_type": "code",
   "execution_count": 105,
   "metadata": {
    "scrolled": true
   },
   "outputs": [
    {
     "data": {
      "text/plain": [
       "Text(0.5, 1.0, 'Actual rainfall amount - Predicted rainfall amount')"
      ]
     },
     "execution_count": 105,
     "metadata": {},
     "output_type": "execute_result"
    },
    {
     "data": {
      "image/png": "[encoded data removed]",
      "text/plain": [
       "<Figure size 432x288 with 1 Axes>"
      ]
     },
     "metadata": {
      "needs_background": "light"
     },
     "output_type": "display_data"
    }
   ],
   "source": [
    "g=plt.plot(y_test - predicted, marker='o', linestyle='')\n",
    "plt.xlabel(\"Index of dataset\")\n",
    "plt.ylabel(\"Rainfall Amount\")\n",
    "plt.title(\"Actual rainfall amount - Predicted rainfall amount\")"
   ]
  },
  {
   "cell_type": "code",
   "execution_count": 106,
   "metadata": {},
   "outputs": [
    {
     "data": {
      "text/plain": [
       "['Rain_5day_after',\n",
       " 'Rain_4day_after',\n",
       " 'Rain_3day_after',\n",
       " 'Rain_2day_after',\n",
       " 'Humidity3pm',\n",
       " 'Rain_1day_after',\n",
       " 'MinTemp',\n",
       " 'Rainfall',\n",
       " 'Rain_10day_after',\n",
       " 'Rain_2day_before',\n",
       " 'Rain_15day_after',\n",
       " 'Rain_5day_before',\n",
       " 'Humidity9am',\n",
       " 'Rain_1day_before',\n",
       " 'Rain_4day_before',\n",
       " 'Rain_3day_before',\n",
       " 'Rain_20day_after',\n",
       " 'Rain_10day_before',\n",
       " 'Rain_25day_before',\n",
       " 'Rain_30day_before',\n",
       " 'Temp9am',\n",
       " 'Rain_15day_before',\n",
       " 'Rain_25day_after',\n",
       " 'Rain_20day_before',\n",
       " 'Rain_30day_after',\n",
       " 'Cloud3pm',\n",
       " 'Cloud9am',\n",
       " 'MaxTemp',\n",
       " 'Temp3pm']"
      ]
     },
     "execution_count": 106,
     "metadata": {},
     "output_type": "execute_result"
    }
   ],
   "source": [
    "x = []\n",
    "for i in range (len(related_5day_after)):\n",
    "    if related_5day_after[i]>0:\n",
    "        x.append(related_5day_after.index[i])\n",
    "        \n",
    "x"
   ]
  },
  {
   "cell_type": "code",
   "execution_count": 107,
   "metadata": {},
   "outputs": [],
   "source": [
    "x = ['Rainfall', 'Humidity3pm', 'Humidity9am', 'MinTemp', 'Cloud3pm', 'Cloud9am', 'Temp9am', 'MaxTemp',\n",
    " 'Temp3pm']"
   ]
  },
  {
   "cell_type": "code",
   "execution_count": 109,
   "metadata": {},
   "outputs": [],
   "source": [
    "df = df[:-1]"
   ]
  },
  {
   "cell_type": "code",
   "execution_count": 110,
   "metadata": {},
   "outputs": [],
   "source": [
    "x = df[x]"
   ]
  },
  {
   "cell_type": "code",
   "execution_count": 111,
   "metadata": {},
   "outputs": [
    {
     "data": {
      "text/html": [
       "<div>\n",
       "<style scoped>\n",
       "    .dataframe tbody tr th:only-of-type {\n",
       "        vertical-align: middle;\n",
       "    }\n",
       "\n",
       "    .dataframe tbody tr th {\n",
       "        vertical-align: top;\n",
       "    }\n",
       "\n",
       "    .dataframe thead th {\n",
       "        text-align: right;\n",
       "    }\n",
       "</style>\n",
       "<table border=\"1\" class=\"dataframe\">\n",
       "  <thead>\n",
       "    <tr style=\"text-align: right;\">\n",
       "      <th></th>\n",
       "      <th>Rainfall</th>\n",
       "      <th>Humidity3pm</th>\n",
       "      <th>Humidity9am</th>\n",
       "      <th>MinTemp</th>\n",
       "      <th>Cloud3pm</th>\n",
       "      <th>Cloud9am</th>\n",
       "      <th>Temp9am</th>\n",
       "      <th>MaxTemp</th>\n",
       "      <th>Temp3pm</th>\n",
       "    </tr>\n",
       "  </thead>\n",
       "  <tbody>\n",
       "    <tr>\n",
       "      <th>0</th>\n",
       "      <td>0.600000</td>\n",
       "      <td>22.000000</td>\n",
       "      <td>71.000000</td>\n",
       "      <td>13.400000</td>\n",
       "      <td>4.789474</td>\n",
       "      <td>8.000000</td>\n",
       "      <td>16.900000</td>\n",
       "      <td>22.900000</td>\n",
       "      <td>21.800000</td>\n",
       "    </tr>\n",
       "    <tr>\n",
       "      <th>1</th>\n",
       "      <td>0.000000</td>\n",
       "      <td>25.000000</td>\n",
       "      <td>44.000000</td>\n",
       "      <td>7.400000</td>\n",
       "      <td>4.290128</td>\n",
       "      <td>4.757475</td>\n",
       "      <td>17.200000</td>\n",
       "      <td>32.600000</td>\n",
       "      <td>24.300000</td>\n",
       "    </tr>\n",
       "    <tr>\n",
       "      <th>2</th>\n",
       "      <td>0.000000</td>\n",
       "      <td>30.000000</td>\n",
       "      <td>38.000000</td>\n",
       "      <td>12.900000</td>\n",
       "      <td>4.000000</td>\n",
       "      <td>3.000000</td>\n",
       "      <td>21.000000</td>\n",
       "      <td>25.700000</td>\n",
       "      <td>23.200000</td>\n",
       "    </tr>\n",
       "    <tr>\n",
       "      <th>3</th>\n",
       "      <td>0.000000</td>\n",
       "      <td>16.000000</td>\n",
       "      <td>45.000000</td>\n",
       "      <td>9.200000</td>\n",
       "      <td>4.290128</td>\n",
       "      <td>4.757475</td>\n",
       "      <td>18.100000</td>\n",
       "      <td>28.000000</td>\n",
       "      <td>26.500000</td>\n",
       "    </tr>\n",
       "    <tr>\n",
       "      <th>4</th>\n",
       "      <td>1.936709</td>\n",
       "      <td>47.689362</td>\n",
       "      <td>61.722944</td>\n",
       "      <td>15.154894</td>\n",
       "      <td>4.801102</td>\n",
       "      <td>4.920000</td>\n",
       "      <td>20.180519</td>\n",
       "      <td>25.785654</td>\n",
       "      <td>24.071064</td>\n",
       "    </tr>\n",
       "    <tr>\n",
       "      <th>...</th>\n",
       "      <td>...</td>\n",
       "      <td>...</td>\n",
       "      <td>...</td>\n",
       "      <td>...</td>\n",
       "      <td>...</td>\n",
       "      <td>...</td>\n",
       "      <td>...</td>\n",
       "      <td>...</td>\n",
       "      <td>...</td>\n",
       "    </tr>\n",
       "    <tr>\n",
       "      <th>145450</th>\n",
       "      <td>0.000000</td>\n",
       "      <td>24.000000</td>\n",
       "      <td>53.000000</td>\n",
       "      <td>5.200000</td>\n",
       "      <td>5.666667</td>\n",
       "      <td>5.500000</td>\n",
       "      <td>12.300000</td>\n",
       "      <td>24.300000</td>\n",
       "      <td>23.300000</td>\n",
       "    </tr>\n",
       "    <tr>\n",
       "      <th>145451</th>\n",
       "      <td>0.000000</td>\n",
       "      <td>25.000000</td>\n",
       "      <td>53.000000</td>\n",
       "      <td>6.400000</td>\n",
       "      <td>5.666667</td>\n",
       "      <td>5.500000</td>\n",
       "      <td>11.200000</td>\n",
       "      <td>23.400000</td>\n",
       "      <td>23.100000</td>\n",
       "    </tr>\n",
       "    <tr>\n",
       "      <th>145452</th>\n",
       "      <td>0.000000</td>\n",
       "      <td>32.000000</td>\n",
       "      <td>56.000000</td>\n",
       "      <td>8.000000</td>\n",
       "      <td>7.000000</td>\n",
       "      <td>5.500000</td>\n",
       "      <td>11.600000</td>\n",
       "      <td>20.700000</td>\n",
       "      <td>20.000000</td>\n",
       "    </tr>\n",
       "    <tr>\n",
       "      <th>145453</th>\n",
       "      <td>0.000000</td>\n",
       "      <td>33.000000</td>\n",
       "      <td>63.000000</td>\n",
       "      <td>7.400000</td>\n",
       "      <td>5.666667</td>\n",
       "      <td>5.500000</td>\n",
       "      <td>11.000000</td>\n",
       "      <td>20.600000</td>\n",
       "      <td>20.300000</td>\n",
       "    </tr>\n",
       "    <tr>\n",
       "      <th>145454</th>\n",
       "      <td>0.000000</td>\n",
       "      <td>27.000000</td>\n",
       "      <td>59.000000</td>\n",
       "      <td>3.500000</td>\n",
       "      <td>5.666667</td>\n",
       "      <td>5.500000</td>\n",
       "      <td>9.400000</td>\n",
       "      <td>21.800000</td>\n",
       "      <td>20.900000</td>\n",
       "    </tr>\n",
       "  </tbody>\n",
       "</table>\n",
       "<p>145455 rows × 9 columns</p>\n",
       "</div>"
      ],
      "text/plain": [
       "        Rainfall  Humidity3pm  Humidity9am    MinTemp  Cloud3pm  Cloud9am  \\\n",
       "0       0.600000    22.000000    71.000000  13.400000  4.789474  8.000000   \n",
       "1       0.000000    25.000000    44.000000   7.400000  4.290128  4.757475   \n",
       "2       0.000000    30.000000    38.000000  12.900000  4.000000  3.000000   \n",
       "3       0.000000    16.000000    45.000000   9.200000  4.290128  4.757475   \n",
       "4       1.936709    47.689362    61.722944  15.154894  4.801102  4.920000   \n",
       "...          ...          ...          ...        ...       ...       ...   \n",
       "145450  0.000000    24.000000    53.000000   5.200000  5.666667  5.500000   \n",
       "145451  0.000000    25.000000    53.000000   6.400000  5.666667  5.500000   \n",
       "145452  0.000000    32.000000    56.000000   8.000000  7.000000  5.500000   \n",
       "145453  0.000000    33.000000    63.000000   7.400000  5.666667  5.500000   \n",
       "145454  0.000000    27.000000    59.000000   3.500000  5.666667  5.500000   \n",
       "\n",
       "          Temp9am    MaxTemp    Temp3pm  \n",
       "0       16.900000  22.900000  21.800000  \n",
       "1       17.200000  32.600000  24.300000  \n",
       "2       21.000000  25.700000  23.200000  \n",
       "3       18.100000  28.000000  26.500000  \n",
       "4       20.180519  25.785654  24.071064  \n",
       "...           ...        ...        ...  \n",
       "145450  12.300000  24.300000  23.300000  \n",
       "145451  11.200000  23.400000  23.100000  \n",
       "145452  11.600000  20.700000  20.000000  \n",
       "145453  11.000000  20.600000  20.300000  \n",
       "145454   9.400000  21.800000  20.900000  \n",
       "\n",
       "[145455 rows x 9 columns]"
      ]
     },
     "execution_count": 111,
     "metadata": {},
     "output_type": "execute_result"
    }
   ],
   "source": [
    "x"
   ]
  },
  {
   "cell_type": "code",
   "execution_count": 112,
   "metadata": {},
   "outputs": [
    {
     "data": {
      "text/plain": [
       "0         0.2\n",
       "1         0.0\n",
       "2         0.0\n",
       "3         0.0\n",
       "4         1.4\n",
       "         ... \n",
       "145450    0.0\n",
       "145451    0.0\n",
       "145452    0.0\n",
       "145453    0.0\n",
       "145454    0.0\n",
       "Name: Rain_5day_after, Length: 145455, dtype: float64"
      ]
     },
     "execution_count": 112,
     "metadata": {},
     "output_type": "execute_result"
    }
   ],
   "source": [
    "y = df['Rain_5day_after']\n",
    "y"
   ]
  },
  {
   "cell_type": "code",
   "execution_count": 113,
   "metadata": {},
   "outputs": [],
   "source": [
    "X_train, X_test, y_train, y_test = train_test_split(x,y, test_size=0.2, shuffle=False)"
   ]
  },
  {
   "cell_type": "code",
   "execution_count": 114,
   "metadata": {},
   "outputs": [
    {
     "data": {
      "text/plain": [
       "RandomForestRegressor(n_estimators=200)"
      ]
     },
     "execution_count": 114,
     "metadata": {},
     "output_type": "execute_result"
    }
   ],
   "source": [
    "#fitting the model\n",
    "rf = RandomForestRegressor(n_estimators=200)\n",
    "rf.fit(X_train, y_train)"
   ]
  },
  {
   "cell_type": "code",
   "execution_count": 115,
   "metadata": {},
   "outputs": [],
   "source": [
    "predicted = rf.predict(X_test)"
   ]
  },
  {
   "cell_type": "code",
   "execution_count": 116,
   "metadata": {},
   "outputs": [
    {
     "name": "stdout",
     "output_type": "stream",
     "text": [
      "Mean absolute error:  4.081959988289949\n"
     ]
    }
   ],
   "source": [
    "print(\"Mean absolute error: \", mean_absolute_error(y_test, predicted))"
   ]
  },
  {
   "cell_type": "code",
   "execution_count": 117,
   "metadata": {},
   "outputs": [
    {
     "name": "stdout",
     "output_type": "stream",
     "text": [
      "Mean squared error:  64.93857876955217\n"
     ]
    }
   ],
   "source": [
    "print(\"Mean squared error: \", mean_squared_error(y_test, predicted))"
   ]
  },
  {
   "cell_type": "code",
   "execution_count": 118,
   "metadata": {},
   "outputs": [
    {
     "name": "stdout",
     "output_type": "stream",
     "text": [
      "Root mean squared error:  8.058447665000509\n"
     ]
    }
   ],
   "source": [
    "print(\"Root mean squared error: \", np.sqrt(mean_squared_error(y_test, predicted)))"
   ]
  },
  {
   "cell_type": "code",
   "execution_count": 119,
   "metadata": {
    "scrolled": true
   },
   "outputs": [
    {
     "data": {
      "text/plain": [
       "Text(0.5, 1.0, 'Actual rainfall amount - Predicted rainfall amount')"
      ]
     },
     "execution_count": 119,
     "metadata": {},
     "output_type": "execute_result"
    },
    {
     "data": {
      "image/png": "[encoded data removed]",
      "text/plain": [
       "<Figure size 432x288 with 1 Axes>"
      ]
     },
     "metadata": {
      "needs_background": "light"
     },
     "output_type": "display_data"
    }
   ],
   "source": [
    "g=plt.plot(y_test - predicted, marker='o', linestyle='')\n",
    "plt.xlabel(\"Index of dataset\")\n",
    "plt.ylabel(\"Rainfall Amount\")\n",
    "plt.title(\"Actual rainfall amount - Predicted rainfall amount\")"
   ]
  },
  {
   "cell_type": "code",
   "execution_count": 120,
   "metadata": {},
   "outputs": [
    {
     "data": {
      "text/plain": [
       "['Rain_10day_after',\n",
       " 'Humidity3pm',\n",
       " 'MinTemp',\n",
       " 'Rain_15day_after',\n",
       " 'Rain_5day_after',\n",
       " 'Rain_3day_after',\n",
       " 'Rain_20day_after',\n",
       " 'Rainfall',\n",
       " 'Rain_4day_after',\n",
       " 'Rain_1day_after',\n",
       " 'Rain_2day_after',\n",
       " 'Rain_1day_before',\n",
       " 'Rain_5day_before',\n",
       " 'Rain_25day_after',\n",
       " 'Rain_2day_before',\n",
       " 'Humidity9am',\n",
       " 'Rain_30day_before',\n",
       " 'Temp9am',\n",
       " 'Rain_4day_before',\n",
       " 'Rain_20day_before',\n",
       " 'Rain_25day_before',\n",
       " 'Rain_3day_before',\n",
       " 'Rain_10day_before',\n",
       " 'Rain_30day_after',\n",
       " 'Rain_15day_before',\n",
       " 'Cloud3pm',\n",
       " 'Cloud9am',\n",
       " 'MaxTemp',\n",
       " 'Temp3pm',\n",
       " 'WindGustSpeed']"
      ]
     },
     "execution_count": 120,
     "metadata": {},
     "output_type": "execute_result"
    }
   ],
   "source": [
    "x = []\n",
    "for i in range (len(related_10day_after)):\n",
    "    if related_10day_after[i]>0:\n",
    "        x.append(related_10day_after.index[i])\n",
    "        \n",
    "x"
   ]
  },
  {
   "cell_type": "code",
   "execution_count": 121,
   "metadata": {},
   "outputs": [],
   "source": [
    "x = ['Rainfall', 'Humidity3pm', 'Humidity9am', 'WindGustSpeed', 'MinTemp', 'Cloud3pm', 'Cloud9am', 'Temp9am', 'MaxTemp', \n",
    "    'Temp3pm']"
   ]
  },
  {
   "cell_type": "code",
   "execution_count": 123,
   "metadata": {},
   "outputs": [],
   "source": [
    "df = df[:-5]"
   ]
  },
  {
   "cell_type": "code",
   "execution_count": 125,
   "metadata": {},
   "outputs": [],
   "source": [
    "x = df[x]"
   ]
  },
  {
   "cell_type": "code",
   "execution_count": 126,
   "metadata": {},
   "outputs": [
    {
     "data": {
      "text/html": [
       "<div>\n",
       "<style scoped>\n",
       "    .dataframe tbody tr th:only-of-type {\n",
       "        vertical-align: middle;\n",
       "    }\n",
       "\n",
       "    .dataframe tbody tr th {\n",
       "        vertical-align: top;\n",
       "    }\n",
       "\n",
       "    .dataframe thead th {\n",
       "        text-align: right;\n",
       "    }\n",
       "</style>\n",
       "<table border=\"1\" class=\"dataframe\">\n",
       "  <thead>\n",
       "    <tr style=\"text-align: right;\">\n",
       "      <th></th>\n",
       "      <th>Rainfall</th>\n",
       "      <th>Humidity3pm</th>\n",
       "      <th>Humidity9am</th>\n",
       "      <th>WindGustSpeed</th>\n",
       "      <th>MinTemp</th>\n",
       "      <th>Cloud3pm</th>\n",
       "      <th>Cloud9am</th>\n",
       "      <th>Temp9am</th>\n",
       "      <th>MaxTemp</th>\n",
       "      <th>Temp3pm</th>\n",
       "    </tr>\n",
       "  </thead>\n",
       "  <tbody>\n",
       "    <tr>\n",
       "      <th>0</th>\n",
       "      <td>0.600000</td>\n",
       "      <td>22.000000</td>\n",
       "      <td>71.000000</td>\n",
       "      <td>44.000000</td>\n",
       "      <td>13.400000</td>\n",
       "      <td>4.789474</td>\n",
       "      <td>8.000000</td>\n",
       "      <td>16.900000</td>\n",
       "      <td>22.900000</td>\n",
       "      <td>21.800000</td>\n",
       "    </tr>\n",
       "    <tr>\n",
       "      <th>1</th>\n",
       "      <td>0.000000</td>\n",
       "      <td>25.000000</td>\n",
       "      <td>44.000000</td>\n",
       "      <td>59.000000</td>\n",
       "      <td>7.400000</td>\n",
       "      <td>4.290128</td>\n",
       "      <td>4.757475</td>\n",
       "      <td>17.200000</td>\n",
       "      <td>32.600000</td>\n",
       "      <td>24.300000</td>\n",
       "    </tr>\n",
       "    <tr>\n",
       "      <th>2</th>\n",
       "      <td>0.000000</td>\n",
       "      <td>30.000000</td>\n",
       "      <td>38.000000</td>\n",
       "      <td>46.000000</td>\n",
       "      <td>12.900000</td>\n",
       "      <td>4.000000</td>\n",
       "      <td>3.000000</td>\n",
       "      <td>21.000000</td>\n",
       "      <td>25.700000</td>\n",
       "      <td>23.200000</td>\n",
       "    </tr>\n",
       "    <tr>\n",
       "      <th>3</th>\n",
       "      <td>0.000000</td>\n",
       "      <td>16.000000</td>\n",
       "      <td>45.000000</td>\n",
       "      <td>43.628141</td>\n",
       "      <td>9.200000</td>\n",
       "      <td>4.290128</td>\n",
       "      <td>4.757475</td>\n",
       "      <td>18.100000</td>\n",
       "      <td>28.000000</td>\n",
       "      <td>26.500000</td>\n",
       "    </tr>\n",
       "    <tr>\n",
       "      <th>4</th>\n",
       "      <td>1.936709</td>\n",
       "      <td>47.689362</td>\n",
       "      <td>61.722944</td>\n",
       "      <td>43.726775</td>\n",
       "      <td>15.154894</td>\n",
       "      <td>4.801102</td>\n",
       "      <td>4.920000</td>\n",
       "      <td>20.180519</td>\n",
       "      <td>25.785654</td>\n",
       "      <td>24.071064</td>\n",
       "    </tr>\n",
       "    <tr>\n",
       "      <th>...</th>\n",
       "      <td>...</td>\n",
       "      <td>...</td>\n",
       "      <td>...</td>\n",
       "      <td>...</td>\n",
       "      <td>...</td>\n",
       "      <td>...</td>\n",
       "      <td>...</td>\n",
       "      <td>...</td>\n",
       "      <td>...</td>\n",
       "      <td>...</td>\n",
       "    </tr>\n",
       "    <tr>\n",
       "      <th>145445</th>\n",
       "      <td>0.000000</td>\n",
       "      <td>24.000000</td>\n",
       "      <td>59.000000</td>\n",
       "      <td>33.000000</td>\n",
       "      <td>2.400000</td>\n",
       "      <td>5.666667</td>\n",
       "      <td>5.500000</td>\n",
       "      <td>8.000000</td>\n",
       "      <td>19.100000</td>\n",
       "      <td>18.800000</td>\n",
       "    </tr>\n",
       "    <tr>\n",
       "      <th>145446</th>\n",
       "      <td>0.000000</td>\n",
       "      <td>29.000000</td>\n",
       "      <td>56.000000</td>\n",
       "      <td>46.000000</td>\n",
       "      <td>5.100000</td>\n",
       "      <td>5.666667</td>\n",
       "      <td>5.500000</td>\n",
       "      <td>8.500000</td>\n",
       "      <td>19.700000</td>\n",
       "      <td>19.200000</td>\n",
       "    </tr>\n",
       "    <tr>\n",
       "      <th>145447</th>\n",
       "      <td>0.000000</td>\n",
       "      <td>32.000000</td>\n",
       "      <td>57.000000</td>\n",
       "      <td>35.000000</td>\n",
       "      <td>2.500000</td>\n",
       "      <td>5.666667</td>\n",
       "      <td>5.500000</td>\n",
       "      <td>10.300000</td>\n",
       "      <td>21.200000</td>\n",
       "      <td>20.300000</td>\n",
       "    </tr>\n",
       "    <tr>\n",
       "      <th>145448</th>\n",
       "      <td>0.000000</td>\n",
       "      <td>28.000000</td>\n",
       "      <td>60.000000</td>\n",
       "      <td>22.000000</td>\n",
       "      <td>2.300000</td>\n",
       "      <td>5.666667</td>\n",
       "      <td>5.500000</td>\n",
       "      <td>8.900000</td>\n",
       "      <td>21.400000</td>\n",
       "      <td>20.300000</td>\n",
       "    </tr>\n",
       "    <tr>\n",
       "      <th>145449</th>\n",
       "      <td>0.000000</td>\n",
       "      <td>24.000000</td>\n",
       "      <td>59.000000</td>\n",
       "      <td>19.000000</td>\n",
       "      <td>2.600000</td>\n",
       "      <td>5.666667</td>\n",
       "      <td>5.500000</td>\n",
       "      <td>8.800000</td>\n",
       "      <td>22.500000</td>\n",
       "      <td>22.100000</td>\n",
       "    </tr>\n",
       "  </tbody>\n",
       "</table>\n",
       "<p>145450 rows × 10 columns</p>\n",
       "</div>"
      ],
      "text/plain": [
       "        Rainfall  Humidity3pm  Humidity9am  WindGustSpeed    MinTemp  \\\n",
       "0       0.600000    22.000000    71.000000      44.000000  13.400000   \n",
       "1       0.000000    25.000000    44.000000      59.000000   7.400000   \n",
       "2       0.000000    30.000000    38.000000      46.000000  12.900000   \n",
       "3       0.000000    16.000000    45.000000      43.628141   9.200000   \n",
       "4       1.936709    47.689362    61.722944      43.726775  15.154894   \n",
       "...          ...          ...          ...            ...        ...   \n",
       "145445  0.000000    24.000000    59.000000      33.000000   2.400000   \n",
       "145446  0.000000    29.000000    56.000000      46.000000   5.100000   \n",
       "145447  0.000000    32.000000    57.000000      35.000000   2.500000   \n",
       "145448  0.000000    28.000000    60.000000      22.000000   2.300000   \n",
       "145449  0.000000    24.000000    59.000000      19.000000   2.600000   \n",
       "\n",
       "        Cloud3pm  Cloud9am    Temp9am    MaxTemp    Temp3pm  \n",
       "0       4.789474  8.000000  16.900000  22.900000  21.800000  \n",
       "1       4.290128  4.757475  17.200000  32.600000  24.300000  \n",
       "2       4.000000  3.000000  21.000000  25.700000  23.200000  \n",
       "3       4.290128  4.757475  18.100000  28.000000  26.500000  \n",
       "4       4.801102  4.920000  20.180519  25.785654  24.071064  \n",
       "...          ...       ...        ...        ...        ...  \n",
       "145445  5.666667  5.500000   8.000000  19.100000  18.800000  \n",
       "145446  5.666667  5.500000   8.500000  19.700000  19.200000  \n",
       "145447  5.666667  5.500000  10.300000  21.200000  20.300000  \n",
       "145448  5.666667  5.500000   8.900000  21.400000  20.300000  \n",
       "145449  5.666667  5.500000   8.800000  22.500000  22.100000  \n",
       "\n",
       "[145450 rows x 10 columns]"
      ]
     },
     "execution_count": 126,
     "metadata": {},
     "output_type": "execute_result"
    }
   ],
   "source": [
    "x"
   ]
  },
  {
   "cell_type": "code",
   "execution_count": 124,
   "metadata": {},
   "outputs": [
    {
     "data": {
      "text/plain": [
       "0          0.0\n",
       "1          2.2\n",
       "2         15.6\n",
       "3          3.6\n",
       "4          0.0\n",
       "          ... \n",
       "145445     0.0\n",
       "145446     0.0\n",
       "145447     0.0\n",
       "145448     0.0\n",
       "145449     0.0\n",
       "Name: Rain_10day_after, Length: 145450, dtype: float64"
      ]
     },
     "execution_count": 124,
     "metadata": {},
     "output_type": "execute_result"
    }
   ],
   "source": [
    "y = df['Rain_10day_after']\n",
    "y"
   ]
  },
  {
   "cell_type": "code",
   "execution_count": 127,
   "metadata": {},
   "outputs": [],
   "source": [
    "X_train, X_test, y_train, y_test = train_test_split(x,y, test_size=0.2, shuffle=False)"
   ]
  },
  {
   "cell_type": "code",
   "execution_count": 128,
   "metadata": {},
   "outputs": [
    {
     "data": {
      "text/plain": [
       "RandomForestRegressor(n_estimators=200)"
      ]
     },
     "execution_count": 128,
     "metadata": {},
     "output_type": "execute_result"
    }
   ],
   "source": [
    "#fitting the model\n",
    "rf = RandomForestRegressor(n_estimators=200)\n",
    "rf.fit(X_train, y_train)"
   ]
  },
  {
   "cell_type": "code",
   "execution_count": 129,
   "metadata": {},
   "outputs": [],
   "source": [
    "predicted = rf.predict(X_test)"
   ]
  },
  {
   "cell_type": "code",
   "execution_count": 130,
   "metadata": {},
   "outputs": [
    {
     "name": "stdout",
     "output_type": "stream",
     "text": [
      "Mean absolute error:  4.086077300697496\n"
     ]
    }
   ],
   "source": [
    "print(\"Mean absolute error: \", mean_absolute_error(y_test, predicted))"
   ]
  },
  {
   "cell_type": "code",
   "execution_count": 131,
   "metadata": {},
   "outputs": [
    {
     "name": "stdout",
     "output_type": "stream",
     "text": [
      "Mean squared error:  65.90804320503074\n"
     ]
    }
   ],
   "source": [
    "print(\"Mean squared error: \", mean_squared_error(y_test, predicted))"
   ]
  },
  {
   "cell_type": "code",
   "execution_count": 132,
   "metadata": {},
   "outputs": [
    {
     "name": "stdout",
     "output_type": "stream",
     "text": [
      "Root mean squared error:  8.118376882421186\n"
     ]
    }
   ],
   "source": [
    "print(\"Root mean squared error: \", np.sqrt(mean_squared_error(y_test, predicted)))"
   ]
  },
  {
   "cell_type": "code",
   "execution_count": 133,
   "metadata": {
    "scrolled": true
   },
   "outputs": [
    {
     "data": {
      "text/plain": [
       "Text(0.5, 1.0, 'Actual rainfall amount - Predicted rainfall amount')"
      ]
     },
     "execution_count": 133,
     "metadata": {},
     "output_type": "execute_result"
    },
    {
     "data": {
      "image/png": "[encoded data removed]",
      "text/plain": [
       "<Figure size 432x288 with 1 Axes>"
      ]
     },
     "metadata": {
      "needs_background": "light"
     },
     "output_type": "display_data"
    }
   ],
   "source": [
    "g=plt.plot(y_test - predicted, marker='o', linestyle='')\n",
    "plt.xlabel(\"Index of dataset\")\n",
    "plt.ylabel(\"Rainfall Amount\")\n",
    "plt.title(\"Actual rainfall amount - Predicted rainfall amount\")"
   ]
  },
  {
   "cell_type": "code",
   "execution_count": 134,
   "metadata": {},
   "outputs": [
    {
     "data": {
      "text/plain": [
       "['Rain_15day_after',\n",
       " 'Humidity3pm',\n",
       " 'MinTemp',\n",
       " 'Rain_10day_after',\n",
       " 'Rain_20day_after',\n",
       " 'Rain_25day_after',\n",
       " 'Rain_5day_after',\n",
       " 'Rain_4day_after',\n",
       " 'Temp9am',\n",
       " 'Rain_30day_after',\n",
       " 'Rainfall',\n",
       " 'Rain_3day_after',\n",
       " 'Rain_25day_before',\n",
       " 'Rain_2day_before',\n",
       " 'Rain_1day_before',\n",
       " 'Rain_1day_after',\n",
       " 'Rain_15day_before',\n",
       " 'Humidity9am',\n",
       " 'Rain_20day_before',\n",
       " 'Rain_2day_after',\n",
       " 'Rain_4day_before',\n",
       " 'Rain_3day_before',\n",
       " 'Rain_5day_before',\n",
       " 'Rain_10day_before',\n",
       " 'Rain_30day_before',\n",
       " 'Cloud9am',\n",
       " 'Cloud3pm',\n",
       " 'MaxTemp',\n",
       " 'Temp3pm',\n",
       " 'WindSpeed3pm']"
      ]
     },
     "execution_count": 134,
     "metadata": {},
     "output_type": "execute_result"
    }
   ],
   "source": [
    "x = []\n",
    "for i in range (len(related_15day_after)):\n",
    "    if related_15day_after[i]>0:\n",
    "        x.append(related_15day_after.index[i])\n",
    "        \n",
    "x"
   ]
  },
  {
   "cell_type": "code",
   "execution_count": 135,
   "metadata": {},
   "outputs": [],
   "source": [
    "x = ['Rainfall', 'Humidity3pm', 'Humidity9am', 'MinTemp', 'Cloud3pm', 'Cloud9am', 'Temp9am',\n",
    "    'WindSpeed3pm', 'MaxTemp', 'Temp3pm']"
   ]
  },
  {
   "cell_type": "code",
   "execution_count": 137,
   "metadata": {},
   "outputs": [],
   "source": [
    "df = df[:-5]"
   ]
  },
  {
   "cell_type": "code",
   "execution_count": 138,
   "metadata": {},
   "outputs": [],
   "source": [
    "x = df[x]"
   ]
  },
  {
   "cell_type": "code",
   "execution_count": 139,
   "metadata": {},
   "outputs": [
    {
     "data": {
      "text/html": [
       "<div>\n",
       "<style scoped>\n",
       "    .dataframe tbody tr th:only-of-type {\n",
       "        vertical-align: middle;\n",
       "    }\n",
       "\n",
       "    .dataframe tbody tr th {\n",
       "        vertical-align: top;\n",
       "    }\n",
       "\n",
       "    .dataframe thead th {\n",
       "        text-align: right;\n",
       "    }\n",
       "</style>\n",
       "<table border=\"1\" class=\"dataframe\">\n",
       "  <thead>\n",
       "    <tr style=\"text-align: right;\">\n",
       "      <th></th>\n",
       "      <th>Rainfall</th>\n",
       "      <th>Humidity3pm</th>\n",
       "      <th>Humidity9am</th>\n",
       "      <th>MinTemp</th>\n",
       "      <th>Cloud3pm</th>\n",
       "      <th>Cloud9am</th>\n",
       "      <th>Temp9am</th>\n",
       "      <th>WindSpeed3pm</th>\n",
       "      <th>MaxTemp</th>\n",
       "      <th>Temp3pm</th>\n",
       "    </tr>\n",
       "  </thead>\n",
       "  <tbody>\n",
       "    <tr>\n",
       "      <th>0</th>\n",
       "      <td>0.600000</td>\n",
       "      <td>22.000000</td>\n",
       "      <td>71.000000</td>\n",
       "      <td>13.400000</td>\n",
       "      <td>4.789474</td>\n",
       "      <td>8.000000</td>\n",
       "      <td>16.900000</td>\n",
       "      <td>24.000000</td>\n",
       "      <td>22.900000</td>\n",
       "      <td>21.800000</td>\n",
       "    </tr>\n",
       "    <tr>\n",
       "      <th>1</th>\n",
       "      <td>0.000000</td>\n",
       "      <td>25.000000</td>\n",
       "      <td>44.000000</td>\n",
       "      <td>7.400000</td>\n",
       "      <td>4.290128</td>\n",
       "      <td>4.757475</td>\n",
       "      <td>17.200000</td>\n",
       "      <td>22.000000</td>\n",
       "      <td>32.600000</td>\n",
       "      <td>24.300000</td>\n",
       "    </tr>\n",
       "    <tr>\n",
       "      <th>2</th>\n",
       "      <td>0.000000</td>\n",
       "      <td>30.000000</td>\n",
       "      <td>38.000000</td>\n",
       "      <td>12.900000</td>\n",
       "      <td>4.000000</td>\n",
       "      <td>3.000000</td>\n",
       "      <td>21.000000</td>\n",
       "      <td>26.000000</td>\n",
       "      <td>25.700000</td>\n",
       "      <td>23.200000</td>\n",
       "    </tr>\n",
       "    <tr>\n",
       "      <th>3</th>\n",
       "      <td>0.000000</td>\n",
       "      <td>16.000000</td>\n",
       "      <td>45.000000</td>\n",
       "      <td>9.200000</td>\n",
       "      <td>4.290128</td>\n",
       "      <td>4.757475</td>\n",
       "      <td>18.100000</td>\n",
       "      <td>9.000000</td>\n",
       "      <td>28.000000</td>\n",
       "      <td>26.500000</td>\n",
       "    </tr>\n",
       "    <tr>\n",
       "      <th>4</th>\n",
       "      <td>1.936709</td>\n",
       "      <td>47.689362</td>\n",
       "      <td>61.722944</td>\n",
       "      <td>15.154894</td>\n",
       "      <td>4.801102</td>\n",
       "      <td>4.920000</td>\n",
       "      <td>20.180519</td>\n",
       "      <td>21.195745</td>\n",
       "      <td>25.785654</td>\n",
       "      <td>24.071064</td>\n",
       "    </tr>\n",
       "    <tr>\n",
       "      <th>...</th>\n",
       "      <td>...</td>\n",
       "      <td>...</td>\n",
       "      <td>...</td>\n",
       "      <td>...</td>\n",
       "      <td>...</td>\n",
       "      <td>...</td>\n",
       "      <td>...</td>\n",
       "      <td>...</td>\n",
       "      <td>...</td>\n",
       "      <td>...</td>\n",
       "    </tr>\n",
       "    <tr>\n",
       "      <th>145440</th>\n",
       "      <td>0.000000</td>\n",
       "      <td>6.000000</td>\n",
       "      <td>29.000000</td>\n",
       "      <td>1.200000</td>\n",
       "      <td>5.666667</td>\n",
       "      <td>5.500000</td>\n",
       "      <td>7.900000</td>\n",
       "      <td>28.000000</td>\n",
       "      <td>20.800000</td>\n",
       "      <td>19.900000</td>\n",
       "    </tr>\n",
       "    <tr>\n",
       "      <th>145441</th>\n",
       "      <td>0.000000</td>\n",
       "      <td>19.000000</td>\n",
       "      <td>27.000000</td>\n",
       "      <td>0.500000</td>\n",
       "      <td>5.666667</td>\n",
       "      <td>5.500000</td>\n",
       "      <td>9.500000</td>\n",
       "      <td>20.000000</td>\n",
       "      <td>21.700000</td>\n",
       "      <td>20.500000</td>\n",
       "    </tr>\n",
       "    <tr>\n",
       "      <th>145442</th>\n",
       "      <td>0.000000</td>\n",
       "      <td>26.000000</td>\n",
       "      <td>58.000000</td>\n",
       "      <td>4.000000</td>\n",
       "      <td>5.666667</td>\n",
       "      <td>5.500000</td>\n",
       "      <td>9.100000</td>\n",
       "      <td>26.000000</td>\n",
       "      <td>20.000000</td>\n",
       "      <td>19.000000</td>\n",
       "    </tr>\n",
       "    <tr>\n",
       "      <th>145443</th>\n",
       "      <td>0.000000</td>\n",
       "      <td>23.000000</td>\n",
       "      <td>54.000000</td>\n",
       "      <td>3.400000</td>\n",
       "      <td>5.666667</td>\n",
       "      <td>5.500000</td>\n",
       "      <td>8.700000</td>\n",
       "      <td>24.000000</td>\n",
       "      <td>19.800000</td>\n",
       "      <td>18.900000</td>\n",
       "    </tr>\n",
       "    <tr>\n",
       "      <th>145444</th>\n",
       "      <td>0.000000</td>\n",
       "      <td>29.000000</td>\n",
       "      <td>56.000000</td>\n",
       "      <td>3.200000</td>\n",
       "      <td>5.666667</td>\n",
       "      <td>5.500000</td>\n",
       "      <td>8.200000</td>\n",
       "      <td>20.000000</td>\n",
       "      <td>18.600000</td>\n",
       "      <td>17.400000</td>\n",
       "    </tr>\n",
       "  </tbody>\n",
       "</table>\n",
       "<p>145445 rows × 10 columns</p>\n",
       "</div>"
      ],
      "text/plain": [
       "        Rainfall  Humidity3pm  Humidity9am    MinTemp  Cloud3pm  Cloud9am  \\\n",
       "0       0.600000    22.000000    71.000000  13.400000  4.789474  8.000000   \n",
       "1       0.000000    25.000000    44.000000   7.400000  4.290128  4.757475   \n",
       "2       0.000000    30.000000    38.000000  12.900000  4.000000  3.000000   \n",
       "3       0.000000    16.000000    45.000000   9.200000  4.290128  4.757475   \n",
       "4       1.936709    47.689362    61.722944  15.154894  4.801102  4.920000   \n",
       "...          ...          ...          ...        ...       ...       ...   \n",
       "145440  0.000000     6.000000    29.000000   1.200000  5.666667  5.500000   \n",
       "145441  0.000000    19.000000    27.000000   0.500000  5.666667  5.500000   \n",
       "145442  0.000000    26.000000    58.000000   4.000000  5.666667  5.500000   \n",
       "145443  0.000000    23.000000    54.000000   3.400000  5.666667  5.500000   \n",
       "145444  0.000000    29.000000    56.000000   3.200000  5.666667  5.500000   \n",
       "\n",
       "          Temp9am  WindSpeed3pm    MaxTemp    Temp3pm  \n",
       "0       16.900000     24.000000  22.900000  21.800000  \n",
       "1       17.200000     22.000000  32.600000  24.300000  \n",
       "2       21.000000     26.000000  25.700000  23.200000  \n",
       "3       18.100000      9.000000  28.000000  26.500000  \n",
       "4       20.180519     21.195745  25.785654  24.071064  \n",
       "...           ...           ...        ...        ...  \n",
       "145440   7.900000     28.000000  20.800000  19.900000  \n",
       "145441   9.500000     20.000000  21.700000  20.500000  \n",
       "145442   9.100000     26.000000  20.000000  19.000000  \n",
       "145443   8.700000     24.000000  19.800000  18.900000  \n",
       "145444   8.200000     20.000000  18.600000  17.400000  \n",
       "\n",
       "[145445 rows x 10 columns]"
      ]
     },
     "execution_count": 139,
     "metadata": {},
     "output_type": "execute_result"
    }
   ],
   "source": [
    "x"
   ]
  },
  {
   "cell_type": "code",
   "execution_count": 140,
   "metadata": {},
   "outputs": [
    {
     "data": {
      "text/plain": [
       "0          1.374634\n",
       "1          0.000000\n",
       "2          1.881495\n",
       "3         10.600000\n",
       "4          0.000000\n",
       "            ...    \n",
       "145440     0.000000\n",
       "145441     0.000000\n",
       "145442     0.000000\n",
       "145443     0.000000\n",
       "145444     0.000000\n",
       "Name: Rain_15day_after, Length: 145445, dtype: float64"
      ]
     },
     "execution_count": 140,
     "metadata": {},
     "output_type": "execute_result"
    }
   ],
   "source": [
    "y = df['Rain_15day_after']\n",
    "y"
   ]
  },
  {
   "cell_type": "code",
   "execution_count": 141,
   "metadata": {},
   "outputs": [],
   "source": [
    "X_train, X_test, y_train, y_test = train_test_split(x,y, test_size=0.2, shuffle=False)"
   ]
  },
  {
   "cell_type": "code",
   "execution_count": 142,
   "metadata": {},
   "outputs": [
    {
     "data": {
      "text/plain": [
       "RandomForestRegressor(n_estimators=200)"
      ]
     },
     "execution_count": 142,
     "metadata": {},
     "output_type": "execute_result"
    }
   ],
   "source": [
    "#fitting the model\n",
    "rf = RandomForestRegressor(n_estimators=200)\n",
    "rf.fit(X_train, y_train)"
   ]
  },
  {
   "cell_type": "code",
   "execution_count": 143,
   "metadata": {},
   "outputs": [],
   "source": [
    "predicted = rf.predict(X_test)"
   ]
  },
  {
   "cell_type": "code",
   "execution_count": 144,
   "metadata": {},
   "outputs": [
    {
     "name": "stdout",
     "output_type": "stream",
     "text": [
      "Mean absolute error:  4.288552798903737\n"
     ]
    }
   ],
   "source": [
    "print(\"Mean absolute error: \", mean_absolute_error(y_test, predicted))"
   ]
  },
  {
   "cell_type": "code",
   "execution_count": 145,
   "metadata": {},
   "outputs": [
    {
     "name": "stdout",
     "output_type": "stream",
     "text": [
      "Mean squared error:  69.02338743263152\n"
     ]
    }
   ],
   "source": [
    "print(\"Mean squared error: \", mean_squared_error(y_test, predicted))"
   ]
  },
  {
   "cell_type": "code",
   "execution_count": 146,
   "metadata": {},
   "outputs": [
    {
     "name": "stdout",
     "output_type": "stream",
     "text": [
      "Root mean squared error:  8.308031501663407\n"
     ]
    }
   ],
   "source": [
    "print(\"Root mean squared error: \", np.sqrt(mean_squared_error(y_test, predicted)))"
   ]
  },
  {
   "cell_type": "code",
   "execution_count": 147,
   "metadata": {
    "scrolled": true
   },
   "outputs": [
    {
     "data": {
      "text/plain": [
       "Text(0.5, 1.0, 'Actual rainfall amount - Predicted rainfall amount')"
      ]
     },
     "execution_count": 147,
     "metadata": {},
     "output_type": "execute_result"
    },
    {
     "data": {
      "image/png": "[encoded data removed]",
      "text/plain": [
       "<Figure size 432x288 with 1 Axes>"
      ]
     },
     "metadata": {
      "needs_background": "light"
     },
     "output_type": "display_data"
    }
   ],
   "source": [
    "g=plt.plot(y_test - predicted, marker='o', linestyle='')\n",
    "plt.xlabel(\"Index of dataset\")\n",
    "plt.ylabel(\"Rainfall Amount\")\n",
    "plt.title(\"Actual rainfall amount - Predicted rainfall amount\")"
   ]
  },
  {
   "cell_type": "code",
   "execution_count": 148,
   "metadata": {},
   "outputs": [
    {
     "data": {
      "text/plain": [
       "['Rain_20day_after',\n",
       " 'Humidity3pm',\n",
       " 'MinTemp',\n",
       " 'Rain_25day_after',\n",
       " 'Rain_15day_after',\n",
       " 'Rain_30day_after',\n",
       " 'Rain_10day_after',\n",
       " 'Temp9am',\n",
       " 'Rain_5day_after',\n",
       " 'Rain_20day_before',\n",
       " 'Humidity9am',\n",
       " 'Rain_1day_before',\n",
       " 'Rain_3day_after',\n",
       " 'Rain_4day_after',\n",
       " 'Rain_2day_before',\n",
       " 'Rain_10day_before',\n",
       " 'Rain_3day_before',\n",
       " 'Rain_15day_before',\n",
       " 'Rain_4day_before',\n",
       " 'Rain_1day_after',\n",
       " 'Rain_2day_after',\n",
       " 'Rainfall',\n",
       " 'Rain_5day_before',\n",
       " 'Rain_25day_before',\n",
       " 'Rain_30day_before',\n",
       " 'Cloud3pm',\n",
       " 'Cloud9am',\n",
       " 'MaxTemp',\n",
       " 'Temp3pm',\n",
       " 'WindSpeed3pm']"
      ]
     },
     "execution_count": 148,
     "metadata": {},
     "output_type": "execute_result"
    }
   ],
   "source": [
    "x = []\n",
    "for i in range (len(related_20day_after)):\n",
    "    if related_20day_after[i]>0:\n",
    "        x.append(related_20day_after.index[i])\n",
    "        \n",
    "x"
   ]
  },
  {
   "cell_type": "code",
   "execution_count": 149,
   "metadata": {},
   "outputs": [],
   "source": [
    "x = ['Rainfall', 'Humidity3pm', 'Humidity9am', 'MinTemp', 'Cloud3pm', 'Cloud9am', 'Temp9am', 'WindSpeed3pm', 'MaxTemp', \n",
    "     'Temp3pm']"
   ]
  },
  {
   "cell_type": "code",
   "execution_count": 150,
   "metadata": {},
   "outputs": [],
   "source": [
    "df = df[:-5]"
   ]
  },
  {
   "cell_type": "code",
   "execution_count": 151,
   "metadata": {},
   "outputs": [],
   "source": [
    "x = df[x]"
   ]
  },
  {
   "cell_type": "code",
   "execution_count": 152,
   "metadata": {},
   "outputs": [
    {
     "data": {
      "text/html": [
       "<div>\n",
       "<style scoped>\n",
       "    .dataframe tbody tr th:only-of-type {\n",
       "        vertical-align: middle;\n",
       "    }\n",
       "\n",
       "    .dataframe tbody tr th {\n",
       "        vertical-align: top;\n",
       "    }\n",
       "\n",
       "    .dataframe thead th {\n",
       "        text-align: right;\n",
       "    }\n",
       "</style>\n",
       "<table border=\"1\" class=\"dataframe\">\n",
       "  <thead>\n",
       "    <tr style=\"text-align: right;\">\n",
       "      <th></th>\n",
       "      <th>Rainfall</th>\n",
       "      <th>Humidity3pm</th>\n",
       "      <th>Humidity9am</th>\n",
       "      <th>MinTemp</th>\n",
       "      <th>Cloud3pm</th>\n",
       "      <th>Cloud9am</th>\n",
       "      <th>Temp9am</th>\n",
       "      <th>WindSpeed3pm</th>\n",
       "      <th>MaxTemp</th>\n",
       "      <th>Temp3pm</th>\n",
       "    </tr>\n",
       "  </thead>\n",
       "  <tbody>\n",
       "    <tr>\n",
       "      <th>0</th>\n",
       "      <td>0.600000</td>\n",
       "      <td>22.000000</td>\n",
       "      <td>71.000000</td>\n",
       "      <td>13.400000</td>\n",
       "      <td>4.789474</td>\n",
       "      <td>8.000000</td>\n",
       "      <td>16.900000</td>\n",
       "      <td>24.000000</td>\n",
       "      <td>22.900000</td>\n",
       "      <td>21.800000</td>\n",
       "    </tr>\n",
       "    <tr>\n",
       "      <th>1</th>\n",
       "      <td>0.000000</td>\n",
       "      <td>25.000000</td>\n",
       "      <td>44.000000</td>\n",
       "      <td>7.400000</td>\n",
       "      <td>4.290128</td>\n",
       "      <td>4.757475</td>\n",
       "      <td>17.200000</td>\n",
       "      <td>22.000000</td>\n",
       "      <td>32.600000</td>\n",
       "      <td>24.300000</td>\n",
       "    </tr>\n",
       "    <tr>\n",
       "      <th>2</th>\n",
       "      <td>0.000000</td>\n",
       "      <td>30.000000</td>\n",
       "      <td>38.000000</td>\n",
       "      <td>12.900000</td>\n",
       "      <td>4.000000</td>\n",
       "      <td>3.000000</td>\n",
       "      <td>21.000000</td>\n",
       "      <td>26.000000</td>\n",
       "      <td>25.700000</td>\n",
       "      <td>23.200000</td>\n",
       "    </tr>\n",
       "    <tr>\n",
       "      <th>3</th>\n",
       "      <td>0.000000</td>\n",
       "      <td>16.000000</td>\n",
       "      <td>45.000000</td>\n",
       "      <td>9.200000</td>\n",
       "      <td>4.290128</td>\n",
       "      <td>4.757475</td>\n",
       "      <td>18.100000</td>\n",
       "      <td>9.000000</td>\n",
       "      <td>28.000000</td>\n",
       "      <td>26.500000</td>\n",
       "    </tr>\n",
       "    <tr>\n",
       "      <th>4</th>\n",
       "      <td>1.936709</td>\n",
       "      <td>47.689362</td>\n",
       "      <td>61.722944</td>\n",
       "      <td>15.154894</td>\n",
       "      <td>4.801102</td>\n",
       "      <td>4.920000</td>\n",
       "      <td>20.180519</td>\n",
       "      <td>21.195745</td>\n",
       "      <td>25.785654</td>\n",
       "      <td>24.071064</td>\n",
       "    </tr>\n",
       "    <tr>\n",
       "      <th>...</th>\n",
       "      <td>...</td>\n",
       "      <td>...</td>\n",
       "      <td>...</td>\n",
       "      <td>...</td>\n",
       "      <td>...</td>\n",
       "      <td>...</td>\n",
       "      <td>...</td>\n",
       "      <td>...</td>\n",
       "      <td>...</td>\n",
       "      <td>...</td>\n",
       "    </tr>\n",
       "    <tr>\n",
       "      <th>145435</th>\n",
       "      <td>0.000000</td>\n",
       "      <td>22.000000</td>\n",
       "      <td>61.000000</td>\n",
       "      <td>5.600000</td>\n",
       "      <td>5.666667</td>\n",
       "      <td>5.500000</td>\n",
       "      <td>9.700000</td>\n",
       "      <td>24.000000</td>\n",
       "      <td>19.400000</td>\n",
       "      <td>18.300000</td>\n",
       "    </tr>\n",
       "    <tr>\n",
       "      <th>145436</th>\n",
       "      <td>0.000000</td>\n",
       "      <td>18.000000</td>\n",
       "      <td>45.000000</td>\n",
       "      <td>1.500000</td>\n",
       "      <td>5.666667</td>\n",
       "      <td>5.500000</td>\n",
       "      <td>6.800000</td>\n",
       "      <td>22.000000</td>\n",
       "      <td>19.200000</td>\n",
       "      <td>17.600000</td>\n",
       "    </tr>\n",
       "    <tr>\n",
       "      <th>145437</th>\n",
       "      <td>0.000000</td>\n",
       "      <td>22.000000</td>\n",
       "      <td>42.000000</td>\n",
       "      <td>3.800000</td>\n",
       "      <td>5.666667</td>\n",
       "      <td>5.500000</td>\n",
       "      <td>8.600000</td>\n",
       "      <td>17.000000</td>\n",
       "      <td>19.800000</td>\n",
       "      <td>18.900000</td>\n",
       "    </tr>\n",
       "    <tr>\n",
       "      <th>145438</th>\n",
       "      <td>0.000000</td>\n",
       "      <td>26.000000</td>\n",
       "      <td>42.000000</td>\n",
       "      <td>4.500000</td>\n",
       "      <td>5.666667</td>\n",
       "      <td>5.500000</td>\n",
       "      <td>9.500000</td>\n",
       "      <td>15.000000</td>\n",
       "      <td>18.800000</td>\n",
       "      <td>18.600000</td>\n",
       "    </tr>\n",
       "    <tr>\n",
       "      <th>145439</th>\n",
       "      <td>0.000000</td>\n",
       "      <td>11.000000</td>\n",
       "      <td>38.000000</td>\n",
       "      <td>4.900000</td>\n",
       "      <td>5.666667</td>\n",
       "      <td>5.500000</td>\n",
       "      <td>10.300000</td>\n",
       "      <td>24.000000</td>\n",
       "      <td>20.700000</td>\n",
       "      <td>19.800000</td>\n",
       "    </tr>\n",
       "  </tbody>\n",
       "</table>\n",
       "<p>145440 rows × 10 columns</p>\n",
       "</div>"
      ],
      "text/plain": [
       "        Rainfall  Humidity3pm  Humidity9am    MinTemp  Cloud3pm  Cloud9am  \\\n",
       "0       0.600000    22.000000    71.000000  13.400000  4.789474  8.000000   \n",
       "1       0.000000    25.000000    44.000000   7.400000  4.290128  4.757475   \n",
       "2       0.000000    30.000000    38.000000  12.900000  4.000000  3.000000   \n",
       "3       0.000000    16.000000    45.000000   9.200000  4.290128  4.757475   \n",
       "4       1.936709    47.689362    61.722944  15.154894  4.801102  4.920000   \n",
       "...          ...          ...          ...        ...       ...       ...   \n",
       "145435  0.000000    22.000000    61.000000   5.600000  5.666667  5.500000   \n",
       "145436  0.000000    18.000000    45.000000   1.500000  5.666667  5.500000   \n",
       "145437  0.000000    22.000000    42.000000   3.800000  5.666667  5.500000   \n",
       "145438  0.000000    26.000000    42.000000   4.500000  5.666667  5.500000   \n",
       "145439  0.000000    11.000000    38.000000   4.900000  5.666667  5.500000   \n",
       "\n",
       "          Temp9am  WindSpeed3pm    MaxTemp    Temp3pm  \n",
       "0       16.900000     24.000000  22.900000  21.800000  \n",
       "1       17.200000     22.000000  32.600000  24.300000  \n",
       "2       21.000000     26.000000  25.700000  23.200000  \n",
       "3       18.100000      9.000000  28.000000  26.500000  \n",
       "4       20.180519     21.195745  25.785654  24.071064  \n",
       "...           ...           ...        ...        ...  \n",
       "145435   9.700000     24.000000  19.400000  18.300000  \n",
       "145436   6.800000     22.000000  19.200000  17.600000  \n",
       "145437   8.600000     17.000000  19.800000  18.900000  \n",
       "145438   9.500000     15.000000  18.800000  18.600000  \n",
       "145439  10.300000     24.000000  20.700000  19.800000  \n",
       "\n",
       "[145440 rows x 10 columns]"
      ]
     },
     "execution_count": 152,
     "metadata": {},
     "output_type": "execute_result"
    }
   ],
   "source": [
    "x"
   ]
  },
  {
   "cell_type": "code",
   "execution_count": 153,
   "metadata": {},
   "outputs": [
    {
     "data": {
      "text/plain": [
       "0         0.0\n",
       "1         0.0\n",
       "2         0.0\n",
       "3         0.0\n",
       "4         0.0\n",
       "         ... \n",
       "145435    0.0\n",
       "145436    0.0\n",
       "145437    0.0\n",
       "145438    0.0\n",
       "145439    0.0\n",
       "Name: Rain_20day_after, Length: 145440, dtype: float64"
      ]
     },
     "execution_count": 153,
     "metadata": {},
     "output_type": "execute_result"
    }
   ],
   "source": [
    "y = df['Rain_20day_after']\n",
    "y"
   ]
  },
  {
   "cell_type": "code",
   "execution_count": 154,
   "metadata": {},
   "outputs": [],
   "source": [
    "X_train, X_test, y_train, y_test = train_test_split(x,y, test_size=0.2, shuffle=False)"
   ]
  },
  {
   "cell_type": "code",
   "execution_count": 155,
   "metadata": {},
   "outputs": [
    {
     "data": {
      "text/plain": [
       "RandomForestRegressor(n_estimators=200)"
      ]
     },
     "execution_count": 155,
     "metadata": {},
     "output_type": "execute_result"
    }
   ],
   "source": [
    "#fitting the model\n",
    "rf = RandomForestRegressor(n_estimators=200)\n",
    "rf.fit(X_train, y_train)"
   ]
  },
  {
   "cell_type": "code",
   "execution_count": 156,
   "metadata": {},
   "outputs": [],
   "source": [
    "predicted = rf.predict(X_test)"
   ]
  },
  {
   "cell_type": "code",
   "execution_count": 157,
   "metadata": {},
   "outputs": [
    {
     "name": "stdout",
     "output_type": "stream",
     "text": [
      "Mean absolute error:  4.218133992875394\n"
     ]
    }
   ],
   "source": [
    "print(\"Mean absolute error: \", mean_absolute_error(y_test, predicted))"
   ]
  },
  {
   "cell_type": "code",
   "execution_count": 158,
   "metadata": {},
   "outputs": [
    {
     "name": "stdout",
     "output_type": "stream",
     "text": [
      "Mean squared error:  68.11168114729834\n"
     ]
    }
   ],
   "source": [
    "print(\"Mean squared error: \", mean_squared_error(y_test, predicted))"
   ]
  },
  {
   "cell_type": "code",
   "execution_count": 159,
   "metadata": {},
   "outputs": [
    {
     "name": "stdout",
     "output_type": "stream",
     "text": [
      "Root mean squared error:  8.252980137338168\n"
     ]
    }
   ],
   "source": [
    "print(\"Root mean squared error: \", np.sqrt(mean_squared_error(y_test, predicted)))"
   ]
  },
  {
   "cell_type": "code",
   "execution_count": 160,
   "metadata": {
    "scrolled": true
   },
   "outputs": [
    {
     "data": {
      "text/plain": [
       "Text(0.5, 1.0, 'Actual rainfall amount - Predicted rainfall amount')"
      ]
     },
     "execution_count": 160,
     "metadata": {},
     "output_type": "execute_result"
    },
    {
     "data": {
      "image/png": "[encoded data removed]",
      "text/plain": [
       "<Figure size 432x288 with 1 Axes>"
      ]
     },
     "metadata": {
      "needs_background": "light"
     },
     "output_type": "display_data"
    }
   ],
   "source": [
    "g=plt.plot(y_test - predicted, marker='o', linestyle='')\n",
    "plt.xlabel(\"Index of dataset\")\n",
    "plt.ylabel(\"Rainfall Amount\")\n",
    "plt.title(\"Actual rainfall amount - Predicted rainfall amount\")"
   ]
  },
  {
   "cell_type": "code",
   "execution_count": 161,
   "metadata": {},
   "outputs": [
    {
     "data": {
      "text/plain": [
       "['Rain_25day_after',\n",
       " 'Humidity3pm',\n",
       " 'MinTemp',\n",
       " 'Rain_20day_after',\n",
       " 'Rain_30day_after',\n",
       " 'Rain_15day_after',\n",
       " 'Rain_10day_after',\n",
       " 'Temp9am',\n",
       " 'Rain_15day_before',\n",
       " 'Rain_4day_after',\n",
       " 'Rain_3day_after',\n",
       " 'Rain_5day_before',\n",
       " 'Rain_2day_after',\n",
       " 'Rain_10day_before',\n",
       " 'Humidity9am',\n",
       " 'Rain_2day_before',\n",
       " 'Rain_1day_after',\n",
       " 'Rain_3day_before',\n",
       " 'Rain_5day_after',\n",
       " 'Rainfall',\n",
       " 'Rain_1day_before',\n",
       " 'Rain_20day_before',\n",
       " 'Rain_25day_before',\n",
       " 'Rain_4day_before',\n",
       " 'Rain_30day_before',\n",
       " 'Cloud3pm',\n",
       " 'Cloud9am',\n",
       " 'MaxTemp',\n",
       " 'Temp3pm',\n",
       " 'WindSpeed3pm']"
      ]
     },
     "execution_count": 161,
     "metadata": {},
     "output_type": "execute_result"
    }
   ],
   "source": [
    "x = []\n",
    "for i in range (len(related_25day_after)):\n",
    "    if related_25day_after[i]>0:\n",
    "        x.append(related_25day_after.index[i])\n",
    "        \n",
    "x"
   ]
  },
  {
   "cell_type": "code",
   "execution_count": 162,
   "metadata": {},
   "outputs": [],
   "source": [
    "x = ['Rainfall', 'Humidity3pm', 'Humidity9am', 'MinTemp', 'Cloud3pm', 'Cloud9am', 'Temp9am', 'MaxTemp', 'Temp3pm',\n",
    "    'WindSpeed3pm']"
   ]
  },
  {
   "cell_type": "code",
   "execution_count": 163,
   "metadata": {},
   "outputs": [],
   "source": [
    "df = df[:-5]"
   ]
  },
  {
   "cell_type": "code",
   "execution_count": 164,
   "metadata": {},
   "outputs": [],
   "source": [
    "x = df[x]"
   ]
  },
  {
   "cell_type": "code",
   "execution_count": 165,
   "metadata": {},
   "outputs": [
    {
     "data": {
      "text/html": [
       "<div>\n",
       "<style scoped>\n",
       "    .dataframe tbody tr th:only-of-type {\n",
       "        vertical-align: middle;\n",
       "    }\n",
       "\n",
       "    .dataframe tbody tr th {\n",
       "        vertical-align: top;\n",
       "    }\n",
       "\n",
       "    .dataframe thead th {\n",
       "        text-align: right;\n",
       "    }\n",
       "</style>\n",
       "<table border=\"1\" class=\"dataframe\">\n",
       "  <thead>\n",
       "    <tr style=\"text-align: right;\">\n",
       "      <th></th>\n",
       "      <th>Rainfall</th>\n",
       "      <th>Humidity3pm</th>\n",
       "      <th>Humidity9am</th>\n",
       "      <th>MinTemp</th>\n",
       "      <th>Cloud3pm</th>\n",
       "      <th>Cloud9am</th>\n",
       "      <th>Temp9am</th>\n",
       "      <th>MaxTemp</th>\n",
       "      <th>Temp3pm</th>\n",
       "      <th>WindSpeed3pm</th>\n",
       "    </tr>\n",
       "  </thead>\n",
       "  <tbody>\n",
       "    <tr>\n",
       "      <th>0</th>\n",
       "      <td>0.600000</td>\n",
       "      <td>22.000000</td>\n",
       "      <td>71.000000</td>\n",
       "      <td>13.400000</td>\n",
       "      <td>4.789474</td>\n",
       "      <td>8.000000</td>\n",
       "      <td>16.900000</td>\n",
       "      <td>22.900000</td>\n",
       "      <td>21.800000</td>\n",
       "      <td>24.000000</td>\n",
       "    </tr>\n",
       "    <tr>\n",
       "      <th>1</th>\n",
       "      <td>0.000000</td>\n",
       "      <td>25.000000</td>\n",
       "      <td>44.000000</td>\n",
       "      <td>7.400000</td>\n",
       "      <td>4.290128</td>\n",
       "      <td>4.757475</td>\n",
       "      <td>17.200000</td>\n",
       "      <td>32.600000</td>\n",
       "      <td>24.300000</td>\n",
       "      <td>22.000000</td>\n",
       "    </tr>\n",
       "    <tr>\n",
       "      <th>2</th>\n",
       "      <td>0.000000</td>\n",
       "      <td>30.000000</td>\n",
       "      <td>38.000000</td>\n",
       "      <td>12.900000</td>\n",
       "      <td>4.000000</td>\n",
       "      <td>3.000000</td>\n",
       "      <td>21.000000</td>\n",
       "      <td>25.700000</td>\n",
       "      <td>23.200000</td>\n",
       "      <td>26.000000</td>\n",
       "    </tr>\n",
       "    <tr>\n",
       "      <th>3</th>\n",
       "      <td>0.000000</td>\n",
       "      <td>16.000000</td>\n",
       "      <td>45.000000</td>\n",
       "      <td>9.200000</td>\n",
       "      <td>4.290128</td>\n",
       "      <td>4.757475</td>\n",
       "      <td>18.100000</td>\n",
       "      <td>28.000000</td>\n",
       "      <td>26.500000</td>\n",
       "      <td>9.000000</td>\n",
       "    </tr>\n",
       "    <tr>\n",
       "      <th>4</th>\n",
       "      <td>1.936709</td>\n",
       "      <td>47.689362</td>\n",
       "      <td>61.722944</td>\n",
       "      <td>15.154894</td>\n",
       "      <td>4.801102</td>\n",
       "      <td>4.920000</td>\n",
       "      <td>20.180519</td>\n",
       "      <td>25.785654</td>\n",
       "      <td>24.071064</td>\n",
       "      <td>21.195745</td>\n",
       "    </tr>\n",
       "    <tr>\n",
       "      <th>...</th>\n",
       "      <td>...</td>\n",
       "      <td>...</td>\n",
       "      <td>...</td>\n",
       "      <td>...</td>\n",
       "      <td>...</td>\n",
       "      <td>...</td>\n",
       "      <td>...</td>\n",
       "      <td>...</td>\n",
       "      <td>...</td>\n",
       "      <td>...</td>\n",
       "    </tr>\n",
       "    <tr>\n",
       "      <th>145430</th>\n",
       "      <td>0.000000</td>\n",
       "      <td>16.000000</td>\n",
       "      <td>36.000000</td>\n",
       "      <td>9.300000</td>\n",
       "      <td>4.166667</td>\n",
       "      <td>5.333333</td>\n",
       "      <td>16.600000</td>\n",
       "      <td>28.000000</td>\n",
       "      <td>27.300000</td>\n",
       "      <td>11.000000</td>\n",
       "    </tr>\n",
       "    <tr>\n",
       "      <th>145431</th>\n",
       "      <td>0.000000</td>\n",
       "      <td>25.000000</td>\n",
       "      <td>46.000000</td>\n",
       "      <td>8.000000</td>\n",
       "      <td>4.166667</td>\n",
       "      <td>4.000000</td>\n",
       "      <td>13.800000</td>\n",
       "      <td>24.600000</td>\n",
       "      <td>23.500000</td>\n",
       "      <td>13.000000</td>\n",
       "    </tr>\n",
       "    <tr>\n",
       "      <th>145432</th>\n",
       "      <td>0.000000</td>\n",
       "      <td>34.000000</td>\n",
       "      <td>59.000000</td>\n",
       "      <td>12.700000</td>\n",
       "      <td>8.000000</td>\n",
       "      <td>8.000000</td>\n",
       "      <td>13.900000</td>\n",
       "      <td>22.200000</td>\n",
       "      <td>21.000000</td>\n",
       "      <td>13.000000</td>\n",
       "    </tr>\n",
       "    <tr>\n",
       "      <th>145433</th>\n",
       "      <td>0.000000</td>\n",
       "      <td>32.000000</td>\n",
       "      <td>62.000000</td>\n",
       "      <td>9.400000</td>\n",
       "      <td>4.000000</td>\n",
       "      <td>8.000000</td>\n",
       "      <td>11.800000</td>\n",
       "      <td>22.700000</td>\n",
       "      <td>22.300000</td>\n",
       "      <td>17.000000</td>\n",
       "    </tr>\n",
       "    <tr>\n",
       "      <th>145434</th>\n",
       "      <td>0.000000</td>\n",
       "      <td>32.000000</td>\n",
       "      <td>56.000000</td>\n",
       "      <td>5.400000</td>\n",
       "      <td>4.166667</td>\n",
       "      <td>5.333333</td>\n",
       "      <td>11.100000</td>\n",
       "      <td>20.500000</td>\n",
       "      <td>20.200000</td>\n",
       "      <td>28.000000</td>\n",
       "    </tr>\n",
       "  </tbody>\n",
       "</table>\n",
       "<p>145435 rows × 10 columns</p>\n",
       "</div>"
      ],
      "text/plain": [
       "        Rainfall  Humidity3pm  Humidity9am    MinTemp  Cloud3pm  Cloud9am  \\\n",
       "0       0.600000    22.000000    71.000000  13.400000  4.789474  8.000000   \n",
       "1       0.000000    25.000000    44.000000   7.400000  4.290128  4.757475   \n",
       "2       0.000000    30.000000    38.000000  12.900000  4.000000  3.000000   \n",
       "3       0.000000    16.000000    45.000000   9.200000  4.290128  4.757475   \n",
       "4       1.936709    47.689362    61.722944  15.154894  4.801102  4.920000   \n",
       "...          ...          ...          ...        ...       ...       ...   \n",
       "145430  0.000000    16.000000    36.000000   9.300000  4.166667  5.333333   \n",
       "145431  0.000000    25.000000    46.000000   8.000000  4.166667  4.000000   \n",
       "145432  0.000000    34.000000    59.000000  12.700000  8.000000  8.000000   \n",
       "145433  0.000000    32.000000    62.000000   9.400000  4.000000  8.000000   \n",
       "145434  0.000000    32.000000    56.000000   5.400000  4.166667  5.333333   \n",
       "\n",
       "          Temp9am    MaxTemp    Temp3pm  WindSpeed3pm  \n",
       "0       16.900000  22.900000  21.800000     24.000000  \n",
       "1       17.200000  32.600000  24.300000     22.000000  \n",
       "2       21.000000  25.700000  23.200000     26.000000  \n",
       "3       18.100000  28.000000  26.500000      9.000000  \n",
       "4       20.180519  25.785654  24.071064     21.195745  \n",
       "...           ...        ...        ...           ...  \n",
       "145430  16.600000  28.000000  27.300000     11.000000  \n",
       "145431  13.800000  24.600000  23.500000     13.000000  \n",
       "145432  13.900000  22.200000  21.000000     13.000000  \n",
       "145433  11.800000  22.700000  22.300000     17.000000  \n",
       "145434  11.100000  20.500000  20.200000     28.000000  \n",
       "\n",
       "[145435 rows x 10 columns]"
      ]
     },
     "execution_count": 165,
     "metadata": {},
     "output_type": "execute_result"
    }
   ],
   "source": [
    "x"
   ]
  },
  {
   "cell_type": "code",
   "execution_count": 166,
   "metadata": {},
   "outputs": [
    {
     "data": {
      "text/plain": [
       "0         0.0\n",
       "1         0.0\n",
       "2         0.0\n",
       "3         0.0\n",
       "4         1.2\n",
       "         ... \n",
       "145430    0.0\n",
       "145431    0.0\n",
       "145432    0.0\n",
       "145433    0.0\n",
       "145434    0.0\n",
       "Name: Rain_25day_after, Length: 145435, dtype: float64"
      ]
     },
     "execution_count": 166,
     "metadata": {},
     "output_type": "execute_result"
    }
   ],
   "source": [
    "y = df['Rain_25day_after']\n",
    "y"
   ]
  },
  {
   "cell_type": "code",
   "execution_count": 167,
   "metadata": {},
   "outputs": [],
   "source": [
    "X_train, X_test, y_train, y_test = train_test_split(x,y, test_size=0.2, shuffle=False)"
   ]
  },
  {
   "cell_type": "code",
   "execution_count": 168,
   "metadata": {},
   "outputs": [
    {
     "data": {
      "text/plain": [
       "RandomForestRegressor(n_estimators=200)"
      ]
     },
     "execution_count": 168,
     "metadata": {},
     "output_type": "execute_result"
    }
   ],
   "source": [
    "#fitting the model\n",
    "rf = RandomForestRegressor(n_estimators=200)\n",
    "rf.fit(X_train, y_train)"
   ]
  },
  {
   "cell_type": "code",
   "execution_count": 169,
   "metadata": {},
   "outputs": [],
   "source": [
    "predicted = rf.predict(X_test)"
   ]
  },
  {
   "cell_type": "code",
   "execution_count": 170,
   "metadata": {},
   "outputs": [
    {
     "name": "stdout",
     "output_type": "stream",
     "text": [
      "Mean absolute error:  4.1470978070819635\n"
     ]
    }
   ],
   "source": [
    "print(\"Mean absolute error: \", mean_absolute_error(y_test, predicted))"
   ]
  },
  {
   "cell_type": "code",
   "execution_count": 171,
   "metadata": {},
   "outputs": [
    {
     "name": "stdout",
     "output_type": "stream",
     "text": [
      "Mean squared error:  65.75834148988584\n"
     ]
    }
   ],
   "source": [
    "print(\"Mean squared error: \", mean_squared_error(y_test, predicted))"
   ]
  },
  {
   "cell_type": "code",
   "execution_count": 172,
   "metadata": {},
   "outputs": [
    {
     "name": "stdout",
     "output_type": "stream",
     "text": [
      "Root mean squared error:  8.10915171210194\n"
     ]
    }
   ],
   "source": [
    "print(\"Root mean squared error: \", np.sqrt(mean_squared_error(y_test, predicted)))"
   ]
  },
  {
   "cell_type": "code",
   "execution_count": 173,
   "metadata": {
    "scrolled": true
   },
   "outputs": [
    {
     "data": {
      "text/plain": [
       "Text(0.5, 1.0, 'Actual rainfall amount - Predicted rainfall amount')"
      ]
     },
     "execution_count": 173,
     "metadata": {},
     "output_type": "execute_result"
    },
    {
     "data": {
      "image/png": "[encoded data removed]",
      "text/plain": [
       "<Figure size 432x288 with 1 Axes>"
      ]
     },
     "metadata": {
      "needs_background": "light"
     },
     "output_type": "display_data"
    }
   ],
   "source": [
    "g=plt.plot(y_test - predicted, marker='o', linestyle='')\n",
    "plt.xlabel(\"Index of dataset\")\n",
    "plt.ylabel(\"Rainfall Amount\")\n",
    "plt.title(\"Actual rainfall amount - Predicted rainfall amount\")"
   ]
  },
  {
   "cell_type": "code",
   "execution_count": 174,
   "metadata": {},
   "outputs": [
    {
     "data": {
      "text/plain": [
       "['Rain_30day_after',\n",
       " 'MinTemp',\n",
       " 'Humidity3pm',\n",
       " 'Rain_25day_after',\n",
       " 'Rain_20day_after',\n",
       " 'Rain_1day_before',\n",
       " 'Temp9am',\n",
       " 'Rain_15day_after',\n",
       " 'Rain_2day_before',\n",
       " 'Rain_10day_before',\n",
       " 'Rain_3day_before',\n",
       " 'Rainfall',\n",
       " 'Rain_5day_before',\n",
       " 'Rain_4day_before',\n",
       " 'Rain_3day_after',\n",
       " 'Rain_2day_after',\n",
       " 'Rain_10day_after',\n",
       " 'Rain_5day_after',\n",
       " 'Rain_4day_after',\n",
       " 'Humidity9am',\n",
       " 'Rain_15day_before',\n",
       " 'Rain_20day_before',\n",
       " 'Rain_1day_after',\n",
       " 'Rain_25day_before',\n",
       " 'Rain_30day_before',\n",
       " 'Cloud9am',\n",
       " 'Cloud3pm',\n",
       " 'MaxTemp',\n",
       " 'Temp3pm',\n",
       " 'WindSpeed3pm',\n",
       " 'WindGustSpeed']"
      ]
     },
     "execution_count": 174,
     "metadata": {},
     "output_type": "execute_result"
    }
   ],
   "source": [
    "x = []\n",
    "for i in range (len(related_30day_after)):\n",
    "    if related_30day_after[i]>0:\n",
    "        x.append(related_30day_after.index[i])\n",
    "        \n",
    "x"
   ]
  },
  {
   "cell_type": "code",
   "execution_count": 175,
   "metadata": {},
   "outputs": [],
   "source": [
    "x = ['Rainfall', 'Humidity3pm', 'Humidity9am', 'WindGustSpeed', 'MinTemp', 'Cloud3pm', 'Cloud9am', 'Temp9am', 'MaxTemp',\n",
    "    'WindSpeed3pm', 'Temp3pm']"
   ]
  },
  {
   "cell_type": "code",
   "execution_count": 176,
   "metadata": {},
   "outputs": [],
   "source": [
    "df = df[:-5]"
   ]
  },
  {
   "cell_type": "code",
   "execution_count": 177,
   "metadata": {},
   "outputs": [],
   "source": [
    "x = df[x]"
   ]
  },
  {
   "cell_type": "code",
   "execution_count": 178,
   "metadata": {},
   "outputs": [
    {
     "data": {
      "text/html": [
       "<div>\n",
       "<style scoped>\n",
       "    .dataframe tbody tr th:only-of-type {\n",
       "        vertical-align: middle;\n",
       "    }\n",
       "\n",
       "    .dataframe tbody tr th {\n",
       "        vertical-align: top;\n",
       "    }\n",
       "\n",
       "    .dataframe thead th {\n",
       "        text-align: right;\n",
       "    }\n",
       "</style>\n",
       "<table border=\"1\" class=\"dataframe\">\n",
       "  <thead>\n",
       "    <tr style=\"text-align: right;\">\n",
       "      <th></th>\n",
       "      <th>Rainfall</th>\n",
       "      <th>Humidity3pm</th>\n",
       "      <th>Humidity9am</th>\n",
       "      <th>WindGustSpeed</th>\n",
       "      <th>MinTemp</th>\n",
       "      <th>Cloud3pm</th>\n",
       "      <th>Cloud9am</th>\n",
       "      <th>Temp9am</th>\n",
       "      <th>MaxTemp</th>\n",
       "      <th>WindSpeed3pm</th>\n",
       "      <th>Temp3pm</th>\n",
       "    </tr>\n",
       "  </thead>\n",
       "  <tbody>\n",
       "    <tr>\n",
       "      <th>0</th>\n",
       "      <td>0.600000</td>\n",
       "      <td>22.000000</td>\n",
       "      <td>71.000000</td>\n",
       "      <td>44.000000</td>\n",
       "      <td>13.400000</td>\n",
       "      <td>4.789474</td>\n",
       "      <td>8.000000</td>\n",
       "      <td>16.900000</td>\n",
       "      <td>22.900000</td>\n",
       "      <td>24.000000</td>\n",
       "      <td>21.800000</td>\n",
       "    </tr>\n",
       "    <tr>\n",
       "      <th>1</th>\n",
       "      <td>0.000000</td>\n",
       "      <td>25.000000</td>\n",
       "      <td>44.000000</td>\n",
       "      <td>59.000000</td>\n",
       "      <td>7.400000</td>\n",
       "      <td>4.290128</td>\n",
       "      <td>4.757475</td>\n",
       "      <td>17.200000</td>\n",
       "      <td>32.600000</td>\n",
       "      <td>22.000000</td>\n",
       "      <td>24.300000</td>\n",
       "    </tr>\n",
       "    <tr>\n",
       "      <th>2</th>\n",
       "      <td>0.000000</td>\n",
       "      <td>30.000000</td>\n",
       "      <td>38.000000</td>\n",
       "      <td>46.000000</td>\n",
       "      <td>12.900000</td>\n",
       "      <td>4.000000</td>\n",
       "      <td>3.000000</td>\n",
       "      <td>21.000000</td>\n",
       "      <td>25.700000</td>\n",
       "      <td>26.000000</td>\n",
       "      <td>23.200000</td>\n",
       "    </tr>\n",
       "    <tr>\n",
       "      <th>3</th>\n",
       "      <td>0.000000</td>\n",
       "      <td>16.000000</td>\n",
       "      <td>45.000000</td>\n",
       "      <td>43.628141</td>\n",
       "      <td>9.200000</td>\n",
       "      <td>4.290128</td>\n",
       "      <td>4.757475</td>\n",
       "      <td>18.100000</td>\n",
       "      <td>28.000000</td>\n",
       "      <td>9.000000</td>\n",
       "      <td>26.500000</td>\n",
       "    </tr>\n",
       "    <tr>\n",
       "      <th>4</th>\n",
       "      <td>1.936709</td>\n",
       "      <td>47.689362</td>\n",
       "      <td>61.722944</td>\n",
       "      <td>43.726775</td>\n",
       "      <td>15.154894</td>\n",
       "      <td>4.801102</td>\n",
       "      <td>4.920000</td>\n",
       "      <td>20.180519</td>\n",
       "      <td>25.785654</td>\n",
       "      <td>21.195745</td>\n",
       "      <td>24.071064</td>\n",
       "    </tr>\n",
       "    <tr>\n",
       "      <th>...</th>\n",
       "      <td>...</td>\n",
       "      <td>...</td>\n",
       "      <td>...</td>\n",
       "      <td>...</td>\n",
       "      <td>...</td>\n",
       "      <td>...</td>\n",
       "      <td>...</td>\n",
       "      <td>...</td>\n",
       "      <td>...</td>\n",
       "      <td>...</td>\n",
       "      <td>...</td>\n",
       "    </tr>\n",
       "    <tr>\n",
       "      <th>145425</th>\n",
       "      <td>0.000000</td>\n",
       "      <td>20.000000</td>\n",
       "      <td>48.000000</td>\n",
       "      <td>41.000000</td>\n",
       "      <td>9.700000</td>\n",
       "      <td>4.166667</td>\n",
       "      <td>5.333333</td>\n",
       "      <td>18.600000</td>\n",
       "      <td>30.000000</td>\n",
       "      <td>19.000000</td>\n",
       "      <td>29.700000</td>\n",
       "    </tr>\n",
       "    <tr>\n",
       "      <th>145426</th>\n",
       "      <td>0.000000</td>\n",
       "      <td>27.000000</td>\n",
       "      <td>53.000000</td>\n",
       "      <td>24.000000</td>\n",
       "      <td>7.600000</td>\n",
       "      <td>4.166667</td>\n",
       "      <td>5.333333</td>\n",
       "      <td>15.700000</td>\n",
       "      <td>27.100000</td>\n",
       "      <td>11.000000</td>\n",
       "      <td>26.800000</td>\n",
       "    </tr>\n",
       "    <tr>\n",
       "      <th>145427</th>\n",
       "      <td>0.000000</td>\n",
       "      <td>29.000000</td>\n",
       "      <td>55.000000</td>\n",
       "      <td>41.000000</td>\n",
       "      <td>10.100000</td>\n",
       "      <td>4.166667</td>\n",
       "      <td>5.333333</td>\n",
       "      <td>14.800000</td>\n",
       "      <td>26.700000</td>\n",
       "      <td>17.000000</td>\n",
       "      <td>25.700000</td>\n",
       "    </tr>\n",
       "    <tr>\n",
       "      <th>145428</th>\n",
       "      <td>0.000000</td>\n",
       "      <td>36.000000</td>\n",
       "      <td>61.000000</td>\n",
       "      <td>37.000000</td>\n",
       "      <td>14.600000</td>\n",
       "      <td>1.000000</td>\n",
       "      <td>7.000000</td>\n",
       "      <td>15.400000</td>\n",
       "      <td>26.300000</td>\n",
       "      <td>20.000000</td>\n",
       "      <td>25.000000</td>\n",
       "    </tr>\n",
       "    <tr>\n",
       "      <th>145429</th>\n",
       "      <td>0.400000</td>\n",
       "      <td>27.000000</td>\n",
       "      <td>68.000000</td>\n",
       "      <td>39.000000</td>\n",
       "      <td>14.300000</td>\n",
       "      <td>7.000000</td>\n",
       "      <td>4.000000</td>\n",
       "      <td>16.100000</td>\n",
       "      <td>27.600000</td>\n",
       "      <td>20.000000</td>\n",
       "      <td>27.200000</td>\n",
       "    </tr>\n",
       "  </tbody>\n",
       "</table>\n",
       "<p>145430 rows × 11 columns</p>\n",
       "</div>"
      ],
      "text/plain": [
       "        Rainfall  Humidity3pm  Humidity9am  WindGustSpeed    MinTemp  \\\n",
       "0       0.600000    22.000000    71.000000      44.000000  13.400000   \n",
       "1       0.000000    25.000000    44.000000      59.000000   7.400000   \n",
       "2       0.000000    30.000000    38.000000      46.000000  12.900000   \n",
       "3       0.000000    16.000000    45.000000      43.628141   9.200000   \n",
       "4       1.936709    47.689362    61.722944      43.726775  15.154894   \n",
       "...          ...          ...          ...            ...        ...   \n",
       "145425  0.000000    20.000000    48.000000      41.000000   9.700000   \n",
       "145426  0.000000    27.000000    53.000000      24.000000   7.600000   \n",
       "145427  0.000000    29.000000    55.000000      41.000000  10.100000   \n",
       "145428  0.000000    36.000000    61.000000      37.000000  14.600000   \n",
       "145429  0.400000    27.000000    68.000000      39.000000  14.300000   \n",
       "\n",
       "        Cloud3pm  Cloud9am    Temp9am    MaxTemp  WindSpeed3pm    Temp3pm  \n",
       "0       4.789474  8.000000  16.900000  22.900000     24.000000  21.800000  \n",
       "1       4.290128  4.757475  17.200000  32.600000     22.000000  24.300000  \n",
       "2       4.000000  3.000000  21.000000  25.700000     26.000000  23.200000  \n",
       "3       4.290128  4.757475  18.100000  28.000000      9.000000  26.500000  \n",
       "4       4.801102  4.920000  20.180519  25.785654     21.195745  24.071064  \n",
       "...          ...       ...        ...        ...           ...        ...  \n",
       "145425  4.166667  5.333333  18.600000  30.000000     19.000000  29.700000  \n",
       "145426  4.166667  5.333333  15.700000  27.100000     11.000000  26.800000  \n",
       "145427  4.166667  5.333333  14.800000  26.700000     17.000000  25.700000  \n",
       "145428  1.000000  7.000000  15.400000  26.300000     20.000000  25.000000  \n",
       "145429  7.000000  4.000000  16.100000  27.600000     20.000000  27.200000  \n",
       "\n",
       "[145430 rows x 11 columns]"
      ]
     },
     "execution_count": 178,
     "metadata": {},
     "output_type": "execute_result"
    }
   ],
   "source": [
    "x"
   ]
  },
  {
   "cell_type": "code",
   "execution_count": 179,
   "metadata": {},
   "outputs": [
    {
     "data": {
      "text/plain": [
       "0         2.020815\n",
       "1         0.000000\n",
       "2         0.000000\n",
       "3         0.000000\n",
       "4         0.000000\n",
       "            ...   \n",
       "145425    0.000000\n",
       "145426    0.000000\n",
       "145427    0.000000\n",
       "145428    0.000000\n",
       "145429    0.000000\n",
       "Name: Rain_30day_after, Length: 145430, dtype: float64"
      ]
     },
     "execution_count": 179,
     "metadata": {},
     "output_type": "execute_result"
    }
   ],
   "source": [
    "y = df['Rain_30day_after']\n",
    "y"
   ]
  },
  {
   "cell_type": "code",
   "execution_count": 180,
   "metadata": {},
   "outputs": [],
   "source": [
    "X_train, X_test, y_train, y_test = train_test_split(x,y, test_size=0.2, shuffle=False)"
   ]
  },
  {
   "cell_type": "code",
   "execution_count": 181,
   "metadata": {},
   "outputs": [
    {
     "data": {
      "text/plain": [
       "RandomForestRegressor(n_estimators=200)"
      ]
     },
     "execution_count": 181,
     "metadata": {},
     "output_type": "execute_result"
    }
   ],
   "source": [
    "#fitting the model\n",
    "rf = RandomForestRegressor(n_estimators=200)\n",
    "rf.fit(X_train, y_train)"
   ]
  },
  {
   "cell_type": "code",
   "execution_count": 182,
   "metadata": {},
   "outputs": [],
   "source": [
    "predicted = rf.predict(X_test)"
   ]
  },
  {
   "cell_type": "code",
   "execution_count": 183,
   "metadata": {},
   "outputs": [
    {
     "name": "stdout",
     "output_type": "stream",
     "text": [
      "Mean absolute error:  4.127087651445658\n"
     ]
    }
   ],
   "source": [
    "print(\"Mean absolute error: \", mean_absolute_error(y_test, predicted))"
   ]
  },
  {
   "cell_type": "code",
   "execution_count": 184,
   "metadata": {},
   "outputs": [
    {
     "name": "stdout",
     "output_type": "stream",
     "text": [
      "Mean squared error:  66.02466780826987\n"
     ]
    }
   ],
   "source": [
    "print(\"Mean squared error: \", mean_squared_error(y_test, predicted))"
   ]
  },
  {
   "cell_type": "code",
   "execution_count": 185,
   "metadata": {},
   "outputs": [
    {
     "name": "stdout",
     "output_type": "stream",
     "text": [
      "Root mean squared error:  8.12555646145357\n"
     ]
    }
   ],
   "source": [
    "print(\"Root mean squared error: \", np.sqrt(mean_squared_error(y_test, predicted)))"
   ]
  },
  {
   "cell_type": "code",
   "execution_count": 186,
   "metadata": {
    "scrolled": false
   },
   "outputs": [
    {
     "data": {
      "text/plain": [
       "Text(0.5, 1.0, 'Actual rainfall amount - Predicted rainfall amount')"
      ]
     },
     "execution_count": 186,
     "metadata": {},
     "output_type": "execute_result"
    },
    {
     "data": {
      "image/png": "[encoded data removed]",
      "text/plain": [
       "<Figure size 432x288 with 1 Axes>"
      ]
     },
     "metadata": {
      "needs_background": "light"
     },
     "output_type": "display_data"
    }
   ],
   "source": [
    "g=plt.plot(y_test - predicted, marker='o', linestyle='')\n",
    "plt.xlabel(\"Index of dataset\")\n",
    "plt.ylabel(\"Rainfall Amount\")\n",
    "plt.title(\"Actual rainfall amount - Predicted rainfall amount\")"
   ]
  },
  {
   "cell_type": "code",
   "execution_count": 187,
   "metadata": {},
   "outputs": [
    {
     "data": {
      "text/plain": [
       "['Rain_1day_before',\n",
       " 'Rainfall',\n",
       " 'Rain_2day_before',\n",
       " 'Humidity3pm',\n",
       " 'Rain_1day_after',\n",
       " 'Rain_3day_before',\n",
       " 'Humidity9am',\n",
       " 'Rain_2day_after',\n",
       " 'Rain_4day_before',\n",
       " 'Rain_3day_after',\n",
       " 'Rain_5day_before',\n",
       " 'MinTemp',\n",
       " 'Rain_4day_after',\n",
       " 'Cloud9am',\n",
       " 'Cloud3pm',\n",
       " 'Rain_30day_after',\n",
       " 'Rain_5day_after',\n",
       " 'Rain_10day_before',\n",
       " 'Rain_10day_after',\n",
       " 'Rain_20day_after',\n",
       " 'Rain_15day_after',\n",
       " 'Rain_15day_before',\n",
       " 'Rain_25day_before',\n",
       " 'Rain_20day_before',\n",
       " 'Rain_25day_after',\n",
       " 'Rain_30day_before',\n",
       " 'WindGustSpeed',\n",
       " 'WindSpeed9am',\n",
       " 'WindSpeed3pm',\n",
       " 'Temp9am']"
      ]
     },
     "execution_count": 187,
     "metadata": {},
     "output_type": "execute_result"
    }
   ],
   "source": [
    "x = []\n",
    "for i in range (len(related_1day_before)):\n",
    "    if related_1day_before[i]>0:\n",
    "        x.append(related_1day_before.index[i])\n",
    "        \n",
    "x"
   ]
  },
  {
   "cell_type": "code",
   "execution_count": 188,
   "metadata": {},
   "outputs": [],
   "source": [
    "x = ['Rainfall', 'Humidity3pm', 'Humidity9am', 'WindGustSpeed', 'MinTemp', 'Cloud3pm', 'Cloud9am', 'WindSpeed9am', 'Temp9am',\n",
    "    'WindSpeed3pm']"
   ]
  },
  {
   "cell_type": "code",
   "execution_count": 193,
   "metadata": {},
   "outputs": [],
   "source": [
    "df = df[1:]"
   ]
  },
  {
   "cell_type": "code",
   "execution_count": 194,
   "metadata": {},
   "outputs": [],
   "source": [
    "x = df[x]"
   ]
  },
  {
   "cell_type": "code",
   "execution_count": 195,
   "metadata": {},
   "outputs": [
    {
     "data": {
      "text/html": [
       "<div>\n",
       "<style scoped>\n",
       "    .dataframe tbody tr th:only-of-type {\n",
       "        vertical-align: middle;\n",
       "    }\n",
       "\n",
       "    .dataframe tbody tr th {\n",
       "        vertical-align: top;\n",
       "    }\n",
       "\n",
       "    .dataframe thead th {\n",
       "        text-align: right;\n",
       "    }\n",
       "</style>\n",
       "<table border=\"1\" class=\"dataframe\">\n",
       "  <thead>\n",
       "    <tr style=\"text-align: right;\">\n",
       "      <th></th>\n",
       "      <th>Rainfall</th>\n",
       "      <th>Humidity3pm</th>\n",
       "      <th>Humidity9am</th>\n",
       "      <th>WindGustSpeed</th>\n",
       "      <th>MinTemp</th>\n",
       "      <th>Cloud3pm</th>\n",
       "      <th>Cloud9am</th>\n",
       "      <th>WindSpeed9am</th>\n",
       "      <th>Temp9am</th>\n",
       "      <th>WindSpeed3pm</th>\n",
       "    </tr>\n",
       "  </thead>\n",
       "  <tbody>\n",
       "    <tr>\n",
       "      <th>1</th>\n",
       "      <td>0.000000</td>\n",
       "      <td>25.000000</td>\n",
       "      <td>44.000000</td>\n",
       "      <td>59.000000</td>\n",
       "      <td>7.400000</td>\n",
       "      <td>4.290128</td>\n",
       "      <td>4.757475</td>\n",
       "      <td>4.000000</td>\n",
       "      <td>17.200000</td>\n",
       "      <td>22.000000</td>\n",
       "    </tr>\n",
       "    <tr>\n",
       "      <th>2</th>\n",
       "      <td>0.000000</td>\n",
       "      <td>30.000000</td>\n",
       "      <td>38.000000</td>\n",
       "      <td>46.000000</td>\n",
       "      <td>12.900000</td>\n",
       "      <td>4.000000</td>\n",
       "      <td>3.000000</td>\n",
       "      <td>19.000000</td>\n",
       "      <td>21.000000</td>\n",
       "      <td>26.000000</td>\n",
       "    </tr>\n",
       "    <tr>\n",
       "      <th>3</th>\n",
       "      <td>0.000000</td>\n",
       "      <td>16.000000</td>\n",
       "      <td>45.000000</td>\n",
       "      <td>43.628141</td>\n",
       "      <td>9.200000</td>\n",
       "      <td>4.290128</td>\n",
       "      <td>4.757475</td>\n",
       "      <td>11.000000</td>\n",
       "      <td>18.100000</td>\n",
       "      <td>9.000000</td>\n",
       "    </tr>\n",
       "    <tr>\n",
       "      <th>4</th>\n",
       "      <td>1.936709</td>\n",
       "      <td>47.689362</td>\n",
       "      <td>61.722944</td>\n",
       "      <td>43.726775</td>\n",
       "      <td>15.154894</td>\n",
       "      <td>4.801102</td>\n",
       "      <td>4.920000</td>\n",
       "      <td>14.515152</td>\n",
       "      <td>20.180519</td>\n",
       "      <td>21.195745</td>\n",
       "    </tr>\n",
       "    <tr>\n",
       "      <th>5</th>\n",
       "      <td>0.200000</td>\n",
       "      <td>23.000000</td>\n",
       "      <td>55.000000</td>\n",
       "      <td>56.000000</td>\n",
       "      <td>14.600000</td>\n",
       "      <td>6.000000</td>\n",
       "      <td>1.000000</td>\n",
       "      <td>19.000000</td>\n",
       "      <td>20.600000</td>\n",
       "      <td>24.000000</td>\n",
       "    </tr>\n",
       "    <tr>\n",
       "      <th>...</th>\n",
       "      <td>...</td>\n",
       "      <td>...</td>\n",
       "      <td>...</td>\n",
       "      <td>...</td>\n",
       "      <td>...</td>\n",
       "      <td>...</td>\n",
       "      <td>...</td>\n",
       "      <td>...</td>\n",
       "      <td>...</td>\n",
       "      <td>...</td>\n",
       "    </tr>\n",
       "    <tr>\n",
       "      <th>145425</th>\n",
       "      <td>0.000000</td>\n",
       "      <td>20.000000</td>\n",
       "      <td>48.000000</td>\n",
       "      <td>41.000000</td>\n",
       "      <td>9.700000</td>\n",
       "      <td>4.166667</td>\n",
       "      <td>5.333333</td>\n",
       "      <td>4.000000</td>\n",
       "      <td>18.600000</td>\n",
       "      <td>19.000000</td>\n",
       "    </tr>\n",
       "    <tr>\n",
       "      <th>145426</th>\n",
       "      <td>0.000000</td>\n",
       "      <td>27.000000</td>\n",
       "      <td>53.000000</td>\n",
       "      <td>24.000000</td>\n",
       "      <td>7.600000</td>\n",
       "      <td>4.166667</td>\n",
       "      <td>5.333333</td>\n",
       "      <td>11.000000</td>\n",
       "      <td>15.700000</td>\n",
       "      <td>11.000000</td>\n",
       "    </tr>\n",
       "    <tr>\n",
       "      <th>145427</th>\n",
       "      <td>0.000000</td>\n",
       "      <td>29.000000</td>\n",
       "      <td>55.000000</td>\n",
       "      <td>41.000000</td>\n",
       "      <td>10.100000</td>\n",
       "      <td>4.166667</td>\n",
       "      <td>5.333333</td>\n",
       "      <td>22.000000</td>\n",
       "      <td>14.800000</td>\n",
       "      <td>17.000000</td>\n",
       "    </tr>\n",
       "    <tr>\n",
       "      <th>145428</th>\n",
       "      <td>0.000000</td>\n",
       "      <td>36.000000</td>\n",
       "      <td>61.000000</td>\n",
       "      <td>37.000000</td>\n",
       "      <td>14.600000</td>\n",
       "      <td>1.000000</td>\n",
       "      <td>7.000000</td>\n",
       "      <td>19.000000</td>\n",
       "      <td>15.400000</td>\n",
       "      <td>20.000000</td>\n",
       "    </tr>\n",
       "    <tr>\n",
       "      <th>145429</th>\n",
       "      <td>0.400000</td>\n",
       "      <td>27.000000</td>\n",
       "      <td>68.000000</td>\n",
       "      <td>39.000000</td>\n",
       "      <td>14.300000</td>\n",
       "      <td>7.000000</td>\n",
       "      <td>4.000000</td>\n",
       "      <td>0.000000</td>\n",
       "      <td>16.100000</td>\n",
       "      <td>20.000000</td>\n",
       "    </tr>\n",
       "  </tbody>\n",
       "</table>\n",
       "<p>145429 rows × 10 columns</p>\n",
       "</div>"
      ],
      "text/plain": [
       "        Rainfall  Humidity3pm  Humidity9am  WindGustSpeed    MinTemp  \\\n",
       "1       0.000000    25.000000    44.000000      59.000000   7.400000   \n",
       "2       0.000000    30.000000    38.000000      46.000000  12.900000   \n",
       "3       0.000000    16.000000    45.000000      43.628141   9.200000   \n",
       "4       1.936709    47.689362    61.722944      43.726775  15.154894   \n",
       "5       0.200000    23.000000    55.000000      56.000000  14.600000   \n",
       "...          ...          ...          ...            ...        ...   \n",
       "145425  0.000000    20.000000    48.000000      41.000000   9.700000   \n",
       "145426  0.000000    27.000000    53.000000      24.000000   7.600000   \n",
       "145427  0.000000    29.000000    55.000000      41.000000  10.100000   \n",
       "145428  0.000000    36.000000    61.000000      37.000000  14.600000   \n",
       "145429  0.400000    27.000000    68.000000      39.000000  14.300000   \n",
       "\n",
       "        Cloud3pm  Cloud9am  WindSpeed9am    Temp9am  WindSpeed3pm  \n",
       "1       4.290128  4.757475      4.000000  17.200000     22.000000  \n",
       "2       4.000000  3.000000     19.000000  21.000000     26.000000  \n",
       "3       4.290128  4.757475     11.000000  18.100000      9.000000  \n",
       "4       4.801102  4.920000     14.515152  20.180519     21.195745  \n",
       "5       6.000000  1.000000     19.000000  20.600000     24.000000  \n",
       "...          ...       ...           ...        ...           ...  \n",
       "145425  4.166667  5.333333      4.000000  18.600000     19.000000  \n",
       "145426  4.166667  5.333333     11.000000  15.700000     11.000000  \n",
       "145427  4.166667  5.333333     22.000000  14.800000     17.000000  \n",
       "145428  1.000000  7.000000     19.000000  15.400000     20.000000  \n",
       "145429  7.000000  4.000000      0.000000  16.100000     20.000000  \n",
       "\n",
       "[145429 rows x 10 columns]"
      ]
     },
     "execution_count": 195,
     "metadata": {},
     "output_type": "execute_result"
    }
   ],
   "source": [
    "x"
   ]
  },
  {
   "cell_type": "code",
   "execution_count": 196,
   "metadata": {},
   "outputs": [
    {
     "data": {
      "text/plain": [
       "1         0.600000\n",
       "2         0.000000\n",
       "3         0.000000\n",
       "4         0.000000\n",
       "5         1.936709\n",
       "            ...   \n",
       "145425    0.000000\n",
       "145426    0.000000\n",
       "145427    0.000000\n",
       "145428    0.000000\n",
       "145429    0.000000\n",
       "Name: Rain_1day_before, Length: 145429, dtype: float64"
      ]
     },
     "execution_count": 196,
     "metadata": {},
     "output_type": "execute_result"
    }
   ],
   "source": [
    "y = df['Rain_1day_before']\n",
    "y"
   ]
  },
  {
   "cell_type": "code",
   "execution_count": 197,
   "metadata": {},
   "outputs": [],
   "source": [
    "X_train, X_test, y_train, y_test = train_test_split(x,y, test_size=0.2, shuffle=False)"
   ]
  },
  {
   "cell_type": "code",
   "execution_count": 198,
   "metadata": {},
   "outputs": [
    {
     "data": {
      "text/plain": [
       "RandomForestRegressor(n_estimators=200)"
      ]
     },
     "execution_count": 198,
     "metadata": {},
     "output_type": "execute_result"
    }
   ],
   "source": [
    "#fitting the model\n",
    "rf = RandomForestRegressor(n_estimators=200)\n",
    "rf.fit(X_train, y_train)"
   ]
  },
  {
   "cell_type": "code",
   "execution_count": 199,
   "metadata": {},
   "outputs": [],
   "source": [
    "predicted = rf.predict(X_test)"
   ]
  },
  {
   "cell_type": "code",
   "execution_count": 200,
   "metadata": {},
   "outputs": [
    {
     "name": "stdout",
     "output_type": "stream",
     "text": [
      "Mean absolute error:  3.181712885688845\n"
     ]
    }
   ],
   "source": [
    "print(\"Mean absolute error: \", mean_absolute_error(y_test, predicted))"
   ]
  },
  {
   "cell_type": "code",
   "execution_count": 201,
   "metadata": {},
   "outputs": [
    {
     "name": "stdout",
     "output_type": "stream",
     "text": [
      "Mean squared error:  55.2464207355575\n"
     ]
    }
   ],
   "source": [
    "print(\"Mean squared error: \", mean_squared_error(y_test, predicted))"
   ]
  },
  {
   "cell_type": "code",
   "execution_count": 202,
   "metadata": {},
   "outputs": [
    {
     "name": "stdout",
     "output_type": "stream",
     "text": [
      "Root mean squared error:  7.432793602378415\n"
     ]
    }
   ],
   "source": [
    "print(\"Root mean squared error: \", np.sqrt(mean_squared_error(y_test, predicted)))"
   ]
  },
  {
   "cell_type": "code",
   "execution_count": 203,
   "metadata": {
    "scrolled": false
   },
   "outputs": [
    {
     "data": {
      "text/plain": [
       "Text(0.5, 1.0, 'Actual rainfall amount - Predicted rainfall amount')"
      ]
     },
     "execution_count": 203,
     "metadata": {},
     "output_type": "execute_result"
    },
    {
     "data": {
      "image/png": "[encoded data removed]",
      "text/plain": [
       "<Figure size 432x288 with 1 Axes>"
      ]
     },
     "metadata": {
      "needs_background": "light"
     },
     "output_type": "display_data"
    }
   ],
   "source": [
    "g=plt.plot(y_test - predicted, marker='o', linestyle='')\n",
    "plt.xlabel(\"Index of dataset\")\n",
    "plt.ylabel(\"Rainfall Amount\")\n",
    "plt.title(\"Actual rainfall amount - Predicted rainfall amount\")"
   ]
  },
  {
   "cell_type": "code",
   "execution_count": 204,
   "metadata": {},
   "outputs": [
    {
     "data": {
      "text/plain": [
       "['Rain_2day_before',\n",
       " 'Rain_1day_before',\n",
       " 'Rain_3day_before',\n",
       " 'Rainfall',\n",
       " 'Rain_4day_before',\n",
       " 'Humidity3pm',\n",
       " 'Humidity9am',\n",
       " 'Rain_1day_after',\n",
       " 'Rain_5day_before',\n",
       " 'Rain_2day_after',\n",
       " 'Rain_3day_after',\n",
       " 'MinTemp',\n",
       " 'Rain_5day_after',\n",
       " 'Rain_4day_after',\n",
       " 'Rain_10day_before',\n",
       " 'Rain_10day_after',\n",
       " 'Rain_30day_after',\n",
       " 'Rain_15day_after',\n",
       " 'Cloud3pm',\n",
       " 'Cloud9am',\n",
       " 'Rain_20day_after',\n",
       " 'Rain_25day_before',\n",
       " 'Rain_25day_after',\n",
       " 'Rain_15day_before',\n",
       " 'Rain_30day_before',\n",
       " 'Rain_20day_before',\n",
       " 'Temp9am',\n",
       " 'WindSpeed3pm',\n",
       " 'WindSpeed9am',\n",
       " 'WindGustSpeed']"
      ]
     },
     "execution_count": 204,
     "metadata": {},
     "output_type": "execute_result"
    }
   ],
   "source": [
    "x = []\n",
    "for i in range (len(related_2day_before)):\n",
    "    if related_2day_before[i]>0:\n",
    "        x.append(related_2day_before.index[i])\n",
    "        \n",
    "x"
   ]
  },
  {
   "cell_type": "code",
   "execution_count": 205,
   "metadata": {},
   "outputs": [],
   "source": [
    "x = ['Rainfall', 'Humidity3pm', 'Humidity9am', 'WindGustSpeed', 'MinTemp', 'Cloud3pm', 'Cloud9am', 'WindSpeed9am', 'Temp9am',\n",
    "    'WindSpeed3pm']"
   ]
  },
  {
   "cell_type": "code",
   "execution_count": 206,
   "metadata": {},
   "outputs": [],
   "source": [
    "df = df[1:]"
   ]
  },
  {
   "cell_type": "code",
   "execution_count": 207,
   "metadata": {},
   "outputs": [],
   "source": [
    "x = df[x]"
   ]
  },
  {
   "cell_type": "code",
   "execution_count": 208,
   "metadata": {},
   "outputs": [
    {
     "data": {
      "text/html": [
       "<div>\n",
       "<style scoped>\n",
       "    .dataframe tbody tr th:only-of-type {\n",
       "        vertical-align: middle;\n",
       "    }\n",
       "\n",
       "    .dataframe tbody tr th {\n",
       "        vertical-align: top;\n",
       "    }\n",
       "\n",
       "    .dataframe thead th {\n",
       "        text-align: right;\n",
       "    }\n",
       "</style>\n",
       "<table border=\"1\" class=\"dataframe\">\n",
       "  <thead>\n",
       "    <tr style=\"text-align: right;\">\n",
       "      <th></th>\n",
       "      <th>Rainfall</th>\n",
       "      <th>Humidity3pm</th>\n",
       "      <th>Humidity9am</th>\n",
       "      <th>WindGustSpeed</th>\n",
       "      <th>MinTemp</th>\n",
       "      <th>Cloud3pm</th>\n",
       "      <th>Cloud9am</th>\n",
       "      <th>WindSpeed9am</th>\n",
       "      <th>Temp9am</th>\n",
       "      <th>WindSpeed3pm</th>\n",
       "    </tr>\n",
       "  </thead>\n",
       "  <tbody>\n",
       "    <tr>\n",
       "      <th>2</th>\n",
       "      <td>0.000000</td>\n",
       "      <td>30.000000</td>\n",
       "      <td>38.000000</td>\n",
       "      <td>46.000000</td>\n",
       "      <td>12.900000</td>\n",
       "      <td>4.000000</td>\n",
       "      <td>3.000000</td>\n",
       "      <td>19.000000</td>\n",
       "      <td>21.000000</td>\n",
       "      <td>26.000000</td>\n",
       "    </tr>\n",
       "    <tr>\n",
       "      <th>3</th>\n",
       "      <td>0.000000</td>\n",
       "      <td>16.000000</td>\n",
       "      <td>45.000000</td>\n",
       "      <td>43.628141</td>\n",
       "      <td>9.200000</td>\n",
       "      <td>4.290128</td>\n",
       "      <td>4.757475</td>\n",
       "      <td>11.000000</td>\n",
       "      <td>18.100000</td>\n",
       "      <td>9.000000</td>\n",
       "    </tr>\n",
       "    <tr>\n",
       "      <th>4</th>\n",
       "      <td>1.936709</td>\n",
       "      <td>47.689362</td>\n",
       "      <td>61.722944</td>\n",
       "      <td>43.726775</td>\n",
       "      <td>15.154894</td>\n",
       "      <td>4.801102</td>\n",
       "      <td>4.920000</td>\n",
       "      <td>14.515152</td>\n",
       "      <td>20.180519</td>\n",
       "      <td>21.195745</td>\n",
       "    </tr>\n",
       "    <tr>\n",
       "      <th>5</th>\n",
       "      <td>0.200000</td>\n",
       "      <td>23.000000</td>\n",
       "      <td>55.000000</td>\n",
       "      <td>56.000000</td>\n",
       "      <td>14.600000</td>\n",
       "      <td>6.000000</td>\n",
       "      <td>1.000000</td>\n",
       "      <td>19.000000</td>\n",
       "      <td>20.600000</td>\n",
       "      <td>24.000000</td>\n",
       "    </tr>\n",
       "    <tr>\n",
       "      <th>6</th>\n",
       "      <td>0.000000</td>\n",
       "      <td>34.000000</td>\n",
       "      <td>36.000000</td>\n",
       "      <td>61.000000</td>\n",
       "      <td>14.300000</td>\n",
       "      <td>4.290128</td>\n",
       "      <td>4.757475</td>\n",
       "      <td>22.000000</td>\n",
       "      <td>19.600000</td>\n",
       "      <td>33.000000</td>\n",
       "    </tr>\n",
       "    <tr>\n",
       "      <th>...</th>\n",
       "      <td>...</td>\n",
       "      <td>...</td>\n",
       "      <td>...</td>\n",
       "      <td>...</td>\n",
       "      <td>...</td>\n",
       "      <td>...</td>\n",
       "      <td>...</td>\n",
       "      <td>...</td>\n",
       "      <td>...</td>\n",
       "      <td>...</td>\n",
       "    </tr>\n",
       "    <tr>\n",
       "      <th>145425</th>\n",
       "      <td>0.000000</td>\n",
       "      <td>20.000000</td>\n",
       "      <td>48.000000</td>\n",
       "      <td>41.000000</td>\n",
       "      <td>9.700000</td>\n",
       "      <td>4.166667</td>\n",
       "      <td>5.333333</td>\n",
       "      <td>4.000000</td>\n",
       "      <td>18.600000</td>\n",
       "      <td>19.000000</td>\n",
       "    </tr>\n",
       "    <tr>\n",
       "      <th>145426</th>\n",
       "      <td>0.000000</td>\n",
       "      <td>27.000000</td>\n",
       "      <td>53.000000</td>\n",
       "      <td>24.000000</td>\n",
       "      <td>7.600000</td>\n",
       "      <td>4.166667</td>\n",
       "      <td>5.333333</td>\n",
       "      <td>11.000000</td>\n",
       "      <td>15.700000</td>\n",
       "      <td>11.000000</td>\n",
       "    </tr>\n",
       "    <tr>\n",
       "      <th>145427</th>\n",
       "      <td>0.000000</td>\n",
       "      <td>29.000000</td>\n",
       "      <td>55.000000</td>\n",
       "      <td>41.000000</td>\n",
       "      <td>10.100000</td>\n",
       "      <td>4.166667</td>\n",
       "      <td>5.333333</td>\n",
       "      <td>22.000000</td>\n",
       "      <td>14.800000</td>\n",
       "      <td>17.000000</td>\n",
       "    </tr>\n",
       "    <tr>\n",
       "      <th>145428</th>\n",
       "      <td>0.000000</td>\n",
       "      <td>36.000000</td>\n",
       "      <td>61.000000</td>\n",
       "      <td>37.000000</td>\n",
       "      <td>14.600000</td>\n",
       "      <td>1.000000</td>\n",
       "      <td>7.000000</td>\n",
       "      <td>19.000000</td>\n",
       "      <td>15.400000</td>\n",
       "      <td>20.000000</td>\n",
       "    </tr>\n",
       "    <tr>\n",
       "      <th>145429</th>\n",
       "      <td>0.400000</td>\n",
       "      <td>27.000000</td>\n",
       "      <td>68.000000</td>\n",
       "      <td>39.000000</td>\n",
       "      <td>14.300000</td>\n",
       "      <td>7.000000</td>\n",
       "      <td>4.000000</td>\n",
       "      <td>0.000000</td>\n",
       "      <td>16.100000</td>\n",
       "      <td>20.000000</td>\n",
       "    </tr>\n",
       "  </tbody>\n",
       "</table>\n",
       "<p>145428 rows × 10 columns</p>\n",
       "</div>"
      ],
      "text/plain": [
       "        Rainfall  Humidity3pm  Humidity9am  WindGustSpeed    MinTemp  \\\n",
       "2       0.000000    30.000000    38.000000      46.000000  12.900000   \n",
       "3       0.000000    16.000000    45.000000      43.628141   9.200000   \n",
       "4       1.936709    47.689362    61.722944      43.726775  15.154894   \n",
       "5       0.200000    23.000000    55.000000      56.000000  14.600000   \n",
       "6       0.000000    34.000000    36.000000      61.000000  14.300000   \n",
       "...          ...          ...          ...            ...        ...   \n",
       "145425  0.000000    20.000000    48.000000      41.000000   9.700000   \n",
       "145426  0.000000    27.000000    53.000000      24.000000   7.600000   \n",
       "145427  0.000000    29.000000    55.000000      41.000000  10.100000   \n",
       "145428  0.000000    36.000000    61.000000      37.000000  14.600000   \n",
       "145429  0.400000    27.000000    68.000000      39.000000  14.300000   \n",
       "\n",
       "        Cloud3pm  Cloud9am  WindSpeed9am    Temp9am  WindSpeed3pm  \n",
       "2       4.000000  3.000000     19.000000  21.000000     26.000000  \n",
       "3       4.290128  4.757475     11.000000  18.100000      9.000000  \n",
       "4       4.801102  4.920000     14.515152  20.180519     21.195745  \n",
       "5       6.000000  1.000000     19.000000  20.600000     24.000000  \n",
       "6       4.290128  4.757475     22.000000  19.600000     33.000000  \n",
       "...          ...       ...           ...        ...           ...  \n",
       "145425  4.166667  5.333333      4.000000  18.600000     19.000000  \n",
       "145426  4.166667  5.333333     11.000000  15.700000     11.000000  \n",
       "145427  4.166667  5.333333     22.000000  14.800000     17.000000  \n",
       "145428  1.000000  7.000000     19.000000  15.400000     20.000000  \n",
       "145429  7.000000  4.000000      0.000000  16.100000     20.000000  \n",
       "\n",
       "[145428 rows x 10 columns]"
      ]
     },
     "execution_count": 208,
     "metadata": {},
     "output_type": "execute_result"
    }
   ],
   "source": [
    "x"
   ]
  },
  {
   "cell_type": "code",
   "execution_count": 209,
   "metadata": {},
   "outputs": [
    {
     "data": {
      "text/plain": [
       "2         0.600000\n",
       "3         0.000000\n",
       "4         0.000000\n",
       "5         0.000000\n",
       "6         1.936709\n",
       "            ...   \n",
       "145425    0.000000\n",
       "145426    0.000000\n",
       "145427    0.000000\n",
       "145428    0.000000\n",
       "145429    0.000000\n",
       "Name: Rain_2day_before, Length: 145428, dtype: float64"
      ]
     },
     "execution_count": 209,
     "metadata": {},
     "output_type": "execute_result"
    }
   ],
   "source": [
    "y = df['Rain_2day_before']\n",
    "y"
   ]
  },
  {
   "cell_type": "code",
   "execution_count": 210,
   "metadata": {},
   "outputs": [],
   "source": [
    "X_train, X_test, y_train, y_test = train_test_split(x,y, test_size=0.2, shuffle=False)"
   ]
  },
  {
   "cell_type": "code",
   "execution_count": 211,
   "metadata": {},
   "outputs": [
    {
     "data": {
      "text/plain": [
       "RandomForestRegressor(n_estimators=200)"
      ]
     },
     "execution_count": 211,
     "metadata": {},
     "output_type": "execute_result"
    }
   ],
   "source": [
    "#fitting the model\n",
    "rf = RandomForestRegressor(n_estimators=200)\n",
    "rf.fit(X_train, y_train)"
   ]
  },
  {
   "cell_type": "code",
   "execution_count": 212,
   "metadata": {},
   "outputs": [],
   "source": [
    "predicted = rf.predict(X_test)"
   ]
  },
  {
   "cell_type": "code",
   "execution_count": 213,
   "metadata": {},
   "outputs": [
    {
     "name": "stdout",
     "output_type": "stream",
     "text": [
      "Mean absolute error:  3.691408630596057\n"
     ]
    }
   ],
   "source": [
    "print(\"Mean absolute error: \", mean_absolute_error(y_test, predicted))"
   ]
  },
  {
   "cell_type": "code",
   "execution_count": 214,
   "metadata": {},
   "outputs": [
    {
     "name": "stdout",
     "output_type": "stream",
     "text": [
      "Mean squared error:  60.06721882044955\n"
     ]
    }
   ],
   "source": [
    "print(\"Mean squared error: \", mean_squared_error(y_test, predicted))"
   ]
  },
  {
   "cell_type": "code",
   "execution_count": 215,
   "metadata": {},
   "outputs": [
    {
     "name": "stdout",
     "output_type": "stream",
     "text": [
      "Root mean squared error:  7.750304434049642\n"
     ]
    }
   ],
   "source": [
    "print(\"Root mean squared error: \", np.sqrt(mean_squared_error(y_test, predicted)))"
   ]
  },
  {
   "cell_type": "code",
   "execution_count": 216,
   "metadata": {
    "scrolled": false
   },
   "outputs": [
    {
     "data": {
      "text/plain": [
       "Text(0.5, 1.0, 'Actual rainfall amount - Predicted rainfall amount')"
      ]
     },
     "execution_count": 216,
     "metadata": {},
     "output_type": "execute_result"
    },
    {
     "data": {
      "image/png": "[encoded data removed]",
      "text/plain": [
       "<Figure size 432x288 with 1 Axes>"
      ]
     },
     "metadata": {
      "needs_background": "light"
     },
     "output_type": "display_data"
    }
   ],
   "source": [
    "g=plt.plot(y_test - predicted, marker='o', linestyle='')\n",
    "plt.xlabel(\"Index of dataset\")\n",
    "plt.ylabel(\"Rainfall Amount\")\n",
    "plt.title(\"Actual rainfall amount - Predicted rainfall amount\")"
   ]
  },
  {
   "cell_type": "code",
   "execution_count": 217,
   "metadata": {},
   "outputs": [
    {
     "data": {
      "text/plain": [
       "['Rain_3day_before',\n",
       " 'Rain_2day_before',\n",
       " 'Rain_4day_before',\n",
       " 'Rain_1day_before',\n",
       " 'Rain_5day_before',\n",
       " 'Humidity3pm',\n",
       " 'Rainfall',\n",
       " 'Humidity9am',\n",
       " 'Rain_1day_after',\n",
       " 'Rain_2day_after',\n",
       " 'Rain_4day_after',\n",
       " 'Rain_10day_before',\n",
       " 'MinTemp',\n",
       " 'Rain_3day_after',\n",
       " 'Rain_5day_after',\n",
       " 'Rain_15day_before',\n",
       " 'Rain_20day_before',\n",
       " 'Rain_30day_after',\n",
       " 'Rain_25day_before',\n",
       " 'Rain_20day_after',\n",
       " 'Cloud3pm',\n",
       " 'Rain_30day_before',\n",
       " 'Rain_10day_after',\n",
       " 'Rain_25day_after',\n",
       " 'Rain_15day_after',\n",
       " 'Cloud9am',\n",
       " 'Temp9am']"
      ]
     },
     "execution_count": 217,
     "metadata": {},
     "output_type": "execute_result"
    }
   ],
   "source": [
    "x = []\n",
    "for i in range (len(related_3day_before)):\n",
    "    if related_3day_before[i]>0:\n",
    "        x.append(related_3day_before.index[i])\n",
    "        \n",
    "x"
   ]
  },
  {
   "cell_type": "code",
   "execution_count": 218,
   "metadata": {},
   "outputs": [],
   "source": [
    "x = ['Rainfall', 'Humidity3pm', 'Humidity9am', 'MinTemp', 'Cloud3pm', 'Cloud9am', 'Temp9am']"
   ]
  },
  {
   "cell_type": "code",
   "execution_count": 220,
   "metadata": {},
   "outputs": [],
   "source": [
    "df = df[1:]"
   ]
  },
  {
   "cell_type": "code",
   "execution_count": 221,
   "metadata": {},
   "outputs": [],
   "source": [
    "x = df[x]"
   ]
  },
  {
   "cell_type": "code",
   "execution_count": 222,
   "metadata": {},
   "outputs": [
    {
     "data": {
      "text/html": [
       "<div>\n",
       "<style scoped>\n",
       "    .dataframe tbody tr th:only-of-type {\n",
       "        vertical-align: middle;\n",
       "    }\n",
       "\n",
       "    .dataframe tbody tr th {\n",
       "        vertical-align: top;\n",
       "    }\n",
       "\n",
       "    .dataframe thead th {\n",
       "        text-align: right;\n",
       "    }\n",
       "</style>\n",
       "<table border=\"1\" class=\"dataframe\">\n",
       "  <thead>\n",
       "    <tr style=\"text-align: right;\">\n",
       "      <th></th>\n",
       "      <th>Rainfall</th>\n",
       "      <th>Humidity3pm</th>\n",
       "      <th>Humidity9am</th>\n",
       "      <th>MinTemp</th>\n",
       "      <th>Cloud3pm</th>\n",
       "      <th>Cloud9am</th>\n",
       "      <th>Temp9am</th>\n",
       "    </tr>\n",
       "  </thead>\n",
       "  <tbody>\n",
       "    <tr>\n",
       "      <th>3</th>\n",
       "      <td>0.000000</td>\n",
       "      <td>16.000000</td>\n",
       "      <td>45.000000</td>\n",
       "      <td>9.200000</td>\n",
       "      <td>4.290128</td>\n",
       "      <td>4.757475</td>\n",
       "      <td>18.100000</td>\n",
       "    </tr>\n",
       "    <tr>\n",
       "      <th>4</th>\n",
       "      <td>1.936709</td>\n",
       "      <td>47.689362</td>\n",
       "      <td>61.722944</td>\n",
       "      <td>15.154894</td>\n",
       "      <td>4.801102</td>\n",
       "      <td>4.920000</td>\n",
       "      <td>20.180519</td>\n",
       "    </tr>\n",
       "    <tr>\n",
       "      <th>5</th>\n",
       "      <td>0.200000</td>\n",
       "      <td>23.000000</td>\n",
       "      <td>55.000000</td>\n",
       "      <td>14.600000</td>\n",
       "      <td>6.000000</td>\n",
       "      <td>1.000000</td>\n",
       "      <td>20.600000</td>\n",
       "    </tr>\n",
       "    <tr>\n",
       "      <th>6</th>\n",
       "      <td>0.000000</td>\n",
       "      <td>34.000000</td>\n",
       "      <td>36.000000</td>\n",
       "      <td>14.300000</td>\n",
       "      <td>4.290128</td>\n",
       "      <td>4.757475</td>\n",
       "      <td>19.600000</td>\n",
       "    </tr>\n",
       "    <tr>\n",
       "      <th>7</th>\n",
       "      <td>0.000000</td>\n",
       "      <td>19.000000</td>\n",
       "      <td>48.000000</td>\n",
       "      <td>7.700000</td>\n",
       "      <td>4.789541</td>\n",
       "      <td>4.757475</td>\n",
       "      <td>16.300000</td>\n",
       "    </tr>\n",
       "    <tr>\n",
       "      <th>...</th>\n",
       "      <td>...</td>\n",
       "      <td>...</td>\n",
       "      <td>...</td>\n",
       "      <td>...</td>\n",
       "      <td>...</td>\n",
       "      <td>...</td>\n",
       "      <td>...</td>\n",
       "    </tr>\n",
       "    <tr>\n",
       "      <th>145425</th>\n",
       "      <td>0.000000</td>\n",
       "      <td>20.000000</td>\n",
       "      <td>48.000000</td>\n",
       "      <td>9.700000</td>\n",
       "      <td>4.166667</td>\n",
       "      <td>5.333333</td>\n",
       "      <td>18.600000</td>\n",
       "    </tr>\n",
       "    <tr>\n",
       "      <th>145426</th>\n",
       "      <td>0.000000</td>\n",
       "      <td>27.000000</td>\n",
       "      <td>53.000000</td>\n",
       "      <td>7.600000</td>\n",
       "      <td>4.166667</td>\n",
       "      <td>5.333333</td>\n",
       "      <td>15.700000</td>\n",
       "    </tr>\n",
       "    <tr>\n",
       "      <th>145427</th>\n",
       "      <td>0.000000</td>\n",
       "      <td>29.000000</td>\n",
       "      <td>55.000000</td>\n",
       "      <td>10.100000</td>\n",
       "      <td>4.166667</td>\n",
       "      <td>5.333333</td>\n",
       "      <td>14.800000</td>\n",
       "    </tr>\n",
       "    <tr>\n",
       "      <th>145428</th>\n",
       "      <td>0.000000</td>\n",
       "      <td>36.000000</td>\n",
       "      <td>61.000000</td>\n",
       "      <td>14.600000</td>\n",
       "      <td>1.000000</td>\n",
       "      <td>7.000000</td>\n",
       "      <td>15.400000</td>\n",
       "    </tr>\n",
       "    <tr>\n",
       "      <th>145429</th>\n",
       "      <td>0.400000</td>\n",
       "      <td>27.000000</td>\n",
       "      <td>68.000000</td>\n",
       "      <td>14.300000</td>\n",
       "      <td>7.000000</td>\n",
       "      <td>4.000000</td>\n",
       "      <td>16.100000</td>\n",
       "    </tr>\n",
       "  </tbody>\n",
       "</table>\n",
       "<p>145427 rows × 7 columns</p>\n",
       "</div>"
      ],
      "text/plain": [
       "        Rainfall  Humidity3pm  Humidity9am    MinTemp  Cloud3pm  Cloud9am  \\\n",
       "3       0.000000    16.000000    45.000000   9.200000  4.290128  4.757475   \n",
       "4       1.936709    47.689362    61.722944  15.154894  4.801102  4.920000   \n",
       "5       0.200000    23.000000    55.000000  14.600000  6.000000  1.000000   \n",
       "6       0.000000    34.000000    36.000000  14.300000  4.290128  4.757475   \n",
       "7       0.000000    19.000000    48.000000   7.700000  4.789541  4.757475   \n",
       "...          ...          ...          ...        ...       ...       ...   \n",
       "145425  0.000000    20.000000    48.000000   9.700000  4.166667  5.333333   \n",
       "145426  0.000000    27.000000    53.000000   7.600000  4.166667  5.333333   \n",
       "145427  0.000000    29.000000    55.000000  10.100000  4.166667  5.333333   \n",
       "145428  0.000000    36.000000    61.000000  14.600000  1.000000  7.000000   \n",
       "145429  0.400000    27.000000    68.000000  14.300000  7.000000  4.000000   \n",
       "\n",
       "          Temp9am  \n",
       "3       18.100000  \n",
       "4       20.180519  \n",
       "5       20.600000  \n",
       "6       19.600000  \n",
       "7       16.300000  \n",
       "...           ...  \n",
       "145425  18.600000  \n",
       "145426  15.700000  \n",
       "145427  14.800000  \n",
       "145428  15.400000  \n",
       "145429  16.100000  \n",
       "\n",
       "[145427 rows x 7 columns]"
      ]
     },
     "execution_count": 222,
     "metadata": {},
     "output_type": "execute_result"
    }
   ],
   "source": [
    "x"
   ]
  },
  {
   "cell_type": "code",
   "execution_count": 223,
   "metadata": {},
   "outputs": [
    {
     "data": {
      "text/plain": [
       "3         0.600000\n",
       "4         0.000000\n",
       "5         0.000000\n",
       "6         0.000000\n",
       "7         1.936709\n",
       "            ...   \n",
       "145425    0.000000\n",
       "145426    0.000000\n",
       "145427    0.000000\n",
       "145428    0.000000\n",
       "145429    0.000000\n",
       "Name: Rain_3day_before, Length: 145427, dtype: float64"
      ]
     },
     "execution_count": 223,
     "metadata": {},
     "output_type": "execute_result"
    }
   ],
   "source": [
    "y = df['Rain_3day_before']\n",
    "y"
   ]
  },
  {
   "cell_type": "code",
   "execution_count": 224,
   "metadata": {},
   "outputs": [],
   "source": [
    "X_train, X_test, y_train, y_test = train_test_split(x,y, test_size=0.2, shuffle=False)"
   ]
  },
  {
   "cell_type": "code",
   "execution_count": 225,
   "metadata": {},
   "outputs": [
    {
     "data": {
      "text/plain": [
       "RandomForestRegressor(n_estimators=200)"
      ]
     },
     "execution_count": 225,
     "metadata": {},
     "output_type": "execute_result"
    }
   ],
   "source": [
    "#fitting the model\n",
    "rf = RandomForestRegressor(n_estimators=200)\n",
    "rf.fit(X_train, y_train)"
   ]
  },
  {
   "cell_type": "code",
   "execution_count": 226,
   "metadata": {},
   "outputs": [],
   "source": [
    "predicted = rf.predict(X_test)"
   ]
  },
  {
   "cell_type": "code",
   "execution_count": 227,
   "metadata": {},
   "outputs": [
    {
     "name": "stdout",
     "output_type": "stream",
     "text": [
      "Mean absolute error:  3.890250351956086\n"
     ]
    }
   ],
   "source": [
    "print(\"Mean absolute error: \", mean_absolute_error(y_test, predicted))"
   ]
  },
  {
   "cell_type": "code",
   "execution_count": 228,
   "metadata": {},
   "outputs": [
    {
     "name": "stdout",
     "output_type": "stream",
     "text": [
      "Mean squared error:  64.3516590320948\n"
     ]
    }
   ],
   "source": [
    "print(\"Mean squared error: \", mean_squared_error(y_test, predicted))"
   ]
  },
  {
   "cell_type": "code",
   "execution_count": 229,
   "metadata": {},
   "outputs": [
    {
     "name": "stdout",
     "output_type": "stream",
     "text": [
      "Root mean squared error:  8.021948580743635\n"
     ]
    }
   ],
   "source": [
    "print(\"Root mean squared error: \", np.sqrt(mean_squared_error(y_test, predicted)))"
   ]
  },
  {
   "cell_type": "code",
   "execution_count": 230,
   "metadata": {
    "scrolled": true
   },
   "outputs": [
    {
     "data": {
      "text/plain": [
       "Text(0.5, 1.0, 'Actual rainfall amount - Predicted rainfall amount')"
      ]
     },
     "execution_count": 230,
     "metadata": {},
     "output_type": "execute_result"
    },
    {
     "data": {
      "image/png": "[encoded data removed]",
      "text/plain": [
       "<Figure size 432x288 with 1 Axes>"
      ]
     },
     "metadata": {
      "needs_background": "light"
     },
     "output_type": "display_data"
    }
   ],
   "source": [
    "g=plt.plot(y_test - predicted, marker='o', linestyle='')\n",
    "plt.xlabel(\"Index of dataset\")\n",
    "plt.ylabel(\"Rainfall Amount\")\n",
    "plt.title(\"Actual rainfall amount - Predicted rainfall amount\")"
   ]
  },
  {
   "cell_type": "code",
   "execution_count": 231,
   "metadata": {},
   "outputs": [
    {
     "data": {
      "text/plain": [
       "['Rain_4day_before',\n",
       " 'Rain_3day_before',\n",
       " 'Rain_5day_before',\n",
       " 'Rain_2day_before',\n",
       " 'Humidity3pm',\n",
       " 'Rain_1day_before',\n",
       " 'Humidity9am',\n",
       " 'Rainfall',\n",
       " 'Rain_1day_after',\n",
       " 'MinTemp',\n",
       " 'Rain_3day_after',\n",
       " 'Rain_2day_after',\n",
       " 'Rain_10day_before',\n",
       " 'Rain_5day_after',\n",
       " 'Rain_4day_after',\n",
       " 'Rain_15day_before',\n",
       " 'Rain_25day_before',\n",
       " 'Rain_20day_before',\n",
       " 'Rain_10day_after',\n",
       " 'Rain_30day_after',\n",
       " 'Rain_20day_after',\n",
       " 'Rain_15day_after',\n",
       " 'Rain_30day_before',\n",
       " 'Cloud3pm',\n",
       " 'Rain_25day_after',\n",
       " 'Cloud9am',\n",
       " 'Temp9am']"
      ]
     },
     "execution_count": 231,
     "metadata": {},
     "output_type": "execute_result"
    }
   ],
   "source": [
    "x = []\n",
    "for i in range (len(related_4day_before)):\n",
    "    if related_4day_before[i]>0:\n",
    "        x.append(related_4day_before.index[i])\n",
    "        \n",
    "x"
   ]
  },
  {
   "cell_type": "code",
   "execution_count": 232,
   "metadata": {},
   "outputs": [],
   "source": [
    "x = ['Rainfall', 'Humidity3pm', 'Humidity9am', 'MinTemp', 'Cloud3pm', 'Cloud9am', 'Temp9am']"
   ]
  },
  {
   "cell_type": "code",
   "execution_count": 233,
   "metadata": {},
   "outputs": [],
   "source": [
    "df = df[1:]"
   ]
  },
  {
   "cell_type": "code",
   "execution_count": 234,
   "metadata": {},
   "outputs": [],
   "source": [
    "x = df[x]"
   ]
  },
  {
   "cell_type": "code",
   "execution_count": 235,
   "metadata": {},
   "outputs": [
    {
     "data": {
      "text/html": [
       "<div>\n",
       "<style scoped>\n",
       "    .dataframe tbody tr th:only-of-type {\n",
       "        vertical-align: middle;\n",
       "    }\n",
       "\n",
       "    .dataframe tbody tr th {\n",
       "        vertical-align: top;\n",
       "    }\n",
       "\n",
       "    .dataframe thead th {\n",
       "        text-align: right;\n",
       "    }\n",
       "</style>\n",
       "<table border=\"1\" class=\"dataframe\">\n",
       "  <thead>\n",
       "    <tr style=\"text-align: right;\">\n",
       "      <th></th>\n",
       "      <th>Rainfall</th>\n",
       "      <th>Humidity3pm</th>\n",
       "      <th>Humidity9am</th>\n",
       "      <th>MinTemp</th>\n",
       "      <th>Cloud3pm</th>\n",
       "      <th>Cloud9am</th>\n",
       "      <th>Temp9am</th>\n",
       "    </tr>\n",
       "  </thead>\n",
       "  <tbody>\n",
       "    <tr>\n",
       "      <th>4</th>\n",
       "      <td>1.936709</td>\n",
       "      <td>47.689362</td>\n",
       "      <td>61.722944</td>\n",
       "      <td>15.154894</td>\n",
       "      <td>4.801102</td>\n",
       "      <td>4.920000</td>\n",
       "      <td>20.180519</td>\n",
       "    </tr>\n",
       "    <tr>\n",
       "      <th>5</th>\n",
       "      <td>0.200000</td>\n",
       "      <td>23.000000</td>\n",
       "      <td>55.000000</td>\n",
       "      <td>14.600000</td>\n",
       "      <td>6.000000</td>\n",
       "      <td>1.000000</td>\n",
       "      <td>20.600000</td>\n",
       "    </tr>\n",
       "    <tr>\n",
       "      <th>6</th>\n",
       "      <td>0.000000</td>\n",
       "      <td>34.000000</td>\n",
       "      <td>36.000000</td>\n",
       "      <td>14.300000</td>\n",
       "      <td>4.290128</td>\n",
       "      <td>4.757475</td>\n",
       "      <td>19.600000</td>\n",
       "    </tr>\n",
       "    <tr>\n",
       "      <th>7</th>\n",
       "      <td>0.000000</td>\n",
       "      <td>19.000000</td>\n",
       "      <td>48.000000</td>\n",
       "      <td>7.700000</td>\n",
       "      <td>4.789541</td>\n",
       "      <td>4.757475</td>\n",
       "      <td>16.300000</td>\n",
       "    </tr>\n",
       "    <tr>\n",
       "      <th>8</th>\n",
       "      <td>0.000000</td>\n",
       "      <td>9.000000</td>\n",
       "      <td>42.000000</td>\n",
       "      <td>9.700000</td>\n",
       "      <td>4.290128</td>\n",
       "      <td>4.757475</td>\n",
       "      <td>18.300000</td>\n",
       "    </tr>\n",
       "    <tr>\n",
       "      <th>...</th>\n",
       "      <td>...</td>\n",
       "      <td>...</td>\n",
       "      <td>...</td>\n",
       "      <td>...</td>\n",
       "      <td>...</td>\n",
       "      <td>...</td>\n",
       "      <td>...</td>\n",
       "    </tr>\n",
       "    <tr>\n",
       "      <th>145425</th>\n",
       "      <td>0.000000</td>\n",
       "      <td>20.000000</td>\n",
       "      <td>48.000000</td>\n",
       "      <td>9.700000</td>\n",
       "      <td>4.166667</td>\n",
       "      <td>5.333333</td>\n",
       "      <td>18.600000</td>\n",
       "    </tr>\n",
       "    <tr>\n",
       "      <th>145426</th>\n",
       "      <td>0.000000</td>\n",
       "      <td>27.000000</td>\n",
       "      <td>53.000000</td>\n",
       "      <td>7.600000</td>\n",
       "      <td>4.166667</td>\n",
       "      <td>5.333333</td>\n",
       "      <td>15.700000</td>\n",
       "    </tr>\n",
       "    <tr>\n",
       "      <th>145427</th>\n",
       "      <td>0.000000</td>\n",
       "      <td>29.000000</td>\n",
       "      <td>55.000000</td>\n",
       "      <td>10.100000</td>\n",
       "      <td>4.166667</td>\n",
       "      <td>5.333333</td>\n",
       "      <td>14.800000</td>\n",
       "    </tr>\n",
       "    <tr>\n",
       "      <th>145428</th>\n",
       "      <td>0.000000</td>\n",
       "      <td>36.000000</td>\n",
       "      <td>61.000000</td>\n",
       "      <td>14.600000</td>\n",
       "      <td>1.000000</td>\n",
       "      <td>7.000000</td>\n",
       "      <td>15.400000</td>\n",
       "    </tr>\n",
       "    <tr>\n",
       "      <th>145429</th>\n",
       "      <td>0.400000</td>\n",
       "      <td>27.000000</td>\n",
       "      <td>68.000000</td>\n",
       "      <td>14.300000</td>\n",
       "      <td>7.000000</td>\n",
       "      <td>4.000000</td>\n",
       "      <td>16.100000</td>\n",
       "    </tr>\n",
       "  </tbody>\n",
       "</table>\n",
       "<p>145426 rows × 7 columns</p>\n",
       "</div>"
      ],
      "text/plain": [
       "        Rainfall  Humidity3pm  Humidity9am    MinTemp  Cloud3pm  Cloud9am  \\\n",
       "4       1.936709    47.689362    61.722944  15.154894  4.801102  4.920000   \n",
       "5       0.200000    23.000000    55.000000  14.600000  6.000000  1.000000   \n",
       "6       0.000000    34.000000    36.000000  14.300000  4.290128  4.757475   \n",
       "7       0.000000    19.000000    48.000000   7.700000  4.789541  4.757475   \n",
       "8       0.000000     9.000000    42.000000   9.700000  4.290128  4.757475   \n",
       "...          ...          ...          ...        ...       ...       ...   \n",
       "145425  0.000000    20.000000    48.000000   9.700000  4.166667  5.333333   \n",
       "145426  0.000000    27.000000    53.000000   7.600000  4.166667  5.333333   \n",
       "145427  0.000000    29.000000    55.000000  10.100000  4.166667  5.333333   \n",
       "145428  0.000000    36.000000    61.000000  14.600000  1.000000  7.000000   \n",
       "145429  0.400000    27.000000    68.000000  14.300000  7.000000  4.000000   \n",
       "\n",
       "          Temp9am  \n",
       "4       20.180519  \n",
       "5       20.600000  \n",
       "6       19.600000  \n",
       "7       16.300000  \n",
       "8       18.300000  \n",
       "...           ...  \n",
       "145425  18.600000  \n",
       "145426  15.700000  \n",
       "145427  14.800000  \n",
       "145428  15.400000  \n",
       "145429  16.100000  \n",
       "\n",
       "[145426 rows x 7 columns]"
      ]
     },
     "execution_count": 235,
     "metadata": {},
     "output_type": "execute_result"
    }
   ],
   "source": [
    "x"
   ]
  },
  {
   "cell_type": "code",
   "execution_count": 236,
   "metadata": {},
   "outputs": [
    {
     "data": {
      "text/plain": [
       "4         0.600000\n",
       "5         0.000000\n",
       "6         0.000000\n",
       "7         0.000000\n",
       "8         1.936709\n",
       "            ...   \n",
       "145425    0.000000\n",
       "145426    0.000000\n",
       "145427    0.000000\n",
       "145428    0.000000\n",
       "145429    0.000000\n",
       "Name: Rain_4day_before, Length: 145426, dtype: float64"
      ]
     },
     "execution_count": 236,
     "metadata": {},
     "output_type": "execute_result"
    }
   ],
   "source": [
    "y = df['Rain_4day_before']\n",
    "y"
   ]
  },
  {
   "cell_type": "code",
   "execution_count": 237,
   "metadata": {},
   "outputs": [],
   "source": [
    "X_train, X_test, y_train, y_test = train_test_split(x,y, test_size=0.2, shuffle=False)"
   ]
  },
  {
   "cell_type": "code",
   "execution_count": 238,
   "metadata": {},
   "outputs": [
    {
     "data": {
      "text/plain": [
       "RandomForestRegressor(n_estimators=200)"
      ]
     },
     "execution_count": 238,
     "metadata": {},
     "output_type": "execute_result"
    }
   ],
   "source": [
    "#fitting the model\n",
    "rf = RandomForestRegressor(n_estimators=200)\n",
    "rf.fit(X_train, y_train)"
   ]
  },
  {
   "cell_type": "code",
   "execution_count": 239,
   "metadata": {},
   "outputs": [],
   "source": [
    "predicted = rf.predict(X_test)"
   ]
  },
  {
   "cell_type": "code",
   "execution_count": 240,
   "metadata": {},
   "outputs": [
    {
     "name": "stdout",
     "output_type": "stream",
     "text": [
      "Mean absolute error:  3.928450211592631\n"
     ]
    }
   ],
   "source": [
    "print(\"Mean absolute error: \", mean_absolute_error(y_test, predicted))"
   ]
  },
  {
   "cell_type": "code",
   "execution_count": 241,
   "metadata": {},
   "outputs": [
    {
     "name": "stdout",
     "output_type": "stream",
     "text": [
      "Mean squared error:  64.42509041421921\n"
     ]
    }
   ],
   "source": [
    "print(\"Mean squared error: \", mean_squared_error(y_test, predicted))"
   ]
  },
  {
   "cell_type": "code",
   "execution_count": 242,
   "metadata": {},
   "outputs": [
    {
     "name": "stdout",
     "output_type": "stream",
     "text": [
      "Root mean squared error:  8.026524180130476\n"
     ]
    }
   ],
   "source": [
    "print(\"Root mean squared error: \", np.sqrt(mean_squared_error(y_test, predicted)))"
   ]
  },
  {
   "cell_type": "code",
   "execution_count": 243,
   "metadata": {
    "scrolled": false
   },
   "outputs": [
    {
     "data": {
      "text/plain": [
       "Text(0.5, 1.0, 'Actual rainfall amount - Predicted rainfall amount')"
      ]
     },
     "execution_count": 243,
     "metadata": {},
     "output_type": "execute_result"
    },
    {
     "data": {
      "image/png": "[encoded data removed]",
      "text/plain": [
       "<Figure size 432x288 with 1 Axes>"
      ]
     },
     "metadata": {
      "needs_background": "light"
     },
     "output_type": "display_data"
    }
   ],
   "source": [
    "g=plt.plot(y_test - predicted, marker='o', linestyle='')\n",
    "plt.xlabel(\"Index of dataset\")\n",
    "plt.ylabel(\"Rainfall Amount\")\n",
    "plt.title(\"Actual rainfall amount - Predicted rainfall amount\")"
   ]
  },
  {
   "cell_type": "code",
   "execution_count": 244,
   "metadata": {},
   "outputs": [
    {
     "data": {
      "text/plain": [
       "['Rain_5day_before',\n",
       " 'Rain_4day_before',\n",
       " 'Rain_3day_before',\n",
       " 'Humidity3pm',\n",
       " 'Rain_2day_before',\n",
       " 'Rain_1day_before',\n",
       " 'Humidity9am',\n",
       " 'Rainfall',\n",
       " 'Rain_10day_before',\n",
       " 'Rain_2day_after',\n",
       " 'Rain_5day_after',\n",
       " 'Rain_15day_before',\n",
       " 'MinTemp',\n",
       " 'Rain_1day_after',\n",
       " 'Rain_4day_after',\n",
       " 'Rain_3day_after',\n",
       " 'Rain_10day_after',\n",
       " 'Rain_20day_before',\n",
       " 'Rain_25day_after',\n",
       " 'Rain_30day_after',\n",
       " 'Rain_15day_after',\n",
       " 'Rain_25day_before',\n",
       " 'Rain_20day_after',\n",
       " 'Rain_30day_before',\n",
       " 'Temp9am',\n",
       " 'Cloud3pm',\n",
       " 'Cloud9am']"
      ]
     },
     "execution_count": 244,
     "metadata": {},
     "output_type": "execute_result"
    }
   ],
   "source": [
    "x = []\n",
    "for i in range (len(related_5day_before)):\n",
    "    if related_5day_before[i]>0:\n",
    "        x.append(related_5day_before.index[i])\n",
    "        \n",
    "x"
   ]
  },
  {
   "cell_type": "code",
   "execution_count": 245,
   "metadata": {},
   "outputs": [],
   "source": [
    "x = ['Rainfall', 'Humidity3pm', 'Humidity9am', 'MinTemp', 'Cloud3pm', 'Cloud9am', 'Temp9am']"
   ]
  },
  {
   "cell_type": "code",
   "execution_count": 246,
   "metadata": {},
   "outputs": [],
   "source": [
    "df = df[1:]"
   ]
  },
  {
   "cell_type": "code",
   "execution_count": 247,
   "metadata": {},
   "outputs": [],
   "source": [
    "x = df[x]"
   ]
  },
  {
   "cell_type": "code",
   "execution_count": 248,
   "metadata": {},
   "outputs": [
    {
     "data": {
      "text/html": [
       "<div>\n",
       "<style scoped>\n",
       "    .dataframe tbody tr th:only-of-type {\n",
       "        vertical-align: middle;\n",
       "    }\n",
       "\n",
       "    .dataframe tbody tr th {\n",
       "        vertical-align: top;\n",
       "    }\n",
       "\n",
       "    .dataframe thead th {\n",
       "        text-align: right;\n",
       "    }\n",
       "</style>\n",
       "<table border=\"1\" class=\"dataframe\">\n",
       "  <thead>\n",
       "    <tr style=\"text-align: right;\">\n",
       "      <th></th>\n",
       "      <th>Rainfall</th>\n",
       "      <th>Humidity3pm</th>\n",
       "      <th>Humidity9am</th>\n",
       "      <th>MinTemp</th>\n",
       "      <th>Cloud3pm</th>\n",
       "      <th>Cloud9am</th>\n",
       "      <th>Temp9am</th>\n",
       "    </tr>\n",
       "  </thead>\n",
       "  <tbody>\n",
       "    <tr>\n",
       "      <th>5</th>\n",
       "      <td>0.2</td>\n",
       "      <td>23.0</td>\n",
       "      <td>55.0</td>\n",
       "      <td>14.6</td>\n",
       "      <td>6.000000</td>\n",
       "      <td>1.000000</td>\n",
       "      <td>20.6</td>\n",
       "    </tr>\n",
       "    <tr>\n",
       "      <th>6</th>\n",
       "      <td>0.0</td>\n",
       "      <td>34.0</td>\n",
       "      <td>36.0</td>\n",
       "      <td>14.3</td>\n",
       "      <td>4.290128</td>\n",
       "      <td>4.757475</td>\n",
       "      <td>19.6</td>\n",
       "    </tr>\n",
       "    <tr>\n",
       "      <th>7</th>\n",
       "      <td>0.0</td>\n",
       "      <td>19.0</td>\n",
       "      <td>48.0</td>\n",
       "      <td>7.7</td>\n",
       "      <td>4.789541</td>\n",
       "      <td>4.757475</td>\n",
       "      <td>16.3</td>\n",
       "    </tr>\n",
       "    <tr>\n",
       "      <th>8</th>\n",
       "      <td>0.0</td>\n",
       "      <td>9.0</td>\n",
       "      <td>42.0</td>\n",
       "      <td>9.7</td>\n",
       "      <td>4.290128</td>\n",
       "      <td>4.757475</td>\n",
       "      <td>18.3</td>\n",
       "    </tr>\n",
       "    <tr>\n",
       "      <th>9</th>\n",
       "      <td>1.4</td>\n",
       "      <td>27.0</td>\n",
       "      <td>58.0</td>\n",
       "      <td>13.1</td>\n",
       "      <td>4.789541</td>\n",
       "      <td>4.908114</td>\n",
       "      <td>20.1</td>\n",
       "    </tr>\n",
       "    <tr>\n",
       "      <th>...</th>\n",
       "      <td>...</td>\n",
       "      <td>...</td>\n",
       "      <td>...</td>\n",
       "      <td>...</td>\n",
       "      <td>...</td>\n",
       "      <td>...</td>\n",
       "      <td>...</td>\n",
       "    </tr>\n",
       "    <tr>\n",
       "      <th>145425</th>\n",
       "      <td>0.0</td>\n",
       "      <td>20.0</td>\n",
       "      <td>48.0</td>\n",
       "      <td>9.7</td>\n",
       "      <td>4.166667</td>\n",
       "      <td>5.333333</td>\n",
       "      <td>18.6</td>\n",
       "    </tr>\n",
       "    <tr>\n",
       "      <th>145426</th>\n",
       "      <td>0.0</td>\n",
       "      <td>27.0</td>\n",
       "      <td>53.0</td>\n",
       "      <td>7.6</td>\n",
       "      <td>4.166667</td>\n",
       "      <td>5.333333</td>\n",
       "      <td>15.7</td>\n",
       "    </tr>\n",
       "    <tr>\n",
       "      <th>145427</th>\n",
       "      <td>0.0</td>\n",
       "      <td>29.0</td>\n",
       "      <td>55.0</td>\n",
       "      <td>10.1</td>\n",
       "      <td>4.166667</td>\n",
       "      <td>5.333333</td>\n",
       "      <td>14.8</td>\n",
       "    </tr>\n",
       "    <tr>\n",
       "      <th>145428</th>\n",
       "      <td>0.0</td>\n",
       "      <td>36.0</td>\n",
       "      <td>61.0</td>\n",
       "      <td>14.6</td>\n",
       "      <td>1.000000</td>\n",
       "      <td>7.000000</td>\n",
       "      <td>15.4</td>\n",
       "    </tr>\n",
       "    <tr>\n",
       "      <th>145429</th>\n",
       "      <td>0.4</td>\n",
       "      <td>27.0</td>\n",
       "      <td>68.0</td>\n",
       "      <td>14.3</td>\n",
       "      <td>7.000000</td>\n",
       "      <td>4.000000</td>\n",
       "      <td>16.1</td>\n",
       "    </tr>\n",
       "  </tbody>\n",
       "</table>\n",
       "<p>145425 rows × 7 columns</p>\n",
       "</div>"
      ],
      "text/plain": [
       "        Rainfall  Humidity3pm  Humidity9am  MinTemp  Cloud3pm  Cloud9am  \\\n",
       "5            0.2         23.0         55.0     14.6  6.000000  1.000000   \n",
       "6            0.0         34.0         36.0     14.3  4.290128  4.757475   \n",
       "7            0.0         19.0         48.0      7.7  4.789541  4.757475   \n",
       "8            0.0          9.0         42.0      9.7  4.290128  4.757475   \n",
       "9            1.4         27.0         58.0     13.1  4.789541  4.908114   \n",
       "...          ...          ...          ...      ...       ...       ...   \n",
       "145425       0.0         20.0         48.0      9.7  4.166667  5.333333   \n",
       "145426       0.0         27.0         53.0      7.6  4.166667  5.333333   \n",
       "145427       0.0         29.0         55.0     10.1  4.166667  5.333333   \n",
       "145428       0.0         36.0         61.0     14.6  1.000000  7.000000   \n",
       "145429       0.4         27.0         68.0     14.3  7.000000  4.000000   \n",
       "\n",
       "        Temp9am  \n",
       "5          20.6  \n",
       "6          19.6  \n",
       "7          16.3  \n",
       "8          18.3  \n",
       "9          20.1  \n",
       "...         ...  \n",
       "145425     18.6  \n",
       "145426     15.7  \n",
       "145427     14.8  \n",
       "145428     15.4  \n",
       "145429     16.1  \n",
       "\n",
       "[145425 rows x 7 columns]"
      ]
     },
     "execution_count": 248,
     "metadata": {},
     "output_type": "execute_result"
    }
   ],
   "source": [
    "x"
   ]
  },
  {
   "cell_type": "code",
   "execution_count": 249,
   "metadata": {},
   "outputs": [
    {
     "data": {
      "text/plain": [
       "5         0.600000\n",
       "6         0.000000\n",
       "7         0.000000\n",
       "8         0.000000\n",
       "9         1.936709\n",
       "            ...   \n",
       "145425    0.000000\n",
       "145426    0.000000\n",
       "145427    0.000000\n",
       "145428    0.000000\n",
       "145429    0.000000\n",
       "Name: Rain_5day_before, Length: 145425, dtype: float64"
      ]
     },
     "execution_count": 249,
     "metadata": {},
     "output_type": "execute_result"
    }
   ],
   "source": [
    "y = df['Rain_5day_before']\n",
    "y"
   ]
  },
  {
   "cell_type": "code",
   "execution_count": 250,
   "metadata": {},
   "outputs": [],
   "source": [
    "X_train, X_test, y_train, y_test = train_test_split(x,y, test_size=0.2, shuffle=False)"
   ]
  },
  {
   "cell_type": "code",
   "execution_count": 251,
   "metadata": {},
   "outputs": [
    {
     "data": {
      "text/plain": [
       "RandomForestRegressor(n_estimators=200)"
      ]
     },
     "execution_count": 251,
     "metadata": {},
     "output_type": "execute_result"
    }
   ],
   "source": [
    "#fitting the model\n",
    "rf = RandomForestRegressor(n_estimators=200)\n",
    "rf.fit(X_train, y_train)"
   ]
  },
  {
   "cell_type": "code",
   "execution_count": 252,
   "metadata": {},
   "outputs": [],
   "source": [
    "predicted = rf.predict(X_test)"
   ]
  },
  {
   "cell_type": "code",
   "execution_count": 253,
   "metadata": {},
   "outputs": [
    {
     "name": "stdout",
     "output_type": "stream",
     "text": [
      "Mean absolute error:  3.9794902411983784\n"
     ]
    }
   ],
   "source": [
    "print(\"Mean absolute error: \", mean_absolute_error(y_test, predicted))"
   ]
  },
  {
   "cell_type": "code",
   "execution_count": 254,
   "metadata": {},
   "outputs": [
    {
     "name": "stdout",
     "output_type": "stream",
     "text": [
      "Mean squared error:  65.37566652965512\n"
     ]
    }
   ],
   "source": [
    "print(\"Mean squared error: \", mean_squared_error(y_test, predicted))"
   ]
  },
  {
   "cell_type": "code",
   "execution_count": 255,
   "metadata": {},
   "outputs": [
    {
     "name": "stdout",
     "output_type": "stream",
     "text": [
      "Root mean squared error:  8.085522031981307\n"
     ]
    }
   ],
   "source": [
    "print(\"Root mean squared error: \", np.sqrt(mean_squared_error(y_test, predicted)))"
   ]
  },
  {
   "cell_type": "code",
   "execution_count": 256,
   "metadata": {
    "scrolled": false
   },
   "outputs": [
    {
     "data": {
      "text/plain": [
       "Text(0.5, 1.0, 'Actual rainfall amount - Predicted rainfall amount')"
      ]
     },
     "execution_count": 256,
     "metadata": {},
     "output_type": "execute_result"
    },
    {
     "data": {
      "image/png": "[encoded data removed]",
      "text/plain": [
       "<Figure size 432x288 with 1 Axes>"
      ]
     },
     "metadata": {
      "needs_background": "light"
     },
     "output_type": "display_data"
    }
   ],
   "source": [
    "g=plt.plot(y_test - predicted, marker='o', linestyle='')\n",
    "plt.xlabel(\"Index of dataset\")\n",
    "plt.ylabel(\"Rainfall Amount\")\n",
    "plt.title(\"Actual rainfall amount - Predicted rainfall amount\")"
   ]
  },
  {
   "cell_type": "code",
   "execution_count": 257,
   "metadata": {},
   "outputs": [
    {
     "data": {
      "text/plain": [
       "['Rain_10day_before',\n",
       " 'Humidity3pm',\n",
       " 'Humidity9am',\n",
       " 'Rain_5day_before',\n",
       " 'Rain_15day_before',\n",
       " 'Rain_3day_before',\n",
       " 'Rainfall',\n",
       " 'Rain_20day_before',\n",
       " 'MinTemp',\n",
       " 'Rain_4day_before',\n",
       " 'Rain_1day_before',\n",
       " 'Rain_2day_before',\n",
       " 'Rain_1day_after',\n",
       " 'Rain_5day_after',\n",
       " 'Rain_25day_before',\n",
       " 'Rain_2day_after',\n",
       " 'Rain_30day_after',\n",
       " 'Rain_4day_after',\n",
       " 'Rain_20day_after',\n",
       " 'Rain_25day_after',\n",
       " 'Rain_3day_after',\n",
       " 'Rain_10day_after',\n",
       " 'Rain_30day_before',\n",
       " 'Rain_15day_after',\n",
       " 'Temp9am',\n",
       " 'Cloud3pm',\n",
       " 'Cloud9am']"
      ]
     },
     "execution_count": 257,
     "metadata": {},
     "output_type": "execute_result"
    }
   ],
   "source": [
    "x = []\n",
    "for i in range (len(related_10day_before)):\n",
    "    if related_10day_before[i]>0:\n",
    "        x.append(related_10day_before.index[i])\n",
    "        \n",
    "x"
   ]
  },
  {
   "cell_type": "code",
   "execution_count": 258,
   "metadata": {},
   "outputs": [],
   "source": [
    "x = ['Rainfall', 'Humidity3pm', 'Humidity9am', 'MinTemp', 'Cloud3pm', 'Cloud9am', 'Temp9am']"
   ]
  },
  {
   "cell_type": "code",
   "execution_count": 260,
   "metadata": {},
   "outputs": [],
   "source": [
    "df = df[5:]"
   ]
  },
  {
   "cell_type": "code",
   "execution_count": 261,
   "metadata": {},
   "outputs": [],
   "source": [
    "x = df[x]"
   ]
  },
  {
   "cell_type": "code",
   "execution_count": 262,
   "metadata": {},
   "outputs": [
    {
     "data": {
      "text/html": [
       "<div>\n",
       "<style scoped>\n",
       "    .dataframe tbody tr th:only-of-type {\n",
       "        vertical-align: middle;\n",
       "    }\n",
       "\n",
       "    .dataframe tbody tr th {\n",
       "        vertical-align: top;\n",
       "    }\n",
       "\n",
       "    .dataframe thead th {\n",
       "        text-align: right;\n",
       "    }\n",
       "</style>\n",
       "<table border=\"1\" class=\"dataframe\">\n",
       "  <thead>\n",
       "    <tr style=\"text-align: right;\">\n",
       "      <th></th>\n",
       "      <th>Rainfall</th>\n",
       "      <th>Humidity3pm</th>\n",
       "      <th>Humidity9am</th>\n",
       "      <th>MinTemp</th>\n",
       "      <th>Cloud3pm</th>\n",
       "      <th>Cloud9am</th>\n",
       "      <th>Temp9am</th>\n",
       "    </tr>\n",
       "  </thead>\n",
       "  <tbody>\n",
       "    <tr>\n",
       "      <th>10</th>\n",
       "      <td>0.0</td>\n",
       "      <td>22.0</td>\n",
       "      <td>48.0</td>\n",
       "      <td>13.4</td>\n",
       "      <td>4.789541</td>\n",
       "      <td>4.908114</td>\n",
       "      <td>20.4</td>\n",
       "    </tr>\n",
       "    <tr>\n",
       "      <th>11</th>\n",
       "      <td>2.2</td>\n",
       "      <td>91.0</td>\n",
       "      <td>89.0</td>\n",
       "      <td>15.9</td>\n",
       "      <td>8.000000</td>\n",
       "      <td>8.000000</td>\n",
       "      <td>15.9</td>\n",
       "    </tr>\n",
       "    <tr>\n",
       "      <th>12</th>\n",
       "      <td>15.6</td>\n",
       "      <td>93.0</td>\n",
       "      <td>76.0</td>\n",
       "      <td>15.9</td>\n",
       "      <td>2.000000</td>\n",
       "      <td>2.000000</td>\n",
       "      <td>17.4</td>\n",
       "    </tr>\n",
       "    <tr>\n",
       "      <th>13</th>\n",
       "      <td>3.6</td>\n",
       "      <td>43.0</td>\n",
       "      <td>65.0</td>\n",
       "      <td>12.6</td>\n",
       "      <td>4.881859</td>\n",
       "      <td>4.955847</td>\n",
       "      <td>15.8</td>\n",
       "    </tr>\n",
       "    <tr>\n",
       "      <th>14</th>\n",
       "      <td>0.0</td>\n",
       "      <td>32.0</td>\n",
       "      <td>64.0</td>\n",
       "      <td>15.0</td>\n",
       "      <td>4.290128</td>\n",
       "      <td>4.757475</td>\n",
       "      <td>20.4</td>\n",
       "    </tr>\n",
       "    <tr>\n",
       "      <th>...</th>\n",
       "      <td>...</td>\n",
       "      <td>...</td>\n",
       "      <td>...</td>\n",
       "      <td>...</td>\n",
       "      <td>...</td>\n",
       "      <td>...</td>\n",
       "      <td>...</td>\n",
       "    </tr>\n",
       "    <tr>\n",
       "      <th>145425</th>\n",
       "      <td>0.0</td>\n",
       "      <td>20.0</td>\n",
       "      <td>48.0</td>\n",
       "      <td>9.7</td>\n",
       "      <td>4.166667</td>\n",
       "      <td>5.333333</td>\n",
       "      <td>18.6</td>\n",
       "    </tr>\n",
       "    <tr>\n",
       "      <th>145426</th>\n",
       "      <td>0.0</td>\n",
       "      <td>27.0</td>\n",
       "      <td>53.0</td>\n",
       "      <td>7.6</td>\n",
       "      <td>4.166667</td>\n",
       "      <td>5.333333</td>\n",
       "      <td>15.7</td>\n",
       "    </tr>\n",
       "    <tr>\n",
       "      <th>145427</th>\n",
       "      <td>0.0</td>\n",
       "      <td>29.0</td>\n",
       "      <td>55.0</td>\n",
       "      <td>10.1</td>\n",
       "      <td>4.166667</td>\n",
       "      <td>5.333333</td>\n",
       "      <td>14.8</td>\n",
       "    </tr>\n",
       "    <tr>\n",
       "      <th>145428</th>\n",
       "      <td>0.0</td>\n",
       "      <td>36.0</td>\n",
       "      <td>61.0</td>\n",
       "      <td>14.6</td>\n",
       "      <td>1.000000</td>\n",
       "      <td>7.000000</td>\n",
       "      <td>15.4</td>\n",
       "    </tr>\n",
       "    <tr>\n",
       "      <th>145429</th>\n",
       "      <td>0.4</td>\n",
       "      <td>27.0</td>\n",
       "      <td>68.0</td>\n",
       "      <td>14.3</td>\n",
       "      <td>7.000000</td>\n",
       "      <td>4.000000</td>\n",
       "      <td>16.1</td>\n",
       "    </tr>\n",
       "  </tbody>\n",
       "</table>\n",
       "<p>145420 rows × 7 columns</p>\n",
       "</div>"
      ],
      "text/plain": [
       "        Rainfall  Humidity3pm  Humidity9am  MinTemp  Cloud3pm  Cloud9am  \\\n",
       "10           0.0         22.0         48.0     13.4  4.789541  4.908114   \n",
       "11           2.2         91.0         89.0     15.9  8.000000  8.000000   \n",
       "12          15.6         93.0         76.0     15.9  2.000000  2.000000   \n",
       "13           3.6         43.0         65.0     12.6  4.881859  4.955847   \n",
       "14           0.0         32.0         64.0     15.0  4.290128  4.757475   \n",
       "...          ...          ...          ...      ...       ...       ...   \n",
       "145425       0.0         20.0         48.0      9.7  4.166667  5.333333   \n",
       "145426       0.0         27.0         53.0      7.6  4.166667  5.333333   \n",
       "145427       0.0         29.0         55.0     10.1  4.166667  5.333333   \n",
       "145428       0.0         36.0         61.0     14.6  1.000000  7.000000   \n",
       "145429       0.4         27.0         68.0     14.3  7.000000  4.000000   \n",
       "\n",
       "        Temp9am  \n",
       "10         20.4  \n",
       "11         15.9  \n",
       "12         17.4  \n",
       "13         15.8  \n",
       "14         20.4  \n",
       "...         ...  \n",
       "145425     18.6  \n",
       "145426     15.7  \n",
       "145427     14.8  \n",
       "145428     15.4  \n",
       "145429     16.1  \n",
       "\n",
       "[145420 rows x 7 columns]"
      ]
     },
     "execution_count": 262,
     "metadata": {},
     "output_type": "execute_result"
    }
   ],
   "source": [
    "x"
   ]
  },
  {
   "cell_type": "code",
   "execution_count": 263,
   "metadata": {},
   "outputs": [
    {
     "data": {
      "text/plain": [
       "10        0.600000\n",
       "11        0.000000\n",
       "12        0.000000\n",
       "13        0.000000\n",
       "14        1.936709\n",
       "            ...   \n",
       "145425    0.000000\n",
       "145426    0.000000\n",
       "145427    0.000000\n",
       "145428    0.000000\n",
       "145429    0.000000\n",
       "Name: Rain_10day_before, Length: 145420, dtype: float64"
      ]
     },
     "execution_count": 263,
     "metadata": {},
     "output_type": "execute_result"
    }
   ],
   "source": [
    "y = df['Rain_10day_before']\n",
    "y"
   ]
  },
  {
   "cell_type": "code",
   "execution_count": 264,
   "metadata": {},
   "outputs": [],
   "source": [
    "X_train, X_test, y_train, y_test = train_test_split(x,y, test_size=0.2, shuffle=False)"
   ]
  },
  {
   "cell_type": "code",
   "execution_count": 265,
   "metadata": {},
   "outputs": [
    {
     "data": {
      "text/plain": [
       "RandomForestRegressor(n_estimators=200)"
      ]
     },
     "execution_count": 265,
     "metadata": {},
     "output_type": "execute_result"
    }
   ],
   "source": [
    "#fitting the model\n",
    "rf = RandomForestRegressor(n_estimators=200)\n",
    "rf.fit(X_train, y_train)"
   ]
  },
  {
   "cell_type": "code",
   "execution_count": 266,
   "metadata": {},
   "outputs": [],
   "source": [
    "predicted = rf.predict(X_test)"
   ]
  },
  {
   "cell_type": "code",
   "execution_count": 267,
   "metadata": {},
   "outputs": [
    {
     "name": "stdout",
     "output_type": "stream",
     "text": [
      "Mean absolute error:  3.937721311301891\n"
     ]
    }
   ],
   "source": [
    "print(\"Mean absolute error: \", mean_absolute_error(y_test, predicted))"
   ]
  },
  {
   "cell_type": "code",
   "execution_count": 268,
   "metadata": {},
   "outputs": [
    {
     "name": "stdout",
     "output_type": "stream",
     "text": [
      "Mean squared error:  64.05150735480204\n"
     ]
    }
   ],
   "source": [
    "print(\"Mean squared error: \", mean_squared_error(y_test, predicted))"
   ]
  },
  {
   "cell_type": "code",
   "execution_count": 269,
   "metadata": {},
   "outputs": [
    {
     "name": "stdout",
     "output_type": "stream",
     "text": [
      "Root mean squared error:  8.003218562228701\n"
     ]
    }
   ],
   "source": [
    "print(\"Root mean squared error: \", np.sqrt(mean_squared_error(y_test, predicted)))"
   ]
  },
  {
   "cell_type": "code",
   "execution_count": 270,
   "metadata": {
    "scrolled": true
   },
   "outputs": [
    {
     "data": {
      "text/plain": [
       "Text(0.5, 1.0, 'Actual rainfall amount - Predicted rainfall amount')"
      ]
     },
     "execution_count": 270,
     "metadata": {},
     "output_type": "execute_result"
    },
    {
     "data": {
      "image/png": "[encoded data removed]",
      "text/plain": [
       "<Figure size 432x288 with 1 Axes>"
      ]
     },
     "metadata": {
      "needs_background": "light"
     },
     "output_type": "display_data"
    }
   ],
   "source": [
    "g=plt.plot(y_test - predicted, marker='o', linestyle='')\n",
    "plt.xlabel(\"Index of dataset\")\n",
    "plt.ylabel(\"Rainfall Amount\")\n",
    "plt.title(\"Actual rainfall amount - Predicted rainfall amount\")"
   ]
  },
  {
   "cell_type": "code",
   "execution_count": 271,
   "metadata": {},
   "outputs": [
    {
     "data": {
      "text/plain": [
       "['Rain_15day_before',\n",
       " 'Humidity3pm',\n",
       " 'Rain_10day_before',\n",
       " 'Rain_20day_before',\n",
       " 'Rain_5day_before',\n",
       " 'Rain_25day_before',\n",
       " 'MinTemp',\n",
       " 'Humidity9am',\n",
       " 'Rain_4day_before',\n",
       " 'Rainfall',\n",
       " 'Rain_30day_before',\n",
       " 'Rain_3day_before',\n",
       " 'Rain_25day_after',\n",
       " 'Rain_2day_after',\n",
       " 'Rain_1day_after',\n",
       " 'Rain_1day_before',\n",
       " 'Rain_15day_after',\n",
       " 'Rain_20day_after',\n",
       " 'Rain_2day_before',\n",
       " 'Rain_4day_after',\n",
       " 'Rain_3day_after',\n",
       " 'Rain_5day_after',\n",
       " 'Rain_10day_after',\n",
       " 'Rain_30day_after',\n",
       " 'Temp9am',\n",
       " 'Cloud3pm',\n",
       " 'Cloud9am',\n",
       " 'WindSpeed3pm']"
      ]
     },
     "execution_count": 271,
     "metadata": {},
     "output_type": "execute_result"
    }
   ],
   "source": [
    "x = []\n",
    "for i in range (len(related_15day_before)):\n",
    "    if related_15day_before[i]>0:\n",
    "        x.append(related_15day_before.index[i])\n",
    "        \n",
    "x"
   ]
  },
  {
   "cell_type": "code",
   "execution_count": 272,
   "metadata": {},
   "outputs": [],
   "source": [
    "x = ['Rainfall', 'Humidity3pm', 'Humidity9am', 'MinTemp', 'Cloud3pm', 'Cloud9am', 'Temp9am', 'WindSpeed3pm']"
   ]
  },
  {
   "cell_type": "code",
   "execution_count": 273,
   "metadata": {},
   "outputs": [],
   "source": [
    "df = df[5:]"
   ]
  },
  {
   "cell_type": "code",
   "execution_count": 274,
   "metadata": {},
   "outputs": [],
   "source": [
    "x = df[x]"
   ]
  },
  {
   "cell_type": "code",
   "execution_count": 275,
   "metadata": {},
   "outputs": [
    {
     "data": {
      "text/html": [
       "<div>\n",
       "<style scoped>\n",
       "    .dataframe tbody tr th:only-of-type {\n",
       "        vertical-align: middle;\n",
       "    }\n",
       "\n",
       "    .dataframe tbody tr th {\n",
       "        vertical-align: top;\n",
       "    }\n",
       "\n",
       "    .dataframe thead th {\n",
       "        text-align: right;\n",
       "    }\n",
       "</style>\n",
       "<table border=\"1\" class=\"dataframe\">\n",
       "  <thead>\n",
       "    <tr style=\"text-align: right;\">\n",
       "      <th></th>\n",
       "      <th>Rainfall</th>\n",
       "      <th>Humidity3pm</th>\n",
       "      <th>Humidity9am</th>\n",
       "      <th>MinTemp</th>\n",
       "      <th>Cloud3pm</th>\n",
       "      <th>Cloud9am</th>\n",
       "      <th>Temp9am</th>\n",
       "      <th>WindSpeed3pm</th>\n",
       "    </tr>\n",
       "  </thead>\n",
       "  <tbody>\n",
       "    <tr>\n",
       "      <th>15</th>\n",
       "      <td>1.374634</td>\n",
       "      <td>28.000000</td>\n",
       "      <td>50.000000</td>\n",
       "      <td>9.80000</td>\n",
       "      <td>0.000000</td>\n",
       "      <td>4.757475</td>\n",
       "      <td>17.30000</td>\n",
       "      <td>22.000000</td>\n",
       "    </tr>\n",
       "    <tr>\n",
       "      <th>16</th>\n",
       "      <td>0.000000</td>\n",
       "      <td>82.000000</td>\n",
       "      <td>69.000000</td>\n",
       "      <td>14.10000</td>\n",
       "      <td>1.000000</td>\n",
       "      <td>8.000000</td>\n",
       "      <td>17.20000</td>\n",
       "      <td>9.000000</td>\n",
       "    </tr>\n",
       "    <tr>\n",
       "      <th>17</th>\n",
       "      <td>1.881495</td>\n",
       "      <td>48.310757</td>\n",
       "      <td>62.128955</td>\n",
       "      <td>15.12542</td>\n",
       "      <td>4.881859</td>\n",
       "      <td>4.955847</td>\n",
       "      <td>20.23488</td>\n",
       "      <td>21.204783</td>\n",
       "    </tr>\n",
       "    <tr>\n",
       "      <th>18</th>\n",
       "      <td>10.600000</td>\n",
       "      <td>32.000000</td>\n",
       "      <td>47.000000</td>\n",
       "      <td>11.20000</td>\n",
       "      <td>4.000000</td>\n",
       "      <td>1.000000</td>\n",
       "      <td>15.50000</td>\n",
       "      <td>17.000000</td>\n",
       "    </tr>\n",
       "    <tr>\n",
       "      <th>19</th>\n",
       "      <td>0.000000</td>\n",
       "      <td>26.000000</td>\n",
       "      <td>45.000000</td>\n",
       "      <td>9.80000</td>\n",
       "      <td>4.290128</td>\n",
       "      <td>4.757475</td>\n",
       "      <td>15.80000</td>\n",
       "      <td>6.000000</td>\n",
       "    </tr>\n",
       "    <tr>\n",
       "      <th>...</th>\n",
       "      <td>...</td>\n",
       "      <td>...</td>\n",
       "      <td>...</td>\n",
       "      <td>...</td>\n",
       "      <td>...</td>\n",
       "      <td>...</td>\n",
       "      <td>...</td>\n",
       "      <td>...</td>\n",
       "    </tr>\n",
       "    <tr>\n",
       "      <th>145425</th>\n",
       "      <td>0.000000</td>\n",
       "      <td>20.000000</td>\n",
       "      <td>48.000000</td>\n",
       "      <td>9.70000</td>\n",
       "      <td>4.166667</td>\n",
       "      <td>5.333333</td>\n",
       "      <td>18.60000</td>\n",
       "      <td>19.000000</td>\n",
       "    </tr>\n",
       "    <tr>\n",
       "      <th>145426</th>\n",
       "      <td>0.000000</td>\n",
       "      <td>27.000000</td>\n",
       "      <td>53.000000</td>\n",
       "      <td>7.60000</td>\n",
       "      <td>4.166667</td>\n",
       "      <td>5.333333</td>\n",
       "      <td>15.70000</td>\n",
       "      <td>11.000000</td>\n",
       "    </tr>\n",
       "    <tr>\n",
       "      <th>145427</th>\n",
       "      <td>0.000000</td>\n",
       "      <td>29.000000</td>\n",
       "      <td>55.000000</td>\n",
       "      <td>10.10000</td>\n",
       "      <td>4.166667</td>\n",
       "      <td>5.333333</td>\n",
       "      <td>14.80000</td>\n",
       "      <td>17.000000</td>\n",
       "    </tr>\n",
       "    <tr>\n",
       "      <th>145428</th>\n",
       "      <td>0.000000</td>\n",
       "      <td>36.000000</td>\n",
       "      <td>61.000000</td>\n",
       "      <td>14.60000</td>\n",
       "      <td>1.000000</td>\n",
       "      <td>7.000000</td>\n",
       "      <td>15.40000</td>\n",
       "      <td>20.000000</td>\n",
       "    </tr>\n",
       "    <tr>\n",
       "      <th>145429</th>\n",
       "      <td>0.400000</td>\n",
       "      <td>27.000000</td>\n",
       "      <td>68.000000</td>\n",
       "      <td>14.30000</td>\n",
       "      <td>7.000000</td>\n",
       "      <td>4.000000</td>\n",
       "      <td>16.10000</td>\n",
       "      <td>20.000000</td>\n",
       "    </tr>\n",
       "  </tbody>\n",
       "</table>\n",
       "<p>145415 rows × 8 columns</p>\n",
       "</div>"
      ],
      "text/plain": [
       "         Rainfall  Humidity3pm  Humidity9am   MinTemp  Cloud3pm  Cloud9am  \\\n",
       "15       1.374634    28.000000    50.000000   9.80000  0.000000  4.757475   \n",
       "16       0.000000    82.000000    69.000000  14.10000  1.000000  8.000000   \n",
       "17       1.881495    48.310757    62.128955  15.12542  4.881859  4.955847   \n",
       "18      10.600000    32.000000    47.000000  11.20000  4.000000  1.000000   \n",
       "19       0.000000    26.000000    45.000000   9.80000  4.290128  4.757475   \n",
       "...           ...          ...          ...       ...       ...       ...   \n",
       "145425   0.000000    20.000000    48.000000   9.70000  4.166667  5.333333   \n",
       "145426   0.000000    27.000000    53.000000   7.60000  4.166667  5.333333   \n",
       "145427   0.000000    29.000000    55.000000  10.10000  4.166667  5.333333   \n",
       "145428   0.000000    36.000000    61.000000  14.60000  1.000000  7.000000   \n",
       "145429   0.400000    27.000000    68.000000  14.30000  7.000000  4.000000   \n",
       "\n",
       "         Temp9am  WindSpeed3pm  \n",
       "15      17.30000     22.000000  \n",
       "16      17.20000      9.000000  \n",
       "17      20.23488     21.204783  \n",
       "18      15.50000     17.000000  \n",
       "19      15.80000      6.000000  \n",
       "...          ...           ...  \n",
       "145425  18.60000     19.000000  \n",
       "145426  15.70000     11.000000  \n",
       "145427  14.80000     17.000000  \n",
       "145428  15.40000     20.000000  \n",
       "145429  16.10000     20.000000  \n",
       "\n",
       "[145415 rows x 8 columns]"
      ]
     },
     "execution_count": 275,
     "metadata": {},
     "output_type": "execute_result"
    }
   ],
   "source": [
    "x"
   ]
  },
  {
   "cell_type": "code",
   "execution_count": 276,
   "metadata": {},
   "outputs": [
    {
     "data": {
      "text/plain": [
       "15        0.600000\n",
       "16        0.000000\n",
       "17        0.000000\n",
       "18        0.000000\n",
       "19        1.936709\n",
       "            ...   \n",
       "145425    0.000000\n",
       "145426    0.000000\n",
       "145427    0.000000\n",
       "145428    0.000000\n",
       "145429    0.000000\n",
       "Name: Rain_15day_before, Length: 145415, dtype: float64"
      ]
     },
     "execution_count": 276,
     "metadata": {},
     "output_type": "execute_result"
    }
   ],
   "source": [
    "y = df['Rain_15day_before']\n",
    "y"
   ]
  },
  {
   "cell_type": "code",
   "execution_count": 277,
   "metadata": {},
   "outputs": [],
   "source": [
    "X_train, X_test, y_train, y_test = train_test_split(x,y, test_size=0.2, shuffle=False)"
   ]
  },
  {
   "cell_type": "code",
   "execution_count": 278,
   "metadata": {},
   "outputs": [
    {
     "data": {
      "text/plain": [
       "RandomForestRegressor(n_estimators=200)"
      ]
     },
     "execution_count": 278,
     "metadata": {},
     "output_type": "execute_result"
    }
   ],
   "source": [
    "#fitting the model\n",
    "rf = RandomForestRegressor(n_estimators=200)\n",
    "rf.fit(X_train, y_train)"
   ]
  },
  {
   "cell_type": "code",
   "execution_count": 279,
   "metadata": {},
   "outputs": [],
   "source": [
    "predicted = rf.predict(X_test)"
   ]
  },
  {
   "cell_type": "code",
   "execution_count": 280,
   "metadata": {},
   "outputs": [
    {
     "name": "stdout",
     "output_type": "stream",
     "text": [
      "Mean absolute error:  4.136465792952601\n"
     ]
    }
   ],
   "source": [
    "print(\"Mean absolute error: \", mean_absolute_error(y_test, predicted))"
   ]
  },
  {
   "cell_type": "code",
   "execution_count": 281,
   "metadata": {},
   "outputs": [
    {
     "name": "stdout",
     "output_type": "stream",
     "text": [
      "Mean squared error:  65.49633634102105\n"
     ]
    }
   ],
   "source": [
    "print(\"Mean squared error: \", mean_squared_error(y_test, predicted))"
   ]
  },
  {
   "cell_type": "code",
   "execution_count": 282,
   "metadata": {},
   "outputs": [
    {
     "name": "stdout",
     "output_type": "stream",
     "text": [
      "Root mean squared error:  8.09298068334659\n"
     ]
    }
   ],
   "source": [
    "print(\"Root mean squared error: \", np.sqrt(mean_squared_error(y_test, predicted)))"
   ]
  },
  {
   "cell_type": "code",
   "execution_count": 283,
   "metadata": {
    "scrolled": false
   },
   "outputs": [
    {
     "data": {
      "text/plain": [
       "Text(0.5, 1.0, 'Actual rainfall amount - Predicted rainfall amount')"
      ]
     },
     "execution_count": 283,
     "metadata": {},
     "output_type": "execute_result"
    },
    {
     "data": {
      "image/png": "[encoded data removed]",
      "text/plain": [
       "<Figure size 432x288 with 1 Axes>"
      ]
     },
     "metadata": {
      "needs_background": "light"
     },
     "output_type": "display_data"
    }
   ],
   "source": [
    "g=plt.plot(y_test - predicted, marker='o', linestyle='')\n",
    "plt.xlabel(\"Index of dataset\")\n",
    "plt.ylabel(\"Rainfall Amount\")\n",
    "plt.title(\"Actual rainfall amount - Predicted rainfall amount\")"
   ]
  },
  {
   "cell_type": "code",
   "execution_count": 284,
   "metadata": {},
   "outputs": [
    {
     "data": {
      "text/plain": [
       "['Rain_20day_before',\n",
       " 'Humidity3pm',\n",
       " 'Rain_15day_before',\n",
       " 'Rain_25day_before',\n",
       " 'Rain_10day_before',\n",
       " 'Rain_30day_before',\n",
       " 'MinTemp',\n",
       " 'Rain_5day_before',\n",
       " 'Humidity9am',\n",
       " 'Rain_20day_after',\n",
       " 'Rain_1day_after',\n",
       " 'Rain_3day_before',\n",
       " 'Rain_4day_before',\n",
       " 'Rain_2day_after',\n",
       " 'Rain_10day_after',\n",
       " 'Rain_3day_after',\n",
       " 'Rain_15day_after',\n",
       " 'Rain_4day_after',\n",
       " 'Rain_1day_before',\n",
       " 'Rain_2day_before',\n",
       " 'Rainfall',\n",
       " 'Rain_5day_after',\n",
       " 'Rain_25day_after',\n",
       " 'Rain_30day_after',\n",
       " 'Temp9am',\n",
       " 'Cloud3pm',\n",
       " 'Cloud9am',\n",
       " 'WindSpeed3pm',\n",
       " 'WindGustSpeed']"
      ]
     },
     "execution_count": 284,
     "metadata": {},
     "output_type": "execute_result"
    }
   ],
   "source": [
    "x = []\n",
    "for i in range (len(related_20day_before)):\n",
    "    if related_20day_before[i]>0:\n",
    "        x.append(related_20day_before.index[i])\n",
    "        \n",
    "x"
   ]
  },
  {
   "cell_type": "code",
   "execution_count": 285,
   "metadata": {},
   "outputs": [],
   "source": [
    "x = ['Rainfall', 'Humidity3pm', 'Humidity9am', 'MinTemp', 'Cloud3pm', 'Cloud9am', 'Temp9am', 'WindSpeed3pm', 'WindGustSpeed']"
   ]
  },
  {
   "cell_type": "code",
   "execution_count": 286,
   "metadata": {},
   "outputs": [],
   "source": [
    "df = df[5:]"
   ]
  },
  {
   "cell_type": "code",
   "execution_count": 287,
   "metadata": {},
   "outputs": [],
   "source": [
    "x = df[x]"
   ]
  },
  {
   "cell_type": "code",
   "execution_count": 288,
   "metadata": {},
   "outputs": [
    {
     "data": {
      "text/html": [
       "<div>\n",
       "<style scoped>\n",
       "    .dataframe tbody tr th:only-of-type {\n",
       "        vertical-align: middle;\n",
       "    }\n",
       "\n",
       "    .dataframe tbody tr th {\n",
       "        vertical-align: top;\n",
       "    }\n",
       "\n",
       "    .dataframe thead th {\n",
       "        text-align: right;\n",
       "    }\n",
       "</style>\n",
       "<table border=\"1\" class=\"dataframe\">\n",
       "  <thead>\n",
       "    <tr style=\"text-align: right;\">\n",
       "      <th></th>\n",
       "      <th>Rainfall</th>\n",
       "      <th>Humidity3pm</th>\n",
       "      <th>Humidity9am</th>\n",
       "      <th>MinTemp</th>\n",
       "      <th>Cloud3pm</th>\n",
       "      <th>Cloud9am</th>\n",
       "      <th>Temp9am</th>\n",
       "      <th>WindSpeed3pm</th>\n",
       "      <th>WindGustSpeed</th>\n",
       "    </tr>\n",
       "  </thead>\n",
       "  <tbody>\n",
       "    <tr>\n",
       "      <th>20</th>\n",
       "      <td>0.0</td>\n",
       "      <td>28.0</td>\n",
       "      <td>56.0</td>\n",
       "      <td>11.5</td>\n",
       "      <td>4.290128</td>\n",
       "      <td>4.757475</td>\n",
       "      <td>19.1</td>\n",
       "      <td>9.0</td>\n",
       "      <td>24.000000</td>\n",
       "    </tr>\n",
       "    <tr>\n",
       "      <th>21</th>\n",
       "      <td>0.0</td>\n",
       "      <td>28.0</td>\n",
       "      <td>38.0</td>\n",
       "      <td>17.1</td>\n",
       "      <td>1.000000</td>\n",
       "      <td>4.757475</td>\n",
       "      <td>24.5</td>\n",
       "      <td>22.0</td>\n",
       "      <td>43.000000</td>\n",
       "    </tr>\n",
       "    <tr>\n",
       "      <th>22</th>\n",
       "      <td>0.0</td>\n",
       "      <td>24.0</td>\n",
       "      <td>54.0</td>\n",
       "      <td>20.5</td>\n",
       "      <td>4.881859</td>\n",
       "      <td>4.955847</td>\n",
       "      <td>23.8</td>\n",
       "      <td>20.0</td>\n",
       "      <td>41.000000</td>\n",
       "    </tr>\n",
       "    <tr>\n",
       "      <th>23</th>\n",
       "      <td>0.0</td>\n",
       "      <td>23.0</td>\n",
       "      <td>55.0</td>\n",
       "      <td>15.3</td>\n",
       "      <td>4.881859</td>\n",
       "      <td>4.955847</td>\n",
       "      <td>20.9</td>\n",
       "      <td>13.0</td>\n",
       "      <td>33.000000</td>\n",
       "    </tr>\n",
       "    <tr>\n",
       "      <th>24</th>\n",
       "      <td>0.0</td>\n",
       "      <td>17.0</td>\n",
       "      <td>49.0</td>\n",
       "      <td>12.6</td>\n",
       "      <td>4.290128</td>\n",
       "      <td>4.757475</td>\n",
       "      <td>21.5</td>\n",
       "      <td>19.0</td>\n",
       "      <td>43.815976</td>\n",
       "    </tr>\n",
       "    <tr>\n",
       "      <th>...</th>\n",
       "      <td>...</td>\n",
       "      <td>...</td>\n",
       "      <td>...</td>\n",
       "      <td>...</td>\n",
       "      <td>...</td>\n",
       "      <td>...</td>\n",
       "      <td>...</td>\n",
       "      <td>...</td>\n",
       "      <td>...</td>\n",
       "    </tr>\n",
       "    <tr>\n",
       "      <th>145425</th>\n",
       "      <td>0.0</td>\n",
       "      <td>20.0</td>\n",
       "      <td>48.0</td>\n",
       "      <td>9.7</td>\n",
       "      <td>4.166667</td>\n",
       "      <td>5.333333</td>\n",
       "      <td>18.6</td>\n",
       "      <td>19.0</td>\n",
       "      <td>41.000000</td>\n",
       "    </tr>\n",
       "    <tr>\n",
       "      <th>145426</th>\n",
       "      <td>0.0</td>\n",
       "      <td>27.0</td>\n",
       "      <td>53.0</td>\n",
       "      <td>7.6</td>\n",
       "      <td>4.166667</td>\n",
       "      <td>5.333333</td>\n",
       "      <td>15.7</td>\n",
       "      <td>11.0</td>\n",
       "      <td>24.000000</td>\n",
       "    </tr>\n",
       "    <tr>\n",
       "      <th>145427</th>\n",
       "      <td>0.0</td>\n",
       "      <td>29.0</td>\n",
       "      <td>55.0</td>\n",
       "      <td>10.1</td>\n",
       "      <td>4.166667</td>\n",
       "      <td>5.333333</td>\n",
       "      <td>14.8</td>\n",
       "      <td>17.0</td>\n",
       "      <td>41.000000</td>\n",
       "    </tr>\n",
       "    <tr>\n",
       "      <th>145428</th>\n",
       "      <td>0.0</td>\n",
       "      <td>36.0</td>\n",
       "      <td>61.0</td>\n",
       "      <td>14.6</td>\n",
       "      <td>1.000000</td>\n",
       "      <td>7.000000</td>\n",
       "      <td>15.4</td>\n",
       "      <td>20.0</td>\n",
       "      <td>37.000000</td>\n",
       "    </tr>\n",
       "    <tr>\n",
       "      <th>145429</th>\n",
       "      <td>0.4</td>\n",
       "      <td>27.0</td>\n",
       "      <td>68.0</td>\n",
       "      <td>14.3</td>\n",
       "      <td>7.000000</td>\n",
       "      <td>4.000000</td>\n",
       "      <td>16.1</td>\n",
       "      <td>20.0</td>\n",
       "      <td>39.000000</td>\n",
       "    </tr>\n",
       "  </tbody>\n",
       "</table>\n",
       "<p>145410 rows × 9 columns</p>\n",
       "</div>"
      ],
      "text/plain": [
       "        Rainfall  Humidity3pm  Humidity9am  MinTemp  Cloud3pm  Cloud9am  \\\n",
       "20           0.0         28.0         56.0     11.5  4.290128  4.757475   \n",
       "21           0.0         28.0         38.0     17.1  1.000000  4.757475   \n",
       "22           0.0         24.0         54.0     20.5  4.881859  4.955847   \n",
       "23           0.0         23.0         55.0     15.3  4.881859  4.955847   \n",
       "24           0.0         17.0         49.0     12.6  4.290128  4.757475   \n",
       "...          ...          ...          ...      ...       ...       ...   \n",
       "145425       0.0         20.0         48.0      9.7  4.166667  5.333333   \n",
       "145426       0.0         27.0         53.0      7.6  4.166667  5.333333   \n",
       "145427       0.0         29.0         55.0     10.1  4.166667  5.333333   \n",
       "145428       0.0         36.0         61.0     14.6  1.000000  7.000000   \n",
       "145429       0.4         27.0         68.0     14.3  7.000000  4.000000   \n",
       "\n",
       "        Temp9am  WindSpeed3pm  WindGustSpeed  \n",
       "20         19.1           9.0      24.000000  \n",
       "21         24.5          22.0      43.000000  \n",
       "22         23.8          20.0      41.000000  \n",
       "23         20.9          13.0      33.000000  \n",
       "24         21.5          19.0      43.815976  \n",
       "...         ...           ...            ...  \n",
       "145425     18.6          19.0      41.000000  \n",
       "145426     15.7          11.0      24.000000  \n",
       "145427     14.8          17.0      41.000000  \n",
       "145428     15.4          20.0      37.000000  \n",
       "145429     16.1          20.0      39.000000  \n",
       "\n",
       "[145410 rows x 9 columns]"
      ]
     },
     "execution_count": 288,
     "metadata": {},
     "output_type": "execute_result"
    }
   ],
   "source": [
    "x"
   ]
  },
  {
   "cell_type": "code",
   "execution_count": 289,
   "metadata": {},
   "outputs": [
    {
     "data": {
      "text/plain": [
       "20        0.600000\n",
       "21        0.000000\n",
       "22        0.000000\n",
       "23        0.000000\n",
       "24        1.936709\n",
       "            ...   \n",
       "145425    0.000000\n",
       "145426    0.000000\n",
       "145427    0.000000\n",
       "145428    0.000000\n",
       "145429    0.000000\n",
       "Name: Rain_20day_before, Length: 145410, dtype: float64"
      ]
     },
     "execution_count": 289,
     "metadata": {},
     "output_type": "execute_result"
    }
   ],
   "source": [
    "y = df['Rain_20day_before']\n",
    "y"
   ]
  },
  {
   "cell_type": "code",
   "execution_count": 290,
   "metadata": {},
   "outputs": [],
   "source": [
    "X_train, X_test, y_train, y_test = train_test_split(x,y, test_size=0.2, shuffle=False)"
   ]
  },
  {
   "cell_type": "code",
   "execution_count": 291,
   "metadata": {},
   "outputs": [
    {
     "data": {
      "text/plain": [
       "RandomForestRegressor(n_estimators=200)"
      ]
     },
     "execution_count": 291,
     "metadata": {},
     "output_type": "execute_result"
    }
   ],
   "source": [
    "#fitting the model\n",
    "rf = RandomForestRegressor(n_estimators=200)\n",
    "rf.fit(X_train, y_train)"
   ]
  },
  {
   "cell_type": "code",
   "execution_count": 292,
   "metadata": {},
   "outputs": [],
   "source": [
    "predicted = rf.predict(X_test)"
   ]
  },
  {
   "cell_type": "code",
   "execution_count": 293,
   "metadata": {},
   "outputs": [
    {
     "name": "stdout",
     "output_type": "stream",
     "text": [
      "Mean absolute error:  4.056528835610074\n"
     ]
    }
   ],
   "source": [
    "print(\"Mean absolute error: \", mean_absolute_error(y_test, predicted))"
   ]
  },
  {
   "cell_type": "code",
   "execution_count": 294,
   "metadata": {},
   "outputs": [
    {
     "name": "stdout",
     "output_type": "stream",
     "text": [
      "Mean squared error:  65.08917501291272\n"
     ]
    }
   ],
   "source": [
    "print(\"Mean squared error: \", mean_squared_error(y_test, predicted))"
   ]
  },
  {
   "cell_type": "code",
   "execution_count": 295,
   "metadata": {},
   "outputs": [
    {
     "name": "stdout",
     "output_type": "stream",
     "text": [
      "Root mean squared error:  8.06778625230693\n"
     ]
    }
   ],
   "source": [
    "print(\"Root mean squared error: \", np.sqrt(mean_squared_error(y_test, predicted)))"
   ]
  },
  {
   "cell_type": "code",
   "execution_count": 296,
   "metadata": {
    "scrolled": false
   },
   "outputs": [
    {
     "data": {
      "text/plain": [
       "Text(0.5, 1.0, 'Actual rainfall amount - Predicted rainfall amount')"
      ]
     },
     "execution_count": 296,
     "metadata": {},
     "output_type": "execute_result"
    },
    {
     "data": {
      "image/png": "[encoded data removed]",
      "text/plain": [
       "<Figure size 432x288 with 1 Axes>"
      ]
     },
     "metadata": {
      "needs_background": "light"
     },
     "output_type": "display_data"
    }
   ],
   "source": [
    "g=plt.plot(y_test - predicted, marker='o', linestyle='')\n",
    "plt.xlabel(\"Index of dataset\")\n",
    "plt.ylabel(\"Rainfall Amount\")\n",
    "plt.title(\"Actual rainfall amount - Predicted rainfall amount\")"
   ]
  },
  {
   "cell_type": "code",
   "execution_count": 297,
   "metadata": {},
   "outputs": [
    {
     "data": {
      "text/plain": [
       "['Rain_25day_before',\n",
       " 'Humidity3pm',\n",
       " 'Rain_20day_before',\n",
       " 'Rain_30day_before',\n",
       " 'Rain_15day_before',\n",
       " 'Rain_10day_before',\n",
       " 'MinTemp',\n",
       " 'Rain_15day_after',\n",
       " 'Rain_4day_before',\n",
       " 'Humidity9am',\n",
       " 'Rain_3day_before',\n",
       " 'Rain_5day_after',\n",
       " 'Rain_2day_before',\n",
       " 'Rain_10day_after',\n",
       " 'Rain_2day_after',\n",
       " 'Rain_1day_before',\n",
       " 'Rain_3day_after',\n",
       " 'Rain_5day_before',\n",
       " 'Rainfall',\n",
       " 'Rain_1day_after',\n",
       " 'Rain_20day_after',\n",
       " 'Rain_25day_after',\n",
       " 'Rain_4day_after',\n",
       " 'Temp9am',\n",
       " 'Rain_30day_after',\n",
       " 'Cloud3pm',\n",
       " 'Cloud9am',\n",
       " 'WindSpeed3pm']"
      ]
     },
     "execution_count": 297,
     "metadata": {},
     "output_type": "execute_result"
    }
   ],
   "source": [
    "x = []\n",
    "for i in range (len(related_25day_before)):\n",
    "    if related_25day_before[i]>0:\n",
    "        x.append(related_25day_before.index[i])\n",
    "        \n",
    "x"
   ]
  },
  {
   "cell_type": "code",
   "execution_count": 298,
   "metadata": {},
   "outputs": [],
   "source": [
    "x = ['Rainfall', 'Humidity3pm', 'Humidity9am', 'MinTemp', 'Cloud3pm', 'Cloud9am', 'Temp9am', 'WindSpeed3pm']"
   ]
  },
  {
   "cell_type": "code",
   "execution_count": 299,
   "metadata": {},
   "outputs": [],
   "source": [
    "df = df[5:]"
   ]
  },
  {
   "cell_type": "code",
   "execution_count": 300,
   "metadata": {},
   "outputs": [],
   "source": [
    "x = df[x]"
   ]
  },
  {
   "cell_type": "code",
   "execution_count": 301,
   "metadata": {},
   "outputs": [
    {
     "data": {
      "text/html": [
       "<div>\n",
       "<style scoped>\n",
       "    .dataframe tbody tr th:only-of-type {\n",
       "        vertical-align: middle;\n",
       "    }\n",
       "\n",
       "    .dataframe tbody tr th {\n",
       "        vertical-align: top;\n",
       "    }\n",
       "\n",
       "    .dataframe thead th {\n",
       "        text-align: right;\n",
       "    }\n",
       "</style>\n",
       "<table border=\"1\" class=\"dataframe\">\n",
       "  <thead>\n",
       "    <tr style=\"text-align: right;\">\n",
       "      <th></th>\n",
       "      <th>Rainfall</th>\n",
       "      <th>Humidity3pm</th>\n",
       "      <th>Humidity9am</th>\n",
       "      <th>MinTemp</th>\n",
       "      <th>Cloud3pm</th>\n",
       "      <th>Cloud9am</th>\n",
       "      <th>Temp9am</th>\n",
       "      <th>WindSpeed3pm</th>\n",
       "    </tr>\n",
       "  </thead>\n",
       "  <tbody>\n",
       "    <tr>\n",
       "      <th>25</th>\n",
       "      <td>0.0</td>\n",
       "      <td>19.0</td>\n",
       "      <td>45.0</td>\n",
       "      <td>16.2</td>\n",
       "      <td>7.000000</td>\n",
       "      <td>3.000000</td>\n",
       "      <td>23.2</td>\n",
       "      <td>13.0</td>\n",
       "    </tr>\n",
       "    <tr>\n",
       "      <th>26</th>\n",
       "      <td>0.0</td>\n",
       "      <td>28.0</td>\n",
       "      <td>41.0</td>\n",
       "      <td>16.9</td>\n",
       "      <td>1.000000</td>\n",
       "      <td>4.916208</td>\n",
       "      <td>26.6</td>\n",
       "      <td>26.0</td>\n",
       "    </tr>\n",
       "    <tr>\n",
       "      <th>27</th>\n",
       "      <td>0.0</td>\n",
       "      <td>15.0</td>\n",
       "      <td>56.0</td>\n",
       "      <td>20.1</td>\n",
       "      <td>4.290128</td>\n",
       "      <td>4.757475</td>\n",
       "      <td>24.6</td>\n",
       "      <td>30.0</td>\n",
       "    </tr>\n",
       "    <tr>\n",
       "      <th>28</th>\n",
       "      <td>0.0</td>\n",
       "      <td>22.0</td>\n",
       "      <td>49.0</td>\n",
       "      <td>19.7</td>\n",
       "      <td>4.000000</td>\n",
       "      <td>4.000000</td>\n",
       "      <td>21.6</td>\n",
       "      <td>30.0</td>\n",
       "    </tr>\n",
       "    <tr>\n",
       "      <th>29</th>\n",
       "      <td>1.2</td>\n",
       "      <td>70.0</td>\n",
       "      <td>78.0</td>\n",
       "      <td>12.5</td>\n",
       "      <td>8.000000</td>\n",
       "      <td>8.000000</td>\n",
       "      <td>12.5</td>\n",
       "      <td>22.0</td>\n",
       "    </tr>\n",
       "    <tr>\n",
       "      <th>...</th>\n",
       "      <td>...</td>\n",
       "      <td>...</td>\n",
       "      <td>...</td>\n",
       "      <td>...</td>\n",
       "      <td>...</td>\n",
       "      <td>...</td>\n",
       "      <td>...</td>\n",
       "      <td>...</td>\n",
       "    </tr>\n",
       "    <tr>\n",
       "      <th>145425</th>\n",
       "      <td>0.0</td>\n",
       "      <td>20.0</td>\n",
       "      <td>48.0</td>\n",
       "      <td>9.7</td>\n",
       "      <td>4.166667</td>\n",
       "      <td>5.333333</td>\n",
       "      <td>18.6</td>\n",
       "      <td>19.0</td>\n",
       "    </tr>\n",
       "    <tr>\n",
       "      <th>145426</th>\n",
       "      <td>0.0</td>\n",
       "      <td>27.0</td>\n",
       "      <td>53.0</td>\n",
       "      <td>7.6</td>\n",
       "      <td>4.166667</td>\n",
       "      <td>5.333333</td>\n",
       "      <td>15.7</td>\n",
       "      <td>11.0</td>\n",
       "    </tr>\n",
       "    <tr>\n",
       "      <th>145427</th>\n",
       "      <td>0.0</td>\n",
       "      <td>29.0</td>\n",
       "      <td>55.0</td>\n",
       "      <td>10.1</td>\n",
       "      <td>4.166667</td>\n",
       "      <td>5.333333</td>\n",
       "      <td>14.8</td>\n",
       "      <td>17.0</td>\n",
       "    </tr>\n",
       "    <tr>\n",
       "      <th>145428</th>\n",
       "      <td>0.0</td>\n",
       "      <td>36.0</td>\n",
       "      <td>61.0</td>\n",
       "      <td>14.6</td>\n",
       "      <td>1.000000</td>\n",
       "      <td>7.000000</td>\n",
       "      <td>15.4</td>\n",
       "      <td>20.0</td>\n",
       "    </tr>\n",
       "    <tr>\n",
       "      <th>145429</th>\n",
       "      <td>0.4</td>\n",
       "      <td>27.0</td>\n",
       "      <td>68.0</td>\n",
       "      <td>14.3</td>\n",
       "      <td>7.000000</td>\n",
       "      <td>4.000000</td>\n",
       "      <td>16.1</td>\n",
       "      <td>20.0</td>\n",
       "    </tr>\n",
       "  </tbody>\n",
       "</table>\n",
       "<p>145405 rows × 8 columns</p>\n",
       "</div>"
      ],
      "text/plain": [
       "        Rainfall  Humidity3pm  Humidity9am  MinTemp  Cloud3pm  Cloud9am  \\\n",
       "25           0.0         19.0         45.0     16.2  7.000000  3.000000   \n",
       "26           0.0         28.0         41.0     16.9  1.000000  4.916208   \n",
       "27           0.0         15.0         56.0     20.1  4.290128  4.757475   \n",
       "28           0.0         22.0         49.0     19.7  4.000000  4.000000   \n",
       "29           1.2         70.0         78.0     12.5  8.000000  8.000000   \n",
       "...          ...          ...          ...      ...       ...       ...   \n",
       "145425       0.0         20.0         48.0      9.7  4.166667  5.333333   \n",
       "145426       0.0         27.0         53.0      7.6  4.166667  5.333333   \n",
       "145427       0.0         29.0         55.0     10.1  4.166667  5.333333   \n",
       "145428       0.0         36.0         61.0     14.6  1.000000  7.000000   \n",
       "145429       0.4         27.0         68.0     14.3  7.000000  4.000000   \n",
       "\n",
       "        Temp9am  WindSpeed3pm  \n",
       "25         23.2          13.0  \n",
       "26         26.6          26.0  \n",
       "27         24.6          30.0  \n",
       "28         21.6          30.0  \n",
       "29         12.5          22.0  \n",
       "...         ...           ...  \n",
       "145425     18.6          19.0  \n",
       "145426     15.7          11.0  \n",
       "145427     14.8          17.0  \n",
       "145428     15.4          20.0  \n",
       "145429     16.1          20.0  \n",
       "\n",
       "[145405 rows x 8 columns]"
      ]
     },
     "execution_count": 301,
     "metadata": {},
     "output_type": "execute_result"
    }
   ],
   "source": [
    "x"
   ]
  },
  {
   "cell_type": "code",
   "execution_count": 302,
   "metadata": {},
   "outputs": [
    {
     "data": {
      "text/plain": [
       "25        0.600000\n",
       "26        0.000000\n",
       "27        0.000000\n",
       "28        0.000000\n",
       "29        1.936709\n",
       "            ...   \n",
       "145425    0.000000\n",
       "145426    0.000000\n",
       "145427    0.000000\n",
       "145428    0.000000\n",
       "145429    0.000000\n",
       "Name: Rain_25day_before, Length: 145405, dtype: float64"
      ]
     },
     "execution_count": 302,
     "metadata": {},
     "output_type": "execute_result"
    }
   ],
   "source": [
    "y = df['Rain_25day_before']\n",
    "y"
   ]
  },
  {
   "cell_type": "code",
   "execution_count": 303,
   "metadata": {},
   "outputs": [],
   "source": [
    "X_train, X_test, y_train, y_test = train_test_split(x,y, test_size=0.2, shuffle=False)"
   ]
  },
  {
   "cell_type": "code",
   "execution_count": 304,
   "metadata": {},
   "outputs": [
    {
     "data": {
      "text/plain": [
       "RandomForestRegressor(n_estimators=200)"
      ]
     },
     "execution_count": 304,
     "metadata": {},
     "output_type": "execute_result"
    }
   ],
   "source": [
    "#fitting the model\n",
    "rf = RandomForestRegressor(n_estimators=200)\n",
    "rf.fit(X_train, y_train)"
   ]
  },
  {
   "cell_type": "code",
   "execution_count": 305,
   "metadata": {},
   "outputs": [],
   "source": [
    "predicted = rf.predict(X_test)"
   ]
  },
  {
   "cell_type": "code",
   "execution_count": 306,
   "metadata": {},
   "outputs": [
    {
     "name": "stdout",
     "output_type": "stream",
     "text": [
      "Mean absolute error:  4.16010008226882\n"
     ]
    }
   ],
   "source": [
    "print(\"Mean absolute error: \", mean_absolute_error(y_test, predicted))"
   ]
  },
  {
   "cell_type": "code",
   "execution_count": 307,
   "metadata": {},
   "outputs": [
    {
     "name": "stdout",
     "output_type": "stream",
     "text": [
      "Mean squared error:  68.60681809938934\n"
     ]
    }
   ],
   "source": [
    "print(\"Mean squared error: \", mean_squared_error(y_test, predicted))"
   ]
  },
  {
   "cell_type": "code",
   "execution_count": 308,
   "metadata": {},
   "outputs": [
    {
     "name": "stdout",
     "output_type": "stream",
     "text": [
      "Root mean squared error:  8.282923282234922\n"
     ]
    }
   ],
   "source": [
    "print(\"Root mean squared error: \", np.sqrt(mean_squared_error(y_test, predicted)))"
   ]
  },
  {
   "cell_type": "code",
   "execution_count": 309,
   "metadata": {
    "scrolled": true
   },
   "outputs": [
    {
     "data": {
      "text/plain": [
       "Text(0.5, 1.0, 'Actual rainfall amount - Predicted rainfall amount')"
      ]
     },
     "execution_count": 309,
     "metadata": {},
     "output_type": "execute_result"
    },
    {
     "data": {
      "image/png": "[encoded data removed]",
      "text/plain": [
       "<Figure size 432x288 with 1 Axes>"
      ]
     },
     "metadata": {
      "needs_background": "light"
     },
     "output_type": "display_data"
    }
   ],
   "source": [
    "g=plt.plot(y_test - predicted, marker='o', linestyle='')\n",
    "plt.xlabel(\"Index of dataset\")\n",
    "plt.ylabel(\"Rainfall Amount\")\n",
    "plt.title(\"Actual rainfall amount - Predicted rainfall amount\")"
   ]
  },
  {
   "cell_type": "code",
   "execution_count": 310,
   "metadata": {},
   "outputs": [
    {
     "data": {
      "text/plain": [
       "['Rain_30day_before',\n",
       " 'Humidity3pm',\n",
       " 'Rain_25day_before',\n",
       " 'Rain_20day_before',\n",
       " 'MinTemp',\n",
       " 'Humidity9am',\n",
       " 'Rain_1day_after',\n",
       " 'Rain_15day_before',\n",
       " 'Rain_2day_after',\n",
       " 'Rain_10day_after',\n",
       " 'Rain_3day_after',\n",
       " 'Rainfall',\n",
       " 'Rain_5day_after',\n",
       " 'Rain_4day_after',\n",
       " 'Rain_3day_before',\n",
       " 'Rain_2day_before',\n",
       " 'Rain_10day_before',\n",
       " 'Rain_5day_before',\n",
       " 'Rain_4day_before',\n",
       " 'Rain_15day_after',\n",
       " 'Rain_20day_after',\n",
       " 'Temp9am',\n",
       " 'Rain_1day_before',\n",
       " 'Rain_25day_after',\n",
       " 'Cloud3pm',\n",
       " 'Rain_30day_after',\n",
       " 'Cloud9am',\n",
       " 'WindSpeed3pm',\n",
       " 'MaxTemp',\n",
       " 'WindGustSpeed',\n",
       " 'Temp3pm',\n",
       " 'WindSpeed9am']"
      ]
     },
     "execution_count": 310,
     "metadata": {},
     "output_type": "execute_result"
    }
   ],
   "source": [
    "x = []\n",
    "for i in range (len(related_30day_before)):\n",
    "    if related_30day_before[i]>0:\n",
    "        x.append(related_30day_before.index[i])\n",
    "        \n",
    "x"
   ]
  },
  {
   "cell_type": "code",
   "execution_count": 311,
   "metadata": {},
   "outputs": [],
   "source": [
    "x = ['Rainfall', 'Humidity3pm', 'Humidity9am', 'MinTemp', 'Cloud3pm', 'Cloud9am', 'Temp9am', 'WindSpeed3pm', 'WindGustSpeed',\n",
    " 'Temp3pm', 'MaxTemp', 'WindSpeed9am']"
   ]
  },
  {
   "cell_type": "code",
   "execution_count": 312,
   "metadata": {},
   "outputs": [],
   "source": [
    "df = df[5:]"
   ]
  },
  {
   "cell_type": "code",
   "execution_count": 313,
   "metadata": {},
   "outputs": [],
   "source": [
    "x = df[x]"
   ]
  },
  {
   "cell_type": "code",
   "execution_count": 314,
   "metadata": {},
   "outputs": [
    {
     "data": {
      "text/html": [
       "<div>\n",
       "<style scoped>\n",
       "    .dataframe tbody tr th:only-of-type {\n",
       "        vertical-align: middle;\n",
       "    }\n",
       "\n",
       "    .dataframe tbody tr th {\n",
       "        vertical-align: top;\n",
       "    }\n",
       "\n",
       "    .dataframe thead th {\n",
       "        text-align: right;\n",
       "    }\n",
       "</style>\n",
       "<table border=\"1\" class=\"dataframe\">\n",
       "  <thead>\n",
       "    <tr style=\"text-align: right;\">\n",
       "      <th></th>\n",
       "      <th>Rainfall</th>\n",
       "      <th>Humidity3pm</th>\n",
       "      <th>Humidity9am</th>\n",
       "      <th>MinTemp</th>\n",
       "      <th>Cloud3pm</th>\n",
       "      <th>Cloud9am</th>\n",
       "      <th>Temp9am</th>\n",
       "      <th>WindSpeed3pm</th>\n",
       "      <th>WindGustSpeed</th>\n",
       "      <th>Temp3pm</th>\n",
       "      <th>MaxTemp</th>\n",
       "      <th>WindSpeed9am</th>\n",
       "    </tr>\n",
       "  </thead>\n",
       "  <tbody>\n",
       "    <tr>\n",
       "      <th>30</th>\n",
       "      <td>2.020815</td>\n",
       "      <td>28.0</td>\n",
       "      <td>62.418165</td>\n",
       "      <td>15.149072</td>\n",
       "      <td>4.896176</td>\n",
       "      <td>4.916208</td>\n",
       "      <td>20.281079</td>\n",
       "      <td>17.0</td>\n",
       "      <td>39.0</td>\n",
       "      <td>22.7</td>\n",
       "      <td>24.4</td>\n",
       "      <td>14.521212</td>\n",
       "    </tr>\n",
       "    <tr>\n",
       "      <th>31</th>\n",
       "      <td>0.000000</td>\n",
       "      <td>26.0</td>\n",
       "      <td>46.000000</td>\n",
       "      <td>11.300000</td>\n",
       "      <td>6.000000</td>\n",
       "      <td>2.000000</td>\n",
       "      <td>19.700000</td>\n",
       "      <td>31.0</td>\n",
       "      <td>56.0</td>\n",
       "      <td>25.7</td>\n",
       "      <td>26.5</td>\n",
       "      <td>19.000000</td>\n",
       "    </tr>\n",
       "    <tr>\n",
       "      <th>32</th>\n",
       "      <td>0.000000</td>\n",
       "      <td>22.0</td>\n",
       "      <td>44.000000</td>\n",
       "      <td>9.600000</td>\n",
       "      <td>4.814077</td>\n",
       "      <td>5.098231</td>\n",
       "      <td>14.900000</td>\n",
       "      <td>11.0</td>\n",
       "      <td>50.0</td>\n",
       "      <td>22.1</td>\n",
       "      <td>23.9</td>\n",
       "      <td>19.000000</td>\n",
       "    </tr>\n",
       "    <tr>\n",
       "      <th>33</th>\n",
       "      <td>0.000000</td>\n",
       "      <td>22.0</td>\n",
       "      <td>43.000000</td>\n",
       "      <td>10.500000</td>\n",
       "      <td>4.814077</td>\n",
       "      <td>5.098231</td>\n",
       "      <td>17.100000</td>\n",
       "      <td>7.0</td>\n",
       "      <td>26.0</td>\n",
       "      <td>26.5</td>\n",
       "      <td>28.8</td>\n",
       "      <td>11.000000</td>\n",
       "    </tr>\n",
       "    <tr>\n",
       "      <th>34</th>\n",
       "      <td>0.000000</td>\n",
       "      <td>12.0</td>\n",
       "      <td>41.000000</td>\n",
       "      <td>12.300000</td>\n",
       "      <td>4.814077</td>\n",
       "      <td>5.098231</td>\n",
       "      <td>20.700000</td>\n",
       "      <td>17.0</td>\n",
       "      <td>37.0</td>\n",
       "      <td>33.9</td>\n",
       "      <td>34.6</td>\n",
       "      <td>6.000000</td>\n",
       "    </tr>\n",
       "    <tr>\n",
       "      <th>...</th>\n",
       "      <td>...</td>\n",
       "      <td>...</td>\n",
       "      <td>...</td>\n",
       "      <td>...</td>\n",
       "      <td>...</td>\n",
       "      <td>...</td>\n",
       "      <td>...</td>\n",
       "      <td>...</td>\n",
       "      <td>...</td>\n",
       "      <td>...</td>\n",
       "      <td>...</td>\n",
       "      <td>...</td>\n",
       "    </tr>\n",
       "    <tr>\n",
       "      <th>145425</th>\n",
       "      <td>0.000000</td>\n",
       "      <td>20.0</td>\n",
       "      <td>48.000000</td>\n",
       "      <td>9.700000</td>\n",
       "      <td>4.166667</td>\n",
       "      <td>5.333333</td>\n",
       "      <td>18.600000</td>\n",
       "      <td>19.0</td>\n",
       "      <td>41.0</td>\n",
       "      <td>29.7</td>\n",
       "      <td>30.0</td>\n",
       "      <td>4.000000</td>\n",
       "    </tr>\n",
       "    <tr>\n",
       "      <th>145426</th>\n",
       "      <td>0.000000</td>\n",
       "      <td>27.0</td>\n",
       "      <td>53.000000</td>\n",
       "      <td>7.600000</td>\n",
       "      <td>4.166667</td>\n",
       "      <td>5.333333</td>\n",
       "      <td>15.700000</td>\n",
       "      <td>11.0</td>\n",
       "      <td>24.0</td>\n",
       "      <td>26.8</td>\n",
       "      <td>27.1</td>\n",
       "      <td>11.000000</td>\n",
       "    </tr>\n",
       "    <tr>\n",
       "      <th>145427</th>\n",
       "      <td>0.000000</td>\n",
       "      <td>29.0</td>\n",
       "      <td>55.000000</td>\n",
       "      <td>10.100000</td>\n",
       "      <td>4.166667</td>\n",
       "      <td>5.333333</td>\n",
       "      <td>14.800000</td>\n",
       "      <td>17.0</td>\n",
       "      <td>41.0</td>\n",
       "      <td>25.7</td>\n",
       "      <td>26.7</td>\n",
       "      <td>22.000000</td>\n",
       "    </tr>\n",
       "    <tr>\n",
       "      <th>145428</th>\n",
       "      <td>0.000000</td>\n",
       "      <td>36.0</td>\n",
       "      <td>61.000000</td>\n",
       "      <td>14.600000</td>\n",
       "      <td>1.000000</td>\n",
       "      <td>7.000000</td>\n",
       "      <td>15.400000</td>\n",
       "      <td>20.0</td>\n",
       "      <td>37.0</td>\n",
       "      <td>25.0</td>\n",
       "      <td>26.3</td>\n",
       "      <td>19.000000</td>\n",
       "    </tr>\n",
       "    <tr>\n",
       "      <th>145429</th>\n",
       "      <td>0.400000</td>\n",
       "      <td>27.0</td>\n",
       "      <td>68.000000</td>\n",
       "      <td>14.300000</td>\n",
       "      <td>7.000000</td>\n",
       "      <td>4.000000</td>\n",
       "      <td>16.100000</td>\n",
       "      <td>20.0</td>\n",
       "      <td>39.0</td>\n",
       "      <td>27.2</td>\n",
       "      <td>27.6</td>\n",
       "      <td>0.000000</td>\n",
       "    </tr>\n",
       "  </tbody>\n",
       "</table>\n",
       "<p>145400 rows × 12 columns</p>\n",
       "</div>"
      ],
      "text/plain": [
       "        Rainfall  Humidity3pm  Humidity9am    MinTemp  Cloud3pm  Cloud9am  \\\n",
       "30      2.020815         28.0    62.418165  15.149072  4.896176  4.916208   \n",
       "31      0.000000         26.0    46.000000  11.300000  6.000000  2.000000   \n",
       "32      0.000000         22.0    44.000000   9.600000  4.814077  5.098231   \n",
       "33      0.000000         22.0    43.000000  10.500000  4.814077  5.098231   \n",
       "34      0.000000         12.0    41.000000  12.300000  4.814077  5.098231   \n",
       "...          ...          ...          ...        ...       ...       ...   \n",
       "145425  0.000000         20.0    48.000000   9.700000  4.166667  5.333333   \n",
       "145426  0.000000         27.0    53.000000   7.600000  4.166667  5.333333   \n",
       "145427  0.000000         29.0    55.000000  10.100000  4.166667  5.333333   \n",
       "145428  0.000000         36.0    61.000000  14.600000  1.000000  7.000000   \n",
       "145429  0.400000         27.0    68.000000  14.300000  7.000000  4.000000   \n",
       "\n",
       "          Temp9am  WindSpeed3pm  WindGustSpeed  Temp3pm  MaxTemp  WindSpeed9am  \n",
       "30      20.281079          17.0           39.0     22.7     24.4     14.521212  \n",
       "31      19.700000          31.0           56.0     25.7     26.5     19.000000  \n",
       "32      14.900000          11.0           50.0     22.1     23.9     19.000000  \n",
       "33      17.100000           7.0           26.0     26.5     28.8     11.000000  \n",
       "34      20.700000          17.0           37.0     33.9     34.6      6.000000  \n",
       "...           ...           ...            ...      ...      ...           ...  \n",
       "145425  18.600000          19.0           41.0     29.7     30.0      4.000000  \n",
       "145426  15.700000          11.0           24.0     26.8     27.1     11.000000  \n",
       "145427  14.800000          17.0           41.0     25.7     26.7     22.000000  \n",
       "145428  15.400000          20.0           37.0     25.0     26.3     19.000000  \n",
       "145429  16.100000          20.0           39.0     27.2     27.6      0.000000  \n",
       "\n",
       "[145400 rows x 12 columns]"
      ]
     },
     "execution_count": 314,
     "metadata": {},
     "output_type": "execute_result"
    }
   ],
   "source": [
    "x"
   ]
  },
  {
   "cell_type": "code",
   "execution_count": 315,
   "metadata": {},
   "outputs": [
    {
     "data": {
      "text/plain": [
       "30        0.600000\n",
       "31        0.000000\n",
       "32        0.000000\n",
       "33        0.000000\n",
       "34        1.936709\n",
       "            ...   \n",
       "145425    0.000000\n",
       "145426    0.000000\n",
       "145427    0.000000\n",
       "145428    0.000000\n",
       "145429    0.000000\n",
       "Name: Rain_30day_before, Length: 145400, dtype: float64"
      ]
     },
     "execution_count": 315,
     "metadata": {},
     "output_type": "execute_result"
    }
   ],
   "source": [
    "y = df['Rain_30day_before']\n",
    "y"
   ]
  },
  {
   "cell_type": "code",
   "execution_count": 316,
   "metadata": {},
   "outputs": [],
   "source": [
    "X_train, X_test, y_train, y_test = train_test_split(x,y, test_size=0.2, shuffle=False)"
   ]
  },
  {
   "cell_type": "code",
   "execution_count": 317,
   "metadata": {},
   "outputs": [
    {
     "data": {
      "text/plain": [
       "RandomForestRegressor(n_estimators=200)"
      ]
     },
     "execution_count": 317,
     "metadata": {},
     "output_type": "execute_result"
    }
   ],
   "source": [
    "#fitting the model\n",
    "rf = RandomForestRegressor(n_estimators=200)\n",
    "rf.fit(X_train, y_train)"
   ]
  },
  {
   "cell_type": "code",
   "execution_count": 318,
   "metadata": {},
   "outputs": [],
   "source": [
    "predicted = rf.predict(X_test)"
   ]
  },
  {
   "cell_type": "code",
   "execution_count": 319,
   "metadata": {},
   "outputs": [
    {
     "name": "stdout",
     "output_type": "stream",
     "text": [
      "Mean absolute error:  4.008640472890855\n"
     ]
    }
   ],
   "source": [
    "print(\"Mean absolute error: \", mean_absolute_error(y_test, predicted))"
   ]
  },
  {
   "cell_type": "code",
   "execution_count": 320,
   "metadata": {},
   "outputs": [
    {
     "name": "stdout",
     "output_type": "stream",
     "text": [
      "Mean squared error:  65.30684894136591\n"
     ]
    }
   ],
   "source": [
    "print(\"Mean squared error: \", mean_squared_error(y_test, predicted))"
   ]
  },
  {
   "cell_type": "code",
   "execution_count": 321,
   "metadata": {},
   "outputs": [
    {
     "name": "stdout",
     "output_type": "stream",
     "text": [
      "Root mean squared error:  8.081265305715801\n"
     ]
    }
   ],
   "source": [
    "print(\"Root mean squared error: \", np.sqrt(mean_squared_error(y_test, predicted)))"
   ]
  },
  {
   "cell_type": "code",
   "execution_count": 322,
   "metadata": {
    "scrolled": false
   },
   "outputs": [
    {
     "data": {
      "text/plain": [
       "Text(0.5, 1.0, 'Actual rainfall amount - Predicted rainfall amount')"
      ]
     },
     "execution_count": 322,
     "metadata": {},
     "output_type": "execute_result"
    },
    {
     "data": {
      "image/png": "[encoded data removed]",
      "text/plain": [
       "<Figure size 432x288 with 1 Axes>"
      ]
     },
     "metadata": {
      "needs_background": "light"
     },
     "output_type": "display_data"
    }
   ],
   "source": [
    "g=plt.plot(y_test - predicted, marker='o', linestyle='')\n",
    "plt.xlabel(\"Index of dataset\")\n",
    "plt.ylabel(\"Rainfall Amount\")\n",
    "plt.title(\"Actual rainfall amount - Predicted rainfall amount\")"
   ]
  },
  {
   "cell_type": "code",
   "execution_count": null,
   "metadata": {},
   "outputs": [],
   "source": []
  }
 ],
 "metadata": {
  "kernelspec": {
   "display_name": "Python 3",
   "language": "python",
   "name": "python3"
  },
  "language_info": {
   "codemirror_mode": {
    "name": "ipython",
    "version": 3
   },
   "file_extension": ".py",
   "mimetype": "text/x-python",
   "name": "python",
   "nbconvert_exporter": "python",
   "pygments_lexer": "ipython3",
   "version": "3.8.5"
  }
 },
 "nbformat": 4,
 "nbformat_minor": 4
}
